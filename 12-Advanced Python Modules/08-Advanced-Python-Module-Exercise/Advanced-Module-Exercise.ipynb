{
 "cells": [
  {
   "cell_type": "code",
   "execution_count": 1,
   "id": "1dc9161a-8359-4870-87e3-0e1414e387fb",
   "metadata": {},
   "outputs": [
    {
     "data": {
      "text/plain": [
       "'/Users/felipegomez/GitHub/PythonPractice/12-Advanced Python Modules/08-Advanced-Python-Module-Exercise'"
      ]
     },
     "execution_count": 1,
     "metadata": {},
     "output_type": "execute_result"
    }
   ],
   "source": [
    "pwd"
   ]
  },
  {
   "cell_type": "code",
   "execution_count": 19,
   "id": "19b87ac0-0ba8-4ba7-a57c-263c851cd9f2",
   "metadata": {},
   "outputs": [
    {
     "name": "stdout",
     "output_type": "stream",
     "text": [
      "/Users/felipegomez/GitHub/PythonPractice/12-Advanced Python Modules/08-Advanced-Python-Module-Exercise\n"
     ]
    }
   ],
   "source": [
    "!pwd"
   ]
  },
  {
   "cell_type": "code",
   "execution_count": 20,
   "id": "a3188e74-e5bc-418b-8c2f-d82f7d7f60eb",
   "metadata": {},
   "outputs": [
    {
     "data": {
      "text/plain": [
       "'/Users/felipegomez/GitHub/PythonPractice/12-Advanced Python Modules/08-Advanced-Python-Module-Exercise'"
      ]
     },
     "execution_count": 20,
     "metadata": {},
     "output_type": "execute_result"
    }
   ],
   "source": [
    "%pwd"
   ]
  },
  {
   "cell_type": "code",
   "execution_count": 3,
   "id": "ee6a57fc-0c7e-4a2d-a4c1-48d795e21f6b",
   "metadata": {},
   "outputs": [],
   "source": [
    "import zipfile"
   ]
  },
  {
   "cell_type": "code",
   "execution_count": 4,
   "id": "7e0f359a-6a46-4fdc-8659-8ef316b15a45",
   "metadata": {},
   "outputs": [],
   "source": [
    "import shutil"
   ]
  },
  {
   "cell_type": "code",
   "execution_count": 5,
   "id": "6f03d346-f389-4588-86bd-0acd5a018920",
   "metadata": {},
   "outputs": [],
   "source": [
    "zip_obj = zipfile.ZipFile('unzip_me_for_instructions.zip')"
   ]
  },
  {
   "cell_type": "code",
   "execution_count": 7,
   "id": "69034be1-efa2-496b-9a19-f14cee515706",
   "metadata": {},
   "outputs": [],
   "source": [
    "zip_obj.extractall('extracted_content')"
   ]
  },
  {
   "cell_type": "code",
   "execution_count": 8,
   "id": "e5097855-8079-4bf7-9820-bd338ecb6844",
   "metadata": {},
   "outputs": [],
   "source": [
    "# shutil.unpack_archive('unzip_me_for_instructions.zip', '', 'zip')"
   ]
  },
  {
   "cell_type": "code",
   "execution_count": 10,
   "id": "75d6a167-13b8-430f-8c4d-ffa13e16671f",
   "metadata": {},
   "outputs": [
    {
     "name": "stdout",
     "output_type": "stream",
     "text": [
      "Good work on unzipping the file!\n",
      "You should now see 5 folders, each with a lot of random .txt files.\n",
      "Within one of these text files is a telephone number formated ###-###-#### \n",
      "Use the Python os module and regular expressions to iterate through each file, open it, and search for a telephone number.\n",
      "Good luck!\n"
     ]
    }
   ],
   "source": [
    "with open('extracted_content/Instructions.txt') as f:\n",
    "    content = f.read()\n",
    "    print(content)"
   ]
  },
  {
   "cell_type": "code",
   "execution_count": 11,
   "id": "4cac890a-0bca-4b05-b6ae-cb5e5da7e78d",
   "metadata": {},
   "outputs": [],
   "source": [
    "import re"
   ]
  },
  {
   "cell_type": "code",
   "execution_count": 12,
   "id": "f1a689d7-cf34-4e73-bce3-4347405ec475",
   "metadata": {},
   "outputs": [],
   "source": [
    "pattern = r'\\d{3}-\\d{3}-\\d{4}'"
   ]
  },
  {
   "cell_type": "code",
   "execution_count": 13,
   "id": "11d74765-26f9-416a-814e-a07fe7b4e8c9",
   "metadata": {},
   "outputs": [],
   "source": [
    "test_string = 'here is a phone number 123-123-1234'"
   ]
  },
  {
   "cell_type": "code",
   "execution_count": 14,
   "id": "403f0826-31ad-4852-a745-4dadff580618",
   "metadata": {},
   "outputs": [
    {
     "data": {
      "text/plain": [
       "['123-123-1234']"
      ]
     },
     "execution_count": 14,
     "metadata": {},
     "output_type": "execute_result"
    }
   ],
   "source": [
    "re.findall(pattern, test_string)"
   ]
  },
  {
   "cell_type": "code",
   "execution_count": 28,
   "id": "4183f3ac-68e0-4e6b-b851-5af32e2678f2",
   "metadata": {},
   "outputs": [],
   "source": [
    "# define a function to test if a file has a certain phone number pattern\n",
    "\n",
    "def search(file, pattern = r'\\d{3}-\\d{3}-\\d{4}'):\n",
    "    f = open(file, 'r')\n",
    "    text = f.read()\n",
    "\n",
    "    if re.search(pattern, text):\n",
    "        return re.search(pattern, text)\n",
    "    else:\n",
    "        pass"
   ]
  },
  {
   "cell_type": "code",
   "execution_count": 22,
   "id": "c24c0bcb-9352-4dc7-89cd-a57d4e011e57",
   "metadata": {},
   "outputs": [],
   "source": [
    "import os"
   ]
  },
  {
   "cell_type": "code",
   "execution_count": 35,
   "id": "a4a43c29-6510-4d2d-bbbc-e73477766729",
   "metadata": {},
   "outputs": [],
   "source": [
    "results = []"
   ]
  },
  {
   "cell_type": "code",
   "execution_count": 36,
   "id": "fc458f3f-7835-4b0e-bb94-39d73f36e627",
   "metadata": {},
   "outputs": [
    {
     "data": {
      "text/plain": [
       "'/Users/felipegomez/GitHub/PythonPractice/12-Advanced Python Modules/08-Advanced-Python-Module-Exercise/extracted_content'"
      ]
     },
     "execution_count": 36,
     "metadata": {},
     "output_type": "execute_result"
    }
   ],
   "source": [
    "os.getcwd()+'/extracted_content'"
   ]
  },
  {
   "cell_type": "code",
   "execution_count": 37,
   "id": "66c5fa1c-a8bf-46a8-9244-9d7e18dcd333",
   "metadata": {},
   "outputs": [],
   "source": [
    "for folder, sub_folders, files in os.walk(os.getcwd()+'/extracted_content'):\n",
    "    for f in files:\n",
    "        full_path = folder+'/'+f\n",
    "        #print(full_path)\n",
    "        results.append(search(full_path))"
   ]
  },
  {
   "cell_type": "code",
   "execution_count": 38,
   "id": "2b3aaf1e-22a5-452c-8006-4f11e9ae5480",
   "metadata": {},
   "outputs": [
    {
     "data": {
      "text/plain": [
       "[None,\n",
       " None,\n",
       " None,\n",
       " None,\n",
       " None,\n",
       " None,\n",
       " None,\n",
       " None,\n",
       " None,\n",
       " None,\n",
       " None,\n",
       " None,\n",
       " None,\n",
       " None,\n",
       " None,\n",
       " None,\n",
       " None,\n",
       " None,\n",
       " None,\n",
       " None,\n",
       " None,\n",
       " None,\n",
       " None,\n",
       " None,\n",
       " None,\n",
       " None,\n",
       " None,\n",
       " None,\n",
       " None,\n",
       " None,\n",
       " None,\n",
       " None,\n",
       " None,\n",
       " None,\n",
       " None,\n",
       " None,\n",
       " None,\n",
       " None,\n",
       " None,\n",
       " None,\n",
       " None,\n",
       " None,\n",
       " None,\n",
       " None,\n",
       " None,\n",
       " None,\n",
       " None,\n",
       " None,\n",
       " None,\n",
       " None,\n",
       " None,\n",
       " None,\n",
       " None,\n",
       " None,\n",
       " None,\n",
       " None,\n",
       " None,\n",
       " None,\n",
       " None,\n",
       " None,\n",
       " None,\n",
       " None,\n",
       " None,\n",
       " None,\n",
       " None,\n",
       " None,\n",
       " None,\n",
       " None,\n",
       " None,\n",
       " None,\n",
       " None,\n",
       " None,\n",
       " None,\n",
       " None,\n",
       " None,\n",
       " None,\n",
       " None,\n",
       " None,\n",
       " None,\n",
       " None,\n",
       " None,\n",
       " None,\n",
       " None,\n",
       " None,\n",
       " None,\n",
       " None,\n",
       " None,\n",
       " None,\n",
       " None,\n",
       " None,\n",
       " None,\n",
       " None,\n",
       " None,\n",
       " None,\n",
       " None,\n",
       " None,\n",
       " None,\n",
       " None,\n",
       " None,\n",
       " None,\n",
       " None,\n",
       " <re.Match object; span=(1062, 1074), match='719-266-2837'>,\n",
       " None,\n",
       " None,\n",
       " None,\n",
       " None,\n",
       " None,\n",
       " None,\n",
       " None,\n",
       " None,\n",
       " None,\n",
       " None,\n",
       " None,\n",
       " None,\n",
       " None,\n",
       " None,\n",
       " None,\n",
       " None,\n",
       " None,\n",
       " None,\n",
       " None,\n",
       " None]"
      ]
     },
     "execution_count": 38,
     "metadata": {},
     "output_type": "execute_result"
    }
   ],
   "source": [
    "results"
   ]
  },
  {
   "cell_type": "code",
   "execution_count": 39,
   "id": "edac6c37-a795-4711-8b8e-cfba63159ded",
   "metadata": {},
   "outputs": [
    {
     "name": "stdout",
     "output_type": "stream",
     "text": [
      "719-266-2837\n"
     ]
    }
   ],
   "source": [
    "for r in results:\n",
    "    if r!= None:\n",
    "        print(r.group())"
   ]
  },
  {
   "cell_type": "code",
   "execution_count": null,
   "id": "e07053b6-e4a1-453d-ac5e-9fa13ee31dee",
   "metadata": {},
   "outputs": [],
   "source": []
  }
 ],
 "metadata": {
  "kernelspec": {
   "display_name": "Python 3 (ipykernel)",
   "language": "python",
   "name": "python3"
  },
  "language_info": {
   "codemirror_mode": {
    "name": "ipython",
    "version": 3
   },
   "file_extension": ".py",
   "mimetype": "text/x-python",
   "name": "python",
   "nbconvert_exporter": "python",
   "pygments_lexer": "ipython3",
   "version": "3.12.2"
  }
 },
 "nbformat": 4,
 "nbformat_minor": 5
}
