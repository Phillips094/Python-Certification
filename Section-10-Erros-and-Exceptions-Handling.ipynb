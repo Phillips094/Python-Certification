{
 "cells": [
  {
   "cell_type": "code",
   "execution_count": 1,
   "id": "1731b13b-638f-4c74-97af-b6863341d58e",
   "metadata": {},
   "outputs": [],
   "source": [
    "def add(n1,n2):\n",
    "    print(n1+n2)"
   ]
  },
  {
   "cell_type": "code",
   "execution_count": 2,
   "id": "2227aa03-8190-4016-b7bd-bf1128d13e1a",
   "metadata": {},
   "outputs": [
    {
     "name": "stdout",
     "output_type": "stream",
     "text": [
      "30\n"
     ]
    }
   ],
   "source": [
    "add(10,20)"
   ]
  },
  {
   "cell_type": "code",
   "execution_count": 3,
   "id": "3c0df5a5-b061-4082-9f1f-07cc014736cf",
   "metadata": {},
   "outputs": [],
   "source": [
    "number1 = 10"
   ]
  },
  {
   "cell_type": "code",
   "execution_count": 4,
   "id": "8ed5283d-5b61-42fa-bdc5-2a74a3c9f037",
   "metadata": {},
   "outputs": [
    {
     "name": "stdin",
     "output_type": "stream",
     "text": [
      "Please provide a number:  20\n"
     ]
    }
   ],
   "source": [
    "number2 = input(\"Please provide a number: \")"
   ]
  },
  {
   "cell_type": "code",
   "execution_count": 6,
   "id": "19c16d39-e576-4193-9a4e-84643cba4b28",
   "metadata": {},
   "outputs": [
    {
     "ename": "TypeError",
     "evalue": "unsupported operand type(s) for +: 'int' and 'str'",
     "output_type": "error",
     "traceback": [
      "\u001b[0;31m---------------------------------------------------------------------------\u001b[0m",
      "\u001b[0;31mTypeError\u001b[0m                                 Traceback (most recent call last)",
      "Cell \u001b[0;32mIn[6], line 1\u001b[0m\n\u001b[0;32m----> 1\u001b[0m \u001b[43madd\u001b[49m\u001b[43m(\u001b[49m\u001b[43mnumber1\u001b[49m\u001b[43m,\u001b[49m\u001b[43m \u001b[49m\u001b[43mnumber2\u001b[49m\u001b[43m)\u001b[49m\n\u001b[1;32m      2\u001b[0m \u001b[38;5;28mprint\u001b[39m(\u001b[38;5;124m\"\u001b[39m\u001b[38;5;124mSomething happened!\u001b[39m\u001b[38;5;124m\"\u001b[39m) \u001b[38;5;66;03m#THIS PRINT STATEMENT NEVER RUNS \u001b[39;00m\n\u001b[1;32m      3\u001b[0m                              \u001b[38;5;66;03m#BECAUSE OUR CODE ERRORS OUT ON THE FIRST LINE\u001b[39;00m\n",
      "Cell \u001b[0;32mIn[1], line 2\u001b[0m, in \u001b[0;36madd\u001b[0;34m(n1, n2)\u001b[0m\n\u001b[1;32m      1\u001b[0m \u001b[38;5;28;01mdef\u001b[39;00m \u001b[38;5;21madd\u001b[39m(n1,n2):\n\u001b[0;32m----> 2\u001b[0m     \u001b[38;5;28mprint\u001b[39m(\u001b[43mn1\u001b[49m\u001b[38;5;241;43m+\u001b[39;49m\u001b[43mn2\u001b[49m)\n",
      "\u001b[0;31mTypeError\u001b[0m: unsupported operand type(s) for +: 'int' and 'str'"
     ]
    }
   ],
   "source": [
    "add(number1, number2)\n",
    "print(\"Something happened!\") #THIS PRINT STATEMENT NEVER RUNS \n",
    "                             #BECAUSE OUR CODE ERRORS OUT ON THE FIRST LINE"
   ]
  },
  {
   "cell_type": "code",
   "execution_count": 11,
   "id": "26a56838-37e2-4353-9cf9-b1483d0d87e4",
   "metadata": {},
   "outputs": [],
   "source": [
    "try:\n",
    "    # WANT TO ATTEMPT THIS CODE\n",
    "    # MAY HAVE AN ERROR\n",
    "    result = 10 + 10\n",
    "except:\n",
    "    print(\"Hey it looks like you aren't adding correctly!\")"
   ]
  },
  {
   "cell_type": "code",
   "execution_count": 12,
   "id": "eae75679-b109-41d5-8d08-2dbafe73165b",
   "metadata": {},
   "outputs": [
    {
     "data": {
      "text/plain": [
       "20"
      ]
     },
     "execution_count": 12,
     "metadata": {},
     "output_type": "execute_result"
    }
   ],
   "source": [
    "result"
   ]
  },
  {
   "cell_type": "code",
   "execution_count": 13,
   "id": "70c37045-a2a2-4dbf-bcff-e8913dc6c583",
   "metadata": {},
   "outputs": [
    {
     "name": "stdout",
     "output_type": "stream",
     "text": [
      "Hey it looks like you aren't adding correctly!\n"
     ]
    }
   ],
   "source": [
    "try:\n",
    "    # WANT TO ATTEMPT THIS CODE\n",
    "    # MAY HAVE AN ERROR\n",
    "    result = 10 + '10'\n",
    "except:\n",
    "    print(\"Hey it looks like you aren't adding correctly!\")"
   ]
  },
  {
   "cell_type": "code",
   "execution_count": 16,
   "id": "16a0b71c-6288-449d-8e0f-5fdddfae17e9",
   "metadata": {},
   "outputs": [
    {
     "name": "stdout",
     "output_type": "stream",
     "text": [
      "Add went well!\n",
      "20\n"
     ]
    }
   ],
   "source": [
    "# TRY - EXCEPT - ELSE STATEMENT!!!\n",
    "try:\n",
    "    # WANT TO ATTEMPT THIS CODE\n",
    "    # MAY HAVE AN ERROR\n",
    "    result = 10 + 10\n",
    "except:\n",
    "    print(\"Hey it looks like you aren't adding correctly!\")\n",
    "else: # Block of code to run if there is no exception/error in our TRY block of statement\n",
    "    print(\"Add went well!\")\n",
    "    print(result)"
   ]
  },
  {
   "cell_type": "code",
   "execution_count": 18,
   "id": "67a4e7cb-533e-456f-aa79-3a87b9e2b9c4",
   "metadata": {},
   "outputs": [
    {
     "name": "stdout",
     "output_type": "stream",
     "text": [
      "I always run\n"
     ]
    }
   ],
   "source": [
    "# FINALLY OPTIONAL Keyword block of code that always executes regardless if there's an error.\n",
    "\n",
    "try:\n",
    "    f = open('testfile','w')\n",
    "    f.write(\"Write a test line\")\n",
    "except TypeError: #exception only for TypeErrors we are trying to catch\n",
    "    print(\"There was a type error!\")\n",
    "except OSError: #exception only for OperatingSystemErrors we are trying to catch\n",
    "    print(\"Hey you have an OS Error!\")\n",
    "finally: #FINALLY BLOCK WILL ALWAYS EXECUTE NO MATTER WHAT\n",
    "    print(\"I always run\")"
   ]
  },
  {
   "cell_type": "code",
   "execution_count": 19,
   "id": "2cc3632b-61a6-4ee4-9448-716c1c89ad23",
   "metadata": {},
   "outputs": [
    {
     "name": "stdout",
     "output_type": "stream",
     "text": [
      "Hey you have an OS Error!\n",
      "I always run\n"
     ]
    }
   ],
   "source": [
    "# FINALLY OPTIONAL Keyword block of code that always executes regardless if there's an error.\n",
    "\n",
    "try:\n",
    "    f = open('testfile','r')\n",
    "    f.write(\"Write a test line\") #OSError because we open on read-only mode because that's the error\n",
    "                                 #related to trying to write to a file that you only have read\n",
    "                                 #permissions for.\n",
    "except TypeError: #exception only for TypeErrors we are trying to catch\n",
    "    print(\"There was a type error!\")\n",
    "except OSError: #exception only for OperatingSystemErrors we are trying to catch\n",
    "    print(\"Hey you have an OS Error!\")\n",
    "finally: #FINALLY BLOCK WILL ALWAYS EXECUTE NO MATTER WHAT\n",
    "    print(\"I always run\")\n",
    "\n",
    "#FINALLY allows you to line up a bunch of excepts to ahve specific things print for specific errors."
   ]
  },
  {
   "cell_type": "code",
   "execution_count": 20,
   "id": "aedc1b79-d6a1-41e8-a682-8ca230760767",
   "metadata": {},
   "outputs": [
    {
     "name": "stdout",
     "output_type": "stream",
     "text": [
      "All other exceptions!\n",
      "I always run\n"
     ]
    }
   ],
   "source": [
    "# FINALLY OPTIONAL Keyword block of code that always executes regardless if there's an error.\n",
    "\n",
    "#IF YOU DON'T WANT TO MEMORIZE ALL THE TYPES OF ERRORS, YOU CAN JUST USE EXCEPT TO CATCH ALL ERROR TYPES\n",
    "try:\n",
    "    f = open('testfile','r')\n",
    "    f.write(\"Write a test line\") #OSError because we open on read-only mode because that's the error\n",
    "                                 #related to trying to write to a file that you only have read\n",
    "                                 #permissions for.\n",
    "except TypeError: #exception only for TypeErrors we are trying to catch\n",
    "    print(\"There was a type error!\")\n",
    "except: #exception only for OperatingSystemErrors we are trying to catch\n",
    "    print(\"All other exceptions!\")\n",
    "finally: #FINALLY BLOCK WILL ALWAYS EXECUTE NO MATTER WHAT\n",
    "    print(\"I always run\")\n",
    "\n",
    "#FINALLY allows you to line up a bunch of excepts to ahve specific things print for specific errors."
   ]
  },
  {
   "cell_type": "code",
   "execution_count": 22,
   "id": "d604960c-b454-48b8-b9c1-aeb366c5dff5",
   "metadata": {},
   "outputs": [],
   "source": [
    "#WE CAN CHOOSE TO USE EITHER FINALLY KEYWORD TO ALWAYS RUN REGARDLESS OF ERROR\n",
    "#OR WE CAN CHOOSE TO USE ELSE STATEMENT AT THE END TO ONLY RUN WHEN WE DO NOT HAVE AN ERROR!\n",
    "#WE CAN ALSO HAVE BOTH ELSE AND FINALLY BLOCKS!"
   ]
  },
  {
   "cell_type": "code",
   "execution_count": 23,
   "id": "96ee62c7-68dc-4133-9565-b4b4add6eb69",
   "metadata": {},
   "outputs": [],
   "source": [
    "def ask_for_int():\n",
    "    try:\n",
    "        result = int(input(\"Please provide number: \"))\n",
    "    except:\n",
    "        print(\"Whoops! That is not a number\")\n",
    "    finally:\n",
    "        print(\"End of try/except/finally\")"
   ]
  },
  {
   "cell_type": "code",
   "execution_count": 25,
   "id": "06ee769d-084b-41d7-975f-4ba3e7cca599",
   "metadata": {},
   "outputs": [
    {
     "name": "stdin",
     "output_type": "stream",
     "text": [
      "Please provide number:  20\n"
     ]
    },
    {
     "name": "stdout",
     "output_type": "stream",
     "text": [
      "End of try/except/finally\n"
     ]
    }
   ],
   "source": [
    "ask_for_int()"
   ]
  },
  {
   "cell_type": "code",
   "execution_count": 27,
   "id": "674f12fd-13e9-491f-9888-88975b7bef46",
   "metadata": {},
   "outputs": [
    {
     "name": "stdin",
     "output_type": "stream",
     "text": [
      "Please provide number:  one\n"
     ]
    },
    {
     "name": "stdout",
     "output_type": "stream",
     "text": [
      "Whoops! That is not a number\n",
      "End of try/except/finally\n"
     ]
    }
   ],
   "source": [
    "ask_for_int()"
   ]
  },
  {
   "cell_type": "code",
   "execution_count": 29,
   "id": "33ae78f5-1826-45ae-965d-d694f8054bc6",
   "metadata": {},
   "outputs": [],
   "source": [
    "def ask_for_int():\n",
    "    while True:\n",
    "        try:\n",
    "            result = int(input(\"Please provide number: \"))\n",
    "        except:\n",
    "            print(\"Whoops! That is not a number\")\n",
    "            continue\n",
    "        else:\n",
    "            print(\"Yes thank you\")\n",
    "            break\n",
    "        finally:\n",
    "            print(\"End of try/except/finally\")\n",
    "            print(\"I will always run at the end!\")"
   ]
  },
  {
   "cell_type": "code",
   "execution_count": 30,
   "id": "17b6a5fc-972c-4fff-b26d-78e399d62841",
   "metadata": {},
   "outputs": [
    {
     "name": "stdin",
     "output_type": "stream",
     "text": [
      "Please provide number:  20\n"
     ]
    },
    {
     "name": "stdout",
     "output_type": "stream",
     "text": [
      "Yes thank you\n",
      "End of try/except/finally\n",
      "I will always run at the end!\n"
     ]
    }
   ],
   "source": [
    "ask_for_int()"
   ]
  },
  {
   "cell_type": "code",
   "execution_count": 31,
   "id": "4b0af8d1-da10-4257-9b22-2823a7e92fba",
   "metadata": {},
   "outputs": [
    {
     "name": "stdin",
     "output_type": "stream",
     "text": [
      "Please provide number:  one\n"
     ]
    },
    {
     "name": "stdout",
     "output_type": "stream",
     "text": [
      "Whoops! That is not a number\n",
      "End of try/except/finally\n",
      "I will always run at the end!\n"
     ]
    },
    {
     "name": "stdin",
     "output_type": "stream",
     "text": [
      "Please provide number:  20\n"
     ]
    },
    {
     "name": "stdout",
     "output_type": "stream",
     "text": [
      "Yes thank you\n",
      "End of try/except/finally\n",
      "I will always run at the end!\n"
     ]
    }
   ],
   "source": [
    "ask_for_int()"
   ]
  },
  {
   "cell_type": "code",
   "execution_count": 32,
   "id": "c7bbd2a6-f730-48b5-b6eb-ff76956ec6ea",
   "metadata": {},
   "outputs": [],
   "source": [
    "#PYLINT AND UNITTEST"
   ]
  },
  {
   "cell_type": "code",
   "execution_count": 33,
   "id": "995c03f3-f839-4708-9779-3c78c4340926",
   "metadata": {},
   "outputs": [],
   "source": [
    "#PYLINT WAS TESTED USING SUBLIME TO WRITE PYTHON TESTS AND TERMINAL FOR TESTING"
   ]
  },
  {
   "cell_type": "code",
   "execution_count": 34,
   "id": "6e98b0a9-26f5-491c-9c81-b6a177633cc3",
   "metadata": {},
   "outputs": [],
   "source": [
    "#Recall that with some IPython magic we can write the contents of a cell to a file using %%writefile.\n",
    "#Something we haven't seen yet; you can run terminal commands from a jupyter cell using !"
   ]
  },
  {
   "cell_type": "code",
   "execution_count": 35,
   "id": "ad26e9f5-e416-41ee-b3a5-ed00752edb5e",
   "metadata": {},
   "outputs": [],
   "source": [
    "#UNITTEST WAS TESTED USING SUBLIME TO WRITE PYTHON TESTS AND TERMINAL FOR TESTING"
   ]
  },
  {
   "cell_type": "code",
   "execution_count": null,
   "id": "2fe72fe3-8827-4889-bf71-f0aaf42f22a9",
   "metadata": {},
   "outputs": [],
   "source": []
  }
 ],
 "metadata": {
  "kernelspec": {
   "display_name": "Python 3 (ipykernel)",
   "language": "python",
   "name": "python3"
  },
  "language_info": {
   "codemirror_mode": {
    "name": "ipython",
    "version": 3
   },
   "file_extension": ".py",
   "mimetype": "text/x-python",
   "name": "python",
   "nbconvert_exporter": "python",
   "pygments_lexer": "ipython3",
   "version": "3.12.2"
  }
 },
 "nbformat": 4,
 "nbformat_minor": 5
}
