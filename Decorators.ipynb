{
 "cells": [
  {
   "cell_type": "code",
   "execution_count": 1,
   "id": "90334d17-6933-4ef8-8f85-9c22210b0fa1",
   "metadata": {},
   "outputs": [],
   "source": [
    "def func():\n",
    "    return 1"
   ]
  },
  {
   "cell_type": "code",
   "execution_count": 2,
   "id": "350643c0-7b6b-431d-a833-f8aec4033023",
   "metadata": {},
   "outputs": [
    {
     "data": {
      "text/plain": [
       "1"
      ]
     },
     "execution_count": 2,
     "metadata": {},
     "output_type": "execute_result"
    }
   ],
   "source": [
    "func()"
   ]
  },
  {
   "cell_type": "code",
   "execution_count": 3,
   "id": "ecbca5ea-04ff-4719-9c39-cf674d916c77",
   "metadata": {},
   "outputs": [
    {
     "data": {
      "text/plain": [
       "<function __main__.func()>"
      ]
     },
     "execution_count": 3,
     "metadata": {},
     "output_type": "execute_result"
    }
   ],
   "source": [
    "func"
   ]
  },
  {
   "cell_type": "code",
   "execution_count": 4,
   "id": "52e27431-3899-4705-abdc-33fa49894b0e",
   "metadata": {},
   "outputs": [],
   "source": [
    "def hello():\n",
    "    return 'Hello!'"
   ]
  },
  {
   "cell_type": "code",
   "execution_count": 5,
   "id": "f7a77ed0-85b9-4054-8273-022d3861ac3d",
   "metadata": {},
   "outputs": [
    {
     "data": {
      "text/plain": [
       "'Hello!'"
      ]
     },
     "execution_count": 5,
     "metadata": {},
     "output_type": "execute_result"
    }
   ],
   "source": [
    "hello()"
   ]
  },
  {
   "cell_type": "code",
   "execution_count": 6,
   "id": "7e3d0268-60fc-41c2-892f-6ea76f18e02d",
   "metadata": {},
   "outputs": [
    {
     "data": {
      "text/plain": [
       "<function __main__.hello()>"
      ]
     },
     "execution_count": 6,
     "metadata": {},
     "output_type": "execute_result"
    }
   ],
   "source": [
    "hello"
   ]
  },
  {
   "cell_type": "code",
   "execution_count": 7,
   "id": "df80e773-9a40-45dc-81b0-f1d5ec6ed6de",
   "metadata": {},
   "outputs": [],
   "source": [
    "greet = hello"
   ]
  },
  {
   "cell_type": "code",
   "execution_count": 8,
   "id": "bf13a2c4-3c89-45e5-8b33-f69ccbf2027e",
   "metadata": {},
   "outputs": [
    {
     "data": {
      "text/plain": [
       "'Hello!'"
      ]
     },
     "execution_count": 8,
     "metadata": {},
     "output_type": "execute_result"
    }
   ],
   "source": [
    "greet()"
   ]
  },
  {
   "cell_type": "code",
   "execution_count": 9,
   "id": "6ea9f7d2-f3ea-465b-8bdf-e66b873380c1",
   "metadata": {},
   "outputs": [],
   "source": [
    "del hello"
   ]
  },
  {
   "cell_type": "code",
   "execution_count": 10,
   "id": "fda0d5ef-f456-4607-ae22-1cae7c8585e0",
   "metadata": {},
   "outputs": [
    {
     "ename": "NameError",
     "evalue": "name 'hello' is not defined",
     "output_type": "error",
     "traceback": [
      "\u001b[0;31m---------------------------------------------------------------------------\u001b[0m",
      "\u001b[0;31mNameError\u001b[0m                                 Traceback (most recent call last)",
      "Cell \u001b[0;32mIn[10], line 1\u001b[0m\n\u001b[0;32m----> 1\u001b[0m \u001b[43mhello\u001b[49m\n",
      "\u001b[0;31mNameError\u001b[0m: name 'hello' is not defined"
     ]
    }
   ],
   "source": [
    "hello"
   ]
  },
  {
   "cell_type": "code",
   "execution_count": 11,
   "id": "2e8f543d-e9cd-47bf-a7c4-f5b52d8e7dc6",
   "metadata": {},
   "outputs": [
    {
     "data": {
      "text/plain": [
       "'Hello!'"
      ]
     },
     "execution_count": 11,
     "metadata": {},
     "output_type": "execute_result"
    }
   ],
   "source": [
    "greet()"
   ]
  },
  {
   "cell_type": "code",
   "execution_count": 14,
   "id": "18dc5d2a-1740-49a9-b787-87c746205522",
   "metadata": {},
   "outputs": [],
   "source": [
    "def hello(name = 'Felipe'):\n",
    "    print('The hello() function has been executed!')\n",
    "\n",
    "    def greet():\n",
    "        return '\\t This is the greet() func inside hello!'\n",
    "\n",
    "    print(greet())"
   ]
  },
  {
   "cell_type": "code",
   "execution_count": 15,
   "id": "9cb31342-3096-49a7-84f1-e5484d3405a5",
   "metadata": {},
   "outputs": [
    {
     "name": "stdout",
     "output_type": "stream",
     "text": [
      "The hello() function has been executed!\n",
      "\t This is the greet() func inside hello!\n"
     ]
    }
   ],
   "source": [
    "hello()"
   ]
  },
  {
   "cell_type": "code",
   "execution_count": 20,
   "id": "710aaced-7557-4f73-85d9-6a4d19ce1c13",
   "metadata": {},
   "outputs": [],
   "source": [
    "def hello(name = 'Felipe'):\n",
    "    print('The hello() function has been executed!')\n",
    "\n",
    "    def greet():\n",
    "        return '\\t This is the greet() func inside hello!'\n",
    "\n",
    "    def welcome():\n",
    "        return '\\t This is welcome() inside hello'\n",
    "\n",
    "    print(greet())\n",
    "    print(welcome())\n",
    "    print('This is the end of the hello function!')"
   ]
  },
  {
   "cell_type": "code",
   "execution_count": 19,
   "id": "e838c445-8152-4ae7-9d60-3563aa3fcde0",
   "metadata": {},
   "outputs": [
    {
     "name": "stdout",
     "output_type": "stream",
     "text": [
      "The hello() function has been executed!\n",
      "\t This is the greet() func inside hello!\n",
      "\t This is welcome() inside hello\n",
      "This is the end of hte hello function!\n"
     ]
    }
   ],
   "source": [
    "hello()"
   ]
  },
  {
   "cell_type": "code",
   "execution_count": 21,
   "id": "3c9b6a40-d758-45ff-87e2-554091ca9491",
   "metadata": {},
   "outputs": [],
   "source": [
    "def hello(name = 'Felipe'):\n",
    "    print('The hello() function has been executed!')\n",
    "\n",
    "    def greet():\n",
    "        return '\\t This is the greet() func inside hello!'\n",
    "\n",
    "    def welcome():\n",
    "        return '\\t This is welcome() inside hello'\n",
    "\n",
    "    print(\"I am going to return a function!!\") \n",
    "\n",
    "    if name == 'Felipe':\n",
    "        return greet\n",
    "    else:\n",
    "        return welcome"
   ]
  },
  {
   "cell_type": "code",
   "execution_count": 22,
   "id": "1ee3c8b9-5dc6-4095-a2fb-0b021c0335a9",
   "metadata": {},
   "outputs": [
    {
     "name": "stdout",
     "output_type": "stream",
     "text": [
      "The hello() function has been executed!\n",
      "I am going to return a function!!\n"
     ]
    }
   ],
   "source": [
    "my_new_func = hello('Felipe')"
   ]
  },
  {
   "cell_type": "code",
   "execution_count": 23,
   "id": "b3f5c62d-cff1-4d6e-95be-60e7ee732496",
   "metadata": {},
   "outputs": [
    {
     "data": {
      "text/plain": [
       "<function __main__.hello.<locals>.greet()>"
      ]
     },
     "execution_count": 23,
     "metadata": {},
     "output_type": "execute_result"
    }
   ],
   "source": [
    "my_new_func"
   ]
  },
  {
   "cell_type": "code",
   "execution_count": 24,
   "id": "d9c125e7-e4ab-4b03-bdbd-9c272e2dfa36",
   "metadata": {},
   "outputs": [
    {
     "data": {
      "text/plain": [
       "'\\t This is the greet() func inside hello!'"
      ]
     },
     "execution_count": 24,
     "metadata": {},
     "output_type": "execute_result"
    }
   ],
   "source": [
    "my_new_func()"
   ]
  },
  {
   "cell_type": "code",
   "execution_count": 25,
   "id": "ab18f98e-ef4d-46df-87c6-38444e2c841f",
   "metadata": {},
   "outputs": [
    {
     "name": "stdout",
     "output_type": "stream",
     "text": [
      "\t This is the greet() func inside hello!\n"
     ]
    }
   ],
   "source": [
    "print(my_new_func())"
   ]
  },
  {
   "cell_type": "code",
   "execution_count": 26,
   "id": "998a5ea0-2c4d-46e0-bc51-ecc98e54097e",
   "metadata": {},
   "outputs": [],
   "source": [
    "def cool():\n",
    "    def super_cool():\n",
    "        return 'I am very cool!'\n",
    "    return super_cool"
   ]
  },
  {
   "cell_type": "code",
   "execution_count": 33,
   "id": "fd7cab90-d360-4fad-82d3-f503be4c8b33",
   "metadata": {},
   "outputs": [
    {
     "data": {
      "text/plain": [
       "<function __main__.cool.<locals>.super_cool()>"
      ]
     },
     "execution_count": 33,
     "metadata": {},
     "output_type": "execute_result"
    }
   ],
   "source": [
    "cool()"
   ]
  },
  {
   "cell_type": "code",
   "execution_count": 35,
   "id": "ce2bcbe3-d7bb-4d73-9288-59336482257f",
   "metadata": {},
   "outputs": [
    {
     "data": {
      "text/plain": [
       "'I am very cool!'"
      ]
     },
     "execution_count": 35,
     "metadata": {},
     "output_type": "execute_result"
    }
   ],
   "source": [
    "cool()()"
   ]
  },
  {
   "cell_type": "code",
   "execution_count": 27,
   "id": "c2b19422-3818-45d7-8c02-19f25785b87c",
   "metadata": {},
   "outputs": [],
   "source": [
    "some_func = cool()"
   ]
  },
  {
   "cell_type": "code",
   "execution_count": 28,
   "id": "49925f89-ed17-4cad-919b-1441df227a8d",
   "metadata": {},
   "outputs": [
    {
     "data": {
      "text/plain": [
       "<function __main__.cool.<locals>.super_cool()>"
      ]
     },
     "execution_count": 28,
     "metadata": {},
     "output_type": "execute_result"
    }
   ],
   "source": [
    "some_func"
   ]
  },
  {
   "cell_type": "code",
   "execution_count": 29,
   "id": "1ba91d25-ccb9-492c-a977-f244e4659ec5",
   "metadata": {},
   "outputs": [
    {
     "data": {
      "text/plain": [
       "'I am very cool!'"
      ]
     },
     "execution_count": 29,
     "metadata": {},
     "output_type": "execute_result"
    }
   ],
   "source": [
    "some_func()"
   ]
  },
  {
   "cell_type": "code",
   "execution_count": 30,
   "id": "2218aaf7-4c90-4b5e-aca1-258dca16a77d",
   "metadata": {},
   "outputs": [],
   "source": [
    "def helloagain():\n",
    "    return 'Hi Felipe!'"
   ]
  },
  {
   "cell_type": "code",
   "execution_count": 31,
   "id": "2ce7e801-c011-4c07-b5c5-0c6c0e97c16e",
   "metadata": {},
   "outputs": [],
   "source": [
    "def other(some_def_func):\n",
    "    print('Other code runs here!')\n",
    "    print(some_def_func())"
   ]
  },
  {
   "cell_type": "code",
   "execution_count": 32,
   "id": "45c05f7b-f63d-4afa-ab13-2b715a425a4f",
   "metadata": {},
   "outputs": [
    {
     "name": "stdout",
     "output_type": "stream",
     "text": [
      "Other code runs here!\n",
      "Hi Felipe!\n"
     ]
    }
   ],
   "source": [
    "other(helloagain)"
   ]
  },
  {
   "cell_type": "code",
   "execution_count": 36,
   "id": "7d12b3ed-b754-4fe5-859d-4799ad988287",
   "metadata": {},
   "outputs": [],
   "source": [
    "# DECORATOR FUNCTION EXAMPLE\n",
    "def new_decorator(original_func):\n",
    "\n",
    "    def wrap_func(): # THIS WRAP FUNCTION REPRESENTS THE EXTRA FUNCTIONALITY TAHT YOU WANT TO DECORATE OUT ORIGINAL FUNCTION ARGUMENT WITH\n",
    "        print('Some extra code, before the original function')\n",
    "\n",
    "        original_func() # EXECUTING OUR ORIGINAL_FUNC ARGUMENT FROM DEF NEW_DECORATOR()\n",
    "\n",
    "        print('Some extra code, after the original function!')\n",
    "\n",
    "    return wrap_func # THE IDEA OF A PRESENT WITH SOME WRAPPING PAPER FOR DECORATION (HENCE DECORATOR FUNCTIONS) IN THIS EXAMPLE\n",
    "# THE ACTUAL ORIGINAL FUNCTION IS THE PRESENT AND THEN WE'RE GOING TO ESSENTIALLY PUT IT INSIDE A BOX AND WRAP AROUND IT WITH FUNCTIONS\n",
    "# EITHER BEFORE OR AFTER."
   ]
  },
  {
   "cell_type": "code",
   "execution_count": 37,
   "id": "a1d98b69-d508-40fb-a981-03d4b75d9e08",
   "metadata": {},
   "outputs": [],
   "source": [
    "# EXAMPLE OF APPLYING DECORATOR\n",
    "\n",
    "def func_needs_decorator():\n",
    "    print(\"I want to be decorated!!\")"
   ]
  },
  {
   "cell_type": "code",
   "execution_count": 38,
   "id": "b555a4e4-46ef-426d-a6c4-8a138f28c8d9",
   "metadata": {},
   "outputs": [
    {
     "name": "stdout",
     "output_type": "stream",
     "text": [
      "I want to be decorated!!\n"
     ]
    }
   ],
   "source": [
    "func_needs_decorator()"
   ]
  },
  {
   "cell_type": "code",
   "execution_count": 40,
   "id": "29a4c988-1653-4d88-baf2-b7cf24e87dc4",
   "metadata": {},
   "outputs": [],
   "source": [
    "decorated_func = new_decorator(func_needs_decorator)"
   ]
  },
  {
   "cell_type": "code",
   "execution_count": 42,
   "id": "35a6bd97-b15a-4d14-8eb5-d0c5bc74c9de",
   "metadata": {},
   "outputs": [
    {
     "data": {
      "text/plain": [
       "<function __main__.new_decorator.<locals>.wrap_func()>"
      ]
     },
     "execution_count": 42,
     "metadata": {},
     "output_type": "execute_result"
    }
   ],
   "source": [
    "decorated_func"
   ]
  },
  {
   "cell_type": "code",
   "execution_count": 43,
   "id": "114c98aa-c9d5-4fe6-9b3e-81c3d0b7e020",
   "metadata": {},
   "outputs": [
    {
     "name": "stdout",
     "output_type": "stream",
     "text": [
      "Some extra code, before the original function\n",
      "I want to be decorated!!\n",
      "Some extra code, after the original function!\n"
     ]
    }
   ],
   "source": [
    "decorated_func()"
   ]
  },
  {
   "cell_type": "code",
   "execution_count": 50,
   "id": "ca0b5647-a882-435b-adf7-281e2eacd8c5",
   "metadata": {},
   "outputs": [],
   "source": [
    "# SPECIAL @ SYNTAX FOR DECORATORS\n",
    "\n",
    "# WHEN YOU PUT @NEW_DECORATOR ON TOP OF A FUNCTION, IT SAYS \"OKAY, I'M GOING TO PASS OUR FUNC_NEEDS_DECORATOR FUNCTION INTO @NEW_DECORATOR\n",
    "# AS THE ORIGINAL FUNCTION ARGUMENT IN OUR NEW_DECORATOR FUNCTION\"\n",
    "\n",
    "# TO TURN OFF THIS DECORATOR, YOU JUST COMMENT THE @ LINE OF CODE, WHICH IS ESSENTIALLY AN ON-OFF SWITCH\n",
    "@new_decorator\n",
    "def func_needs_decorator():\n",
    "    print(\"I want to be decorated!!\")"
   ]
  },
  {
   "cell_type": "code",
   "execution_count": 51,
   "id": "061fbe5a-0a66-4cd1-8f74-ed88bc0b5cb1",
   "metadata": {},
   "outputs": [
    {
     "name": "stdout",
     "output_type": "stream",
     "text": [
      "Some extra code, before the original function\n",
      "I want to be decorated!!\n",
      "Some extra code, after the original function!\n"
     ]
    }
   ],
   "source": [
    "func_needs_decorator()"
   ]
  },
  {
   "cell_type": "code",
   "execution_count": null,
   "id": "484ed6d3-0a31-45d9-8934-2d5c2e72931d",
   "metadata": {},
   "outputs": [],
   "source": [
    "# REALISTICALLY, YOU'LL BE USING A WEB FRAMEWORK OR SOMEEONE ELSE'S LIBRARY AND JUST ADDING IN THESE NEW\n",
    "# DECORATORS TO MAYBE RENDER A NEW WEBSITE OR POINT TO ANOTHER PAGE.\n",
    "# COMMONLY USED IN WEB FRAMEWORKS SUCH AS DJANGO OR FLASK WHICH IS WHY IT'S IMPORTANT TO UNDERSTAND BEHIND THE SCENES\n",
    "# WHAT THE DECORATOR'S ACTUALLY DOING."
   ]
  }
 ],
 "metadata": {
  "kernelspec": {
   "display_name": "Python 3 (ipykernel)",
   "language": "python",
   "name": "python3"
  },
  "language_info": {
   "codemirror_mode": {
    "name": "ipython",
    "version": 3
   },
   "file_extension": ".py",
   "mimetype": "text/x-python",
   "name": "python",
   "nbconvert_exporter": "python",
   "pygments_lexer": "ipython3",
   "version": "3.12.2"
  }
 },
 "nbformat": 4,
 "nbformat_minor": 5
}
