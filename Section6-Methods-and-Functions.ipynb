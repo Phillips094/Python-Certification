{
 "cells": [
  {
   "cell_type": "code",
   "execution_count": 1,
   "id": "0c1d3a9a-09f1-477f-90f5-46fdb54268a5",
   "metadata": {},
   "outputs": [],
   "source": [
    "mylist = [1,2,3,4]"
   ]
  },
  {
   "cell_type": "code",
   "execution_count": 2,
   "id": "5d87575e-9fb0-490c-953b-35c112bc96c5",
   "metadata": {},
   "outputs": [
    {
     "data": {
      "text/plain": [
       "<function list.insert(index, object, /)>"
      ]
     },
     "execution_count": 2,
     "metadata": {},
     "output_type": "execute_result"
    }
   ],
   "source": [
    "mylist.insert #then click 'shift + tab'"
   ]
  },
  {
   "cell_type": "code",
   "execution_count": 4,
   "id": "fdc2adf8-8671-470e-b34c-921a40dd56c9",
   "metadata": {},
   "outputs": [
    {
     "name": "stdout",
     "output_type": "stream",
     "text": [
      "Help on built-in function insert:\n",
      "\n",
      "insert(index, object, /) method of builtins.list instance\n",
      "    Insert object before index.\n",
      "\n"
     ]
    }
   ],
   "source": [
    "help(mylist.insert)"
   ]
  },
  {
   "cell_type": "code",
   "execution_count": 5,
   "id": "718528c4-5804-44ef-9400-ed4a13fe5c54",
   "metadata": {},
   "outputs": [
    {
     "data": {
      "text/plain": [
       "\u001b[0;31mSignature:\u001b[0m \u001b[0mmylist\u001b[0m\u001b[0;34m.\u001b[0m\u001b[0minsert\u001b[0m\u001b[0;34m(\u001b[0m\u001b[0mindex\u001b[0m\u001b[0;34m,\u001b[0m \u001b[0mobject\u001b[0m\u001b[0;34m,\u001b[0m \u001b[0;34m/\u001b[0m\u001b[0;34m)\u001b[0m\u001b[0;34m\u001b[0m\u001b[0;34m\u001b[0m\u001b[0m\n",
       "\u001b[0;31mDocstring:\u001b[0m Insert object before index.\n",
       "\u001b[0;31mType:\u001b[0m      builtin_function_or_method"
      ]
     },
     "metadata": {},
     "output_type": "display_data"
    }
   ],
   "source": [
    "?mylist.insert"
   ]
  },
  {
   "cell_type": "code",
   "execution_count": 6,
   "id": "de1dff8f-2f14-4e11-bfc9-56b7517dd86c",
   "metadata": {},
   "outputs": [],
   "source": [
    "def say_hello():\n",
    "    print(\"Hello\")"
   ]
  },
  {
   "cell_type": "code",
   "execution_count": 7,
   "id": "47a19361-bd58-4096-8ce9-c3898fe49494",
   "metadata": {},
   "outputs": [
    {
     "name": "stdout",
     "output_type": "stream",
     "text": [
      "Hello\n"
     ]
    }
   ],
   "source": [
    "say_hello()"
   ]
  },
  {
   "cell_type": "code",
   "execution_count": 8,
   "id": "6c457552-431c-4153-b1b6-11ce03d55fe4",
   "metadata": {},
   "outputs": [
    {
     "data": {
      "text/plain": [
       "<function __main__.say_hello()>"
      ]
     },
     "execution_count": 8,
     "metadata": {},
     "output_type": "execute_result"
    }
   ],
   "source": [
    "say_hello"
   ]
  },
  {
   "cell_type": "code",
   "execution_count": 9,
   "id": "2489fd7a-e996-4e93-994a-a40fbd3f5729",
   "metadata": {},
   "outputs": [],
   "source": [
    "def say_hello(name):\n",
    "    print(f'Hello {name}')"
   ]
  },
  {
   "cell_type": "code",
   "execution_count": 10,
   "id": "3863e791-ac01-45b4-8a01-adcd38dd9c08",
   "metadata": {},
   "outputs": [
    {
     "name": "stdout",
     "output_type": "stream",
     "text": [
      "Hello Felipe\n"
     ]
    }
   ],
   "source": [
    "say_hello('Felipe')"
   ]
  },
  {
   "cell_type": "code",
   "execution_count": 11,
   "id": "b9c95a60-83b7-43f0-b063-42321f5aa6ac",
   "metadata": {},
   "outputs": [
    {
     "ename": "TypeError",
     "evalue": "say_hello() missing 1 required positional argument: 'name'",
     "output_type": "error",
     "traceback": [
      "\u001b[0;31m---------------------------------------------------------------------------\u001b[0m",
      "\u001b[0;31mTypeError\u001b[0m                                 Traceback (most recent call last)",
      "Cell \u001b[0;32mIn[11], line 1\u001b[0m\n\u001b[0;32m----> 1\u001b[0m \u001b[43msay_hello\u001b[49m\u001b[43m(\u001b[49m\u001b[43m)\u001b[49m\n",
      "\u001b[0;31mTypeError\u001b[0m: say_hello() missing 1 required positional argument: 'name'"
     ]
    }
   ],
   "source": [
    "say_hello()"
   ]
  },
  {
   "cell_type": "code",
   "execution_count": 12,
   "id": "afa17cef-0e45-460f-8f92-9bae65520d9c",
   "metadata": {},
   "outputs": [],
   "source": [
    "def say_hello(name='Default'):\n",
    "    print(f'Hello {name}')"
   ]
  },
  {
   "cell_type": "code",
   "execution_count": 13,
   "id": "33fee177-a247-4ba1-9b50-eb6cd8c9614d",
   "metadata": {},
   "outputs": [
    {
     "name": "stdout",
     "output_type": "stream",
     "text": [
      "Hello Default\n"
     ]
    }
   ],
   "source": [
    "say_hello()"
   ]
  },
  {
   "cell_type": "code",
   "execution_count": 14,
   "id": "c952bb9a-51f8-41f0-89b9-52ef18bd6b40",
   "metadata": {},
   "outputs": [
    {
     "name": "stdout",
     "output_type": "stream",
     "text": [
      "Hello Felipe\n"
     ]
    }
   ],
   "source": [
    "say_hello('Felipe')"
   ]
  },
  {
   "cell_type": "code",
   "execution_count": 15,
   "id": "e03bd027-9669-4777-bda8-99f4c708f82a",
   "metadata": {},
   "outputs": [],
   "source": [
    "def add_num(num1,num2):\n",
    "    return num1 + num2"
   ]
  },
  {
   "cell_type": "code",
   "execution_count": 16,
   "id": "17b73f3c-ffcd-4fe0-a8c0-9de55761e933",
   "metadata": {},
   "outputs": [
    {
     "data": {
      "text/plain": [
       "30"
      ]
     },
     "execution_count": 16,
     "metadata": {},
     "output_type": "execute_result"
    }
   ],
   "source": [
    "add_num(10,20)"
   ]
  },
  {
   "cell_type": "code",
   "execution_count": 17,
   "id": "952b4579-8be6-4423-a69e-e34667fd099c",
   "metadata": {},
   "outputs": [],
   "source": [
    "result = add_num(10,20)"
   ]
  },
  {
   "cell_type": "code",
   "execution_count": 18,
   "id": "667d652c-bfb8-4285-a6b7-dd84859881bf",
   "metadata": {},
   "outputs": [
    {
     "data": {
      "text/plain": [
       "30"
      ]
     },
     "execution_count": 18,
     "metadata": {},
     "output_type": "execute_result"
    }
   ],
   "source": [
    "result"
   ]
  },
  {
   "cell_type": "code",
   "execution_count": 19,
   "id": "38f5e623-69ea-4d1d-a8b7-402045192ec4",
   "metadata": {},
   "outputs": [],
   "source": [
    "def print_result(a,b):\n",
    "    print(a+b)"
   ]
  },
  {
   "cell_type": "code",
   "execution_count": 20,
   "id": "8cc87683-9a5b-4eac-ba36-543d4045b6c5",
   "metadata": {},
   "outputs": [],
   "source": [
    "def return_result(a,b):\n",
    "    return a+b"
   ]
  },
  {
   "cell_type": "code",
   "execution_count": 26,
   "id": "c887a952-0208-4d67-bfc0-342a7ae39114",
   "metadata": {},
   "outputs": [
    {
     "name": "stdout",
     "output_type": "stream",
     "text": [
      "30\n"
     ]
    }
   ],
   "source": [
    "#there is no output cell showing you that a variable's being returned. Instead its just printing out the result.\n",
    "\n",
    "print_result(10,20)"
   ]
  },
  {
   "cell_type": "code",
   "execution_count": 24,
   "id": "63ce8439-5642-44a8-b227-2a8d7effc3b5",
   "metadata": {},
   "outputs": [
    {
     "data": {
      "text/plain": [
       "30"
      ]
     },
     "execution_count": 24,
     "metadata": {},
     "output_type": "execute_result"
    }
   ],
   "source": [
    "return_result(10,20)"
   ]
  },
  {
   "cell_type": "code",
   "execution_count": 27,
   "id": "29f53fce-c121-42ed-9e3b-8a7859cccc5c",
   "metadata": {},
   "outputs": [
    {
     "name": "stdout",
     "output_type": "stream",
     "text": [
      "30\n"
     ]
    }
   ],
   "source": [
    "print_result = print_result(10,20)"
   ]
  },
  {
   "cell_type": "code",
   "execution_count": 28,
   "id": "6a935acb-e4a9-4546-bbc1-024a7a9d572e",
   "metadata": {},
   "outputs": [],
   "source": [
    "print_result"
   ]
  },
  {
   "cell_type": "code",
   "execution_count": 29,
   "id": "7daaed5c-9ade-460f-8b63-288b0c23edc1",
   "metadata": {},
   "outputs": [
    {
     "data": {
      "text/plain": [
       "NoneType"
      ]
     },
     "execution_count": 29,
     "metadata": {},
     "output_type": "execute_result"
    }
   ],
   "source": [
    "type(print_result)"
   ]
  },
  {
   "cell_type": "code",
   "execution_count": 30,
   "id": "2e722163-69b6-4927-bbf8-f9592c769f27",
   "metadata": {},
   "outputs": [
    {
     "data": {
      "text/plain": [
       "30"
      ]
     },
     "execution_count": 30,
     "metadata": {},
     "output_type": "execute_result"
    }
   ],
   "source": [
    "return_result(10,20)"
   ]
  },
  {
   "cell_type": "code",
   "execution_count": 31,
   "id": "01ab82f7-9a6e-4fe0-9b92-6d443165b62e",
   "metadata": {},
   "outputs": [],
   "source": [
    "returnresult = return_result(10,20)"
   ]
  },
  {
   "cell_type": "code",
   "execution_count": 32,
   "id": "78c3f5f8-e6f1-46ba-babe-61ddc60dcbc3",
   "metadata": {},
   "outputs": [
    {
     "data": {
      "text/plain": [
       "30"
      ]
     },
     "execution_count": 32,
     "metadata": {},
     "output_type": "execute_result"
    }
   ],
   "source": [
    "returnresult"
   ]
  },
  {
   "cell_type": "code",
   "execution_count": 33,
   "id": "7a482471-d978-4e5a-9f8d-9408f0986d0a",
   "metadata": {},
   "outputs": [],
   "source": [
    "#Both print and return a+b\n",
    "\n",
    "def myfunc(a,b):\n",
    "    print(a+b)\n",
    "    return a+b"
   ]
  },
  {
   "cell_type": "code",
   "execution_count": 34,
   "id": "bb9581df-b297-4d41-a4b7-db13fee13daf",
   "metadata": {},
   "outputs": [
    {
     "data": {
      "text/plain": [
       "int"
      ]
     },
     "execution_count": 34,
     "metadata": {},
     "output_type": "execute_result"
    }
   ],
   "source": [
    "type(returnresult)"
   ]
  },
  {
   "cell_type": "code",
   "execution_count": 35,
   "id": "dc59f4a5-bc98-4a7f-a0a0-12b455b40883",
   "metadata": {},
   "outputs": [
    {
     "name": "stdout",
     "output_type": "stream",
     "text": [
      "30\n"
     ]
    }
   ],
   "source": [
    "result1 = myfunc(10,20)"
   ]
  },
  {
   "cell_type": "code",
   "execution_count": 36,
   "id": "897ec4fb-9c13-4d55-94f6-9f136cf2e760",
   "metadata": {},
   "outputs": [
    {
     "data": {
      "text/plain": [
       "30"
      ]
     },
     "execution_count": 36,
     "metadata": {},
     "output_type": "execute_result"
    }
   ],
   "source": [
    "result1"
   ]
  },
  {
   "cell_type": "code",
   "execution_count": 37,
   "id": "096bd5fa-2e83-4214-bc3d-047b13654d84",
   "metadata": {},
   "outputs": [
    {
     "data": {
      "text/plain": [
       "0"
      ]
     },
     "execution_count": 37,
     "metadata": {},
     "output_type": "execute_result"
    }
   ],
   "source": [
    "2 % 2"
   ]
  },
  {
   "cell_type": "code",
   "execution_count": 44,
   "id": "38a0db58-a322-468d-9a52-8ce816b84264",
   "metadata": {},
   "outputs": [
    {
     "data": {
      "text/plain": [
       "True"
      ]
     },
     "execution_count": 44,
     "metadata": {},
     "output_type": "execute_result"
    }
   ],
   "source": [
    "2 % 2 == 0"
   ]
  },
  {
   "cell_type": "code",
   "execution_count": 45,
   "id": "e384536a-d61f-4974-9d03-8b96866a3fa4",
   "metadata": {},
   "outputs": [
    {
     "data": {
      "text/plain": [
       "1"
      ]
     },
     "execution_count": 45,
     "metadata": {},
     "output_type": "execute_result"
    }
   ],
   "source": [
    "3 % 2"
   ]
  },
  {
   "cell_type": "code",
   "execution_count": 46,
   "id": "c0a1f8c9-0bc6-4859-920d-7e35206c3f5d",
   "metadata": {},
   "outputs": [
    {
     "data": {
      "text/plain": [
       "False"
      ]
     },
     "execution_count": 46,
     "metadata": {},
     "output_type": "execute_result"
    }
   ],
   "source": [
    "3 % 2 == 0"
   ]
  },
  {
   "cell_type": "code",
   "execution_count": 47,
   "id": "5beedd1a-64d4-4697-b94f-ce2046a2bbcd",
   "metadata": {},
   "outputs": [],
   "source": [
    "def even_check(number):\n",
    "    result = number % 2 == 0\n",
    "    return result"
   ]
  },
  {
   "cell_type": "code",
   "execution_count": 48,
   "id": "d72851e4-d0c1-476d-85c9-62a8f17e34de",
   "metadata": {},
   "outputs": [
    {
     "data": {
      "text/plain": [
       "True"
      ]
     },
     "execution_count": 48,
     "metadata": {},
     "output_type": "execute_result"
    }
   ],
   "source": [
    "even_check(20)"
   ]
  },
  {
   "cell_type": "code",
   "execution_count": 49,
   "id": "c175dd6b-d9ce-471d-a751-478c42cdfd78",
   "metadata": {},
   "outputs": [
    {
     "data": {
      "text/plain": [
       "False"
      ]
     },
     "execution_count": 49,
     "metadata": {},
     "output_type": "execute_result"
    }
   ],
   "source": [
    "even_check(21)"
   ]
  },
  {
   "cell_type": "code",
   "execution_count": 51,
   "id": "d0fe7fd3-a236-4f24-be73-75be961725bf",
   "metadata": {},
   "outputs": [],
   "source": [
    "#Another way to define even_check()\n",
    "\n",
    "def even_check(number):\n",
    "    return number % 2 == 0"
   ]
  },
  {
   "cell_type": "code",
   "execution_count": 58,
   "id": "f405fcbf-2ddb-4f64-87ad-9a762a8e7920",
   "metadata": {},
   "outputs": [],
   "source": [
    "# RETURN TRUE IF ANY NUMBER IS EVEN INSIDE A LIST, OTHERWISE IT WILL NOT RETURN ANYTHING\n",
    "\n",
    "def check_even_list(num_list):\n",
    "\n",
    "    for number in num_list:\n",
    "        if number % 2 == 0:\n",
    "            return True #return is actually in the middle of the function. \n",
    "            #You can think of this return statement as essentially going to break off the entire function. Once you call return, that's it.\n",
    "            #It doesn't always have to go at the end. In fact, you can have multiple returns inside of a function.\n",
    "        else:\n",
    "            pass #pass just means don't do anything"
   ]
  },
  {
   "cell_type": "code",
   "execution_count": 54,
   "id": "83928177-d60a-4b96-a9c0-4a2021b99d81",
   "metadata": {},
   "outputs": [],
   "source": [
    "check_even_list([1,3,5])"
   ]
  },
  {
   "cell_type": "code",
   "execution_count": 55,
   "id": "d0661cdc-aa14-4243-acb1-5a947ea2bd44",
   "metadata": {},
   "outputs": [
    {
     "data": {
      "text/plain": [
       "True"
      ]
     },
     "execution_count": 55,
     "metadata": {},
     "output_type": "execute_result"
    }
   ],
   "source": [
    "check_even_list([2,4,5])"
   ]
  },
  {
   "cell_type": "code",
   "execution_count": 56,
   "id": "1fffc5ce-52ad-4855-9383-62b4db063073",
   "metadata": {},
   "outputs": [
    {
     "data": {
      "text/plain": [
       "True"
      ]
     },
     "execution_count": 56,
     "metadata": {},
     "output_type": "execute_result"
    }
   ],
   "source": [
    "check_even_list([2,1,1,1])"
   ]
  },
  {
   "cell_type": "code",
   "execution_count": 57,
   "id": "58e8e00c-4c06-4e70-a72b-d37f04d8d005",
   "metadata": {},
   "outputs": [
    {
     "data": {
      "text/plain": [
       "True"
      ]
     },
     "execution_count": 57,
     "metadata": {},
     "output_type": "execute_result"
    }
   ],
   "source": [
    "check_even_list([1,1,1,2])"
   ]
  },
  {
   "cell_type": "code",
   "execution_count": 59,
   "id": "4e0a3bc9-7f0b-41a7-8e86-f2978a5022c7",
   "metadata": {},
   "outputs": [],
   "source": [
    "# IF WE TRY ADDING FALSE IF NO NUMBERS ARE EVEN IN LIST\n",
    "\n",
    "#BEGINNER/ROOKIE MISTAKE CODE:\n",
    "def check_even_list(num_list):\n",
    "    for number in num_list:\n",
    "        if number % 2 == 0:\n",
    "            return True\n",
    "        else:\n",
    "            return False # WRONG!!!!!!!!! BECAUSE IF THE FIRST ELEMENT IN OUR LIST IS ODD BUT WE HAVE EVEN NUMBERS IN OUR LIST THEN\n",
    "                         # OUR FUNCTION WILL RETURN FALSE EVEN THOUGH IT SHOULD RETURN TRUE!\n",
    "            # BEGGINNERS MAKE THE MISTAKE THAT ALL THE RETURN STATEMENTS SHOULD HAVE THE SAME LEVEL OF INDENTATION, WHICH IS NOT TRUE!!!\n",
    "            #"
   ]
  },
  {
   "cell_type": "code",
   "execution_count": 60,
   "id": "3915c5a8-bcb0-47da-954c-aba9e9268a61",
   "metadata": {},
   "outputs": [
    {
     "data": {
      "text/plain": [
       "False"
      ]
     },
     "execution_count": 60,
     "metadata": {},
     "output_type": "execute_result"
    }
   ],
   "source": [
    "check_even_list([1,3,5])"
   ]
  },
  {
   "cell_type": "code",
   "execution_count": 62,
   "id": "60680959-0464-429e-b32b-b67135dda135",
   "metadata": {},
   "outputs": [
    {
     "data": {
      "text/plain": [
       "False"
      ]
     },
     "execution_count": 62,
     "metadata": {},
     "output_type": "execute_result"
    }
   ],
   "source": [
    "#THIS IS AN EXAMPLE WHERE OUR FUNCTION FAILS. IT SHOULD RETURN TRUE!\n",
    "check_even_list([1,2,5])"
   ]
  },
  {
   "cell_type": "code",
   "execution_count": 66,
   "id": "98b754d7-5527-4d16-8889-cbc6a541f0f1",
   "metadata": {},
   "outputs": [],
   "source": [
    "#CORRECT CODE\n",
    "#WHAT THIS IS SAYING IS THAT IF WE COMPLETED AND WE NEVER BROKE OUT OF THE FUNCTION WITH OUR RETURN STATEMENT, THEN RETURN FALSE\n",
    "#WE WANT TO LOOP THROUGH ALL THE NUMBERS FIRST AND WE CAN SUE THESE PASS STATEMENTS AS PLACEHOLDERS TO ESSENTIALLY SAY, DON'T DO ANYTHING\n",
    "#AND THEN IF WE DO NOT BREAK OUT OF OUR FUNCTION, THEN WE CAN SAFELY SAY WE HAVE NO EVEN NUMBERS IN OUR LIST AND RETURN FALSE.\n",
    "\n",
    "def check_even_list(num_list):\n",
    "    for number in num_list:\n",
    "        if number % 2 == 0:\n",
    "            return True\n",
    "        else:\n",
    "            pass\n",
    "    return False"
   ]
  },
  {
   "cell_type": "code",
   "execution_count": 67,
   "id": "075d2017-74e5-41a3-b400-5a88c95c409a",
   "metadata": {},
   "outputs": [
    {
     "data": {
      "text/plain": [
       "False"
      ]
     },
     "execution_count": 67,
     "metadata": {},
     "output_type": "execute_result"
    }
   ],
   "source": [
    "check_even_list([1,3,5])"
   ]
  },
  {
   "cell_type": "code",
   "execution_count": 68,
   "id": "3d12a3f9-0c27-4e03-baec-08a7b1d19719",
   "metadata": {},
   "outputs": [
    {
     "data": {
      "text/plain": [
       "True"
      ]
     },
     "execution_count": 68,
     "metadata": {},
     "output_type": "execute_result"
    }
   ],
   "source": [
    "check_even_list([1,2,5])"
   ]
  },
  {
   "cell_type": "code",
   "execution_count": 69,
   "id": "00908859-d2ef-4ccc-99b8-7daf0db540ee",
   "metadata": {},
   "outputs": [],
   "source": [
    "# RETURN ALL THE EVEN NUMBERS IN A LIST. RETURN AN EMPTY LIST IF NONE ARE EVEN\n",
    "\n",
    "def return_even_list(num_list):\n",
    "    #placeholder variables for list of even numbers\n",
    "    even_numbers = []\n",
    "\n",
    "    for number in num_list:\n",
    "        if number % 2 == 0:\n",
    "            even_numbers.append(number)\n",
    "        else:\n",
    "            pass\n",
    "    return even_numbers"
   ]
  },
  {
   "cell_type": "code",
   "execution_count": 70,
   "id": "16af9b84-4dc0-499e-bb7e-41c09a753a20",
   "metadata": {},
   "outputs": [
    {
     "data": {
      "text/plain": [
       "[2, 4, 6, 8, 10]"
      ]
     },
     "execution_count": 70,
     "metadata": {},
     "output_type": "execute_result"
    }
   ],
   "source": [
    "return_even_list([1,2,3,4,5,6,7,8,9,10])"
   ]
  },
  {
   "cell_type": "code",
   "execution_count": 71,
   "id": "00bb8941-e4ec-4f23-b080-99450ed436d7",
   "metadata": {},
   "outputs": [
    {
     "data": {
      "text/plain": [
       "[]"
      ]
     },
     "execution_count": 71,
     "metadata": {},
     "output_type": "execute_result"
    }
   ],
   "source": [
    "return_even_list([1,3,5])"
   ]
  },
  {
   "cell_type": "code",
   "execution_count": 72,
   "id": "1bc38994-0c1b-4db2-9fc9-c91ceeedb19a",
   "metadata": {},
   "outputs": [],
   "source": [
    "#TUPLE UNPACKING WIHT PYTHON FUNCTIONS"
   ]
  },
  {
   "cell_type": "code",
   "execution_count": 73,
   "id": "949f2e2f-87e0-4b12-a102-b47d3d8a0c0f",
   "metadata": {},
   "outputs": [],
   "source": [
    "stock_prices = [('APPL', 200), ('GOOG', 400), ('MSFT', 100)]"
   ]
  },
  {
   "cell_type": "code",
   "execution_count": 74,
   "id": "094d3848-d13c-43c0-93c0-e9ae9ce7e55b",
   "metadata": {},
   "outputs": [
    {
     "name": "stdout",
     "output_type": "stream",
     "text": [
      "('APPL', 200)\n",
      "('GOOG', 400)\n",
      "('MSFT', 100)\n"
     ]
    }
   ],
   "source": [
    "for item in stock_prices:\n",
    "    print(item)"
   ]
  },
  {
   "cell_type": "code",
   "execution_count": 75,
   "id": "fc3ac6f7-96fb-4bcd-b14f-f59cd4c1862b",
   "metadata": {},
   "outputs": [
    {
     "name": "stdout",
     "output_type": "stream",
     "text": [
      "APPL\n",
      "GOOG\n",
      "MSFT\n"
     ]
    }
   ],
   "source": [
    "for ticker,price in stock_prices:\n",
    "    print(ticker)"
   ]
  },
  {
   "cell_type": "code",
   "execution_count": 76,
   "id": "3c2d6b4b-1419-4c56-a8e5-c8b2ca3902f9",
   "metadata": {},
   "outputs": [
    {
     "name": "stdout",
     "output_type": "stream",
     "text": [
      "220.0\n",
      "440.0\n",
      "110.0\n"
     ]
    }
   ],
   "source": [
    "for ticker,price in stock_prices:\n",
    "    print(price + (.1*price))"
   ]
  },
  {
   "cell_type": "code",
   "execution_count": 77,
   "id": "f89a9fa9-36e1-4cec-a479-bf7ed98f5b2c",
   "metadata": {},
   "outputs": [],
   "source": [
    "work_hours = [('Abby', 100), ('Billy', 400), ('Cassie', 800)]"
   ]
  },
  {
   "cell_type": "code",
   "execution_count": 78,
   "id": "c469bdc2-e54a-4a13-a9d3-82a71d7b9798",
   "metadata": {},
   "outputs": [],
   "source": [
    "def employee_check(work_hours):\n",
    "\n",
    "    current_max = 0\n",
    "    employee_of_month = ''\n",
    "\n",
    "    for employee,hours in work_hours:\n",
    "        if hours > current_max:\n",
    "            current_max = hours\n",
    "            employee_of_month = employee\n",
    "        else:\n",
    "            pass\n",
    "    return (employee_of_month, current_max)"
   ]
  },
  {
   "cell_type": "code",
   "execution_count": 79,
   "id": "b48b2e0a-28b9-4f17-80cc-02b25e831225",
   "metadata": {},
   "outputs": [
    {
     "data": {
      "text/plain": [
       "('Cassie', 800)"
      ]
     },
     "execution_count": 79,
     "metadata": {},
     "output_type": "execute_result"
    }
   ],
   "source": [
    "employee_check(work_hours)"
   ]
  },
  {
   "cell_type": "code",
   "execution_count": 80,
   "id": "dfcf251b-6f89-4d35-b935-cdfd9ee3d68a",
   "metadata": {},
   "outputs": [],
   "source": [
    "result_ec = employee_check(work_hours)"
   ]
  },
  {
   "cell_type": "code",
   "execution_count": 81,
   "id": "7a8f62f0-2c3f-4e9e-ade0-a7194d4323eb",
   "metadata": {},
   "outputs": [
    {
     "data": {
      "text/plain": [
       "('Cassie', 800)"
      ]
     },
     "execution_count": 81,
     "metadata": {},
     "output_type": "execute_result"
    }
   ],
   "source": [
    "result_ec"
   ]
  },
  {
   "cell_type": "code",
   "execution_count": 82,
   "id": "592606eb-1618-4220-9776-54a750c79a8f",
   "metadata": {},
   "outputs": [],
   "source": [
    "name,hours = employee_check(work_hours)"
   ]
  },
  {
   "cell_type": "code",
   "execution_count": 83,
   "id": "04cedef2-4987-4823-8dcf-41bbd452c42b",
   "metadata": {},
   "outputs": [
    {
     "data": {
      "text/plain": [
       "'Cassie'"
      ]
     },
     "execution_count": 83,
     "metadata": {},
     "output_type": "execute_result"
    }
   ],
   "source": [
    "name"
   ]
  },
  {
   "cell_type": "code",
   "execution_count": 84,
   "id": "9b427755-7b7c-4599-ae2f-cc1eff8ce9d8",
   "metadata": {},
   "outputs": [
    {
     "data": {
      "text/plain": [
       "800"
      ]
     },
     "execution_count": 84,
     "metadata": {},
     "output_type": "execute_result"
    }
   ],
   "source": [
    "hours"
   ]
  },
  {
   "cell_type": "code",
   "execution_count": 85,
   "id": "48a98d04-031a-4335-a375-70b65c6223e3",
   "metadata": {},
   "outputs": [
    {
     "ename": "ValueError",
     "evalue": "not enough values to unpack (expected 3, got 2)",
     "output_type": "error",
     "traceback": [
      "\u001b[0;31m---------------------------------------------------------------------------\u001b[0m",
      "\u001b[0;31mValueError\u001b[0m                                Traceback (most recent call last)",
      "Cell \u001b[0;32mIn[85], line 1\u001b[0m\n\u001b[0;32m----> 1\u001b[0m name,hours,location \u001b[38;5;241m=\u001b[39m employee_check(work_hours)\n",
      "\u001b[0;31mValueError\u001b[0m: not enough values to unpack (expected 3, got 2)"
     ]
    }
   ],
   "source": [
    "name,hours,location = employee_check(work_hours)"
   ]
  },
  {
   "cell_type": "code",
   "execution_count": 86,
   "id": "52c07e7b-86c2-480d-9b81-1c7f984141bc",
   "metadata": {},
   "outputs": [],
   "source": [
    "item = employee_check(work_hours)"
   ]
  },
  {
   "cell_type": "code",
   "execution_count": 87,
   "id": "444c6482-3785-4369-b522-b3c6967b92b5",
   "metadata": {},
   "outputs": [
    {
     "data": {
      "text/plain": [
       "('Cassie', 800)"
      ]
     },
     "execution_count": 87,
     "metadata": {},
     "output_type": "execute_result"
    }
   ],
   "source": [
    "item"
   ]
  },
  {
   "cell_type": "code",
   "execution_count": 88,
   "id": "2d9421c1-f9ef-4bb4-8146-2a0938fe2f17",
   "metadata": {},
   "outputs": [],
   "source": [
    "#Guessing Game: \"Three Cup Monte\""
   ]
  },
  {
   "cell_type": "code",
   "execution_count": 89,
   "id": "6dc83532-540f-4b30-af3f-3d6740b77283",
   "metadata": {},
   "outputs": [],
   "source": [
    "from random import shuffle"
   ]
  },
  {
   "cell_type": "code",
   "execution_count": 90,
   "id": "bfb013d3-538e-4791-9b3e-9e1b23e763b4",
   "metadata": {},
   "outputs": [],
   "source": [
    "example = [1,2,3,4,5,6,7]"
   ]
  },
  {
   "cell_type": "code",
   "execution_count": 93,
   "id": "48edccb4-ad4c-4bab-9a8a-b64533b1c02f",
   "metadata": {},
   "outputs": [],
   "source": [
    "shuffle(example) #shuffle is an inplace function, it doesn't actually return anything, so if we want to set a variable equal to\n",
    "#the shuffled list, we would have to create a function to do this."
   ]
  },
  {
   "cell_type": "code",
   "execution_count": 92,
   "id": "b2d21ff2-4b41-4588-91ed-836f059a0756",
   "metadata": {},
   "outputs": [
    {
     "data": {
      "text/plain": [
       "[1, 2, 7, 5, 4, 6, 3]"
      ]
     },
     "execution_count": 92,
     "metadata": {},
     "output_type": "execute_result"
    }
   ],
   "source": [
    "example"
   ]
  },
  {
   "cell_type": "code",
   "execution_count": 94,
   "id": "1ef997a6-b8c8-4067-a1fc-2262d99a361f",
   "metadata": {},
   "outputs": [],
   "source": [
    "def shuffle_list(mylist):\n",
    "    shuffle(mylist)\n",
    "    return mylist"
   ]
  },
  {
   "cell_type": "code",
   "execution_count": 95,
   "id": "ed5ca767-8d2b-45cc-bda4-349fb870b115",
   "metadata": {},
   "outputs": [],
   "source": [
    "resultshuffle = shuffle_list(example)"
   ]
  },
  {
   "cell_type": "code",
   "execution_count": 96,
   "id": "0017b4db-4b64-4586-88d5-e4c9d3b1b222",
   "metadata": {},
   "outputs": [
    {
     "data": {
      "text/plain": [
       "[3, 7, 2, 6, 4, 5, 1]"
      ]
     },
     "execution_count": 96,
     "metadata": {},
     "output_type": "execute_result"
    }
   ],
   "source": [
    "resultshuffle"
   ]
  },
  {
   "cell_type": "code",
   "execution_count": 97,
   "id": "390a7963-1414-483b-849e-9d94588089be",
   "metadata": {},
   "outputs": [],
   "source": [
    "mygamelist = [' ', 'O', ' ']"
   ]
  },
  {
   "cell_type": "code",
   "execution_count": 99,
   "id": "8d2115ff-62ff-4f8a-aed3-862bf4d7968e",
   "metadata": {},
   "outputs": [
    {
     "data": {
      "text/plain": [
       "['O', ' ', ' ']"
      ]
     },
     "execution_count": 99,
     "metadata": {},
     "output_type": "execute_result"
    }
   ],
   "source": [
    "shuffle_list(mygamelist)"
   ]
  },
  {
   "cell_type": "code",
   "execution_count": 102,
   "id": "1d0992b2-20d9-4ef3-8719-15a4942e1dad",
   "metadata": {},
   "outputs": [],
   "source": [
    "def player_guess():\n",
    "    guess = ''\n",
    "    while guess not in ['0', '1', '2']:\n",
    "        guess = input(\"Pick a number: 0, 1, or 2\")\n",
    "\n",
    "    return int(guess) # we must convert to int because input function returns a string. We also need it as an integer to \n",
    "#directly index off of our game list."
   ]
  },
  {
   "cell_type": "code",
   "execution_count": 103,
   "id": "136c485a-e6c6-4d33-97be-4596b9f15f12",
   "metadata": {},
   "outputs": [
    {
     "name": "stdin",
     "output_type": "stream",
     "text": [
      "Pick a number: 0, 1, or 2 1\n"
     ]
    },
    {
     "data": {
      "text/plain": [
       "1"
      ]
     },
     "execution_count": 103,
     "metadata": {},
     "output_type": "execute_result"
    }
   ],
   "source": [
    "player_guess()"
   ]
  },
  {
   "cell_type": "code",
   "execution_count": 104,
   "id": "558104c5-9322-41e4-bdc9-e108f3f86a1b",
   "metadata": {},
   "outputs": [
    {
     "name": "stdin",
     "output_type": "stream",
     "text": [
      "Pick a number: 0, 1, or 2 1\n"
     ]
    }
   ],
   "source": [
    "myindex = player_guess()"
   ]
  },
  {
   "cell_type": "code",
   "execution_count": 105,
   "id": "360bfd94-7ca4-47c8-a22c-9850c97d9e4d",
   "metadata": {},
   "outputs": [
    {
     "data": {
      "text/plain": [
       "1"
      ]
     },
     "execution_count": 105,
     "metadata": {},
     "output_type": "execute_result"
    }
   ],
   "source": [
    "myindex"
   ]
  },
  {
   "cell_type": "code",
   "execution_count": 110,
   "id": "d93c9b7c-6fa1-4f2a-b951-bc0bf280b862",
   "metadata": {},
   "outputs": [],
   "source": [
    "#Our last function will combine our shuffle_list(mylist) function with our player_guess() function and will\n",
    "#check to see if our guess is the correct guess and correct index for 'O' in our mygamelist.\n",
    "#We are not actually returning anything. We are just showing whether we are correct or wrong in our guess and our final shuffled list.\n",
    "\n",
    "def check_guess(mylist, guess):\n",
    "    if mylist[guess] == 'O':\n",
    "        print('Correct!')\n",
    "    else:\n",
    "        print(\"Wrong guess!\")\n",
    "        print(mylist)"
   ]
  },
  {
   "cell_type": "code",
   "execution_count": 111,
   "id": "5613d837-b750-4175-bafe-e4c1d11ffd36",
   "metadata": {},
   "outputs": [
    {
     "name": "stdin",
     "output_type": "stream",
     "text": [
      "Pick a number: 0, 1, or 2 1\n"
     ]
    },
    {
     "name": "stdout",
     "output_type": "stream",
     "text": [
      "Wrong guess!\n",
      "['O', ' ', ' ']\n"
     ]
    }
   ],
   "source": [
    "#OUR LAST SCRIPT WILL CALL ALL FUNCTIONS IN ORDER AND WILL RETURN WHETHER WE ARE CORRECT IN OUR GUESS.\n",
    "\n",
    "#INITIAL LIST\n",
    "mygamelist = [' ', 'O', ' ']\n",
    "\n",
    "#SHUFFLE LIST\n",
    "mixedup_list = shuffle_list(mygamelist)\n",
    "\n",
    "#USER GUESS\n",
    "guess = player_guess()\n",
    "\n",
    "#CHECK\n",
    "check_guess(mixedup_list, guess)"
   ]
  },
  {
   "cell_type": "code",
   "execution_count": 112,
   "id": "0646336d-4fa5-40b9-a2c7-f87f5f1cfc33",
   "metadata": {},
   "outputs": [],
   "source": [
    "# *args and **kwargs"
   ]
  },
  {
   "cell_type": "code",
   "execution_count": 114,
   "id": "01f3465e-a45e-4b3b-8ba2-d239a803cc2d",
   "metadata": {},
   "outputs": [
    {
     "data": {
      "text/plain": [
       "5.0"
      ]
     },
     "execution_count": 114,
     "metadata": {},
     "output_type": "execute_result"
    }
   ],
   "source": [
    "def myfunc(a,b):\n",
    "    return sum((a,b))*.05\n",
    "\n",
    "myfunc(40,60)"
   ]
  },
  {
   "cell_type": "code",
   "execution_count": 115,
   "id": "6b958143-6bcd-447f-9be1-3d1275ef18d8",
   "metadata": {},
   "outputs": [
    {
     "data": {
      "text/plain": [
       "3.0"
      ]
     },
     "execution_count": 115,
     "metadata": {},
     "output_type": "execute_result"
    }
   ],
   "source": [
    "#METHOD 1 OF ADDING MORE ARGUMENTS\n",
    "def myfunc(a,b,c=0,d=0,e=0):\n",
    "    return sum((a,b,c,d,e))*.05\n",
    "\n",
    "myfunc(10,20,30)"
   ]
  },
  {
   "cell_type": "code",
   "execution_count": 116,
   "id": "2a72c8b9-1129-47c8-8501-533e24f2c8da",
   "metadata": {},
   "outputs": [
    {
     "ename": "TypeError",
     "evalue": "myfunc() takes from 2 to 5 positional arguments but 8 were given",
     "output_type": "error",
     "traceback": [
      "\u001b[0;31m---------------------------------------------------------------------------\u001b[0m",
      "\u001b[0;31mTypeError\u001b[0m                                 Traceback (most recent call last)",
      "Cell \u001b[0;32mIn[116], line 5\u001b[0m\n\u001b[1;32m      2\u001b[0m \u001b[38;5;28;01mdef\u001b[39;00m \u001b[38;5;21mmyfunc\u001b[39m(a,b,c\u001b[38;5;241m=\u001b[39m\u001b[38;5;241m0\u001b[39m,d\u001b[38;5;241m=\u001b[39m\u001b[38;5;241m0\u001b[39m,e\u001b[38;5;241m=\u001b[39m\u001b[38;5;241m0\u001b[39m):\n\u001b[1;32m      3\u001b[0m     \u001b[38;5;28;01mreturn\u001b[39;00m \u001b[38;5;28msum\u001b[39m((a,b,c,d,e))\u001b[38;5;241m*\u001b[39m\u001b[38;5;241m.05\u001b[39m\n\u001b[0;32m----> 5\u001b[0m \u001b[43mmyfunc\u001b[49m\u001b[43m(\u001b[49m\u001b[38;5;241;43m10\u001b[39;49m\u001b[43m,\u001b[49m\u001b[38;5;241;43m20\u001b[39;49m\u001b[43m,\u001b[49m\u001b[38;5;241;43m30\u001b[39;49m\u001b[43m,\u001b[49m\u001b[38;5;241;43m10\u001b[39;49m\u001b[43m,\u001b[49m\u001b[38;5;241;43m10\u001b[39;49m\u001b[43m,\u001b[49m\u001b[38;5;241;43m100\u001b[39;49m\u001b[43m,\u001b[49m\u001b[38;5;241;43m100\u001b[39;49m\u001b[43m,\u001b[49m\u001b[38;5;241;43m100\u001b[39;49m\u001b[43m)\u001b[49m\n",
      "\u001b[0;31mTypeError\u001b[0m: myfunc() takes from 2 to 5 positional arguments but 8 were given"
     ]
    }
   ],
   "source": [
    "#METHOD 1 OF ADDING MORE ARGUMENTS\n",
    "def myfunc(a,b,c=0,d=0,e=0):\n",
    "    return sum((a,b,c,d,e))*.05\n",
    "\n",
    "myfunc(10,20,30,10,10,100,100,100)"
   ]
  },
  {
   "cell_type": "code",
   "execution_count": 119,
   "id": "5e3fa1eb-126c-447d-8f8c-94459e57f29f",
   "metadata": {},
   "outputs": [
    {
     "data": {
      "text/plain": [
       "22.0"
      ]
     },
     "execution_count": 119,
     "metadata": {},
     "output_type": "execute_result"
    }
   ],
   "source": [
    "#METHOD 2 USING *ARGS IN OUR FUNCTION DEFINITION\n",
    "#*args creates a tuple of values that we pass into our function and can perform iteration, sum, etc.\n",
    "\n",
    "def myfunc(*args):\n",
    "    return sum((args))*.05\n",
    "\n",
    "myfunc(10,10,10,10,100,100,100,100)"
   ]
  },
  {
   "cell_type": "code",
   "execution_count": 120,
   "id": "3a94e99f-3b16-4a75-8fec-5850dafb6a96",
   "metadata": {},
   "outputs": [
    {
     "name": "stdout",
     "output_type": "stream",
     "text": [
      "40\n",
      "60\n",
      "100\n",
      "1\n",
      "34\n"
     ]
    }
   ],
   "source": [
    "def myfunc(*args):\n",
    "    for item in args:\n",
    "        print(item)\n",
    "\n",
    "myfunc(40,60,100,1,34)"
   ]
  },
  {
   "cell_type": "code",
   "execution_count": 121,
   "id": "0e27ebf2-b201-41d6-91dc-57125a89d0d9",
   "metadata": {},
   "outputs": [],
   "source": [
    "#**kwargs STANDS FOR KEYWORDED ARGUMENTS, SIMILAR TO *ARGS BUT THIS TIME WE USE **KWARGS\n",
    "#TO BUILD A DICTIONARY OF KEY:VALUE PAIRS"
   ]
  },
  {
   "cell_type": "code",
   "execution_count": 126,
   "id": "6bff23af-3fdc-4140-b917-ea48baf297ad",
   "metadata": {},
   "outputs": [],
   "source": [
    "def myfunc(**kwargs):\n",
    "    print(kwargs)\n",
    "    if 'fruit' in kwargs:\n",
    "        print(f'My fruit of choice is {kwargs['fruit']}')\n",
    "    else:\n",
    "        print('I did not find any fruit here')"
   ]
  },
  {
   "cell_type": "code",
   "execution_count": 129,
   "id": "6c9a81ca-e5a0-467f-8594-392707e15538",
   "metadata": {},
   "outputs": [
    {
     "name": "stdout",
     "output_type": "stream",
     "text": [
      "{'fruit': 'apple', 'vegetable': 'carrots'}\n",
      "My fruit of choice is apple\n"
     ]
    }
   ],
   "source": [
    "#python is no longer complaining about multiple keyworded arguments because we defined myfunc with **kwargs\n",
    "#which allows us to input as many key:value pairs and passes it as a dictionary to our function. Now we can\n",
    "#call it however way we want and play around with it inside our functions\n",
    "\n",
    "myfunc(fruit='apple',vegetable='carrots')"
   ]
  },
  {
   "cell_type": "code",
   "execution_count": 143,
   "id": "b7648ab2-7ca1-448d-8b24-8734896e708e",
   "metadata": {},
   "outputs": [],
   "source": [
    "#We can combine *args and **kwargs in the same function; *args must come before **kwargs\n",
    "\n",
    "def myfunc(*args, **kwargs):\n",
    "    print(args)\n",
    "    print(kwargs)\n",
    "    print(f'I would like {args[0]} {kwargs['food']}')"
   ]
  },
  {
   "cell_type": "code",
   "execution_count": 144,
   "id": "bafb943a-9ffc-4e72-bdfc-f6545178aee4",
   "metadata": {},
   "outputs": [
    {
     "name": "stdout",
     "output_type": "stream",
     "text": [
      "(10, 20, 30)\n",
      "{'fruit': 'orange', 'food': 'eggs', 'animal': 'dog'}\n",
      "I would like 10 eggs\n"
     ]
    }
   ],
   "source": [
    "myfunc(10,20,30,fruit='orange',food='eggs',animal='dog')"
   ]
  },
  {
   "cell_type": "code",
   "execution_count": 145,
   "id": "fcd4a924-6eaa-4878-a2f4-80aab12f1317",
   "metadata": {},
   "outputs": [
    {
     "ename": "SyntaxError",
     "evalue": "positional argument follows keyword argument (3514436398.py, line 1)",
     "output_type": "error",
     "traceback": [
      "\u001b[0;36m  Cell \u001b[0;32mIn[145], line 1\u001b[0;36m\u001b[0m\n\u001b[0;31m    myfunc(10,20,30,fruit='orange',food='eggs',animal='dog', 100)\u001b[0m\n\u001b[0m                                                                ^\u001b[0m\n\u001b[0;31mSyntaxError\u001b[0m\u001b[0;31m:\u001b[0m positional argument follows keyword argument\n"
     ]
    }
   ],
   "source": [
    "myfunc(10,20,30,fruit='orange',food='eggs',animal='dog', 100)"
   ]
  },
  {
   "cell_type": "code",
   "execution_count": 146,
   "id": "9d560fc9-57c5-4f4a-9f04-8c1f9d5ae3a4",
   "metadata": {},
   "outputs": [
    {
     "ename": "SyntaxError",
     "evalue": "arguments cannot follow var-keyword argument (180552623.py, line 3)",
     "output_type": "error",
     "traceback": [
      "\u001b[0;36m  Cell \u001b[0;32mIn[146], line 3\u001b[0;36m\u001b[0m\n\u001b[0;31m    def myfunc(**kwargs, *args):\u001b[0m\n\u001b[0m                         ^\u001b[0m\n\u001b[0;31mSyntaxError\u001b[0m\u001b[0;31m:\u001b[0m arguments cannot follow var-keyword argument\n"
     ]
    }
   ],
   "source": [
    "#We can combine *args and **kwargs in the same function; *args must come before **kwargs\n",
    "\n",
    "def myfunc(**kwargs, *args):\n",
    "    print(args)\n",
    "    print(kwargs)\n",
    "    print(f'I would like {args[0]} {kwargs['food']}')"
   ]
  },
  {
   "cell_type": "code",
   "execution_count": 136,
   "id": "5d5f2983-bd5c-49ba-a27d-75a29fda9aba",
   "metadata": {},
   "outputs": [],
   "source": [
    "myteststring = 'abc'"
   ]
  },
  {
   "cell_type": "code",
   "execution_count": 137,
   "id": "d2cceda4-95f6-422e-855f-226821ab0b8b",
   "metadata": {},
   "outputs": [
    {
     "data": {
      "text/plain": [
       "0"
      ]
     },
     "execution_count": 137,
     "metadata": {},
     "output_type": "execute_result"
    }
   ],
   "source": [
    "myteststring.index('a')"
   ]
  },
  {
   "cell_type": "code",
   "execution_count": 139,
   "id": "a48eb10b-5e55-4aee-a503-5f4423398dab",
   "metadata": {},
   "outputs": [
    {
     "data": {
      "text/plain": [
       "'A'"
      ]
     },
     "execution_count": 139,
     "metadata": {},
     "output_type": "execute_result"
    }
   ],
   "source": [
    "'a'.upper()"
   ]
  },
  {
   "cell_type": "code",
   "execution_count": 140,
   "id": "3b7e54d5-be78-4a81-9211-d5782d3dfa65",
   "metadata": {},
   "outputs": [
    {
     "data": {
      "text/plain": [
       "'a'"
      ]
     },
     "execution_count": 140,
     "metadata": {},
     "output_type": "execute_result"
    }
   ],
   "source": [
    "'A'.lower()"
   ]
  },
  {
   "cell_type": "code",
   "execution_count": 141,
   "id": "1ffce644-31f5-4205-b1f5-9b3979036bf7",
   "metadata": {},
   "outputs": [
    {
     "data": {
      "text/plain": [
       "'abc'"
      ]
     },
     "execution_count": 141,
     "metadata": {},
     "output_type": "execute_result"
    }
   ],
   "source": [
    "myteststring.join('a')\n",
    "myteststring"
   ]
  },
  {
   "cell_type": "code",
   "execution_count": 190,
   "id": "2ada3d5a-775c-4ad1-b58c-f2025c377635",
   "metadata": {},
   "outputs": [],
   "source": [
    "def myfunc1(mystring):\n",
    "    \n",
    "    updated_string = ''\n",
    "    \n",
    "    for index,letter in enumerate(mystring):\n",
    "        if (index + 1) % 2 == 0:\n",
    "            updated_string += letter.upper()\n",
    "        else:\n",
    "            updated_string += letter.lower()\n",
    "            \n",
    "    return updated_string"
   ]
  },
  {
   "cell_type": "code",
   "execution_count": 191,
   "id": "61756be2-577b-4c38-b9bf-0028547651d6",
   "metadata": {},
   "outputs": [
    {
     "data": {
      "text/plain": [
       "'aNtHrOpOmOrPhIsM'"
      ]
     },
     "execution_count": 191,
     "metadata": {},
     "output_type": "execute_result"
    }
   ],
   "source": [
    "myfunc1('Anthropomorphism')"
   ]
  },
  {
   "cell_type": "code",
   "execution_count": 192,
   "id": "7f591960-ed94-456f-a763-fdbb7dad7cf8",
   "metadata": {},
   "outputs": [],
   "source": [
    "def square(num):\n",
    "    return num**2"
   ]
  },
  {
   "cell_type": "code",
   "execution_count": 194,
   "id": "46ca41cf-63bc-4df5-b61d-f4477317f69c",
   "metadata": {},
   "outputs": [],
   "source": [
    "my_nums = [1,2,3,4,5]"
   ]
  },
  {
   "cell_type": "code",
   "execution_count": 195,
   "id": "e7473d04-4503-4711-a1f6-610078266d58",
   "metadata": {},
   "outputs": [
    {
     "data": {
      "text/plain": [
       "<map at 0x10f89ba30>"
      ]
     },
     "execution_count": 195,
     "metadata": {},
     "output_type": "execute_result"
    }
   ],
   "source": [
    "map(square, my_nums)"
   ]
  },
  {
   "cell_type": "code",
   "execution_count": 196,
   "id": "0722596d-a1ff-498a-b244-d426421aace0",
   "metadata": {},
   "outputs": [
    {
     "name": "stdout",
     "output_type": "stream",
     "text": [
      "1\n",
      "4\n",
      "9\n",
      "16\n",
      "25\n"
     ]
    }
   ],
   "source": [
    "for item in map(square, my_nums):\n",
    "    print(item)"
   ]
  },
  {
   "cell_type": "code",
   "execution_count": 197,
   "id": "bea90668-9113-4892-8a7c-a3f1760b1008",
   "metadata": {},
   "outputs": [
    {
     "data": {
      "text/plain": [
       "[1, 4, 9, 16, 25]"
      ]
     },
     "execution_count": 197,
     "metadata": {},
     "output_type": "execute_result"
    }
   ],
   "source": [
    "list(map(square, my_nums))"
   ]
  },
  {
   "cell_type": "code",
   "execution_count": 198,
   "id": "97ae1f7c-8026-442c-98c3-f7207ff5e6ab",
   "metadata": {},
   "outputs": [],
   "source": [
    "def splicer(mystring):\n",
    "    if len(mystring) % 2 ==0:\n",
    "        return 'EVEN'\n",
    "    else:\n",
    "        return mystring[0]"
   ]
  },
  {
   "cell_type": "code",
   "execution_count": 199,
   "id": "b567482a-343f-4a36-b9c5-29c708147c26",
   "metadata": {},
   "outputs": [],
   "source": [
    "names = ['Andy', 'Eve', 'Sally']"
   ]
  },
  {
   "cell_type": "code",
   "execution_count": 200,
   "id": "cf71021e-63c5-461f-be29-4343d9f9ce50",
   "metadata": {},
   "outputs": [
    {
     "data": {
      "text/plain": [
       "['EVEN', 'E', 'S']"
      ]
     },
     "execution_count": 200,
     "metadata": {},
     "output_type": "execute_result"
    }
   ],
   "source": [
    "list(map(splicer, names))"
   ]
  },
  {
   "cell_type": "code",
   "execution_count": 203,
   "id": "c818744e-fe26-438c-b178-84257f0ca772",
   "metadata": {},
   "outputs": [
    {
     "ename": "TypeError",
     "evalue": "splicer() missing 1 required positional argument: 'mystring'",
     "output_type": "error",
     "traceback": [
      "\u001b[0;31m---------------------------------------------------------------------------\u001b[0m",
      "\u001b[0;31mTypeError\u001b[0m                                 Traceback (most recent call last)",
      "Cell \u001b[0;32mIn[203], line 1\u001b[0m\n\u001b[0;32m----> 1\u001b[0m \u001b[38;5;28mlist\u001b[39m(\u001b[38;5;28mmap\u001b[39m(\u001b[43msplicer\u001b[49m\u001b[43m(\u001b[49m\u001b[43m)\u001b[49m, names))\n",
      "\u001b[0;31mTypeError\u001b[0m: splicer() missing 1 required positional argument: 'mystring'"
     ]
    }
   ],
   "source": [
    "list(map(splicer(), names))"
   ]
  },
  {
   "cell_type": "code",
   "execution_count": 204,
   "id": "a9393e95-c67f-4a8f-a4b3-294f35d086bd",
   "metadata": {},
   "outputs": [],
   "source": [
    "def check_even(num):\n",
    "    return num % 2 == 0"
   ]
  },
  {
   "cell_type": "code",
   "execution_count": 205,
   "id": "feec8340-26ca-46c7-8993-ee17167a5a66",
   "metadata": {},
   "outputs": [],
   "source": [
    "mynums = [1,2,3,4,5,6,7,8,9,10]"
   ]
  },
  {
   "cell_type": "code",
   "execution_count": 206,
   "id": "dda43e3c-c732-425d-825b-99b7a12a6776",
   "metadata": {},
   "outputs": [
    {
     "data": {
      "text/plain": [
       "<filter at 0x10f7853f0>"
      ]
     },
     "execution_count": 206,
     "metadata": {},
     "output_type": "execute_result"
    }
   ],
   "source": [
    "filter(check_even, mynums)"
   ]
  },
  {
   "cell_type": "code",
   "execution_count": 207,
   "id": "151b456e-244d-477f-9cc8-b5bee24d7f3b",
   "metadata": {},
   "outputs": [
    {
     "data": {
      "text/plain": [
       "[2, 4, 6, 8, 10]"
      ]
     },
     "execution_count": 207,
     "metadata": {},
     "output_type": "execute_result"
    }
   ],
   "source": [
    "list(filter(check_even, mynums))"
   ]
  },
  {
   "cell_type": "code",
   "execution_count": 210,
   "id": "d87df979-cd31-4008-a0f1-986dd07d7240",
   "metadata": {},
   "outputs": [
    {
     "data": {
      "text/plain": [
       "[1, 4, 9, 16, 25, 36, 49, 64, 81, 100]"
      ]
     },
     "execution_count": 210,
     "metadata": {},
     "output_type": "execute_result"
    }
   ],
   "source": [
    "list(map(lambda num:num**2, mynums))"
   ]
  },
  {
   "cell_type": "code",
   "execution_count": 212,
   "id": "93a4a549-2cb8-4112-af66-4220bb9c8b6c",
   "metadata": {},
   "outputs": [
    {
     "data": {
      "text/plain": [
       "[2, 4, 6, 8, 10]"
      ]
     },
     "execution_count": 212,
     "metadata": {},
     "output_type": "execute_result"
    }
   ],
   "source": [
    "list(filter(lambda num:num % 2 == 0, mynums))"
   ]
  },
  {
   "cell_type": "code",
   "execution_count": 213,
   "id": "4662ea8a-cbec-45ab-8174-4b7149f68ab1",
   "metadata": {},
   "outputs": [
    {
     "data": {
      "text/plain": [
       "['Andy', 'Eve', 'Sally']"
      ]
     },
     "execution_count": 213,
     "metadata": {},
     "output_type": "execute_result"
    }
   ],
   "source": [
    "names"
   ]
  },
  {
   "cell_type": "code",
   "execution_count": 214,
   "id": "99429726-e09a-4325-ba02-11c792efb619",
   "metadata": {},
   "outputs": [
    {
     "data": {
      "text/plain": [
       "['A', 'E', 'S']"
      ]
     },
     "execution_count": 214,
     "metadata": {},
     "output_type": "execute_result"
    }
   ],
   "source": [
    "list(map(lambda name:name[0], names))"
   ]
  },
  {
   "cell_type": "code",
   "execution_count": 215,
   "id": "bdebbc42-71cc-408d-8648-5bef5bc6d18a",
   "metadata": {},
   "outputs": [
    {
     "data": {
      "text/plain": [
       "['ydnA', 'evE', 'yllaS']"
      ]
     },
     "execution_count": 215,
     "metadata": {},
     "output_type": "execute_result"
    }
   ],
   "source": [
    "list(map(lambda name:name[::-1], names))"
   ]
  },
  {
   "cell_type": "code",
   "execution_count": 219,
   "id": "40aa20a2-cf73-4e45-a073-051bddc94a64",
   "metadata": {},
   "outputs": [],
   "source": [
    "#NESTED STATEMENTS AND SCOPE"
   ]
  },
  {
   "cell_type": "code",
   "execution_count": 218,
   "id": "15b3e81b-b439-4b9f-9bec-e014679a89c4",
   "metadata": {},
   "outputs": [],
   "source": [
    "x = 25\n",
    "\n",
    "def printer():\n",
    "    x = 50\n",
    "    return x"
   ]
  },
  {
   "cell_type": "code",
   "execution_count": 217,
   "id": "a84f0178-d8ba-4210-b3ef-c5b0bfe494f4",
   "metadata": {},
   "outputs": [
    {
     "name": "stdout",
     "output_type": "stream",
     "text": [
      "25\n"
     ]
    }
   ],
   "source": [
    "print(x)"
   ]
  },
  {
   "cell_type": "code",
   "execution_count": 220,
   "id": "4cdbd9f2-bbf3-46f6-9627-e502a4baa667",
   "metadata": {},
   "outputs": [
    {
     "name": "stdout",
     "output_type": "stream",
     "text": [
      "50\n"
     ]
    }
   ],
   "source": [
    "print(printer())"
   ]
  },
  {
   "cell_type": "code",
   "execution_count": 221,
   "id": "ab8bc59a-4b0f-4f14-bec7-f4c28ad3468e",
   "metadata": {},
   "outputs": [],
   "source": [
    "#Local\n",
    "\n",
    "# x is local here:\n",
    "f = lambda x:x**2"
   ]
  },
  {
   "cell_type": "code",
   "execution_count": 222,
   "id": "f5034337-549a-4af3-81a7-166e7139fbf6",
   "metadata": {},
   "outputs": [
    {
     "name": "stdout",
     "output_type": "stream",
     "text": [
      "Hello Sam\n"
     ]
    }
   ],
   "source": [
    "#Global\n",
    "name = 'This is a global name'\n",
    "\n",
    "def greet():\n",
    "    # Enclosing function\n",
    "    name = 'Sammy'\n",
    "    \n",
    "    def hello():\n",
    "        #Local\n",
    "        name = 'Sam'\n",
    "        print('Hello '+name)\n",
    "    \n",
    "    hello()\n",
    "\n",
    "greet()"
   ]
  },
  {
   "cell_type": "code",
   "execution_count": 223,
   "id": "24490425-2a5c-46af-8986-299fa99b7868",
   "metadata": {},
   "outputs": [
    {
     "name": "stdout",
     "output_type": "stream",
     "text": [
      "x is 50\n",
      "Changed local x to 2\n",
      "x is still 50\n"
     ]
    }
   ],
   "source": [
    "x = 50\n",
    "\n",
    "def func(x):\n",
    "    print('x is', x)\n",
    "    x = 2\n",
    "    print('Changed local x to', x)\n",
    "\n",
    "func(x)\n",
    "print('x is still', x)"
   ]
  },
  {
   "cell_type": "code",
   "execution_count": 226,
   "id": "505431d7-2d5e-4bf6-8067-50c6582059f2",
   "metadata": {},
   "outputs": [
    {
     "name": "stdout",
     "output_type": "stream",
     "text": [
      "Before calling func(), x is:  50\n",
      "This function is now using the global x!\n",
      "Because of global x is:  50\n",
      "Ran func(), changed global x to 2\n",
      "Value of x (outside of func()) is:  2\n"
     ]
    }
   ],
   "source": [
    "#Global x\n",
    "x = 50\n",
    "\n",
    "def func():\n",
    "    global x\n",
    "    print('This function is now using the global x!')\n",
    "    print('Because of global x is: ', x)\n",
    "    #Local reassignment on a global variable!\n",
    "    x = 2\n",
    "    print('Ran func(), changed global x to', x)\n",
    "\n",
    "print('Before calling func(), x is: ', x)\n",
    "func()\n",
    "print('Value of x (outside of func()) is: ', x)"
   ]
  },
  {
   "cell_type": "code",
   "execution_count": 227,
   "id": "164bfecd-6817-444f-80eb-310b51da6e40",
   "metadata": {},
   "outputs": [
    {
     "data": {
      "text/plain": [
       "2"
      ]
     },
     "execution_count": 227,
     "metadata": {},
     "output_type": "execute_result"
    }
   ],
   "source": [
    "x"
   ]
  },
  {
   "cell_type": "code",
   "execution_count": 236,
   "id": "19f6d6dd-82c3-4ffd-9544-86d1934dfb7d",
   "metadata": {},
   "outputs": [],
   "source": [
    "#Method 2 for using global variables and reassigning them! Much cleaner and safer way \n",
    "#to change and use global variables, especially for beginners in Python. Easier to debug\n",
    "\n",
    "x = 50\n",
    "\n",
    "def func(x):\n",
    "    print(f'X is {x}')\n",
    "    #Local reassignment on a global variable!\n",
    "    x = 'New Value'\n",
    "    print(f'I just locally changed global x to {x}')\n",
    "    return x"
   ]
  },
  {
   "cell_type": "code",
   "execution_count": 238,
   "id": "510e0803-5a59-45df-8f82-2f4f49da7aba",
   "metadata": {},
   "outputs": [
    {
     "name": "stdout",
     "output_type": "stream",
     "text": [
      "50\n"
     ]
    }
   ],
   "source": [
    "print(x)"
   ]
  },
  {
   "cell_type": "code",
   "execution_count": 239,
   "id": "591f0e39-8e70-45e2-96b8-0887a8e3b1f9",
   "metadata": {},
   "outputs": [
    {
     "name": "stdout",
     "output_type": "stream",
     "text": [
      "X is 50\n",
      "I just locally changed global x to New Value\n"
     ]
    }
   ],
   "source": [
    "x = func(x)"
   ]
  },
  {
   "cell_type": "code",
   "execution_count": 240,
   "id": "fd82c6b7-689a-42df-ba66-9cf82b2ce6ca",
   "metadata": {},
   "outputs": [
    {
     "data": {
      "text/plain": [
       "'New Value'"
      ]
     },
     "execution_count": 240,
     "metadata": {},
     "output_type": "execute_result"
    }
   ],
   "source": [
    "x"
   ]
  },
  {
   "cell_type": "code",
   "execution_count": 241,
   "id": "1492d015-dc25-44ad-9eff-0392bb33ec04",
   "metadata": {},
   "outputs": [
    {
     "data": {
      "text/plain": [
       "{'__name__': '__main__',\n",
       " '__doc__': 'Automatically created module for IPython interactive environment',\n",
       " '__package__': None,\n",
       " '__loader__': None,\n",
       " '__spec__': None,\n",
       " '__builtin__': <module 'builtins' (built-in)>,\n",
       " '__builtins__': <module 'builtins' (built-in)>,\n",
       " '_ih': ['',\n",
       "  'mylist = [1,2,3,4]',\n",
       "  \"mylist.insert #then click 'shift + tab'\",\n",
       "  'help(mylist.insert）',\n",
       "  'help(mylist.insert)',\n",
       "  \"get_ipython().run_line_magic('pinfo', 'mylist.insert')\",\n",
       "  'def say_hello():\\n    print(\"Hello\")',\n",
       "  'say_hello()',\n",
       "  'say_hello',\n",
       "  \"def say_hello(name):\\n    print(f'Hello {name}')\",\n",
       "  \"say_hello('Felipe')\",\n",
       "  'say_hello()',\n",
       "  \"def say_hello(name='Default'):\\n    print(f'Hello {name}')\",\n",
       "  'say_hello()',\n",
       "  \"say_hello('Felipe')\",\n",
       "  'def add_num(num1,num2):\\n    return num1 + num2',\n",
       "  'add_num(10,20)',\n",
       "  'result = add_num(10,20)',\n",
       "  'result',\n",
       "  'def print_result(a,b):\\n    print(a+b)',\n",
       "  'def return_result(a,b):\\n    return a+b',\n",
       "  'print_result(10,20)',\n",
       "  'return_result(10,20)',\n",
       "  'print_result(10,20)',\n",
       "  'return_result(10,20)',\n",
       "  \"#there is no output cell showing you that a variable's being returned.\\n\\nprint_result(10,20)\",\n",
       "  \"#there is no output cell showing you that a variable's being returned. Instead its just printing out the result.\\n\\nprint_result(10,20)\",\n",
       "  'print_result = print_result(10,20)',\n",
       "  'print_result',\n",
       "  'type(print_result)',\n",
       "  'return_result(10,20)',\n",
       "  'returnresult = return_result(10,20)',\n",
       "  'returnresult',\n",
       "  '#Both print and return a+b\\n\\ndef myfunc(a,b):\\n    print(a+b)\\n    return a+b',\n",
       "  'type(returnresult)',\n",
       "  'result1 = myfunc(10,20)',\n",
       "  'result1',\n",
       "  '2 % 2',\n",
       "  '2 % 2 == True',\n",
       "  '3 % 2',\n",
       "  '2 % 2 == 0',\n",
       "  '2 % 2 == False',\n",
       "  '2 % 2 == 0',\n",
       "  '3 % 2',\n",
       "  '2 % 2 == 0',\n",
       "  '3 % 2',\n",
       "  '3 % 2 == 0',\n",
       "  'def even_check(number):\\n    result = number % 2 == 0\\n    return result',\n",
       "  'even_check(20)',\n",
       "  'even_check(21)',\n",
       "  '#Another way to define even_check()',\n",
       "  '#Another way to define even_check()\\n\\ndef even_check(number):\\n    return number % 2 == 0',\n",
       "  \"# RETURN TRUE IF ANY NUMBER IS EVEN INSIDE A LIST, OTHERWISE IT WILL NOT RETURN ANYTHING\\n\\ndef check_even_list(num_list):\\n\\n    for number in num_list:\\n        if number % 2 == 0:\\n            return True\\n        else:\\n            pass #pass just means don't do anything\",\n",
       "  \"# RETURN TRUE IF ANY NUMBER IS EVEN INSIDE A LIST, OTHERWISE IT WILL NOT RETURN ANYTHING\\n\\ndef check_even_list(num_list):\\n\\n    for number in num_list:\\n        if number % 2 == 0:\\n            return True #return is actually in the middle of the function. It doesn't always have to go at the end. In fact, you can have multiple returns inside of a function.\\n        else:\\n            pass #pass just means don't do anything\",\n",
       "  'check_even_list([1,3,5])',\n",
       "  'check_even_list([2,4,5])',\n",
       "  'check_even_list([2,1,1,1])',\n",
       "  'check_even_list([1,1,1,2])',\n",
       "  \"# RETURN TRUE IF ANY NUMBER IS EVEN INSIDE A LIST, OTHERWISE IT WILL NOT RETURN ANYTHING\\n\\ndef check_even_list(num_list):\\n\\n    for number in num_list:\\n        if number % 2 == 0:\\n            return True #return is actually in the middle of the function. \\n            #You can think of this return statement as essentially going to break off the entire function. Once you call return, that's it.\\n            #It doesn't always have to go at the end. In fact, you can have multiple returns inside of a function.\\n        else:\\n            pass #pass just means don't do anything\",\n",
       "  '# IF WE TRY ADDING FALSE IF NO NUMBERS ARE EVEN IN LIST\\n\\n#BEGINNER/ROOKIE MISTAKE CODE:\\ndef check_even_list(num_list):\\n    for number in num_list:\\n        if number % 2 == 0:\\n            return True\\n        else:\\n            return False # WRONG!!!!!!!!! BECAUSE IF THE FIRST ELEMENT IN OUR LIST IS ODD BUT WE HAVE EVEN NUMBERS IN OUR LIST THEN\\n                         # OUR FUNCTION WILL RETURN FALSE EVEN THOUGH IT SHOULD RETURN TRUE!\\n            # BEGGINNERS MAKE THE MISTAKE THAT ALL THE RETURN STATEMENTS SHOULD HAVE THE SAME LEVEL OF INDENTATION, WHICH IS NOT TRUE!!!\\n            #',\n",
       "  'check_even_list([1,3,5])',\n",
       "  '#THIS IS AN EXAMPLE WHERE OUR FUNCTION FAILS\\ncheck_even_list([1,2,5])',\n",
       "  '#THIS IS AN EXAMPLE WHERE OUR FUNCTION FAILS. IT SHOULD RETURN TRUE!\\ncheck_even_list([1,2,5])',\n",
       "  '#CORRECT CODE\\n\\ndef check_even_list(num_list):\\n    for number in num_list:\\n        if number % 2 == 0:\\n            return True\\n        else:\\n            pass\\n    return False',\n",
       "  'check_even_list([1,3,5])',\n",
       "  'check_even_list([1,2,5])',\n",
       "  \"#CORRECT CODE\\n#WHAT THIS IS SAYING IS THAT IF WE COMPLETED AND WE NEVER BROKE OUT OF THE FUNCTION WITH OUR RETURN STATEMENT, THEN RETURN FALSE\\n#WE WANT TO LOOP THROUGH ALL THE NUMBERS FIRST AND WE CAN SUE THESE PASS STATEMENTS AS PLACEHOLDERS TO ESSENTIALLY SAY, DON'T DO ANYTHING\\n#AND THEN IF WE DO NOT BREAK OUT OF OUR FUNCTION, THEN WE CAN SAFELY SAY WE HAVE NO EVEN NUMBERS IN OUR LIST AND RETURN FALSE.\\n\\ndef check_even_list(num_list):\\n    for number in num_list:\\n        if number % 2 == 0:\\n            return True\\n        else:\\n            pass\\n    return False\",\n",
       "  'check_even_list([1,3,5])',\n",
       "  'check_even_list([1,2,5])',\n",
       "  '# RETURN ALL THE EVEN NUMBERS IN A LIST. RETURN AN EMPTY LIST IF NONE ARE EVEN\\n\\ndef return_even_list(num_list):\\n    #placeholder variables for list of even numbers\\n    even_numbers = []\\n\\n    for number in num_list:\\n        if number % 2 == 0:\\n            even_numbers.append(number)\\n        else:\\n            pass\\n    return even_numbers',\n",
       "  'return_even_list([1,2,3,4,5,6,7,8,9,10])',\n",
       "  'return_even_list([1,3,5])',\n",
       "  '#TUPLE UNPACKING WIHT PYTHON FUNCTIONS',\n",
       "  \"stock_prices = [('APPL', 200), ('GOOG', 400), ('MSFT', 100)]\",\n",
       "  'for item in stock_prices:\\n    print(item)',\n",
       "  'for ticker,price in stock_prices:\\n    print(ticker)',\n",
       "  'for ticker,price in stock_prices:\\n    print(price + (.1*price))',\n",
       "  \"work_hours = [('Abby', 100), ('Billy', 400), ('Cassie', 800)]\",\n",
       "  \"def employee_check(work_hours):\\n\\n    current_max = 0\\n    employee_of_month = ''\\n\\n    for employee,hours in work_hours:\\n        if hours > current_max:\\n            current_max = hours\\n            employee_of_month = employee\\n        else:\\n            pass\\n    return (employee_of_month, current_max)\",\n",
       "  'employee_check(work_hours)',\n",
       "  'result_ec = employee_check(work_hours)',\n",
       "  'result_ec',\n",
       "  'name,hours = employee_check(work_hours)',\n",
       "  'name',\n",
       "  'hours',\n",
       "  'name,hours,location = employee_check(work_hours)',\n",
       "  'item = employee_check(work_hours)',\n",
       "  'item',\n",
       "  '#Guessing Game: \"Three Cup Monte\"',\n",
       "  'from random import shuffle',\n",
       "  'example = [1,2,3,4,5,6,7]',\n",
       "  'shuffle(example)',\n",
       "  'example',\n",
       "  \"shuffle(example) #shuffle is an inplace function, it doesn't actually return anything, so if we want to set a variable equal to\\n#the shuffled list, we would have to create a function to do this.\",\n",
       "  'def shuffle_list(mylist):\\n    shuffle(mylist)\\n    return mylist',\n",
       "  'resultshuffle = shuffle_list(example)',\n",
       "  'resultshuffle',\n",
       "  \"mygamelist = [' ', 'O', ' ']\",\n",
       "  'shuffle_list(mygamelist)',\n",
       "  'shuffle_list(mygamelist)',\n",
       "  'def player_guess():',\n",
       "  'def player_guess():\\n    guess = \\'\\'\\n    while guess not in [\\'0\\', \\'1\\', \\'2\\']:\\n        guess = input(\"Pick a number: 0, 1, or 2\")\\n\\n    return int(guess) # we must convert to int because input function returns a string.',\n",
       "  'def player_guess():\\n    guess = \\'\\'\\n    while guess not in [\\'0\\', \\'1\\', \\'2\\']:\\n        guess = input(\"Pick a number: 0, 1, or 2\")\\n\\n    return int(guess) # we must convert to int because input function returns a string. We also need it as an integer to \\n#directly index off of our game list.',\n",
       "  'player_guess()',\n",
       "  'myindex = player_guess()',\n",
       "  'myindex',\n",
       "  '#Our last function will combine our shuffle_list(mylist) function with our player_guess() function and will\\n#check to see if our guess is the correct guess and correct index for \\'O\\' in our mygamelist.\\n\\ndef check_guess(mylist, guess):\\n    if mylist[guess] == \\'O\\':\\n        print(\\'Correct!\\')\\n    else:\\n        print(\"Wrong guess!\")\\n        print(mylist)',\n",
       "  '#Our last functions will combine our shuffle_list(mylist) function with our player_guess() function and will\\n#check to see if our guess is the correct guess and correct index for \\'O\\' in our mygamelist.\\n\\ndef check_guess(mylist, guess):\\n    if mylist[guess] == \\'O\\':\\n        print(\\'Correct!\\')\\n    else:\\n        print(\"Wrong guess!\")\\n        print(mylist)',\n",
       "  '#Our last function will combine our shuffle_list(mylist) function with our player_guess() function and will\\n#check to see if our guess is the correct guess and correct index for \\'O\\' in our mygamelist.\\n\\ndef check_guess(mylist, guess):\\n    if mylist[guess] == \\'O\\':\\n        print(\\'Correct!\\')\\n    else:\\n        print(\"Wrong guess!\")\\n        print(mylist)',\n",
       "  \"#OUR LAST SCRIPT WILL CALL ALL FUNCTIONS IN ORDER AND WILL RETURN WHETHER WE ARE CORRECT IN OUR GUESS.\\n\\n#INITIAL LIST\\nmygamelist = [' ', 'O', ' ']\\n\\n#SHUFFLE LIST\\nmixedup_list = shuffle_list(mygamelist)\\n\\n#USER GUESS\\nguess = player_guess()\\n\\n#CHECK\\ncheck_guess(mixedup_list, guess)\",\n",
       "  '#Our last function will combine our shuffle_list(mylist) function with our player_guess() function and will\\n#check to see if our guess is the correct guess and correct index for \\'O\\' in our mygamelist.\\n#We are not actually returning anything. We are just showing whether we are correct or wrong in our guess and our final shuffled list.\\n\\ndef check_guess(mylist, guess):\\n    if mylist[guess] == \\'O\\':\\n        print(\\'Correct!\\')\\n    else:\\n        print(\"Wrong guess!\")\\n        print(mylist)',\n",
       "  \"#OUR LAST SCRIPT WILL CALL ALL FUNCTIONS IN ORDER AND WILL RETURN WHETHER WE ARE CORRECT IN OUR GUESS.\\n\\n#INITIAL LIST\\nmygamelist = [' ', 'O', ' ']\\n\\n#SHUFFLE LIST\\nmixedup_list = shuffle_list(mygamelist)\\n\\n#USER GUESS\\nguess = player_guess()\\n\\n#CHECK\\ncheck_guess(mixedup_list, guess)\",\n",
       "  '# *args and **kwargs',\n",
       "  'def myfunc(a,b):\\n    return sum(a,b)*.05\\n\\nmyfunc(40,60)',\n",
       "  'def myfunc(a,b):\\n    return sum((a,b))*.05\\n\\nmyfunc(40,60)',\n",
       "  '#METHOD 1 OF ADDING MORE ARGUMENTS\\ndef myfunc(a,b,c=0,d=0,e=0):\\n    return sum((a,b,c,d,e))*.05\\n\\nmyfunc(10,20,30)',\n",
       "  '#METHOD 1 OF ADDING MORE ARGUMENTS\\ndef myfunc(a,b,c=0,d=0,e=0):\\n    return sum((a,b,c,d,e))*.05\\n\\nmyfunc(10,20,30,10,10,100,100,100)',\n",
       "  '#METHOD 2 USING *ARGS IN OUR FUNCTION DEFINITION\\n\\ndef myfunc(*args):\\n    return sum((args))*.05\\n\\nmyfunc(10,10,10,10,100,100,100,100)',\n",
       "  'def myfunc(*args):\\n    for item in args:\\n        print(item)\\n\\nmyfunc(40,60,100,1,34)',\n",
       "  '#METHOD 2 USING *ARGS IN OUR FUNCTION DEFINITION\\n#*args creates a tuple of values that we pass into our function and can perform iteration, sum, etc.\\n\\ndef myfunc(*args):\\n    return sum((args))*.05\\n\\nmyfunc(10,10,10,10,100,100,100,100)',\n",
       "  'def myfunc(*args):\\n    for item in args:\\n        print(item)\\n\\nmyfunc(40,60,100,1,34)',\n",
       "  '#**kwargs STANDS FOR KEYWORDED ARGUMENTS, SIMILAR TO *ARGS BUT THIS TIME WE USE **KWARGS\\n#TO BUILD A DICTIONARY OF KEY:VALUE PAIRS',\n",
       "  \"def myfunc(**kwargs):\\n    if 'fruit' in kwargs:\\n        print(f'My fruit of choice is {kwargs['fruit']}')\\n    else:\\n        print('I did not find any fruit here')\",\n",
       "  \"myfunc(fruit='apple',vegetable='carrots')\",\n",
       "  \"#python is no longer complaining about multiple keyworded arguments because we defined myfunc with **kwargs\\nmyfunc(fruit='apple',vegetable='carrots')\",\n",
       "  \"#python is no longer complaining about multiple keyworded arguments because we defined myfunc with **kwargs\\n#which allows us to input as many key:value pairs and passes it as a dictionary to our function.\\n\\nmyfunc(fruit='apple',vegetable='carrots')\",\n",
       "  \"def myfunc(**kwargs):\\n    print(kwargs)\\n    if 'fruit' in kwargs:\\n        print(f'My fruit of choice is {kwargs['fruit']}')\\n    else:\\n        print('I did not find any fruit here')\",\n",
       "  \"#python is no longer complaining about multiple keyworded arguments because we defined myfunc with **kwargs\\n#which allows us to input as many key:value pairs and passes it as a dictionary to our function.\\n\\nmyfunc(fruit='apple',vegetable='carrots')\",\n",
       "  \"#python is no longer complaining about multiple keyworded arguments because we defined myfunc with **kwargs\\n#which allows us to input as many key:value pairs and passes it as a dictionary to our function. Now we can\\n#call it however way we want.\\n\\nmyfunc(fruit='apple',vegetable='carrots')\",\n",
       "  \"#python is no longer complaining about multiple keyworded arguments because we defined myfunc with **kwargs\\n#which allows us to input as many key:value pairs and passes it as a dictionary to our function. Now we can\\n#call it however way we want and play around with it inside our functions\\n\\nmyfunc(fruit='apple',vegetable='carrots')\",\n",
       "  \"#We can combine *args and **kwargs in the same function; *args must come before **kwargs\\n\\ndef myfunc(*ars, **kwargs):\\n    print(args)\\n    print(kwargs)\\n    print(f'I would like {args[0]} {kwargs['food']}')\",\n",
       "  \"myfunc(10,20,30,fruit='orange',food='eggs',animal='dog')\",\n",
       "  \"#We can combine *args and **kwargs in the same function; *args must come before **kwargs\\n\\ndef myfunc(*args, **kwargs):\\n    print(args)\\n    print(kwargs)\\n    print(f'I would like {args[0]} {kwargs['food']}')\",\n",
       "  \"myfunc(10,20,30,fruit='orange',food='eggs',animal='dog')\",\n",
       "  \"myfunc(10,20,30,fruit='orange',food='eggs',animal='dog', 100)\",\n",
       "  \"#We can combine *args and **kwargs in the same function; *args must come before **kwargs\\n\\ndef myfunc(**kwargs, *args):\\n    print(args)\\n    print(kwargs)\\n    print(f'I would like {args[0]} {kwargs['food']}')\",\n",
       "  \"myteststring = 'abc'\",\n",
       "  \"myteststring.index('a')\",\n",
       "  \"'a'.upper\",\n",
       "  \"'a'.upper()\",\n",
       "  \"'A'.lower()\",\n",
       "  \"myteststring.join('a')\\nmyteststring\",\n",
       "  \"def myfunc(mystring):\\n    \\n    updated_string = ''\\n    \\n    for letter in mystring:\\n        if mystring.index(letter) % 2 == 0:\\n            updated_string.join(letter.upper())\\n        else:\\n            updated_string.join(letter.lower())\\n        \\n    return updated_string\",\n",
       "  \"#We can combine *args and **kwargs in the same function; *args must come before **kwargs\\n\\ndef myfunc(*args, **kwargs):\\n    print(args)\\n    print(kwargs)\\n    print(f'I would like {args[0]} {kwargs['food']}')\",\n",
       "  \"myfunc(10,20,30,fruit='orange',food='eggs',animal='dog')\",\n",
       "  \"myfunc(10,20,30,fruit='orange',food='eggs',animal='dog', 100)\",\n",
       "  \"#We can combine *args and **kwargs in the same function; *args must come before **kwargs\\n\\ndef myfunc(**kwargs, *args):\\n    print(args)\\n    print(kwargs)\\n    print(f'I would like {args[0]} {kwargs['food']}')\",\n",
       "  \"def myfunc1(mystring):\\n    \\n    updated_string = ''\\n    \\n    for letter in mystring:\\n        if mystring.index(letter) % 2 == 0:\\n            updated_string.join(letter.upper())\\n        else:\\n            updated_string.join(letter.lower())\\n        \\n    return updated_string\",\n",
       "  \"myfunc1('Anthropomorphism')\",\n",
       "  \"def myfunc1(mystring):\\n    \\n    updated_string = ''\\n    \\n    for letter in mystring:\\n        print(letter)\\n        if mystring.index(letter) % 2 == 0:\\n            updated_string.join(letter.upper())\\n        else:\\n            updated_string.join(letter.lower())\\n        \\n    return updated_string\",\n",
       "  \"myfunc1('Anthropomorphism')\",\n",
       "  \"def myfunc1(mystring):\\n    \\n    updated_string = ''\\n    \\n    for letter in mystring:\\n        print(letter)\\n        print(mystring.index(letter) % 2 == 0)\\n        if mystring.index(letter) % 2 == 0:\\n            updated_string.join(letter.upper())\\n        else:\\n            updated_string.join(letter.lower())\\n        \\n    return updated_string\",\n",
       "  \"myfunc1('Anthropomorphism')\",\n",
       "  \"def myfunc1(mystring):\\n    \\n    updated_string = ''\\n    \\n    for letter in mystring:\\n        print(letter)\\n        print(mystring.index(letter) % 2 == )\\n        if mystring.index(letter)+1 % 2 == 0:\\n            updated_string.join(letter.upper())\\n        else:\\n            updated_string.join(letter.lower())\\n        \\n    return updated_string\",\n",
       "  \"def myfunc1(mystring):\\n    \\n    updated_string = ''\\n    \\n    for letter in mystring:\\n        print(letter)\\n        print(mystring.index(letter) % 2 == 0)\\n        if mystring.index(letter)+1 % 2 == 0:\\n            updated_string.join(letter.upper())\\n        else:\\n            updated_string.join(letter.lower())\\n        \\n    return updated_string\",\n",
       "  \"myfunc1('Anthropomorphism')\",\n",
       "  \"def myfunc1(mystring):\\n    \\n    updated_string = ''\\n    \\n    for letter in mystring:\\n        print(letter)\\n        print(mystring.index(letter)+1 % 2 == 0)\\n        if mystring.index(letter)+1 % 2 == 0:\\n            updated_string.join(letter.upper())\\n        else:\\n            updated_string.join(letter.lower())\\n        \\n    return updated_string\",\n",
       "  \"myfunc1('Anthropomorphism')\",\n",
       "  \"def myfunc1(mystring):\\n    \\n    updated_string = ''\\n    \\n    for letter in mystring:\\n        print(letter)\\n        print(mystring.index(letter)+1 % 2 == 0)\\n        if mystring.index(letter)+1 % 2 == 0:\\n            updated_string.join(letter.upper())\\n        else:\\n            updated_string.join(letter.lower())\\n            continue\\n        \\n    return updated_string\",\n",
       "  \"myfunc1('Anthropomorphism')\",\n",
       "  \"def myfunc1(mystring):\\n    \\n    updated_string = ''\\n    \\n    for letter in mystring:\\n        print(letter)\\n        print(mystring.index(letter)+1 % 2 == 1)\\n        if mystring.index(letter)+1 % 2 == 1:\\n            updated_string.join(letter.upper())\\n        else:\\n            updated_string.join(letter.lower())\\n            continue\\n        \\n    return updated_string\",\n",
       "  \"myfunc1('Anthropomorphism')\",\n",
       "  \"def myfunc1(mystring):\\n    \\n    updated_string = ''\\n    \\n    for letter in mystring:\\n        print(letter)\\n        print(mystring.index(letter))\\n        if mystring.index(letter) + 1 % 2 == 0:\\n            updated_string.join(letter.upper())\\n        else:\\n            updated_string.join(letter.lower())\\n            continue\\n        \\n    return updated_string\",\n",
       "  \"myfunc1('Anthropomorphism')\",\n",
       "  \"def myfunc1(mystring):\\n    \\n    updated_string = ''\\n    \\n    for letter in mystring:\\n        print(letter)\\n        print(mystring.index(letter) + 1)\\n        if mystring.index(letter) + 1 % 2 == 0:\\n            updated_string.join(letter.upper())\\n        else:\\n            updated_string.join(letter.lower())\\n            continue\\n        \\n    return updated_string\",\n",
       "  \"myfunc1('Anthropomorphism')\",\n",
       "  \"def myfunc1(mystring):\\n    \\n    updated_string = ''\\n    \\n    for letter in mystring:\\n        print(letter)\\n        print(mystring.index(letter) + 1)\\n        if (mystring.index(letter) + 1) % 2 == 0:\\n            updated_string.join(letter.upper())\\n        else:\\n            updated_string.join(letter.lower())\\n            continue\\n        \\n    return updated_string\",\n",
       "  \"myfunc1('Anthropomorphism')\",\n",
       "  \"def myfunc1(mystring):\\n    \\n    updated_string = ''\\n    \\n    for letter in mystring:\\n        print(letter)\\n        print(mystring.index(letter) + 1)\\n        if (mystring.index(letter) + 1) % 2 == 0:\\n            updated_string + letter.upper()\\n        else:\\n            updated_string + letter.lower()\\n            continue\\n        \\n    return updated_string\",\n",
       "  \"myfunc1('Anthropomorphism')\",\n",
       "  \"def myfunc1(mystring):\\n    \\n    updated_string = ''\\n    \\n    for letter in mystring:\\n        print(letter)\\n        print(mystring.index(letter) + 1)\\n        if (mystring.index(letter) + 1) % 2 == 0:\\n            updated_string + letter.upper()\\n        else:\\n            updated_string + letter.lower()\\n        \\n    return updated_string\",\n",
       "  \"myfunc1('Anthropomorphism')\",\n",
       "  \"def myfunc1(mystring):\\n    \\n    updated_string = ''\\n    \\n    for letter in mystring:\\n        print(letter)\\n        print(mystring.index(letter) + 1)\\n        print(letter.upper(), letter.lower())\\n        if (mystring.index(letter) + 1) % 2 == 0:\\n            updated_string + letter.upper()\\n        else:\\n            updated_string + letter.lower()\\n        \\n    return updated_string\",\n",
       "  \"myfunc1('Anthropomorphism')\",\n",
       "  \"def myfunc1(mystring):\\n    \\n    updated_string = ''\\n    \\n    for letter in mystring:\\n        print(letter)\\n        print(mystring.index(letter) + 1)\\n        print(letter.upper(), letter.lower())\\n        updated_string + letter.upper() + letter.lower()\\n        if (mystring.index(letter) + 1) % 2 == 0:\\n            updated_string + letter.upper()\\n        else:\\n            updated_string + letter.lower()\\n        \\n    return updated_string\",\n",
       "  \"myfunc1('Anthropomorphism')\",\n",
       "  \"def myfunc1(mystring):\\n    \\n    updated_string = ''\\n    \\n    for letter in mystring:\\n        print(letter)\\n        print(mystring.index(letter) + 1)\\n        print(letter.upper(), letter.lower())\\n        if (mystring.index(letter) + 1) % 2 == 0:\\n            updated_string += letter.upper()\\n        else:\\n            updated_string += letter.lower()\\n        \\n    return updated_string\",\n",
       "  \"myfunc1('Anthropomorphism')\",\n",
       "  \"def myfunc1(mystring):\\n    \\n    updated_string = ''\\n    \\n    for letter in mystring:\\n        if (mystring.index(letter) + 1) % 2 == 0:\\n            updated_string += letter.upper()\\n        else:\\n            updated_string += letter.lower()\\n        \\n    return updated_string\",\n",
       "  \"myfunc1('Anthropomorphism')\",\n",
       "  \"def myfunc1(mystring):\\n    \\n    updated_string = ''\\n    \\n    for letter in mystring:\\n        if (mystring.index(letter) + 1) % 2 == 0:\\n            updated_string += letter.upper()\\n        elif (mystring.index(letter) + 1) % 2 != 0:\\n            updated_string += letter.lower()\\n        \\n    return updated_string\",\n",
       "  \"myfunc1('Anthropomorphism')\",\n",
       "  \"def myfunc1(mystring):\\n    \\n    updated_string = ''\\n    \\n    for letter in mystring:\\n        if (mystring.index(letter) + 1) % 2 == 0:\\n            updated_string += letter.upper()\\n        elif (mystring.index(letter) + 1) % 2 != 0:\\n            updated_string += letter.lower()\\n        else:\\n            pass\\n    return updated_string\",\n",
       "  \"myfunc1('Anthropomorphism')\",\n",
       "  \"def myfunc1(mystring):\\n    \\n    updated_string = ''\\n    \\n    for letter in mystring:\\n        if (mystring.index(letter) + 1) % 2 == 0:\\n            updated_string += letter.upper()\\n        elif (mystring.index(letter) + 1) % 2 != 0:\\n            updated_string += letter.lower()\\n        else:\\n            continue\\n    return updated_string\",\n",
       "  \"myfunc1('Anthropomorphism')\",\n",
       "  \"def myfunc1(mystring):\\n    \\n    updated_string = ''\\n    \\n    for letter in mystring:\\n        print(letter, mystring.index(letter))\\n        if (mystring.index(letter) + 1) % 2 == 0:\\n            updated_string += letter.upper()\\n        elif (mystring.index(letter) + 1) % 2 != 0:\\n            updated_string += letter.lower()\\n        else:\\n            continue\\n    return updated_string\",\n",
       "  \"myfunc1('Anthropomorphism')\",\n",
       "  \"def myfunc1(mystring):\\n    \\n    updated_string = ''\\n    \\n    for index,letter in mystring:\\n        if (index + 1) % 2 == 0:\\n            updated_string += letter.upper()\\n        else:\\n            updated_string += letter.lower()\\n            \\n    return updated_string\",\n",
       "  \"myfunc1('Anthropomorphism')\",\n",
       "  \"def myfunc1(mystring):\\n    \\n    updated_string = ''\\n    \\n    for index,letter in enumerate(mystring):\\n        if (index + 1) % 2 == 0:\\n            updated_string += letter.upper()\\n        else:\\n            updated_string += letter.lower()\\n            \\n    return updated_string\",\n",
       "  \"myfunc1('Anthropomorphism')\",\n",
       "  'def square(num):\\n    return num**2',\n",
       "  'my_nums = [1,2,3,4,5]',\n",
       "  'my_nums = [1,2,3,4,5]',\n",
       "  'map(square, my_nums)',\n",
       "  'for item in map(square, my_nums):\\n    print(item)',\n",
       "  'list(map(square, my_nums))',\n",
       "  \"def splicer(mystring):\\n    if len(mystring) % 2 ==0:\\n        return 'EVEN'\\n    else:\\n        return mystring[0]\",\n",
       "  \"names = ['Andy', 'Eve', 'Sally']\",\n",
       "  'list(map(splicer, names))',\n",
       "  'list(map(splicer(), names))',\n",
       "  'list(map(splicer(names), names))',\n",
       "  'list(map(splicer(), names))',\n",
       "  'def check_even(num):\\n    return num % 2 == 0',\n",
       "  'mynums = [1,2,3,4,5,6,7,8,9,10]',\n",
       "  'filter(check_even, mynums)',\n",
       "  'list(filter(check_even, mynums))',\n",
       "  \"teststring = 'abcdef'\",\n",
       "  'map(lambda num:num**2, mynums)',\n",
       "  'list(map(lambda num:num**2, mynums))',\n",
       "  'list(filter(lambda num:num % 2 == 0))',\n",
       "  'list(filter(lambda num:num % 2 == 0, mynums))',\n",
       "  'names',\n",
       "  'list(map(lambda name:name[0], names))',\n",
       "  'list(map(lambda name:name[::-1], names))',\n",
       "  'x = 25\\n\\ndef printer():\\n    x = 50\\n    return x',\n",
       "  'print(x)',\n",
       "  'x = 25\\n\\ndef printer():\\n    x = 50\\n    return x',\n",
       "  '#NESTED STATEMENTS AND SCOPE',\n",
       "  'print(printer())',\n",
       "  '#Local\\n\\n# x is local here:\\nf = lambda x:x**2',\n",
       "  \"#Global\\nname = 'This is a global name'\\n\\ndef greet():\\n    # Enclosing function\\n    name = 'Sammy'\\n    \\n    def hello():\\n        #Local\\n        name = 'Sam'\\n        print('Hello '+name)\\n    \\n    hello()\\n\\ngreet()\",\n",
       "  \"x = 50\\n\\ndef func(x):\\n    print('x is', x)\\n    x = 2\\n    print('Changed local x to', x)\\n\\nfunc(x)\\nprint('x is still', x)\",\n",
       "  \"x = 50\\n\\ndef func():\\n    global x\\n    print('This function is now using the global x!')\\n    print('Because of global x is: ', x)\\n    x = 2\\n    print('Ran func(), changed global x to', x)\\n\\nprint('Before calling func(), x is: ', x)\\nfunc()\\nprint('Value of x (outside of func()) is: ', x)\",\n",
       "  \"#Global x\\nx = 50\\n\\ndef func():\\n    global x\\n    print('This function is now using the global x!')\\n    print('Because of global x is: ', x)\\n    #Local reassignment on a global variable!\\n    x = 2\\n    print('Ran func(), changed global x to', x)\\n\\nprint('Before calling func(), x is: ', x)\\nfunc()\\nprint('Value of x (outside of func()) is: ', x)\",\n",
       "  \"#Global x\\nx = 50\\n\\ndef func():\\n    global x\\n    print('This function is now using the global x!')\\n    print('Because of global x is: ', x)\\n    #Local reassignment on a global variable!\\n    x = 2\\n    print('Ran func(), changed global x to', x)\\n\\nprint('Before calling func(), x is: ', x)\\nfunc()\\nprint('Value of x (outside of func()) is: ', x)\",\n",
       "  'x',\n",
       "  '#Method 2 for using global variables and reassigning them!',\n",
       "  \"#Method 2 for using global variables and reassigning them! Much cleaner and safer way \\n#to change and use global variables, especially for beginners in Python.\\n\\nx = 50\\n\\ndef func(x):\\n    print(f'X is {x}')\\n    #Local reassignment on a global variable!\\n    x = 'New Value'\\n    print(f'(I jsut locally changed global x to {x}')\\n    return x\",\n",
       "  'print(x)',\n",
       "  'x = func(x)',\n",
       "  \"#Method 2 for using global variables and reassigning them! Much cleaner and safer way \\n#to change and use global variables, especially for beginners in Python.\\n\\nx = 50\\n\\ndef func(x):\\n    print(f'X is {x}')\\n    #Local reassignment on a global variable!\\n    x = 'New Value'\\n    print(f'I just locally changed global x to {x}')\\n    return x\",\n",
       "  'print(x)',\n",
       "  'x = func(x)',\n",
       "  'x',\n",
       "  \"#Method 2 for using global variables and reassigning them! Much cleaner and safer way \\n#to change and use global variables, especially for beginners in Python. Easier to debug\\n\\nx = 50\\n\\ndef func(x):\\n    print(f'X is {x}')\\n    #Local reassignment on a global variable!\\n    x = 'New Value'\\n    print(f'I just locally changed global x to {x}')\\n    return x\",\n",
       "  'print(x)',\n",
       "  'print(x)',\n",
       "  'x = func(x)',\n",
       "  'x',\n",
       "  'locals()'],\n",
       " '_oh': {2: <function list.insert(index, object, /)>,\n",
       "  8: <function __main__.say_hello()>,\n",
       "  16: 30,\n",
       "  18: 30,\n",
       "  22: 30,\n",
       "  24: 30,\n",
       "  29: NoneType,\n",
       "  30: 30,\n",
       "  32: 30,\n",
       "  34: int,\n",
       "  36: 30,\n",
       "  37: 0,\n",
       "  38: False,\n",
       "  39: 1,\n",
       "  40: True,\n",
       "  41: True,\n",
       "  42: True,\n",
       "  43: 1,\n",
       "  44: True,\n",
       "  45: 1,\n",
       "  46: False,\n",
       "  48: True,\n",
       "  49: False,\n",
       "  55: True,\n",
       "  56: True,\n",
       "  57: True,\n",
       "  60: False,\n",
       "  61: False,\n",
       "  62: False,\n",
       "  64: False,\n",
       "  65: True,\n",
       "  67: False,\n",
       "  68: True,\n",
       "  70: [2, 4, 6, 8, 10],\n",
       "  71: [],\n",
       "  79: ('Cassie', 800),\n",
       "  81: ('Cassie', 800),\n",
       "  83: 'Cassie',\n",
       "  84: 800,\n",
       "  87: ('Cassie', 800),\n",
       "  92: [3, 7, 2, 6, 4, 5, 1],\n",
       "  96: [3, 7, 2, 6, 4, 5, 1],\n",
       "  98: ['O', ' ', ' '],\n",
       "  99: ['O', ' ', ' '],\n",
       "  103: 1,\n",
       "  105: 1,\n",
       "  114: 5.0,\n",
       "  115: 3.0,\n",
       "  117: 22.0,\n",
       "  119: 22.0,\n",
       "  137: 0,\n",
       "  138: <function str.upper()>,\n",
       "  139: 'A',\n",
       "  140: 'a',\n",
       "  141: 'abc',\n",
       "  148: '',\n",
       "  150: '',\n",
       "  152: '',\n",
       "  155: '',\n",
       "  157: '',\n",
       "  159: '',\n",
       "  161: '',\n",
       "  163: '',\n",
       "  165: '',\n",
       "  167: '',\n",
       "  169: '',\n",
       "  171: '',\n",
       "  173: '',\n",
       "  175: '',\n",
       "  177: 'aNtHrOpOmOrpHIsm',\n",
       "  179: 'aNtHrOpOmOrpHIsm',\n",
       "  181: 'aNtHrOpOmOrpHIsm',\n",
       "  183: 'aNtHrOpOmOrpHIsm',\n",
       "  185: 'aNtHrOpOmOrpHIsm',\n",
       "  187: 'aNtHrOpOmOrpHIsm',\n",
       "  191: 'aNtHrOpOmOrPhIsM',\n",
       "  195: <map at 0x10f89ba30>,\n",
       "  197: [1, 4, 9, 16, 25],\n",
       "  200: ['EVEN', 'E', 'S'],\n",
       "  206: <filter at 0x10f7853f0>,\n",
       "  207: [2, 4, 6, 8, 10],\n",
       "  209: <map at 0x10f7ac880>,\n",
       "  210: [1, 4, 9, 16, 25, 36, 49, 64, 81, 100],\n",
       "  212: [2, 4, 6, 8, 10],\n",
       "  213: ['Andy', 'Eve', 'Sally'],\n",
       "  214: ['A', 'E', 'S'],\n",
       "  215: ['ydnA', 'evE', 'yllaS'],\n",
       "  227: 2,\n",
       "  235: 'New Value',\n",
       "  240: 'New Value'},\n",
       " '_dh': [PosixPath('/Users/felipegomez/GitHub/PythonPractice')],\n",
       " 'In': ['',\n",
       "  'mylist = [1,2,3,4]',\n",
       "  \"mylist.insert #then click 'shift + tab'\",\n",
       "  'help(mylist.insert）',\n",
       "  'help(mylist.insert)',\n",
       "  \"get_ipython().run_line_magic('pinfo', 'mylist.insert')\",\n",
       "  'def say_hello():\\n    print(\"Hello\")',\n",
       "  'say_hello()',\n",
       "  'say_hello',\n",
       "  \"def say_hello(name):\\n    print(f'Hello {name}')\",\n",
       "  \"say_hello('Felipe')\",\n",
       "  'say_hello()',\n",
       "  \"def say_hello(name='Default'):\\n    print(f'Hello {name}')\",\n",
       "  'say_hello()',\n",
       "  \"say_hello('Felipe')\",\n",
       "  'def add_num(num1,num2):\\n    return num1 + num2',\n",
       "  'add_num(10,20)',\n",
       "  'result = add_num(10,20)',\n",
       "  'result',\n",
       "  'def print_result(a,b):\\n    print(a+b)',\n",
       "  'def return_result(a,b):\\n    return a+b',\n",
       "  'print_result(10,20)',\n",
       "  'return_result(10,20)',\n",
       "  'print_result(10,20)',\n",
       "  'return_result(10,20)',\n",
       "  \"#there is no output cell showing you that a variable's being returned.\\n\\nprint_result(10,20)\",\n",
       "  \"#there is no output cell showing you that a variable's being returned. Instead its just printing out the result.\\n\\nprint_result(10,20)\",\n",
       "  'print_result = print_result(10,20)',\n",
       "  'print_result',\n",
       "  'type(print_result)',\n",
       "  'return_result(10,20)',\n",
       "  'returnresult = return_result(10,20)',\n",
       "  'returnresult',\n",
       "  '#Both print and return a+b\\n\\ndef myfunc(a,b):\\n    print(a+b)\\n    return a+b',\n",
       "  'type(returnresult)',\n",
       "  'result1 = myfunc(10,20)',\n",
       "  'result1',\n",
       "  '2 % 2',\n",
       "  '2 % 2 == True',\n",
       "  '3 % 2',\n",
       "  '2 % 2 == 0',\n",
       "  '2 % 2 == False',\n",
       "  '2 % 2 == 0',\n",
       "  '3 % 2',\n",
       "  '2 % 2 == 0',\n",
       "  '3 % 2',\n",
       "  '3 % 2 == 0',\n",
       "  'def even_check(number):\\n    result = number % 2 == 0\\n    return result',\n",
       "  'even_check(20)',\n",
       "  'even_check(21)',\n",
       "  '#Another way to define even_check()',\n",
       "  '#Another way to define even_check()\\n\\ndef even_check(number):\\n    return number % 2 == 0',\n",
       "  \"# RETURN TRUE IF ANY NUMBER IS EVEN INSIDE A LIST, OTHERWISE IT WILL NOT RETURN ANYTHING\\n\\ndef check_even_list(num_list):\\n\\n    for number in num_list:\\n        if number % 2 == 0:\\n            return True\\n        else:\\n            pass #pass just means don't do anything\",\n",
       "  \"# RETURN TRUE IF ANY NUMBER IS EVEN INSIDE A LIST, OTHERWISE IT WILL NOT RETURN ANYTHING\\n\\ndef check_even_list(num_list):\\n\\n    for number in num_list:\\n        if number % 2 == 0:\\n            return True #return is actually in the middle of the function. It doesn't always have to go at the end. In fact, you can have multiple returns inside of a function.\\n        else:\\n            pass #pass just means don't do anything\",\n",
       "  'check_even_list([1,3,5])',\n",
       "  'check_even_list([2,4,5])',\n",
       "  'check_even_list([2,1,1,1])',\n",
       "  'check_even_list([1,1,1,2])',\n",
       "  \"# RETURN TRUE IF ANY NUMBER IS EVEN INSIDE A LIST, OTHERWISE IT WILL NOT RETURN ANYTHING\\n\\ndef check_even_list(num_list):\\n\\n    for number in num_list:\\n        if number % 2 == 0:\\n            return True #return is actually in the middle of the function. \\n            #You can think of this return statement as essentially going to break off the entire function. Once you call return, that's it.\\n            #It doesn't always have to go at the end. In fact, you can have multiple returns inside of a function.\\n        else:\\n            pass #pass just means don't do anything\",\n",
       "  '# IF WE TRY ADDING FALSE IF NO NUMBERS ARE EVEN IN LIST\\n\\n#BEGINNER/ROOKIE MISTAKE CODE:\\ndef check_even_list(num_list):\\n    for number in num_list:\\n        if number % 2 == 0:\\n            return True\\n        else:\\n            return False # WRONG!!!!!!!!! BECAUSE IF THE FIRST ELEMENT IN OUR LIST IS ODD BUT WE HAVE EVEN NUMBERS IN OUR LIST THEN\\n                         # OUR FUNCTION WILL RETURN FALSE EVEN THOUGH IT SHOULD RETURN TRUE!\\n            # BEGGINNERS MAKE THE MISTAKE THAT ALL THE RETURN STATEMENTS SHOULD HAVE THE SAME LEVEL OF INDENTATION, WHICH IS NOT TRUE!!!\\n            #',\n",
       "  'check_even_list([1,3,5])',\n",
       "  '#THIS IS AN EXAMPLE WHERE OUR FUNCTION FAILS\\ncheck_even_list([1,2,5])',\n",
       "  '#THIS IS AN EXAMPLE WHERE OUR FUNCTION FAILS. IT SHOULD RETURN TRUE!\\ncheck_even_list([1,2,5])',\n",
       "  '#CORRECT CODE\\n\\ndef check_even_list(num_list):\\n    for number in num_list:\\n        if number % 2 == 0:\\n            return True\\n        else:\\n            pass\\n    return False',\n",
       "  'check_even_list([1,3,5])',\n",
       "  'check_even_list([1,2,5])',\n",
       "  \"#CORRECT CODE\\n#WHAT THIS IS SAYING IS THAT IF WE COMPLETED AND WE NEVER BROKE OUT OF THE FUNCTION WITH OUR RETURN STATEMENT, THEN RETURN FALSE\\n#WE WANT TO LOOP THROUGH ALL THE NUMBERS FIRST AND WE CAN SUE THESE PASS STATEMENTS AS PLACEHOLDERS TO ESSENTIALLY SAY, DON'T DO ANYTHING\\n#AND THEN IF WE DO NOT BREAK OUT OF OUR FUNCTION, THEN WE CAN SAFELY SAY WE HAVE NO EVEN NUMBERS IN OUR LIST AND RETURN FALSE.\\n\\ndef check_even_list(num_list):\\n    for number in num_list:\\n        if number % 2 == 0:\\n            return True\\n        else:\\n            pass\\n    return False\",\n",
       "  'check_even_list([1,3,5])',\n",
       "  'check_even_list([1,2,5])',\n",
       "  '# RETURN ALL THE EVEN NUMBERS IN A LIST. RETURN AN EMPTY LIST IF NONE ARE EVEN\\n\\ndef return_even_list(num_list):\\n    #placeholder variables for list of even numbers\\n    even_numbers = []\\n\\n    for number in num_list:\\n        if number % 2 == 0:\\n            even_numbers.append(number)\\n        else:\\n            pass\\n    return even_numbers',\n",
       "  'return_even_list([1,2,3,4,5,6,7,8,9,10])',\n",
       "  'return_even_list([1,3,5])',\n",
       "  '#TUPLE UNPACKING WIHT PYTHON FUNCTIONS',\n",
       "  \"stock_prices = [('APPL', 200), ('GOOG', 400), ('MSFT', 100)]\",\n",
       "  'for item in stock_prices:\\n    print(item)',\n",
       "  'for ticker,price in stock_prices:\\n    print(ticker)',\n",
       "  'for ticker,price in stock_prices:\\n    print(price + (.1*price))',\n",
       "  \"work_hours = [('Abby', 100), ('Billy', 400), ('Cassie', 800)]\",\n",
       "  \"def employee_check(work_hours):\\n\\n    current_max = 0\\n    employee_of_month = ''\\n\\n    for employee,hours in work_hours:\\n        if hours > current_max:\\n            current_max = hours\\n            employee_of_month = employee\\n        else:\\n            pass\\n    return (employee_of_month, current_max)\",\n",
       "  'employee_check(work_hours)',\n",
       "  'result_ec = employee_check(work_hours)',\n",
       "  'result_ec',\n",
       "  'name,hours = employee_check(work_hours)',\n",
       "  'name',\n",
       "  'hours',\n",
       "  'name,hours,location = employee_check(work_hours)',\n",
       "  'item = employee_check(work_hours)',\n",
       "  'item',\n",
       "  '#Guessing Game: \"Three Cup Monte\"',\n",
       "  'from random import shuffle',\n",
       "  'example = [1,2,3,4,5,6,7]',\n",
       "  'shuffle(example)',\n",
       "  'example',\n",
       "  \"shuffle(example) #shuffle is an inplace function, it doesn't actually return anything, so if we want to set a variable equal to\\n#the shuffled list, we would have to create a function to do this.\",\n",
       "  'def shuffle_list(mylist):\\n    shuffle(mylist)\\n    return mylist',\n",
       "  'resultshuffle = shuffle_list(example)',\n",
       "  'resultshuffle',\n",
       "  \"mygamelist = [' ', 'O', ' ']\",\n",
       "  'shuffle_list(mygamelist)',\n",
       "  'shuffle_list(mygamelist)',\n",
       "  'def player_guess():',\n",
       "  'def player_guess():\\n    guess = \\'\\'\\n    while guess not in [\\'0\\', \\'1\\', \\'2\\']:\\n        guess = input(\"Pick a number: 0, 1, or 2\")\\n\\n    return int(guess) # we must convert to int because input function returns a string.',\n",
       "  'def player_guess():\\n    guess = \\'\\'\\n    while guess not in [\\'0\\', \\'1\\', \\'2\\']:\\n        guess = input(\"Pick a number: 0, 1, or 2\")\\n\\n    return int(guess) # we must convert to int because input function returns a string. We also need it as an integer to \\n#directly index off of our game list.',\n",
       "  'player_guess()',\n",
       "  'myindex = player_guess()',\n",
       "  'myindex',\n",
       "  '#Our last function will combine our shuffle_list(mylist) function with our player_guess() function and will\\n#check to see if our guess is the correct guess and correct index for \\'O\\' in our mygamelist.\\n\\ndef check_guess(mylist, guess):\\n    if mylist[guess] == \\'O\\':\\n        print(\\'Correct!\\')\\n    else:\\n        print(\"Wrong guess!\")\\n        print(mylist)',\n",
       "  '#Our last functions will combine our shuffle_list(mylist) function with our player_guess() function and will\\n#check to see if our guess is the correct guess and correct index for \\'O\\' in our mygamelist.\\n\\ndef check_guess(mylist, guess):\\n    if mylist[guess] == \\'O\\':\\n        print(\\'Correct!\\')\\n    else:\\n        print(\"Wrong guess!\")\\n        print(mylist)',\n",
       "  '#Our last function will combine our shuffle_list(mylist) function with our player_guess() function and will\\n#check to see if our guess is the correct guess and correct index for \\'O\\' in our mygamelist.\\n\\ndef check_guess(mylist, guess):\\n    if mylist[guess] == \\'O\\':\\n        print(\\'Correct!\\')\\n    else:\\n        print(\"Wrong guess!\")\\n        print(mylist)',\n",
       "  \"#OUR LAST SCRIPT WILL CALL ALL FUNCTIONS IN ORDER AND WILL RETURN WHETHER WE ARE CORRECT IN OUR GUESS.\\n\\n#INITIAL LIST\\nmygamelist = [' ', 'O', ' ']\\n\\n#SHUFFLE LIST\\nmixedup_list = shuffle_list(mygamelist)\\n\\n#USER GUESS\\nguess = player_guess()\\n\\n#CHECK\\ncheck_guess(mixedup_list, guess)\",\n",
       "  '#Our last function will combine our shuffle_list(mylist) function with our player_guess() function and will\\n#check to see if our guess is the correct guess and correct index for \\'O\\' in our mygamelist.\\n#We are not actually returning anything. We are just showing whether we are correct or wrong in our guess and our final shuffled list.\\n\\ndef check_guess(mylist, guess):\\n    if mylist[guess] == \\'O\\':\\n        print(\\'Correct!\\')\\n    else:\\n        print(\"Wrong guess!\")\\n        print(mylist)',\n",
       "  \"#OUR LAST SCRIPT WILL CALL ALL FUNCTIONS IN ORDER AND WILL RETURN WHETHER WE ARE CORRECT IN OUR GUESS.\\n\\n#INITIAL LIST\\nmygamelist = [' ', 'O', ' ']\\n\\n#SHUFFLE LIST\\nmixedup_list = shuffle_list(mygamelist)\\n\\n#USER GUESS\\nguess = player_guess()\\n\\n#CHECK\\ncheck_guess(mixedup_list, guess)\",\n",
       "  '# *args and **kwargs',\n",
       "  'def myfunc(a,b):\\n    return sum(a,b)*.05\\n\\nmyfunc(40,60)',\n",
       "  'def myfunc(a,b):\\n    return sum((a,b))*.05\\n\\nmyfunc(40,60)',\n",
       "  '#METHOD 1 OF ADDING MORE ARGUMENTS\\ndef myfunc(a,b,c=0,d=0,e=0):\\n    return sum((a,b,c,d,e))*.05\\n\\nmyfunc(10,20,30)',\n",
       "  '#METHOD 1 OF ADDING MORE ARGUMENTS\\ndef myfunc(a,b,c=0,d=0,e=0):\\n    return sum((a,b,c,d,e))*.05\\n\\nmyfunc(10,20,30,10,10,100,100,100)',\n",
       "  '#METHOD 2 USING *ARGS IN OUR FUNCTION DEFINITION\\n\\ndef myfunc(*args):\\n    return sum((args))*.05\\n\\nmyfunc(10,10,10,10,100,100,100,100)',\n",
       "  'def myfunc(*args):\\n    for item in args:\\n        print(item)\\n\\nmyfunc(40,60,100,1,34)',\n",
       "  '#METHOD 2 USING *ARGS IN OUR FUNCTION DEFINITION\\n#*args creates a tuple of values that we pass into our function and can perform iteration, sum, etc.\\n\\ndef myfunc(*args):\\n    return sum((args))*.05\\n\\nmyfunc(10,10,10,10,100,100,100,100)',\n",
       "  'def myfunc(*args):\\n    for item in args:\\n        print(item)\\n\\nmyfunc(40,60,100,1,34)',\n",
       "  '#**kwargs STANDS FOR KEYWORDED ARGUMENTS, SIMILAR TO *ARGS BUT THIS TIME WE USE **KWARGS\\n#TO BUILD A DICTIONARY OF KEY:VALUE PAIRS',\n",
       "  \"def myfunc(**kwargs):\\n    if 'fruit' in kwargs:\\n        print(f'My fruit of choice is {kwargs['fruit']}')\\n    else:\\n        print('I did not find any fruit here')\",\n",
       "  \"myfunc(fruit='apple',vegetable='carrots')\",\n",
       "  \"#python is no longer complaining about multiple keyworded arguments because we defined myfunc with **kwargs\\nmyfunc(fruit='apple',vegetable='carrots')\",\n",
       "  \"#python is no longer complaining about multiple keyworded arguments because we defined myfunc with **kwargs\\n#which allows us to input as many key:value pairs and passes it as a dictionary to our function.\\n\\nmyfunc(fruit='apple',vegetable='carrots')\",\n",
       "  \"def myfunc(**kwargs):\\n    print(kwargs)\\n    if 'fruit' in kwargs:\\n        print(f'My fruit of choice is {kwargs['fruit']}')\\n    else:\\n        print('I did not find any fruit here')\",\n",
       "  \"#python is no longer complaining about multiple keyworded arguments because we defined myfunc with **kwargs\\n#which allows us to input as many key:value pairs and passes it as a dictionary to our function.\\n\\nmyfunc(fruit='apple',vegetable='carrots')\",\n",
       "  \"#python is no longer complaining about multiple keyworded arguments because we defined myfunc with **kwargs\\n#which allows us to input as many key:value pairs and passes it as a dictionary to our function. Now we can\\n#call it however way we want.\\n\\nmyfunc(fruit='apple',vegetable='carrots')\",\n",
       "  \"#python is no longer complaining about multiple keyworded arguments because we defined myfunc with **kwargs\\n#which allows us to input as many key:value pairs and passes it as a dictionary to our function. Now we can\\n#call it however way we want and play around with it inside our functions\\n\\nmyfunc(fruit='apple',vegetable='carrots')\",\n",
       "  \"#We can combine *args and **kwargs in the same function; *args must come before **kwargs\\n\\ndef myfunc(*ars, **kwargs):\\n    print(args)\\n    print(kwargs)\\n    print(f'I would like {args[0]} {kwargs['food']}')\",\n",
       "  \"myfunc(10,20,30,fruit='orange',food='eggs',animal='dog')\",\n",
       "  \"#We can combine *args and **kwargs in the same function; *args must come before **kwargs\\n\\ndef myfunc(*args, **kwargs):\\n    print(args)\\n    print(kwargs)\\n    print(f'I would like {args[0]} {kwargs['food']}')\",\n",
       "  \"myfunc(10,20,30,fruit='orange',food='eggs',animal='dog')\",\n",
       "  \"myfunc(10,20,30,fruit='orange',food='eggs',animal='dog', 100)\",\n",
       "  \"#We can combine *args and **kwargs in the same function; *args must come before **kwargs\\n\\ndef myfunc(**kwargs, *args):\\n    print(args)\\n    print(kwargs)\\n    print(f'I would like {args[0]} {kwargs['food']}')\",\n",
       "  \"myteststring = 'abc'\",\n",
       "  \"myteststring.index('a')\",\n",
       "  \"'a'.upper\",\n",
       "  \"'a'.upper()\",\n",
       "  \"'A'.lower()\",\n",
       "  \"myteststring.join('a')\\nmyteststring\",\n",
       "  \"def myfunc(mystring):\\n    \\n    updated_string = ''\\n    \\n    for letter in mystring:\\n        if mystring.index(letter) % 2 == 0:\\n            updated_string.join(letter.upper())\\n        else:\\n            updated_string.join(letter.lower())\\n        \\n    return updated_string\",\n",
       "  \"#We can combine *args and **kwargs in the same function; *args must come before **kwargs\\n\\ndef myfunc(*args, **kwargs):\\n    print(args)\\n    print(kwargs)\\n    print(f'I would like {args[0]} {kwargs['food']}')\",\n",
       "  \"myfunc(10,20,30,fruit='orange',food='eggs',animal='dog')\",\n",
       "  \"myfunc(10,20,30,fruit='orange',food='eggs',animal='dog', 100)\",\n",
       "  \"#We can combine *args and **kwargs in the same function; *args must come before **kwargs\\n\\ndef myfunc(**kwargs, *args):\\n    print(args)\\n    print(kwargs)\\n    print(f'I would like {args[0]} {kwargs['food']}')\",\n",
       "  \"def myfunc1(mystring):\\n    \\n    updated_string = ''\\n    \\n    for letter in mystring:\\n        if mystring.index(letter) % 2 == 0:\\n            updated_string.join(letter.upper())\\n        else:\\n            updated_string.join(letter.lower())\\n        \\n    return updated_string\",\n",
       "  \"myfunc1('Anthropomorphism')\",\n",
       "  \"def myfunc1(mystring):\\n    \\n    updated_string = ''\\n    \\n    for letter in mystring:\\n        print(letter)\\n        if mystring.index(letter) % 2 == 0:\\n            updated_string.join(letter.upper())\\n        else:\\n            updated_string.join(letter.lower())\\n        \\n    return updated_string\",\n",
       "  \"myfunc1('Anthropomorphism')\",\n",
       "  \"def myfunc1(mystring):\\n    \\n    updated_string = ''\\n    \\n    for letter in mystring:\\n        print(letter)\\n        print(mystring.index(letter) % 2 == 0)\\n        if mystring.index(letter) % 2 == 0:\\n            updated_string.join(letter.upper())\\n        else:\\n            updated_string.join(letter.lower())\\n        \\n    return updated_string\",\n",
       "  \"myfunc1('Anthropomorphism')\",\n",
       "  \"def myfunc1(mystring):\\n    \\n    updated_string = ''\\n    \\n    for letter in mystring:\\n        print(letter)\\n        print(mystring.index(letter) % 2 == )\\n        if mystring.index(letter)+1 % 2 == 0:\\n            updated_string.join(letter.upper())\\n        else:\\n            updated_string.join(letter.lower())\\n        \\n    return updated_string\",\n",
       "  \"def myfunc1(mystring):\\n    \\n    updated_string = ''\\n    \\n    for letter in mystring:\\n        print(letter)\\n        print(mystring.index(letter) % 2 == 0)\\n        if mystring.index(letter)+1 % 2 == 0:\\n            updated_string.join(letter.upper())\\n        else:\\n            updated_string.join(letter.lower())\\n        \\n    return updated_string\",\n",
       "  \"myfunc1('Anthropomorphism')\",\n",
       "  \"def myfunc1(mystring):\\n    \\n    updated_string = ''\\n    \\n    for letter in mystring:\\n        print(letter)\\n        print(mystring.index(letter)+1 % 2 == 0)\\n        if mystring.index(letter)+1 % 2 == 0:\\n            updated_string.join(letter.upper())\\n        else:\\n            updated_string.join(letter.lower())\\n        \\n    return updated_string\",\n",
       "  \"myfunc1('Anthropomorphism')\",\n",
       "  \"def myfunc1(mystring):\\n    \\n    updated_string = ''\\n    \\n    for letter in mystring:\\n        print(letter)\\n        print(mystring.index(letter)+1 % 2 == 0)\\n        if mystring.index(letter)+1 % 2 == 0:\\n            updated_string.join(letter.upper())\\n        else:\\n            updated_string.join(letter.lower())\\n            continue\\n        \\n    return updated_string\",\n",
       "  \"myfunc1('Anthropomorphism')\",\n",
       "  \"def myfunc1(mystring):\\n    \\n    updated_string = ''\\n    \\n    for letter in mystring:\\n        print(letter)\\n        print(mystring.index(letter)+1 % 2 == 1)\\n        if mystring.index(letter)+1 % 2 == 1:\\n            updated_string.join(letter.upper())\\n        else:\\n            updated_string.join(letter.lower())\\n            continue\\n        \\n    return updated_string\",\n",
       "  \"myfunc1('Anthropomorphism')\",\n",
       "  \"def myfunc1(mystring):\\n    \\n    updated_string = ''\\n    \\n    for letter in mystring:\\n        print(letter)\\n        print(mystring.index(letter))\\n        if mystring.index(letter) + 1 % 2 == 0:\\n            updated_string.join(letter.upper())\\n        else:\\n            updated_string.join(letter.lower())\\n            continue\\n        \\n    return updated_string\",\n",
       "  \"myfunc1('Anthropomorphism')\",\n",
       "  \"def myfunc1(mystring):\\n    \\n    updated_string = ''\\n    \\n    for letter in mystring:\\n        print(letter)\\n        print(mystring.index(letter) + 1)\\n        if mystring.index(letter) + 1 % 2 == 0:\\n            updated_string.join(letter.upper())\\n        else:\\n            updated_string.join(letter.lower())\\n            continue\\n        \\n    return updated_string\",\n",
       "  \"myfunc1('Anthropomorphism')\",\n",
       "  \"def myfunc1(mystring):\\n    \\n    updated_string = ''\\n    \\n    for letter in mystring:\\n        print(letter)\\n        print(mystring.index(letter) + 1)\\n        if (mystring.index(letter) + 1) % 2 == 0:\\n            updated_string.join(letter.upper())\\n        else:\\n            updated_string.join(letter.lower())\\n            continue\\n        \\n    return updated_string\",\n",
       "  \"myfunc1('Anthropomorphism')\",\n",
       "  \"def myfunc1(mystring):\\n    \\n    updated_string = ''\\n    \\n    for letter in mystring:\\n        print(letter)\\n        print(mystring.index(letter) + 1)\\n        if (mystring.index(letter) + 1) % 2 == 0:\\n            updated_string + letter.upper()\\n        else:\\n            updated_string + letter.lower()\\n            continue\\n        \\n    return updated_string\",\n",
       "  \"myfunc1('Anthropomorphism')\",\n",
       "  \"def myfunc1(mystring):\\n    \\n    updated_string = ''\\n    \\n    for letter in mystring:\\n        print(letter)\\n        print(mystring.index(letter) + 1)\\n        if (mystring.index(letter) + 1) % 2 == 0:\\n            updated_string + letter.upper()\\n        else:\\n            updated_string + letter.lower()\\n        \\n    return updated_string\",\n",
       "  \"myfunc1('Anthropomorphism')\",\n",
       "  \"def myfunc1(mystring):\\n    \\n    updated_string = ''\\n    \\n    for letter in mystring:\\n        print(letter)\\n        print(mystring.index(letter) + 1)\\n        print(letter.upper(), letter.lower())\\n        if (mystring.index(letter) + 1) % 2 == 0:\\n            updated_string + letter.upper()\\n        else:\\n            updated_string + letter.lower()\\n        \\n    return updated_string\",\n",
       "  \"myfunc1('Anthropomorphism')\",\n",
       "  \"def myfunc1(mystring):\\n    \\n    updated_string = ''\\n    \\n    for letter in mystring:\\n        print(letter)\\n        print(mystring.index(letter) + 1)\\n        print(letter.upper(), letter.lower())\\n        updated_string + letter.upper() + letter.lower()\\n        if (mystring.index(letter) + 1) % 2 == 0:\\n            updated_string + letter.upper()\\n        else:\\n            updated_string + letter.lower()\\n        \\n    return updated_string\",\n",
       "  \"myfunc1('Anthropomorphism')\",\n",
       "  \"def myfunc1(mystring):\\n    \\n    updated_string = ''\\n    \\n    for letter in mystring:\\n        print(letter)\\n        print(mystring.index(letter) + 1)\\n        print(letter.upper(), letter.lower())\\n        if (mystring.index(letter) + 1) % 2 == 0:\\n            updated_string += letter.upper()\\n        else:\\n            updated_string += letter.lower()\\n        \\n    return updated_string\",\n",
       "  \"myfunc1('Anthropomorphism')\",\n",
       "  \"def myfunc1(mystring):\\n    \\n    updated_string = ''\\n    \\n    for letter in mystring:\\n        if (mystring.index(letter) + 1) % 2 == 0:\\n            updated_string += letter.upper()\\n        else:\\n            updated_string += letter.lower()\\n        \\n    return updated_string\",\n",
       "  \"myfunc1('Anthropomorphism')\",\n",
       "  \"def myfunc1(mystring):\\n    \\n    updated_string = ''\\n    \\n    for letter in mystring:\\n        if (mystring.index(letter) + 1) % 2 == 0:\\n            updated_string += letter.upper()\\n        elif (mystring.index(letter) + 1) % 2 != 0:\\n            updated_string += letter.lower()\\n        \\n    return updated_string\",\n",
       "  \"myfunc1('Anthropomorphism')\",\n",
       "  \"def myfunc1(mystring):\\n    \\n    updated_string = ''\\n    \\n    for letter in mystring:\\n        if (mystring.index(letter) + 1) % 2 == 0:\\n            updated_string += letter.upper()\\n        elif (mystring.index(letter) + 1) % 2 != 0:\\n            updated_string += letter.lower()\\n        else:\\n            pass\\n    return updated_string\",\n",
       "  \"myfunc1('Anthropomorphism')\",\n",
       "  \"def myfunc1(mystring):\\n    \\n    updated_string = ''\\n    \\n    for letter in mystring:\\n        if (mystring.index(letter) + 1) % 2 == 0:\\n            updated_string += letter.upper()\\n        elif (mystring.index(letter) + 1) % 2 != 0:\\n            updated_string += letter.lower()\\n        else:\\n            continue\\n    return updated_string\",\n",
       "  \"myfunc1('Anthropomorphism')\",\n",
       "  \"def myfunc1(mystring):\\n    \\n    updated_string = ''\\n    \\n    for letter in mystring:\\n        print(letter, mystring.index(letter))\\n        if (mystring.index(letter) + 1) % 2 == 0:\\n            updated_string += letter.upper()\\n        elif (mystring.index(letter) + 1) % 2 != 0:\\n            updated_string += letter.lower()\\n        else:\\n            continue\\n    return updated_string\",\n",
       "  \"myfunc1('Anthropomorphism')\",\n",
       "  \"def myfunc1(mystring):\\n    \\n    updated_string = ''\\n    \\n    for index,letter in mystring:\\n        if (index + 1) % 2 == 0:\\n            updated_string += letter.upper()\\n        else:\\n            updated_string += letter.lower()\\n            \\n    return updated_string\",\n",
       "  \"myfunc1('Anthropomorphism')\",\n",
       "  \"def myfunc1(mystring):\\n    \\n    updated_string = ''\\n    \\n    for index,letter in enumerate(mystring):\\n        if (index + 1) % 2 == 0:\\n            updated_string += letter.upper()\\n        else:\\n            updated_string += letter.lower()\\n            \\n    return updated_string\",\n",
       "  \"myfunc1('Anthropomorphism')\",\n",
       "  'def square(num):\\n    return num**2',\n",
       "  'my_nums = [1,2,3,4,5]',\n",
       "  'my_nums = [1,2,3,4,5]',\n",
       "  'map(square, my_nums)',\n",
       "  'for item in map(square, my_nums):\\n    print(item)',\n",
       "  'list(map(square, my_nums))',\n",
       "  \"def splicer(mystring):\\n    if len(mystring) % 2 ==0:\\n        return 'EVEN'\\n    else:\\n        return mystring[0]\",\n",
       "  \"names = ['Andy', 'Eve', 'Sally']\",\n",
       "  'list(map(splicer, names))',\n",
       "  'list(map(splicer(), names))',\n",
       "  'list(map(splicer(names), names))',\n",
       "  'list(map(splicer(), names))',\n",
       "  'def check_even(num):\\n    return num % 2 == 0',\n",
       "  'mynums = [1,2,3,4,5,6,7,8,9,10]',\n",
       "  'filter(check_even, mynums)',\n",
       "  'list(filter(check_even, mynums))',\n",
       "  \"teststring = 'abcdef'\",\n",
       "  'map(lambda num:num**2, mynums)',\n",
       "  'list(map(lambda num:num**2, mynums))',\n",
       "  'list(filter(lambda num:num % 2 == 0))',\n",
       "  'list(filter(lambda num:num % 2 == 0, mynums))',\n",
       "  'names',\n",
       "  'list(map(lambda name:name[0], names))',\n",
       "  'list(map(lambda name:name[::-1], names))',\n",
       "  'x = 25\\n\\ndef printer():\\n    x = 50\\n    return x',\n",
       "  'print(x)',\n",
       "  'x = 25\\n\\ndef printer():\\n    x = 50\\n    return x',\n",
       "  '#NESTED STATEMENTS AND SCOPE',\n",
       "  'print(printer())',\n",
       "  '#Local\\n\\n# x is local here:\\nf = lambda x:x**2',\n",
       "  \"#Global\\nname = 'This is a global name'\\n\\ndef greet():\\n    # Enclosing function\\n    name = 'Sammy'\\n    \\n    def hello():\\n        #Local\\n        name = 'Sam'\\n        print('Hello '+name)\\n    \\n    hello()\\n\\ngreet()\",\n",
       "  \"x = 50\\n\\ndef func(x):\\n    print('x is', x)\\n    x = 2\\n    print('Changed local x to', x)\\n\\nfunc(x)\\nprint('x is still', x)\",\n",
       "  \"x = 50\\n\\ndef func():\\n    global x\\n    print('This function is now using the global x!')\\n    print('Because of global x is: ', x)\\n    x = 2\\n    print('Ran func(), changed global x to', x)\\n\\nprint('Before calling func(), x is: ', x)\\nfunc()\\nprint('Value of x (outside of func()) is: ', x)\",\n",
       "  \"#Global x\\nx = 50\\n\\ndef func():\\n    global x\\n    print('This function is now using the global x!')\\n    print('Because of global x is: ', x)\\n    #Local reassignment on a global variable!\\n    x = 2\\n    print('Ran func(), changed global x to', x)\\n\\nprint('Before calling func(), x is: ', x)\\nfunc()\\nprint('Value of x (outside of func()) is: ', x)\",\n",
       "  \"#Global x\\nx = 50\\n\\ndef func():\\n    global x\\n    print('This function is now using the global x!')\\n    print('Because of global x is: ', x)\\n    #Local reassignment on a global variable!\\n    x = 2\\n    print('Ran func(), changed global x to', x)\\n\\nprint('Before calling func(), x is: ', x)\\nfunc()\\nprint('Value of x (outside of func()) is: ', x)\",\n",
       "  'x',\n",
       "  '#Method 2 for using global variables and reassigning them!',\n",
       "  \"#Method 2 for using global variables and reassigning them! Much cleaner and safer way \\n#to change and use global variables, especially for beginners in Python.\\n\\nx = 50\\n\\ndef func(x):\\n    print(f'X is {x}')\\n    #Local reassignment on a global variable!\\n    x = 'New Value'\\n    print(f'(I jsut locally changed global x to {x}')\\n    return x\",\n",
       "  'print(x)',\n",
       "  'x = func(x)',\n",
       "  \"#Method 2 for using global variables and reassigning them! Much cleaner and safer way \\n#to change and use global variables, especially for beginners in Python.\\n\\nx = 50\\n\\ndef func(x):\\n    print(f'X is {x}')\\n    #Local reassignment on a global variable!\\n    x = 'New Value'\\n    print(f'I just locally changed global x to {x}')\\n    return x\",\n",
       "  'print(x)',\n",
       "  'x = func(x)',\n",
       "  'x',\n",
       "  \"#Method 2 for using global variables and reassigning them! Much cleaner and safer way \\n#to change and use global variables, especially for beginners in Python. Easier to debug\\n\\nx = 50\\n\\ndef func(x):\\n    print(f'X is {x}')\\n    #Local reassignment on a global variable!\\n    x = 'New Value'\\n    print(f'I just locally changed global x to {x}')\\n    return x\",\n",
       "  'print(x)',\n",
       "  'print(x)',\n",
       "  'x = func(x)',\n",
       "  'x',\n",
       "  'locals()'],\n",
       " 'Out': {2: <function list.insert(index, object, /)>,\n",
       "  8: <function __main__.say_hello()>,\n",
       "  16: 30,\n",
       "  18: 30,\n",
       "  22: 30,\n",
       "  24: 30,\n",
       "  29: NoneType,\n",
       "  30: 30,\n",
       "  32: 30,\n",
       "  34: int,\n",
       "  36: 30,\n",
       "  37: 0,\n",
       "  38: False,\n",
       "  39: 1,\n",
       "  40: True,\n",
       "  41: True,\n",
       "  42: True,\n",
       "  43: 1,\n",
       "  44: True,\n",
       "  45: 1,\n",
       "  46: False,\n",
       "  48: True,\n",
       "  49: False,\n",
       "  55: True,\n",
       "  56: True,\n",
       "  57: True,\n",
       "  60: False,\n",
       "  61: False,\n",
       "  62: False,\n",
       "  64: False,\n",
       "  65: True,\n",
       "  67: False,\n",
       "  68: True,\n",
       "  70: [2, 4, 6, 8, 10],\n",
       "  71: [],\n",
       "  79: ('Cassie', 800),\n",
       "  81: ('Cassie', 800),\n",
       "  83: 'Cassie',\n",
       "  84: 800,\n",
       "  87: ('Cassie', 800),\n",
       "  92: [3, 7, 2, 6, 4, 5, 1],\n",
       "  96: [3, 7, 2, 6, 4, 5, 1],\n",
       "  98: ['O', ' ', ' '],\n",
       "  99: ['O', ' ', ' '],\n",
       "  103: 1,\n",
       "  105: 1,\n",
       "  114: 5.0,\n",
       "  115: 3.0,\n",
       "  117: 22.0,\n",
       "  119: 22.0,\n",
       "  137: 0,\n",
       "  138: <function str.upper()>,\n",
       "  139: 'A',\n",
       "  140: 'a',\n",
       "  141: 'abc',\n",
       "  148: '',\n",
       "  150: '',\n",
       "  152: '',\n",
       "  155: '',\n",
       "  157: '',\n",
       "  159: '',\n",
       "  161: '',\n",
       "  163: '',\n",
       "  165: '',\n",
       "  167: '',\n",
       "  169: '',\n",
       "  171: '',\n",
       "  173: '',\n",
       "  175: '',\n",
       "  177: 'aNtHrOpOmOrpHIsm',\n",
       "  179: 'aNtHrOpOmOrpHIsm',\n",
       "  181: 'aNtHrOpOmOrpHIsm',\n",
       "  183: 'aNtHrOpOmOrpHIsm',\n",
       "  185: 'aNtHrOpOmOrpHIsm',\n",
       "  187: 'aNtHrOpOmOrpHIsm',\n",
       "  191: 'aNtHrOpOmOrPhIsM',\n",
       "  195: <map at 0x10f89ba30>,\n",
       "  197: [1, 4, 9, 16, 25],\n",
       "  200: ['EVEN', 'E', 'S'],\n",
       "  206: <filter at 0x10f7853f0>,\n",
       "  207: [2, 4, 6, 8, 10],\n",
       "  209: <map at 0x10f7ac880>,\n",
       "  210: [1, 4, 9, 16, 25, 36, 49, 64, 81, 100],\n",
       "  212: [2, 4, 6, 8, 10],\n",
       "  213: ['Andy', 'Eve', 'Sally'],\n",
       "  214: ['A', 'E', 'S'],\n",
       "  215: ['ydnA', 'evE', 'yllaS'],\n",
       "  227: 2,\n",
       "  235: 'New Value',\n",
       "  240: 'New Value'},\n",
       " 'get_ipython': <bound method InteractiveShell.get_ipython of <ipykernel.zmqshell.ZMQInteractiveShell object at 0x10e5e7680>>,\n",
       " 'exit': <IPython.core.autocall.ZMQExitAutocall at 0x10e615ca0>,\n",
       " 'quit': <IPython.core.autocall.ZMQExitAutocall at 0x10e615ca0>,\n",
       " 'open': <function _io.open(file, mode='r', buffering=-1, encoding=None, errors=None, newline=None, closefd=True, opener=None)>,\n",
       " '_': 'New Value',\n",
       " '__': 'New Value',\n",
       " '___': 2,\n",
       " '__session__': '/Users/felipegomez/GitHub/PythonPractice/Untitled.ipynb',\n",
       " '_i': 'x',\n",
       " '_ii': 'x = func(x)',\n",
       " '_iii': 'print(x)',\n",
       " '_i1': 'mylist = [1,2,3,4]',\n",
       " 'mylist': [1, 2, 3, 4],\n",
       " '_i2': \"mylist.insert #then click 'shift + tab'\",\n",
       " '_2': <function list.insert(index, object, /)>,\n",
       " '_i3': 'help(mylist.insert）',\n",
       " '_i4': 'help(mylist.insert)',\n",
       " '_i5': '?mylist.insert',\n",
       " '_i6': 'def say_hello():\\n    print(\"Hello\")',\n",
       " 'say_hello': <function __main__.say_hello(name='Default')>,\n",
       " '_i7': 'say_hello()',\n",
       " '_i8': 'say_hello',\n",
       " '_8': <function __main__.say_hello()>,\n",
       " '_i9': \"def say_hello(name):\\n    print(f'Hello {name}')\",\n",
       " '_i10': \"say_hello('Felipe')\",\n",
       " '_i11': 'say_hello()',\n",
       " '_i12': \"def say_hello(name='Default'):\\n    print(f'Hello {name}')\",\n",
       " '_i13': 'say_hello()',\n",
       " '_i14': \"say_hello('Felipe')\",\n",
       " '_i15': 'def add_num(num1,num2):\\n    return num1 + num2',\n",
       " 'add_num': <function __main__.add_num(num1, num2)>,\n",
       " '_i16': 'add_num(10,20)',\n",
       " '_16': 30,\n",
       " '_i17': 'result = add_num(10,20)',\n",
       " 'result': 30,\n",
       " '_i18': 'result',\n",
       " '_18': 30,\n",
       " '_i19': 'def print_result(a,b):\\n    print(a+b)',\n",
       " 'print_result': None,\n",
       " '_i20': 'def return_result(a,b):\\n    return a+b',\n",
       " 'return_result': <function __main__.return_result(a, b)>,\n",
       " '_i21': 'print_result(10,20)',\n",
       " '_i22': 'return_result(10,20)',\n",
       " '_22': 30,\n",
       " '_i23': 'print_result(10,20)',\n",
       " '_i24': 'return_result(10,20)',\n",
       " '_24': 30,\n",
       " '_i25': \"#there is no output cell showing you that a variable's being returned.\\n\\nprint_result(10,20)\",\n",
       " '_i26': \"#there is no output cell showing you that a variable's being returned. Instead its just printing out the result.\\n\\nprint_result(10,20)\",\n",
       " '_i27': 'print_result = print_result(10,20)',\n",
       " '_i28': 'print_result',\n",
       " '_i29': 'type(print_result)',\n",
       " '_29': NoneType,\n",
       " '_i30': 'return_result(10,20)',\n",
       " '_30': 30,\n",
       " '_i31': 'returnresult = return_result(10,20)',\n",
       " 'returnresult': 30,\n",
       " '_i32': 'returnresult',\n",
       " '_32': 30,\n",
       " '_i33': '#Both print and return a+b\\n\\ndef myfunc(a,b):\\n    print(a+b)\\n    return a+b',\n",
       " 'myfunc': <function __main__.myfunc(*args, **kwargs)>,\n",
       " '_i34': 'type(returnresult)',\n",
       " '_34': int,\n",
       " '_i35': 'result1 = myfunc(10,20)',\n",
       " 'result1': 30,\n",
       " '_i36': 'result1',\n",
       " '_36': 30,\n",
       " '_i37': '2 % 2',\n",
       " '_37': 0,\n",
       " '_i38': '2 % 2 == True',\n",
       " '_38': False,\n",
       " '_i39': '3 % 2',\n",
       " '_39': 1,\n",
       " '_i40': '2 % 2 == 0',\n",
       " '_40': True,\n",
       " '_i41': '2 % 2 == False',\n",
       " '_41': True,\n",
       " '_i42': '2 % 2 == 0',\n",
       " '_42': True,\n",
       " '_i43': '3 % 2',\n",
       " '_43': 1,\n",
       " '_i44': '2 % 2 == 0',\n",
       " '_44': True,\n",
       " '_i45': '3 % 2',\n",
       " '_45': 1,\n",
       " '_i46': '3 % 2 == 0',\n",
       " '_46': False,\n",
       " '_i47': 'def even_check(number):\\n    result = number % 2 == 0\\n    return result',\n",
       " 'even_check': <function __main__.even_check(number)>,\n",
       " '_i48': 'even_check(20)',\n",
       " '_48': True,\n",
       " '_i49': 'even_check(21)',\n",
       " '_49': False,\n",
       " '_i50': '#Another way to define even_check()',\n",
       " '_i51': '#Another way to define even_check()\\n\\ndef even_check(number):\\n    return number % 2 == 0',\n",
       " '_i52': \"# RETURN TRUE IF ANY NUMBER IS EVEN INSIDE A LIST, OTHERWISE IT WILL NOT RETURN ANYTHING\\n\\ndef check_even_list(num_list):\\n\\n    for number in num_list:\\n        if number % 2 == 0:\\n            return True\\n        else:\\n            pass #pass just means don't do anything\",\n",
       " 'check_even_list': <function __main__.check_even_list(num_list)>,\n",
       " '_i53': \"# RETURN TRUE IF ANY NUMBER IS EVEN INSIDE A LIST, OTHERWISE IT WILL NOT RETURN ANYTHING\\n\\ndef check_even_list(num_list):\\n\\n    for number in num_list:\\n        if number % 2 == 0:\\n            return True #return is actually in the middle of the function. It doesn't always have to go at the end. In fact, you can have multiple returns inside of a function.\\n        else:\\n            pass #pass just means don't do anything\",\n",
       " '_i54': 'check_even_list([1,3,5])',\n",
       " '_i55': 'check_even_list([2,4,5])',\n",
       " '_55': True,\n",
       " '_i56': 'check_even_list([2,1,1,1])',\n",
       " '_56': True,\n",
       " '_i57': 'check_even_list([1,1,1,2])',\n",
       " '_57': True,\n",
       " '_i58': \"# RETURN TRUE IF ANY NUMBER IS EVEN INSIDE A LIST, OTHERWISE IT WILL NOT RETURN ANYTHING\\n\\ndef check_even_list(num_list):\\n\\n    for number in num_list:\\n        if number % 2 == 0:\\n            return True #return is actually in the middle of the function. \\n            #You can think of this return statement as essentially going to break off the entire function. Once you call return, that's it.\\n            #It doesn't always have to go at the end. In fact, you can have multiple returns inside of a function.\\n        else:\\n            pass #pass just means don't do anything\",\n",
       " '_i59': '# IF WE TRY ADDING FALSE IF NO NUMBERS ARE EVEN IN LIST\\n\\n#BEGINNER/ROOKIE MISTAKE CODE:\\ndef check_even_list(num_list):\\n    for number in num_list:\\n        if number % 2 == 0:\\n            return True\\n        else:\\n            return False # WRONG!!!!!!!!! BECAUSE IF THE FIRST ELEMENT IN OUR LIST IS ODD BUT WE HAVE EVEN NUMBERS IN OUR LIST THEN\\n                         # OUR FUNCTION WILL RETURN FALSE EVEN THOUGH IT SHOULD RETURN TRUE!\\n            # BEGGINNERS MAKE THE MISTAKE THAT ALL THE RETURN STATEMENTS SHOULD HAVE THE SAME LEVEL OF INDENTATION, WHICH IS NOT TRUE!!!\\n            #',\n",
       " '_i60': 'check_even_list([1,3,5])',\n",
       " '_60': False,\n",
       " '_i61': '#THIS IS AN EXAMPLE WHERE OUR FUNCTION FAILS\\ncheck_even_list([1,2,5])',\n",
       " '_61': False,\n",
       " '_i62': '#THIS IS AN EXAMPLE WHERE OUR FUNCTION FAILS. IT SHOULD RETURN TRUE!\\ncheck_even_list([1,2,5])',\n",
       " '_62': False,\n",
       " '_i63': '#CORRECT CODE\\n\\ndef check_even_list(num_list):\\n    for number in num_list:\\n        if number % 2 == 0:\\n            return True\\n        else:\\n            pass\\n    return False',\n",
       " '_i64': 'check_even_list([1,3,5])',\n",
       " '_64': False,\n",
       " '_i65': 'check_even_list([1,2,5])',\n",
       " '_65': True,\n",
       " '_i66': \"#CORRECT CODE\\n#WHAT THIS IS SAYING IS THAT IF WE COMPLETED AND WE NEVER BROKE OUT OF THE FUNCTION WITH OUR RETURN STATEMENT, THEN RETURN FALSE\\n#WE WANT TO LOOP THROUGH ALL THE NUMBERS FIRST AND WE CAN SUE THESE PASS STATEMENTS AS PLACEHOLDERS TO ESSENTIALLY SAY, DON'T DO ANYTHING\\n#AND THEN IF WE DO NOT BREAK OUT OF OUR FUNCTION, THEN WE CAN SAFELY SAY WE HAVE NO EVEN NUMBERS IN OUR LIST AND RETURN FALSE.\\n\\ndef check_even_list(num_list):\\n    for number in num_list:\\n        if number % 2 == 0:\\n            return True\\n        else:\\n            pass\\n    return False\",\n",
       " '_i67': 'check_even_list([1,3,5])',\n",
       " '_67': False,\n",
       " '_i68': 'check_even_list([1,2,5])',\n",
       " '_68': True,\n",
       " '_i69': '# RETURN ALL THE EVEN NUMBERS IN A LIST. RETURN AN EMPTY LIST IF NONE ARE EVEN\\n\\ndef return_even_list(num_list):\\n    #placeholder variables for list of even numbers\\n    even_numbers = []\\n\\n    for number in num_list:\\n        if number % 2 == 0:\\n            even_numbers.append(number)\\n        else:\\n            pass\\n    return even_numbers',\n",
       " 'return_even_list': <function __main__.return_even_list(num_list)>,\n",
       " '_i70': 'return_even_list([1,2,3,4,5,6,7,8,9,10])',\n",
       " '_70': [2, 4, 6, 8, 10],\n",
       " '_i71': 'return_even_list([1,3,5])',\n",
       " '_71': [],\n",
       " '_i72': '#TUPLE UNPACKING WIHT PYTHON FUNCTIONS',\n",
       " '_i73': \"stock_prices = [('APPL', 200), ('GOOG', 400), ('MSFT', 100)]\",\n",
       " 'stock_prices': [('APPL', 200), ('GOOG', 400), ('MSFT', 100)],\n",
       " '_i74': 'for item in stock_prices:\\n    print(item)',\n",
       " 'item': 25,\n",
       " '_i75': 'for ticker,price in stock_prices:\\n    print(ticker)',\n",
       " 'ticker': 'MSFT',\n",
       " 'price': 100,\n",
       " '_i76': 'for ticker,price in stock_prices:\\n    print(price + (.1*price))',\n",
       " '_i77': \"work_hours = [('Abby', 100), ('Billy', 400), ('Cassie', 800)]\",\n",
       " 'work_hours': [('Abby', 100), ('Billy', 400), ('Cassie', 800)],\n",
       " '_i78': \"def employee_check(work_hours):\\n\\n    current_max = 0\\n    employee_of_month = ''\\n\\n    for employee,hours in work_hours:\\n        if hours > current_max:\\n            current_max = hours\\n            employee_of_month = employee\\n        else:\\n            pass\\n    return (employee_of_month, current_max)\",\n",
       " 'employee_check': <function __main__.employee_check(work_hours)>,\n",
       " '_i79': 'employee_check(work_hours)',\n",
       " '_79': ('Cassie', 800),\n",
       " '_i80': 'result_ec = employee_check(work_hours)',\n",
       " 'result_ec': ('Cassie', 800),\n",
       " '_i81': 'result_ec',\n",
       " '_81': ('Cassie', 800),\n",
       " '_i82': 'name,hours = employee_check(work_hours)',\n",
       " 'name': 'This is a global name',\n",
       " 'hours': 800,\n",
       " '_i83': 'name',\n",
       " '_83': 'Cassie',\n",
       " '_i84': 'hours',\n",
       " '_84': 800,\n",
       " '_i85': 'name,hours,location = employee_check(work_hours)',\n",
       " '_i86': 'item = employee_check(work_hours)',\n",
       " '_i87': 'item',\n",
       " '_87': ('Cassie', 800),\n",
       " '_i88': '#Guessing Game: \"Three Cup Monte\"',\n",
       " '_i89': 'from random import shuffle',\n",
       " 'shuffle': <bound method Random.shuffle of <random.Random object at 0x7f8fc884d420>>,\n",
       " '_i90': 'example = [1,2,3,4,5,6,7]',\n",
       " 'example': [3, 7, 2, 6, 4, 5, 1],\n",
       " '_i91': 'shuffle(example)',\n",
       " '_i92': 'example',\n",
       " '_92': [3, 7, 2, 6, 4, 5, 1],\n",
       " '_i93': \"shuffle(example) #shuffle is an inplace function, it doesn't actually return anything, so if we want to set a variable equal to\\n#the shuffled list, we would have to create a function to do this.\",\n",
       " '_i94': 'def shuffle_list(mylist):\\n    shuffle(mylist)\\n    return mylist',\n",
       " 'shuffle_list': <function __main__.shuffle_list(mylist)>,\n",
       " '_i95': 'resultshuffle = shuffle_list(example)',\n",
       " 'resultshuffle': [3, 7, 2, 6, 4, 5, 1],\n",
       " '_i96': 'resultshuffle',\n",
       " '_96': [3, 7, 2, 6, 4, 5, 1],\n",
       " '_i97': \"mygamelist = [' ', 'O', ' ']\",\n",
       " 'mygamelist': ['O', ' ', ' '],\n",
       " '_i98': 'shuffle_list(mygamelist)',\n",
       " '_98': ['O', ' ', ' '],\n",
       " '_i99': 'shuffle_list(mygamelist)',\n",
       " '_99': ['O', ' ', ' '],\n",
       " '_i100': 'def player_guess():',\n",
       " '_i101': 'def player_guess():\\n    guess = \\'\\'\\n    while guess not in [\\'0\\', \\'1\\', \\'2\\']:\\n        guess = input(\"Pick a number: 0, 1, or 2\")\\n\\n    return int(guess) # we must convert to int because input function returns a string.',\n",
       " 'player_guess': <function __main__.player_guess()>,\n",
       " '_i102': 'def player_guess():\\n    guess = \\'\\'\\n    while guess not in [\\'0\\', \\'1\\', \\'2\\']:\\n        guess = input(\"Pick a number: 0, 1, or 2\")\\n\\n    return int(guess) # we must convert to int because input function returns a string. We also need it as an integer to \\n#directly index off of our game list.',\n",
       " '_i103': 'player_guess()',\n",
       " '_103': 1,\n",
       " '_i104': 'myindex = player_guess()',\n",
       " 'myindex': 1,\n",
       " '_i105': 'myindex',\n",
       " '_105': 1,\n",
       " '_i106': '#Our last function will combine our shuffle_list(mylist) function with our player_guess() function and will\\n#check to see if our guess is the correct guess and correct index for \\'O\\' in our mygamelist.\\n\\ndef check_guess(mylist, guess):\\n    if mylist[guess] == \\'O\\':\\n        print(\\'Correct!\\')\\n    else:\\n        print(\"Wrong guess!\")\\n        print(mylist)',\n",
       " 'check_guess': <function __main__.check_guess(mylist, guess)>,\n",
       " '_i107': '#Our last functions will combine our shuffle_list(mylist) function with our player_guess() function and will\\n#check to see if our guess is the correct guess and correct index for \\'O\\' in our mygamelist.\\n\\ndef check_guess(mylist, guess):\\n    if mylist[guess] == \\'O\\':\\n        print(\\'Correct!\\')\\n    else:\\n        print(\"Wrong guess!\")\\n        print(mylist)',\n",
       " '_i108': '#Our last function will combine our shuffle_list(mylist) function with our player_guess() function and will\\n#check to see if our guess is the correct guess and correct index for \\'O\\' in our mygamelist.\\n\\ndef check_guess(mylist, guess):\\n    if mylist[guess] == \\'O\\':\\n        print(\\'Correct!\\')\\n    else:\\n        print(\"Wrong guess!\")\\n        print(mylist)',\n",
       " '_i109': \"#OUR LAST SCRIPT WILL CALL ALL FUNCTIONS IN ORDER AND WILL RETURN WHETHER WE ARE CORRECT IN OUR GUESS.\\n\\n#INITIAL LIST\\nmygamelist = [' ', 'O', ' ']\\n\\n#SHUFFLE LIST\\nmixedup_list = shuffle_list(mygamelist)\\n\\n#USER GUESS\\nguess = player_guess()\\n\\n#CHECK\\ncheck_guess(mixedup_list, guess)\",\n",
       " 'mixedup_list': ['O', ' ', ' '],\n",
       " 'guess': 1,\n",
       " '_i110': '#Our last function will combine our shuffle_list(mylist) function with our player_guess() function and will\\n#check to see if our guess is the correct guess and correct index for \\'O\\' in our mygamelist.\\n#We are not actually returning anything. We are just showing whether we are correct or wrong in our guess and our final shuffled list.\\n\\ndef check_guess(mylist, guess):\\n    if mylist[guess] == \\'O\\':\\n        print(\\'Correct!\\')\\n    else:\\n        print(\"Wrong guess!\")\\n        print(mylist)',\n",
       " '_i111': \"#OUR LAST SCRIPT WILL CALL ALL FUNCTIONS IN ORDER AND WILL RETURN WHETHER WE ARE CORRECT IN OUR GUESS.\\n\\n#INITIAL LIST\\nmygamelist = [' ', 'O', ' ']\\n\\n#SHUFFLE LIST\\nmixedup_list = shuffle_list(mygamelist)\\n\\n#USER GUESS\\nguess = player_guess()\\n\\n#CHECK\\ncheck_guess(mixedup_list, guess)\",\n",
       " '_i112': '# *args and **kwargs',\n",
       " '_i113': 'def myfunc(a,b):\\n    return sum(a,b)*.05\\n\\nmyfunc(40,60)',\n",
       " '_i114': 'def myfunc(a,b):\\n    return sum((a,b))*.05\\n\\nmyfunc(40,60)',\n",
       " '_114': 5.0,\n",
       " '_i115': '#METHOD 1 OF ADDING MORE ARGUMENTS\\ndef myfunc(a,b,c=0,d=0,e=0):\\n    return sum((a,b,c,d,e))*.05\\n\\nmyfunc(10,20,30)',\n",
       " '_115': 3.0,\n",
       " '_i116': '#METHOD 1 OF ADDING MORE ARGUMENTS\\ndef myfunc(a,b,c=0,d=0,e=0):\\n    return sum((a,b,c,d,e))*.05\\n\\nmyfunc(10,20,30,10,10,100,100,100)',\n",
       " '_i117': '#METHOD 2 USING *ARGS IN OUR FUNCTION DEFINITION\\n\\ndef myfunc(*args):\\n    return sum((args))*.05\\n\\nmyfunc(10,10,10,10,100,100,100,100)',\n",
       " '_117': 22.0,\n",
       " '_i118': 'def myfunc(*args):\\n    for item in args:\\n        print(item)\\n\\nmyfunc(40,60,100,1,34)',\n",
       " '_i119': '#METHOD 2 USING *ARGS IN OUR FUNCTION DEFINITION\\n#*args creates a tuple of values that we pass into our function and can perform iteration, sum, etc.\\n\\ndef myfunc(*args):\\n    return sum((args))*.05\\n\\nmyfunc(10,10,10,10,100,100,100,100)',\n",
       " '_119': 22.0,\n",
       " '_i120': 'def myfunc(*args):\\n    for item in args:\\n        print(item)\\n\\nmyfunc(40,60,100,1,34)',\n",
       " '_i121': '#**kwargs STANDS FOR KEYWORDED ARGUMENTS, SIMILAR TO *ARGS BUT THIS TIME WE USE **KWARGS\\n#TO BUILD A DICTIONARY OF KEY:VALUE PAIRS',\n",
       " '_i122': \"def myfunc(**kwargs):\\n    if 'fruit' in kwargs:\\n        print(f'My fruit of choice is {kwargs['fruit']}')\\n    else:\\n        print('I did not find any fruit here')\",\n",
       " '_i123': \"myfunc(fruit='apple',vegetable='carrots')\",\n",
       " '_i124': \"#python is no longer complaining about multiple keyworded arguments because we defined myfunc with **kwargs\\nmyfunc(fruit='apple',vegetable='carrots')\",\n",
       " '_i125': \"#python is no longer complaining about multiple keyworded arguments because we defined myfunc with **kwargs\\n#which allows us to input as many key:value pairs and passes it as a dictionary to our function.\\n\\nmyfunc(fruit='apple',vegetable='carrots')\",\n",
       " '_i126': \"def myfunc(**kwargs):\\n    print(kwargs)\\n    if 'fruit' in kwargs:\\n        print(f'My fruit of choice is {kwargs['fruit']}')\\n    else:\\n        print('I did not find any fruit here')\",\n",
       " '_i127': \"#python is no longer complaining about multiple keyworded arguments because we defined myfunc with **kwargs\\n#which allows us to input as many key:value pairs and passes it as a dictionary to our function.\\n\\nmyfunc(fruit='apple',vegetable='carrots')\",\n",
       " '_i128': \"#python is no longer complaining about multiple keyworded arguments because we defined myfunc with **kwargs\\n#which allows us to input as many key:value pairs and passes it as a dictionary to our function. Now we can\\n#call it however way we want.\\n\\nmyfunc(fruit='apple',vegetable='carrots')\",\n",
       " '_i129': \"#python is no longer complaining about multiple keyworded arguments because we defined myfunc with **kwargs\\n#which allows us to input as many key:value pairs and passes it as a dictionary to our function. Now we can\\n#call it however way we want and play around with it inside our functions\\n\\nmyfunc(fruit='apple',vegetable='carrots')\",\n",
       " '_i130': \"#We can combine *args and **kwargs in the same function; *args must come before **kwargs\\n\\ndef myfunc(*ars, **kwargs):\\n    print(args)\\n    print(kwargs)\\n    print(f'I would like {args[0]} {kwargs['food']}')\",\n",
       " '_i131': \"myfunc(10,20,30,fruit='orange',food='eggs',animal='dog')\",\n",
       " '_i132': \"#We can combine *args and **kwargs in the same function; *args must come before **kwargs\\n\\ndef myfunc(*args, **kwargs):\\n    print(args)\\n    print(kwargs)\\n    print(f'I would like {args[0]} {kwargs['food']}')\",\n",
       " '_i133': \"myfunc(10,20,30,fruit='orange',food='eggs',animal='dog')\",\n",
       " '_i134': \"myfunc(10,20,30,fruit='orange',food='eggs',animal='dog', 100)\",\n",
       " '_i135': \"#We can combine *args and **kwargs in the same function; *args must come before **kwargs\\n\\ndef myfunc(**kwargs, *args):\\n    print(args)\\n    print(kwargs)\\n    print(f'I would like {args[0]} {kwargs['food']}')\",\n",
       " '_i136': \"myteststring = 'abc'\",\n",
       " 'myteststring': 'abc',\n",
       " '_i137': \"myteststring.index('a')\",\n",
       " '_137': 0,\n",
       " '_i138': \"'a'.upper\",\n",
       " '_138': <function str.upper()>,\n",
       " '_i139': \"'a'.upper()\",\n",
       " '_139': 'A',\n",
       " '_i140': \"'A'.lower()\",\n",
       " '_140': 'a',\n",
       " '_i141': \"myteststring.join('a')\\nmyteststring\",\n",
       " '_141': 'abc',\n",
       " '_i142': \"def myfunc(mystring):\\n    \\n    updated_string = ''\\n    \\n    for letter in mystring:\\n        if mystring.index(letter) % 2 == 0:\\n            updated_string.join(letter.upper())\\n        else:\\n            updated_string.join(letter.lower())\\n        \\n    return updated_string\",\n",
       " '_i143': \"#We can combine *args and **kwargs in the same function; *args must come before **kwargs\\n\\ndef myfunc(*args, **kwargs):\\n    print(args)\\n    print(kwargs)\\n    print(f'I would like {args[0]} {kwargs['food']}')\",\n",
       " '_i144': \"myfunc(10,20,30,fruit='orange',food='eggs',animal='dog')\",\n",
       " '_i145': \"myfunc(10,20,30,fruit='orange',food='eggs',animal='dog', 100)\",\n",
       " '_i146': \"#We can combine *args and **kwargs in the same function; *args must come before **kwargs\\n\\ndef myfunc(**kwargs, *args):\\n    print(args)\\n    print(kwargs)\\n    print(f'I would like {args[0]} {kwargs['food']}')\",\n",
       " '_i147': \"def myfunc1(mystring):\\n    \\n    updated_string = ''\\n    \\n    for letter in mystring:\\n        if mystring.index(letter) % 2 == 0:\\n            updated_string.join(letter.upper())\\n        else:\\n            updated_string.join(letter.lower())\\n        \\n    return updated_string\",\n",
       " 'myfunc1': <function __main__.myfunc1(mystring)>,\n",
       " '_i148': \"myfunc1('Anthropomorphism')\",\n",
       " '_148': '',\n",
       " '_i149': \"def myfunc1(mystring):\\n    \\n    updated_string = ''\\n    \\n    for letter in mystring:\\n        print(letter)\\n        if mystring.index(letter) % 2 == 0:\\n            updated_string.join(letter.upper())\\n        else:\\n            updated_string.join(letter.lower())\\n        \\n    return updated_string\",\n",
       " '_i150': \"myfunc1('Anthropomorphism')\",\n",
       " '_150': '',\n",
       " '_i151': \"def myfunc1(mystring):\\n    \\n    updated_string = ''\\n    \\n    for letter in mystring:\\n        print(letter)\\n        print(mystring.index(letter) % 2 == 0)\\n        if mystring.index(letter) % 2 == 0:\\n            updated_string.join(letter.upper())\\n        else:\\n            updated_string.join(letter.lower())\\n        \\n    return updated_string\",\n",
       " '_i152': \"myfunc1('Anthropomorphism')\",\n",
       " '_152': '',\n",
       " '_i153': \"def myfunc1(mystring):\\n    \\n    updated_string = ''\\n    \\n    for letter in mystring:\\n        print(letter)\\n        print(mystring.index(letter) % 2 == )\\n        if mystring.index(letter)+1 % 2 == 0:\\n            updated_string.join(letter.upper())\\n        else:\\n            updated_string.join(letter.lower())\\n        \\n    return updated_string\",\n",
       " '_i154': \"def myfunc1(mystring):\\n    \\n    updated_string = ''\\n    \\n    for letter in mystring:\\n        print(letter)\\n        print(mystring.index(letter) % 2 == 0)\\n        if mystring.index(letter)+1 % 2 == 0:\\n            updated_string.join(letter.upper())\\n        else:\\n            updated_string.join(letter.lower())\\n        \\n    return updated_string\",\n",
       " '_i155': \"myfunc1('Anthropomorphism')\",\n",
       " '_155': '',\n",
       " '_i156': \"def myfunc1(mystring):\\n    \\n    updated_string = ''\\n    \\n    for letter in mystring:\\n        print(letter)\\n        print(mystring.index(letter)+1 % 2 == 0)\\n        if mystring.index(letter)+1 % 2 == 0:\\n            updated_string.join(letter.upper())\\n        else:\\n            updated_string.join(letter.lower())\\n        \\n    return updated_string\",\n",
       " '_i157': \"myfunc1('Anthropomorphism')\",\n",
       " '_157': '',\n",
       " '_i158': \"def myfunc1(mystring):\\n    \\n    updated_string = ''\\n    \\n    for letter in mystring:\\n        print(letter)\\n        print(mystring.index(letter)+1 % 2 == 0)\\n        if mystring.index(letter)+1 % 2 == 0:\\n            updated_string.join(letter.upper())\\n        else:\\n            updated_string.join(letter.lower())\\n            continue\\n        \\n    return updated_string\",\n",
       " '_i159': \"myfunc1('Anthropomorphism')\",\n",
       " '_159': '',\n",
       " '_i160': \"def myfunc1(mystring):\\n    \\n    updated_string = ''\\n    \\n    for letter in mystring:\\n        print(letter)\\n        print(mystring.index(letter)+1 % 2 == 1)\\n        if mystring.index(letter)+1 % 2 == 1:\\n            updated_string.join(letter.upper())\\n        else:\\n            updated_string.join(letter.lower())\\n            continue\\n        \\n    return updated_string\",\n",
       " '_i161': \"myfunc1('Anthropomorphism')\",\n",
       " '_161': '',\n",
       " '_i162': \"def myfunc1(mystring):\\n    \\n    updated_string = ''\\n    \\n    for letter in mystring:\\n        print(letter)\\n        print(mystring.index(letter))\\n        if mystring.index(letter) + 1 % 2 == 0:\\n            updated_string.join(letter.upper())\\n        else:\\n            updated_string.join(letter.lower())\\n            continue\\n        \\n    return updated_string\",\n",
       " '_i163': \"myfunc1('Anthropomorphism')\",\n",
       " '_163': '',\n",
       " '_i164': \"def myfunc1(mystring):\\n    \\n    updated_string = ''\\n    \\n    for letter in mystring:\\n        print(letter)\\n        print(mystring.index(letter) + 1)\\n        if mystring.index(letter) + 1 % 2 == 0:\\n            updated_string.join(letter.upper())\\n        else:\\n            updated_string.join(letter.lower())\\n            continue\\n        \\n    return updated_string\",\n",
       " '_i165': \"myfunc1('Anthropomorphism')\",\n",
       " '_165': '',\n",
       " '_i166': \"def myfunc1(mystring):\\n    \\n    updated_string = ''\\n    \\n    for letter in mystring:\\n        print(letter)\\n        print(mystring.index(letter) + 1)\\n        if (mystring.index(letter) + 1) % 2 == 0:\\n            updated_string.join(letter.upper())\\n        else:\\n            updated_string.join(letter.lower())\\n            continue\\n        \\n    return updated_string\",\n",
       " '_i167': \"myfunc1('Anthropomorphism')\",\n",
       " '_167': '',\n",
       " '_i168': \"def myfunc1(mystring):\\n    \\n    updated_string = ''\\n    \\n    for letter in mystring:\\n        print(letter)\\n        print(mystring.index(letter) + 1)\\n        if (mystring.index(letter) + 1) % 2 == 0:\\n            updated_string + letter.upper()\\n        else:\\n            updated_string + letter.lower()\\n            continue\\n        \\n    return updated_string\",\n",
       " '_i169': \"myfunc1('Anthropomorphism')\",\n",
       " '_169': '',\n",
       " '_i170': \"def myfunc1(mystring):\\n    \\n    updated_string = ''\\n    \\n    for letter in mystring:\\n        print(letter)\\n        print(mystring.index(letter) + 1)\\n        if (mystring.index(letter) + 1) % 2 == 0:\\n            updated_string + letter.upper()\\n        else:\\n            updated_string + letter.lower()\\n        \\n    return updated_string\",\n",
       " '_i171': \"myfunc1('Anthropomorphism')\",\n",
       " '_171': '',\n",
       " '_i172': \"def myfunc1(mystring):\\n    \\n    updated_string = ''\\n    \\n    for letter in mystring:\\n        print(letter)\\n        print(mystring.index(letter) + 1)\\n        print(letter.upper(), letter.lower())\\n        if (mystring.index(letter) + 1) % 2 == 0:\\n            updated_string + letter.upper()\\n        else:\\n            updated_string + letter.lower()\\n        \\n    return updated_string\",\n",
       " '_i173': \"myfunc1('Anthropomorphism')\",\n",
       " '_173': '',\n",
       " '_i174': \"def myfunc1(mystring):\\n    \\n    updated_string = ''\\n    \\n    for letter in mystring:\\n        print(letter)\\n        print(mystring.index(letter) + 1)\\n        print(letter.upper(), letter.lower())\\n        updated_string + letter.upper() + letter.lower()\\n        if (mystring.index(letter) + 1) % 2 == 0:\\n            updated_string + letter.upper()\\n        else:\\n            updated_string + letter.lower()\\n        \\n    return updated_string\",\n",
       " '_i175': \"myfunc1('Anthropomorphism')\",\n",
       " '_175': '',\n",
       " '_i176': \"def myfunc1(mystring):\\n    \\n    updated_string = ''\\n    \\n    for letter in mystring:\\n        print(letter)\\n        print(mystring.index(letter) + 1)\\n        print(letter.upper(), letter.lower())\\n        if (mystring.index(letter) + 1) % 2 == 0:\\n            updated_string += letter.upper()\\n        else:\\n            updated_string += letter.lower()\\n        \\n    return updated_string\",\n",
       " '_i177': \"myfunc1('Anthropomorphism')\",\n",
       " '_177': 'aNtHrOpOmOrpHIsm',\n",
       " '_i178': \"def myfunc1(mystring):\\n    \\n    updated_string = ''\\n    \\n    for letter in mystring:\\n        if (mystring.index(letter) + 1) % 2 == 0:\\n            updated_string += letter.upper()\\n        else:\\n            updated_string += letter.lower()\\n        \\n    return updated_string\",\n",
       " '_i179': \"myfunc1('Anthropomorphism')\",\n",
       " '_179': 'aNtHrOpOmOrpHIsm',\n",
       " '_i180': \"def myfunc1(mystring):\\n    \\n    updated_string = ''\\n    \\n    for letter in mystring:\\n        if (mystring.index(letter) + 1) % 2 == 0:\\n            updated_string += letter.upper()\\n        elif (mystring.index(letter) + 1) % 2 != 0:\\n            updated_string += letter.lower()\\n        \\n    return updated_string\",\n",
       " '_i181': \"myfunc1('Anthropomorphism')\",\n",
       " '_181': 'aNtHrOpOmOrpHIsm',\n",
       " '_i182': \"def myfunc1(mystring):\\n    \\n    updated_string = ''\\n    \\n    for letter in mystring:\\n        if (mystring.index(letter) + 1) % 2 == 0:\\n            updated_string += letter.upper()\\n        elif (mystring.index(letter) + 1) % 2 != 0:\\n            updated_string += letter.lower()\\n        else:\\n            pass\\n    return updated_string\",\n",
       " '_i183': \"myfunc1('Anthropomorphism')\",\n",
       " '_183': 'aNtHrOpOmOrpHIsm',\n",
       " '_i184': \"def myfunc1(mystring):\\n    \\n    updated_string = ''\\n    \\n    for letter in mystring:\\n        if (mystring.index(letter) + 1) % 2 == 0:\\n            updated_string += letter.upper()\\n        elif (mystring.index(letter) + 1) % 2 != 0:\\n            updated_string += letter.lower()\\n        else:\\n            continue\\n    return updated_string\",\n",
       " '_i185': \"myfunc1('Anthropomorphism')\",\n",
       " '_185': 'aNtHrOpOmOrpHIsm',\n",
       " '_i186': \"def myfunc1(mystring):\\n    \\n    updated_string = ''\\n    \\n    for letter in mystring:\\n        print(letter, mystring.index(letter))\\n        if (mystring.index(letter) + 1) % 2 == 0:\\n            updated_string += letter.upper()\\n        elif (mystring.index(letter) + 1) % 2 != 0:\\n            updated_string += letter.lower()\\n        else:\\n            continue\\n    return updated_string\",\n",
       " '_i187': \"myfunc1('Anthropomorphism')\",\n",
       " '_187': 'aNtHrOpOmOrpHIsm',\n",
       " '_i188': \"def myfunc1(mystring):\\n    \\n    updated_string = ''\\n    \\n    for index,letter in mystring:\\n        if (index + 1) % 2 == 0:\\n            updated_string += letter.upper()\\n        else:\\n            updated_string += letter.lower()\\n            \\n    return updated_string\",\n",
       " '_i189': \"myfunc1('Anthropomorphism')\",\n",
       " '_i190': \"def myfunc1(mystring):\\n    \\n    updated_string = ''\\n    \\n    for index,letter in enumerate(mystring):\\n        if (index + 1) % 2 == 0:\\n            updated_string += letter.upper()\\n        else:\\n            updated_string += letter.lower()\\n            \\n    return updated_string\",\n",
       " '_i191': \"myfunc1('Anthropomorphism')\",\n",
       " '_191': 'aNtHrOpOmOrPhIsM',\n",
       " '_i192': 'def square(num):\\n    return num**2',\n",
       " 'square': <function __main__.square(num)>,\n",
       " '_i193': 'my_nums = [1,2,3,4,5]',\n",
       " 'my_nums': [1, 2, 3, 4, 5],\n",
       " '_i194': 'my_nums = [1,2,3,4,5]',\n",
       " '_i195': 'map(square, my_nums)',\n",
       " '_195': <map at 0x10f89ba30>,\n",
       " '_i196': 'for item in map(square, my_nums):\\n    print(item)',\n",
       " '_i197': 'list(map(square, my_nums))',\n",
       " '_197': [1, 4, 9, 16, 25],\n",
       " '_i198': \"def splicer(mystring):\\n    if len(mystring) % 2 ==0:\\n        return 'EVEN'\\n    else:\\n        return mystring[0]\",\n",
       " 'splicer': <function __main__.splicer(mystring)>,\n",
       " '_i199': \"names = ['Andy', 'Eve', 'Sally']\",\n",
       " 'names': ['Andy', 'Eve', 'Sally'],\n",
       " '_i200': 'list(map(splicer, names))',\n",
       " '_200': ['EVEN', 'E', 'S'],\n",
       " '_i201': 'list(map(splicer(), names))',\n",
       " '_i202': 'list(map(splicer(names), names))',\n",
       " '_i203': 'list(map(splicer(), names))',\n",
       " '_i204': 'def check_even(num):\\n    return num % 2 == 0',\n",
       " 'check_even': <function __main__.check_even(num)>,\n",
       " '_i205': 'mynums = [1,2,3,4,5,6,7,8,9,10]',\n",
       " 'mynums': [1, 2, 3, 4, 5, 6, 7, 8, 9, 10],\n",
       " '_i206': 'filter(check_even, mynums)',\n",
       " '_206': <filter at 0x10f7853f0>,\n",
       " '_i207': 'list(filter(check_even, mynums))',\n",
       " '_207': [2, 4, 6, 8, 10],\n",
       " '_i208': \"teststring = 'abcdef'\",\n",
       " 'teststring': 'abcdef',\n",
       " '_i209': 'map(lambda num:num**2, mynums)',\n",
       " '_209': <map at 0x10f7ac880>,\n",
       " '_i210': 'list(map(lambda num:num**2, mynums))',\n",
       " '_210': [1, 4, 9, 16, 25, 36, 49, 64, 81, 100],\n",
       " '_i211': 'list(filter(lambda num:num % 2 == 0))',\n",
       " '_i212': 'list(filter(lambda num:num % 2 == 0, mynums))',\n",
       " '_212': [2, 4, 6, 8, 10],\n",
       " '_i213': 'names',\n",
       " '_213': ['Andy', 'Eve', 'Sally'],\n",
       " '_i214': 'list(map(lambda name:name[0], names))',\n",
       " '_214': ['A', 'E', 'S'],\n",
       " '_i215': 'list(map(lambda name:name[::-1], names))',\n",
       " '_215': ['ydnA', 'evE', 'yllaS'],\n",
       " '_i216': 'x = 25\\n\\ndef printer():\\n    x = 50\\n    return x',\n",
       " 'x': 'New Value',\n",
       " 'printer': <function __main__.printer()>,\n",
       " '_i217': 'print(x)',\n",
       " '_i218': 'x = 25\\n\\ndef printer():\\n    x = 50\\n    return x',\n",
       " '_i219': '#NESTED STATEMENTS AND SCOPE',\n",
       " '_i220': 'print(printer())',\n",
       " '_i221': '#Local\\n\\n# x is local here:\\nf = lambda x:x**2',\n",
       " 'f': <function __main__.<lambda>(x)>,\n",
       " '_i222': \"#Global\\nname = 'This is a global name'\\n\\ndef greet():\\n    # Enclosing function\\n    name = 'Sammy'\\n    \\n    def hello():\\n        #Local\\n        name = 'Sam'\\n        print('Hello '+name)\\n    \\n    hello()\\n\\ngreet()\",\n",
       " 'greet': <function __main__.greet()>,\n",
       " '_i223': \"x = 50\\n\\ndef func(x):\\n    print('x is', x)\\n    x = 2\\n    print('Changed local x to', x)\\n\\nfunc(x)\\nprint('x is still', x)\",\n",
       " 'func': <function __main__.func(x)>,\n",
       " '_i224': \"x = 50\\n\\ndef func():\\n    global x\\n    print('This function is now using the global x!')\\n    print('Because of global x is: ', x)\\n    x = 2\\n    print('Ran func(), changed global x to', x)\\n\\nprint('Before calling func(), x is: ', x)\\nfunc()\\nprint('Value of x (outside of func()) is: ', x)\",\n",
       " '_i225': \"#Global x\\nx = 50\\n\\ndef func():\\n    global x\\n    print('This function is now using the global x!')\\n    print('Because of global x is: ', x)\\n    #Local reassignment on a global variable!\\n    x = 2\\n    print('Ran func(), changed global x to', x)\\n\\nprint('Before calling func(), x is: ', x)\\nfunc()\\nprint('Value of x (outside of func()) is: ', x)\",\n",
       " '_i226': \"#Global x\\nx = 50\\n\\ndef func():\\n    global x\\n    print('This function is now using the global x!')\\n    print('Because of global x is: ', x)\\n    #Local reassignment on a global variable!\\n    x = 2\\n    print('Ran func(), changed global x to', x)\\n\\nprint('Before calling func(), x is: ', x)\\nfunc()\\nprint('Value of x (outside of func()) is: ', x)\",\n",
       " '_i227': 'x',\n",
       " '_227': 2,\n",
       " '_i228': '#Method 2 for using global variables and reassigning them!',\n",
       " '_i229': \"#Method 2 for using global variables and reassigning them! Much cleaner and safer way \\n#to change and use global variables, especially for beginners in Python.\\n\\nx = 50\\n\\ndef func(x):\\n    print(f'X is {x}')\\n    #Local reassignment on a global variable!\\n    x = 'New Value'\\n    print(f'(I jsut locally changed global x to {x}')\\n    return x\",\n",
       " '_i230': 'print(x)',\n",
       " '_i231': 'x = func(x)',\n",
       " '_i232': \"#Method 2 for using global variables and reassigning them! Much cleaner and safer way \\n#to change and use global variables, especially for beginners in Python.\\n\\nx = 50\\n\\ndef func(x):\\n    print(f'X is {x}')\\n    #Local reassignment on a global variable!\\n    x = 'New Value'\\n    print(f'I just locally changed global x to {x}')\\n    return x\",\n",
       " '_i233': 'print(x)',\n",
       " '_i234': 'x = func(x)',\n",
       " '_i235': 'x',\n",
       " '_235': 'New Value',\n",
       " '_i236': \"#Method 2 for using global variables and reassigning them! Much cleaner and safer way \\n#to change and use global variables, especially for beginners in Python. Easier to debug\\n\\nx = 50\\n\\ndef func(x):\\n    print(f'X is {x}')\\n    #Local reassignment on a global variable!\\n    x = 'New Value'\\n    print(f'I just locally changed global x to {x}')\\n    return x\",\n",
       " '_i237': 'print(x)',\n",
       " '_i238': 'print(x)',\n",
       " '_i239': 'x = func(x)',\n",
       " '_i240': 'x',\n",
       " '_240': 'New Value',\n",
       " '_i241': 'locals()'}"
      ]
     },
     "execution_count": 241,
     "metadata": {},
     "output_type": "execute_result"
    }
   ],
   "source": [
    "locals()"
   ]
  },
  {
   "cell_type": "code",
   "execution_count": 242,
   "id": "0dbeee31-6d7e-4045-9667-b8f18d35512e",
   "metadata": {},
   "outputs": [
    {
     "data": {
      "text/plain": [
       "{'__name__': '__main__',\n",
       " '__doc__': 'Automatically created module for IPython interactive environment',\n",
       " '__package__': None,\n",
       " '__loader__': None,\n",
       " '__spec__': None,\n",
       " '__builtin__': <module 'builtins' (built-in)>,\n",
       " '__builtins__': <module 'builtins' (built-in)>,\n",
       " '_ih': ['',\n",
       "  'mylist = [1,2,3,4]',\n",
       "  \"mylist.insert #then click 'shift + tab'\",\n",
       "  'help(mylist.insert）',\n",
       "  'help(mylist.insert)',\n",
       "  \"get_ipython().run_line_magic('pinfo', 'mylist.insert')\",\n",
       "  'def say_hello():\\n    print(\"Hello\")',\n",
       "  'say_hello()',\n",
       "  'say_hello',\n",
       "  \"def say_hello(name):\\n    print(f'Hello {name}')\",\n",
       "  \"say_hello('Felipe')\",\n",
       "  'say_hello()',\n",
       "  \"def say_hello(name='Default'):\\n    print(f'Hello {name}')\",\n",
       "  'say_hello()',\n",
       "  \"say_hello('Felipe')\",\n",
       "  'def add_num(num1,num2):\\n    return num1 + num2',\n",
       "  'add_num(10,20)',\n",
       "  'result = add_num(10,20)',\n",
       "  'result',\n",
       "  'def print_result(a,b):\\n    print(a+b)',\n",
       "  'def return_result(a,b):\\n    return a+b',\n",
       "  'print_result(10,20)',\n",
       "  'return_result(10,20)',\n",
       "  'print_result(10,20)',\n",
       "  'return_result(10,20)',\n",
       "  \"#there is no output cell showing you that a variable's being returned.\\n\\nprint_result(10,20)\",\n",
       "  \"#there is no output cell showing you that a variable's being returned. Instead its just printing out the result.\\n\\nprint_result(10,20)\",\n",
       "  'print_result = print_result(10,20)',\n",
       "  'print_result',\n",
       "  'type(print_result)',\n",
       "  'return_result(10,20)',\n",
       "  'returnresult = return_result(10,20)',\n",
       "  'returnresult',\n",
       "  '#Both print and return a+b\\n\\ndef myfunc(a,b):\\n    print(a+b)\\n    return a+b',\n",
       "  'type(returnresult)',\n",
       "  'result1 = myfunc(10,20)',\n",
       "  'result1',\n",
       "  '2 % 2',\n",
       "  '2 % 2 == True',\n",
       "  '3 % 2',\n",
       "  '2 % 2 == 0',\n",
       "  '2 % 2 == False',\n",
       "  '2 % 2 == 0',\n",
       "  '3 % 2',\n",
       "  '2 % 2 == 0',\n",
       "  '3 % 2',\n",
       "  '3 % 2 == 0',\n",
       "  'def even_check(number):\\n    result = number % 2 == 0\\n    return result',\n",
       "  'even_check(20)',\n",
       "  'even_check(21)',\n",
       "  '#Another way to define even_check()',\n",
       "  '#Another way to define even_check()\\n\\ndef even_check(number):\\n    return number % 2 == 0',\n",
       "  \"# RETURN TRUE IF ANY NUMBER IS EVEN INSIDE A LIST, OTHERWISE IT WILL NOT RETURN ANYTHING\\n\\ndef check_even_list(num_list):\\n\\n    for number in num_list:\\n        if number % 2 == 0:\\n            return True\\n        else:\\n            pass #pass just means don't do anything\",\n",
       "  \"# RETURN TRUE IF ANY NUMBER IS EVEN INSIDE A LIST, OTHERWISE IT WILL NOT RETURN ANYTHING\\n\\ndef check_even_list(num_list):\\n\\n    for number in num_list:\\n        if number % 2 == 0:\\n            return True #return is actually in the middle of the function. It doesn't always have to go at the end. In fact, you can have multiple returns inside of a function.\\n        else:\\n            pass #pass just means don't do anything\",\n",
       "  'check_even_list([1,3,5])',\n",
       "  'check_even_list([2,4,5])',\n",
       "  'check_even_list([2,1,1,1])',\n",
       "  'check_even_list([1,1,1,2])',\n",
       "  \"# RETURN TRUE IF ANY NUMBER IS EVEN INSIDE A LIST, OTHERWISE IT WILL NOT RETURN ANYTHING\\n\\ndef check_even_list(num_list):\\n\\n    for number in num_list:\\n        if number % 2 == 0:\\n            return True #return is actually in the middle of the function. \\n            #You can think of this return statement as essentially going to break off the entire function. Once you call return, that's it.\\n            #It doesn't always have to go at the end. In fact, you can have multiple returns inside of a function.\\n        else:\\n            pass #pass just means don't do anything\",\n",
       "  '# IF WE TRY ADDING FALSE IF NO NUMBERS ARE EVEN IN LIST\\n\\n#BEGINNER/ROOKIE MISTAKE CODE:\\ndef check_even_list(num_list):\\n    for number in num_list:\\n        if number % 2 == 0:\\n            return True\\n        else:\\n            return False # WRONG!!!!!!!!! BECAUSE IF THE FIRST ELEMENT IN OUR LIST IS ODD BUT WE HAVE EVEN NUMBERS IN OUR LIST THEN\\n                         # OUR FUNCTION WILL RETURN FALSE EVEN THOUGH IT SHOULD RETURN TRUE!\\n            # BEGGINNERS MAKE THE MISTAKE THAT ALL THE RETURN STATEMENTS SHOULD HAVE THE SAME LEVEL OF INDENTATION, WHICH IS NOT TRUE!!!\\n            #',\n",
       "  'check_even_list([1,3,5])',\n",
       "  '#THIS IS AN EXAMPLE WHERE OUR FUNCTION FAILS\\ncheck_even_list([1,2,5])',\n",
       "  '#THIS IS AN EXAMPLE WHERE OUR FUNCTION FAILS. IT SHOULD RETURN TRUE!\\ncheck_even_list([1,2,5])',\n",
       "  '#CORRECT CODE\\n\\ndef check_even_list(num_list):\\n    for number in num_list:\\n        if number % 2 == 0:\\n            return True\\n        else:\\n            pass\\n    return False',\n",
       "  'check_even_list([1,3,5])',\n",
       "  'check_even_list([1,2,5])',\n",
       "  \"#CORRECT CODE\\n#WHAT THIS IS SAYING IS THAT IF WE COMPLETED AND WE NEVER BROKE OUT OF THE FUNCTION WITH OUR RETURN STATEMENT, THEN RETURN FALSE\\n#WE WANT TO LOOP THROUGH ALL THE NUMBERS FIRST AND WE CAN SUE THESE PASS STATEMENTS AS PLACEHOLDERS TO ESSENTIALLY SAY, DON'T DO ANYTHING\\n#AND THEN IF WE DO NOT BREAK OUT OF OUR FUNCTION, THEN WE CAN SAFELY SAY WE HAVE NO EVEN NUMBERS IN OUR LIST AND RETURN FALSE.\\n\\ndef check_even_list(num_list):\\n    for number in num_list:\\n        if number % 2 == 0:\\n            return True\\n        else:\\n            pass\\n    return False\",\n",
       "  'check_even_list([1,3,5])',\n",
       "  'check_even_list([1,2,5])',\n",
       "  '# RETURN ALL THE EVEN NUMBERS IN A LIST. RETURN AN EMPTY LIST IF NONE ARE EVEN\\n\\ndef return_even_list(num_list):\\n    #placeholder variables for list of even numbers\\n    even_numbers = []\\n\\n    for number in num_list:\\n        if number % 2 == 0:\\n            even_numbers.append(number)\\n        else:\\n            pass\\n    return even_numbers',\n",
       "  'return_even_list([1,2,3,4,5,6,7,8,9,10])',\n",
       "  'return_even_list([1,3,5])',\n",
       "  '#TUPLE UNPACKING WIHT PYTHON FUNCTIONS',\n",
       "  \"stock_prices = [('APPL', 200), ('GOOG', 400), ('MSFT', 100)]\",\n",
       "  'for item in stock_prices:\\n    print(item)',\n",
       "  'for ticker,price in stock_prices:\\n    print(ticker)',\n",
       "  'for ticker,price in stock_prices:\\n    print(price + (.1*price))',\n",
       "  \"work_hours = [('Abby', 100), ('Billy', 400), ('Cassie', 800)]\",\n",
       "  \"def employee_check(work_hours):\\n\\n    current_max = 0\\n    employee_of_month = ''\\n\\n    for employee,hours in work_hours:\\n        if hours > current_max:\\n            current_max = hours\\n            employee_of_month = employee\\n        else:\\n            pass\\n    return (employee_of_month, current_max)\",\n",
       "  'employee_check(work_hours)',\n",
       "  'result_ec = employee_check(work_hours)',\n",
       "  'result_ec',\n",
       "  'name,hours = employee_check(work_hours)',\n",
       "  'name',\n",
       "  'hours',\n",
       "  'name,hours,location = employee_check(work_hours)',\n",
       "  'item = employee_check(work_hours)',\n",
       "  'item',\n",
       "  '#Guessing Game: \"Three Cup Monte\"',\n",
       "  'from random import shuffle',\n",
       "  'example = [1,2,3,4,5,6,7]',\n",
       "  'shuffle(example)',\n",
       "  'example',\n",
       "  \"shuffle(example) #shuffle is an inplace function, it doesn't actually return anything, so if we want to set a variable equal to\\n#the shuffled list, we would have to create a function to do this.\",\n",
       "  'def shuffle_list(mylist):\\n    shuffle(mylist)\\n    return mylist',\n",
       "  'resultshuffle = shuffle_list(example)',\n",
       "  'resultshuffle',\n",
       "  \"mygamelist = [' ', 'O', ' ']\",\n",
       "  'shuffle_list(mygamelist)',\n",
       "  'shuffle_list(mygamelist)',\n",
       "  'def player_guess():',\n",
       "  'def player_guess():\\n    guess = \\'\\'\\n    while guess not in [\\'0\\', \\'1\\', \\'2\\']:\\n        guess = input(\"Pick a number: 0, 1, or 2\")\\n\\n    return int(guess) # we must convert to int because input function returns a string.',\n",
       "  'def player_guess():\\n    guess = \\'\\'\\n    while guess not in [\\'0\\', \\'1\\', \\'2\\']:\\n        guess = input(\"Pick a number: 0, 1, or 2\")\\n\\n    return int(guess) # we must convert to int because input function returns a string. We also need it as an integer to \\n#directly index off of our game list.',\n",
       "  'player_guess()',\n",
       "  'myindex = player_guess()',\n",
       "  'myindex',\n",
       "  '#Our last function will combine our shuffle_list(mylist) function with our player_guess() function and will\\n#check to see if our guess is the correct guess and correct index for \\'O\\' in our mygamelist.\\n\\ndef check_guess(mylist, guess):\\n    if mylist[guess] == \\'O\\':\\n        print(\\'Correct!\\')\\n    else:\\n        print(\"Wrong guess!\")\\n        print(mylist)',\n",
       "  '#Our last functions will combine our shuffle_list(mylist) function with our player_guess() function and will\\n#check to see if our guess is the correct guess and correct index for \\'O\\' in our mygamelist.\\n\\ndef check_guess(mylist, guess):\\n    if mylist[guess] == \\'O\\':\\n        print(\\'Correct!\\')\\n    else:\\n        print(\"Wrong guess!\")\\n        print(mylist)',\n",
       "  '#Our last function will combine our shuffle_list(mylist) function with our player_guess() function and will\\n#check to see if our guess is the correct guess and correct index for \\'O\\' in our mygamelist.\\n\\ndef check_guess(mylist, guess):\\n    if mylist[guess] == \\'O\\':\\n        print(\\'Correct!\\')\\n    else:\\n        print(\"Wrong guess!\")\\n        print(mylist)',\n",
       "  \"#OUR LAST SCRIPT WILL CALL ALL FUNCTIONS IN ORDER AND WILL RETURN WHETHER WE ARE CORRECT IN OUR GUESS.\\n\\n#INITIAL LIST\\nmygamelist = [' ', 'O', ' ']\\n\\n#SHUFFLE LIST\\nmixedup_list = shuffle_list(mygamelist)\\n\\n#USER GUESS\\nguess = player_guess()\\n\\n#CHECK\\ncheck_guess(mixedup_list, guess)\",\n",
       "  '#Our last function will combine our shuffle_list(mylist) function with our player_guess() function and will\\n#check to see if our guess is the correct guess and correct index for \\'O\\' in our mygamelist.\\n#We are not actually returning anything. We are just showing whether we are correct or wrong in our guess and our final shuffled list.\\n\\ndef check_guess(mylist, guess):\\n    if mylist[guess] == \\'O\\':\\n        print(\\'Correct!\\')\\n    else:\\n        print(\"Wrong guess!\")\\n        print(mylist)',\n",
       "  \"#OUR LAST SCRIPT WILL CALL ALL FUNCTIONS IN ORDER AND WILL RETURN WHETHER WE ARE CORRECT IN OUR GUESS.\\n\\n#INITIAL LIST\\nmygamelist = [' ', 'O', ' ']\\n\\n#SHUFFLE LIST\\nmixedup_list = shuffle_list(mygamelist)\\n\\n#USER GUESS\\nguess = player_guess()\\n\\n#CHECK\\ncheck_guess(mixedup_list, guess)\",\n",
       "  '# *args and **kwargs',\n",
       "  'def myfunc(a,b):\\n    return sum(a,b)*.05\\n\\nmyfunc(40,60)',\n",
       "  'def myfunc(a,b):\\n    return sum((a,b))*.05\\n\\nmyfunc(40,60)',\n",
       "  '#METHOD 1 OF ADDING MORE ARGUMENTS\\ndef myfunc(a,b,c=0,d=0,e=0):\\n    return sum((a,b,c,d,e))*.05\\n\\nmyfunc(10,20,30)',\n",
       "  '#METHOD 1 OF ADDING MORE ARGUMENTS\\ndef myfunc(a,b,c=0,d=0,e=0):\\n    return sum((a,b,c,d,e))*.05\\n\\nmyfunc(10,20,30,10,10,100,100,100)',\n",
       "  '#METHOD 2 USING *ARGS IN OUR FUNCTION DEFINITION\\n\\ndef myfunc(*args):\\n    return sum((args))*.05\\n\\nmyfunc(10,10,10,10,100,100,100,100)',\n",
       "  'def myfunc(*args):\\n    for item in args:\\n        print(item)\\n\\nmyfunc(40,60,100,1,34)',\n",
       "  '#METHOD 2 USING *ARGS IN OUR FUNCTION DEFINITION\\n#*args creates a tuple of values that we pass into our function and can perform iteration, sum, etc.\\n\\ndef myfunc(*args):\\n    return sum((args))*.05\\n\\nmyfunc(10,10,10,10,100,100,100,100)',\n",
       "  'def myfunc(*args):\\n    for item in args:\\n        print(item)\\n\\nmyfunc(40,60,100,1,34)',\n",
       "  '#**kwargs STANDS FOR KEYWORDED ARGUMENTS, SIMILAR TO *ARGS BUT THIS TIME WE USE **KWARGS\\n#TO BUILD A DICTIONARY OF KEY:VALUE PAIRS',\n",
       "  \"def myfunc(**kwargs):\\n    if 'fruit' in kwargs:\\n        print(f'My fruit of choice is {kwargs['fruit']}')\\n    else:\\n        print('I did not find any fruit here')\",\n",
       "  \"myfunc(fruit='apple',vegetable='carrots')\",\n",
       "  \"#python is no longer complaining about multiple keyworded arguments because we defined myfunc with **kwargs\\nmyfunc(fruit='apple',vegetable='carrots')\",\n",
       "  \"#python is no longer complaining about multiple keyworded arguments because we defined myfunc with **kwargs\\n#which allows us to input as many key:value pairs and passes it as a dictionary to our function.\\n\\nmyfunc(fruit='apple',vegetable='carrots')\",\n",
       "  \"def myfunc(**kwargs):\\n    print(kwargs)\\n    if 'fruit' in kwargs:\\n        print(f'My fruit of choice is {kwargs['fruit']}')\\n    else:\\n        print('I did not find any fruit here')\",\n",
       "  \"#python is no longer complaining about multiple keyworded arguments because we defined myfunc with **kwargs\\n#which allows us to input as many key:value pairs and passes it as a dictionary to our function.\\n\\nmyfunc(fruit='apple',vegetable='carrots')\",\n",
       "  \"#python is no longer complaining about multiple keyworded arguments because we defined myfunc with **kwargs\\n#which allows us to input as many key:value pairs and passes it as a dictionary to our function. Now we can\\n#call it however way we want.\\n\\nmyfunc(fruit='apple',vegetable='carrots')\",\n",
       "  \"#python is no longer complaining about multiple keyworded arguments because we defined myfunc with **kwargs\\n#which allows us to input as many key:value pairs and passes it as a dictionary to our function. Now we can\\n#call it however way we want and play around with it inside our functions\\n\\nmyfunc(fruit='apple',vegetable='carrots')\",\n",
       "  \"#We can combine *args and **kwargs in the same function; *args must come before **kwargs\\n\\ndef myfunc(*ars, **kwargs):\\n    print(args)\\n    print(kwargs)\\n    print(f'I would like {args[0]} {kwargs['food']}')\",\n",
       "  \"myfunc(10,20,30,fruit='orange',food='eggs',animal='dog')\",\n",
       "  \"#We can combine *args and **kwargs in the same function; *args must come before **kwargs\\n\\ndef myfunc(*args, **kwargs):\\n    print(args)\\n    print(kwargs)\\n    print(f'I would like {args[0]} {kwargs['food']}')\",\n",
       "  \"myfunc(10,20,30,fruit='orange',food='eggs',animal='dog')\",\n",
       "  \"myfunc(10,20,30,fruit='orange',food='eggs',animal='dog', 100)\",\n",
       "  \"#We can combine *args and **kwargs in the same function; *args must come before **kwargs\\n\\ndef myfunc(**kwargs, *args):\\n    print(args)\\n    print(kwargs)\\n    print(f'I would like {args[0]} {kwargs['food']}')\",\n",
       "  \"myteststring = 'abc'\",\n",
       "  \"myteststring.index('a')\",\n",
       "  \"'a'.upper\",\n",
       "  \"'a'.upper()\",\n",
       "  \"'A'.lower()\",\n",
       "  \"myteststring.join('a')\\nmyteststring\",\n",
       "  \"def myfunc(mystring):\\n    \\n    updated_string = ''\\n    \\n    for letter in mystring:\\n        if mystring.index(letter) % 2 == 0:\\n            updated_string.join(letter.upper())\\n        else:\\n            updated_string.join(letter.lower())\\n        \\n    return updated_string\",\n",
       "  \"#We can combine *args and **kwargs in the same function; *args must come before **kwargs\\n\\ndef myfunc(*args, **kwargs):\\n    print(args)\\n    print(kwargs)\\n    print(f'I would like {args[0]} {kwargs['food']}')\",\n",
       "  \"myfunc(10,20,30,fruit='orange',food='eggs',animal='dog')\",\n",
       "  \"myfunc(10,20,30,fruit='orange',food='eggs',animal='dog', 100)\",\n",
       "  \"#We can combine *args and **kwargs in the same function; *args must come before **kwargs\\n\\ndef myfunc(**kwargs, *args):\\n    print(args)\\n    print(kwargs)\\n    print(f'I would like {args[0]} {kwargs['food']}')\",\n",
       "  \"def myfunc1(mystring):\\n    \\n    updated_string = ''\\n    \\n    for letter in mystring:\\n        if mystring.index(letter) % 2 == 0:\\n            updated_string.join(letter.upper())\\n        else:\\n            updated_string.join(letter.lower())\\n        \\n    return updated_string\",\n",
       "  \"myfunc1('Anthropomorphism')\",\n",
       "  \"def myfunc1(mystring):\\n    \\n    updated_string = ''\\n    \\n    for letter in mystring:\\n        print(letter)\\n        if mystring.index(letter) % 2 == 0:\\n            updated_string.join(letter.upper())\\n        else:\\n            updated_string.join(letter.lower())\\n        \\n    return updated_string\",\n",
       "  \"myfunc1('Anthropomorphism')\",\n",
       "  \"def myfunc1(mystring):\\n    \\n    updated_string = ''\\n    \\n    for letter in mystring:\\n        print(letter)\\n        print(mystring.index(letter) % 2 == 0)\\n        if mystring.index(letter) % 2 == 0:\\n            updated_string.join(letter.upper())\\n        else:\\n            updated_string.join(letter.lower())\\n        \\n    return updated_string\",\n",
       "  \"myfunc1('Anthropomorphism')\",\n",
       "  \"def myfunc1(mystring):\\n    \\n    updated_string = ''\\n    \\n    for letter in mystring:\\n        print(letter)\\n        print(mystring.index(letter) % 2 == )\\n        if mystring.index(letter)+1 % 2 == 0:\\n            updated_string.join(letter.upper())\\n        else:\\n            updated_string.join(letter.lower())\\n        \\n    return updated_string\",\n",
       "  \"def myfunc1(mystring):\\n    \\n    updated_string = ''\\n    \\n    for letter in mystring:\\n        print(letter)\\n        print(mystring.index(letter) % 2 == 0)\\n        if mystring.index(letter)+1 % 2 == 0:\\n            updated_string.join(letter.upper())\\n        else:\\n            updated_string.join(letter.lower())\\n        \\n    return updated_string\",\n",
       "  \"myfunc1('Anthropomorphism')\",\n",
       "  \"def myfunc1(mystring):\\n    \\n    updated_string = ''\\n    \\n    for letter in mystring:\\n        print(letter)\\n        print(mystring.index(letter)+1 % 2 == 0)\\n        if mystring.index(letter)+1 % 2 == 0:\\n            updated_string.join(letter.upper())\\n        else:\\n            updated_string.join(letter.lower())\\n        \\n    return updated_string\",\n",
       "  \"myfunc1('Anthropomorphism')\",\n",
       "  \"def myfunc1(mystring):\\n    \\n    updated_string = ''\\n    \\n    for letter in mystring:\\n        print(letter)\\n        print(mystring.index(letter)+1 % 2 == 0)\\n        if mystring.index(letter)+1 % 2 == 0:\\n            updated_string.join(letter.upper())\\n        else:\\n            updated_string.join(letter.lower())\\n            continue\\n        \\n    return updated_string\",\n",
       "  \"myfunc1('Anthropomorphism')\",\n",
       "  \"def myfunc1(mystring):\\n    \\n    updated_string = ''\\n    \\n    for letter in mystring:\\n        print(letter)\\n        print(mystring.index(letter)+1 % 2 == 1)\\n        if mystring.index(letter)+1 % 2 == 1:\\n            updated_string.join(letter.upper())\\n        else:\\n            updated_string.join(letter.lower())\\n            continue\\n        \\n    return updated_string\",\n",
       "  \"myfunc1('Anthropomorphism')\",\n",
       "  \"def myfunc1(mystring):\\n    \\n    updated_string = ''\\n    \\n    for letter in mystring:\\n        print(letter)\\n        print(mystring.index(letter))\\n        if mystring.index(letter) + 1 % 2 == 0:\\n            updated_string.join(letter.upper())\\n        else:\\n            updated_string.join(letter.lower())\\n            continue\\n        \\n    return updated_string\",\n",
       "  \"myfunc1('Anthropomorphism')\",\n",
       "  \"def myfunc1(mystring):\\n    \\n    updated_string = ''\\n    \\n    for letter in mystring:\\n        print(letter)\\n        print(mystring.index(letter) + 1)\\n        if mystring.index(letter) + 1 % 2 == 0:\\n            updated_string.join(letter.upper())\\n        else:\\n            updated_string.join(letter.lower())\\n            continue\\n        \\n    return updated_string\",\n",
       "  \"myfunc1('Anthropomorphism')\",\n",
       "  \"def myfunc1(mystring):\\n    \\n    updated_string = ''\\n    \\n    for letter in mystring:\\n        print(letter)\\n        print(mystring.index(letter) + 1)\\n        if (mystring.index(letter) + 1) % 2 == 0:\\n            updated_string.join(letter.upper())\\n        else:\\n            updated_string.join(letter.lower())\\n            continue\\n        \\n    return updated_string\",\n",
       "  \"myfunc1('Anthropomorphism')\",\n",
       "  \"def myfunc1(mystring):\\n    \\n    updated_string = ''\\n    \\n    for letter in mystring:\\n        print(letter)\\n        print(mystring.index(letter) + 1)\\n        if (mystring.index(letter) + 1) % 2 == 0:\\n            updated_string + letter.upper()\\n        else:\\n            updated_string + letter.lower()\\n            continue\\n        \\n    return updated_string\",\n",
       "  \"myfunc1('Anthropomorphism')\",\n",
       "  \"def myfunc1(mystring):\\n    \\n    updated_string = ''\\n    \\n    for letter in mystring:\\n        print(letter)\\n        print(mystring.index(letter) + 1)\\n        if (mystring.index(letter) + 1) % 2 == 0:\\n            updated_string + letter.upper()\\n        else:\\n            updated_string + letter.lower()\\n        \\n    return updated_string\",\n",
       "  \"myfunc1('Anthropomorphism')\",\n",
       "  \"def myfunc1(mystring):\\n    \\n    updated_string = ''\\n    \\n    for letter in mystring:\\n        print(letter)\\n        print(mystring.index(letter) + 1)\\n        print(letter.upper(), letter.lower())\\n        if (mystring.index(letter) + 1) % 2 == 0:\\n            updated_string + letter.upper()\\n        else:\\n            updated_string + letter.lower()\\n        \\n    return updated_string\",\n",
       "  \"myfunc1('Anthropomorphism')\",\n",
       "  \"def myfunc1(mystring):\\n    \\n    updated_string = ''\\n    \\n    for letter in mystring:\\n        print(letter)\\n        print(mystring.index(letter) + 1)\\n        print(letter.upper(), letter.lower())\\n        updated_string + letter.upper() + letter.lower()\\n        if (mystring.index(letter) + 1) % 2 == 0:\\n            updated_string + letter.upper()\\n        else:\\n            updated_string + letter.lower()\\n        \\n    return updated_string\",\n",
       "  \"myfunc1('Anthropomorphism')\",\n",
       "  \"def myfunc1(mystring):\\n    \\n    updated_string = ''\\n    \\n    for letter in mystring:\\n        print(letter)\\n        print(mystring.index(letter) + 1)\\n        print(letter.upper(), letter.lower())\\n        if (mystring.index(letter) + 1) % 2 == 0:\\n            updated_string += letter.upper()\\n        else:\\n            updated_string += letter.lower()\\n        \\n    return updated_string\",\n",
       "  \"myfunc1('Anthropomorphism')\",\n",
       "  \"def myfunc1(mystring):\\n    \\n    updated_string = ''\\n    \\n    for letter in mystring:\\n        if (mystring.index(letter) + 1) % 2 == 0:\\n            updated_string += letter.upper()\\n        else:\\n            updated_string += letter.lower()\\n        \\n    return updated_string\",\n",
       "  \"myfunc1('Anthropomorphism')\",\n",
       "  \"def myfunc1(mystring):\\n    \\n    updated_string = ''\\n    \\n    for letter in mystring:\\n        if (mystring.index(letter) + 1) % 2 == 0:\\n            updated_string += letter.upper()\\n        elif (mystring.index(letter) + 1) % 2 != 0:\\n            updated_string += letter.lower()\\n        \\n    return updated_string\",\n",
       "  \"myfunc1('Anthropomorphism')\",\n",
       "  \"def myfunc1(mystring):\\n    \\n    updated_string = ''\\n    \\n    for letter in mystring:\\n        if (mystring.index(letter) + 1) % 2 == 0:\\n            updated_string += letter.upper()\\n        elif (mystring.index(letter) + 1) % 2 != 0:\\n            updated_string += letter.lower()\\n        else:\\n            pass\\n    return updated_string\",\n",
       "  \"myfunc1('Anthropomorphism')\",\n",
       "  \"def myfunc1(mystring):\\n    \\n    updated_string = ''\\n    \\n    for letter in mystring:\\n        if (mystring.index(letter) + 1) % 2 == 0:\\n            updated_string += letter.upper()\\n        elif (mystring.index(letter) + 1) % 2 != 0:\\n            updated_string += letter.lower()\\n        else:\\n            continue\\n    return updated_string\",\n",
       "  \"myfunc1('Anthropomorphism')\",\n",
       "  \"def myfunc1(mystring):\\n    \\n    updated_string = ''\\n    \\n    for letter in mystring:\\n        print(letter, mystring.index(letter))\\n        if (mystring.index(letter) + 1) % 2 == 0:\\n            updated_string += letter.upper()\\n        elif (mystring.index(letter) + 1) % 2 != 0:\\n            updated_string += letter.lower()\\n        else:\\n            continue\\n    return updated_string\",\n",
       "  \"myfunc1('Anthropomorphism')\",\n",
       "  \"def myfunc1(mystring):\\n    \\n    updated_string = ''\\n    \\n    for index,letter in mystring:\\n        if (index + 1) % 2 == 0:\\n            updated_string += letter.upper()\\n        else:\\n            updated_string += letter.lower()\\n            \\n    return updated_string\",\n",
       "  \"myfunc1('Anthropomorphism')\",\n",
       "  \"def myfunc1(mystring):\\n    \\n    updated_string = ''\\n    \\n    for index,letter in enumerate(mystring):\\n        if (index + 1) % 2 == 0:\\n            updated_string += letter.upper()\\n        else:\\n            updated_string += letter.lower()\\n            \\n    return updated_string\",\n",
       "  \"myfunc1('Anthropomorphism')\",\n",
       "  'def square(num):\\n    return num**2',\n",
       "  'my_nums = [1,2,3,4,5]',\n",
       "  'my_nums = [1,2,3,4,5]',\n",
       "  'map(square, my_nums)',\n",
       "  'for item in map(square, my_nums):\\n    print(item)',\n",
       "  'list(map(square, my_nums))',\n",
       "  \"def splicer(mystring):\\n    if len(mystring) % 2 ==0:\\n        return 'EVEN'\\n    else:\\n        return mystring[0]\",\n",
       "  \"names = ['Andy', 'Eve', 'Sally']\",\n",
       "  'list(map(splicer, names))',\n",
       "  'list(map(splicer(), names))',\n",
       "  'list(map(splicer(names), names))',\n",
       "  'list(map(splicer(), names))',\n",
       "  'def check_even(num):\\n    return num % 2 == 0',\n",
       "  'mynums = [1,2,3,4,5,6,7,8,9,10]',\n",
       "  'filter(check_even, mynums)',\n",
       "  'list(filter(check_even, mynums))',\n",
       "  \"teststring = 'abcdef'\",\n",
       "  'map(lambda num:num**2, mynums)',\n",
       "  'list(map(lambda num:num**2, mynums))',\n",
       "  'list(filter(lambda num:num % 2 == 0))',\n",
       "  'list(filter(lambda num:num % 2 == 0, mynums))',\n",
       "  'names',\n",
       "  'list(map(lambda name:name[0], names))',\n",
       "  'list(map(lambda name:name[::-1], names))',\n",
       "  'x = 25\\n\\ndef printer():\\n    x = 50\\n    return x',\n",
       "  'print(x)',\n",
       "  'x = 25\\n\\ndef printer():\\n    x = 50\\n    return x',\n",
       "  '#NESTED STATEMENTS AND SCOPE',\n",
       "  'print(printer())',\n",
       "  '#Local\\n\\n# x is local here:\\nf = lambda x:x**2',\n",
       "  \"#Global\\nname = 'This is a global name'\\n\\ndef greet():\\n    # Enclosing function\\n    name = 'Sammy'\\n    \\n    def hello():\\n        #Local\\n        name = 'Sam'\\n        print('Hello '+name)\\n    \\n    hello()\\n\\ngreet()\",\n",
       "  \"x = 50\\n\\ndef func(x):\\n    print('x is', x)\\n    x = 2\\n    print('Changed local x to', x)\\n\\nfunc(x)\\nprint('x is still', x)\",\n",
       "  \"x = 50\\n\\ndef func():\\n    global x\\n    print('This function is now using the global x!')\\n    print('Because of global x is: ', x)\\n    x = 2\\n    print('Ran func(), changed global x to', x)\\n\\nprint('Before calling func(), x is: ', x)\\nfunc()\\nprint('Value of x (outside of func()) is: ', x)\",\n",
       "  \"#Global x\\nx = 50\\n\\ndef func():\\n    global x\\n    print('This function is now using the global x!')\\n    print('Because of global x is: ', x)\\n    #Local reassignment on a global variable!\\n    x = 2\\n    print('Ran func(), changed global x to', x)\\n\\nprint('Before calling func(), x is: ', x)\\nfunc()\\nprint('Value of x (outside of func()) is: ', x)\",\n",
       "  \"#Global x\\nx = 50\\n\\ndef func():\\n    global x\\n    print('This function is now using the global x!')\\n    print('Because of global x is: ', x)\\n    #Local reassignment on a global variable!\\n    x = 2\\n    print('Ran func(), changed global x to', x)\\n\\nprint('Before calling func(), x is: ', x)\\nfunc()\\nprint('Value of x (outside of func()) is: ', x)\",\n",
       "  'x',\n",
       "  '#Method 2 for using global variables and reassigning them!',\n",
       "  \"#Method 2 for using global variables and reassigning them! Much cleaner and safer way \\n#to change and use global variables, especially for beginners in Python.\\n\\nx = 50\\n\\ndef func(x):\\n    print(f'X is {x}')\\n    #Local reassignment on a global variable!\\n    x = 'New Value'\\n    print(f'(I jsut locally changed global x to {x}')\\n    return x\",\n",
       "  'print(x)',\n",
       "  'x = func(x)',\n",
       "  \"#Method 2 for using global variables and reassigning them! Much cleaner and safer way \\n#to change and use global variables, especially for beginners in Python.\\n\\nx = 50\\n\\ndef func(x):\\n    print(f'X is {x}')\\n    #Local reassignment on a global variable!\\n    x = 'New Value'\\n    print(f'I just locally changed global x to {x}')\\n    return x\",\n",
       "  'print(x)',\n",
       "  'x = func(x)',\n",
       "  'x',\n",
       "  \"#Method 2 for using global variables and reassigning them! Much cleaner and safer way \\n#to change and use global variables, especially for beginners in Python. Easier to debug\\n\\nx = 50\\n\\ndef func(x):\\n    print(f'X is {x}')\\n    #Local reassignment on a global variable!\\n    x = 'New Value'\\n    print(f'I just locally changed global x to {x}')\\n    return x\",\n",
       "  'print(x)',\n",
       "  'print(x)',\n",
       "  'x = func(x)',\n",
       "  'x',\n",
       "  'locals()',\n",
       "  'globals()'],\n",
       " '_oh': {2: <function list.insert(index, object, /)>,\n",
       "  8: <function __main__.say_hello()>,\n",
       "  16: 30,\n",
       "  18: 30,\n",
       "  22: 30,\n",
       "  24: 30,\n",
       "  29: NoneType,\n",
       "  30: 30,\n",
       "  32: 30,\n",
       "  34: int,\n",
       "  36: 30,\n",
       "  37: 0,\n",
       "  38: False,\n",
       "  39: 1,\n",
       "  40: True,\n",
       "  41: True,\n",
       "  42: True,\n",
       "  43: 1,\n",
       "  44: True,\n",
       "  45: 1,\n",
       "  46: False,\n",
       "  48: True,\n",
       "  49: False,\n",
       "  55: True,\n",
       "  56: True,\n",
       "  57: True,\n",
       "  60: False,\n",
       "  61: False,\n",
       "  62: False,\n",
       "  64: False,\n",
       "  65: True,\n",
       "  67: False,\n",
       "  68: True,\n",
       "  70: [2, 4, 6, 8, 10],\n",
       "  71: [],\n",
       "  79: ('Cassie', 800),\n",
       "  81: ('Cassie', 800),\n",
       "  83: 'Cassie',\n",
       "  84: 800,\n",
       "  87: ('Cassie', 800),\n",
       "  92: [3, 7, 2, 6, 4, 5, 1],\n",
       "  96: [3, 7, 2, 6, 4, 5, 1],\n",
       "  98: ['O', ' ', ' '],\n",
       "  99: ['O', ' ', ' '],\n",
       "  103: 1,\n",
       "  105: 1,\n",
       "  114: 5.0,\n",
       "  115: 3.0,\n",
       "  117: 22.0,\n",
       "  119: 22.0,\n",
       "  137: 0,\n",
       "  138: <function str.upper()>,\n",
       "  139: 'A',\n",
       "  140: 'a',\n",
       "  141: 'abc',\n",
       "  148: '',\n",
       "  150: '',\n",
       "  152: '',\n",
       "  155: '',\n",
       "  157: '',\n",
       "  159: '',\n",
       "  161: '',\n",
       "  163: '',\n",
       "  165: '',\n",
       "  167: '',\n",
       "  169: '',\n",
       "  171: '',\n",
       "  173: '',\n",
       "  175: '',\n",
       "  177: 'aNtHrOpOmOrpHIsm',\n",
       "  179: 'aNtHrOpOmOrpHIsm',\n",
       "  181: 'aNtHrOpOmOrpHIsm',\n",
       "  183: 'aNtHrOpOmOrpHIsm',\n",
       "  185: 'aNtHrOpOmOrpHIsm',\n",
       "  187: 'aNtHrOpOmOrpHIsm',\n",
       "  191: 'aNtHrOpOmOrPhIsM',\n",
       "  195: <map at 0x10f89ba30>,\n",
       "  197: [1, 4, 9, 16, 25],\n",
       "  200: ['EVEN', 'E', 'S'],\n",
       "  206: <filter at 0x10f7853f0>,\n",
       "  207: [2, 4, 6, 8, 10],\n",
       "  209: <map at 0x10f7ac880>,\n",
       "  210: [1, 4, 9, 16, 25, 36, 49, 64, 81, 100],\n",
       "  212: [2, 4, 6, 8, 10],\n",
       "  213: ['Andy', 'Eve', 'Sally'],\n",
       "  214: ['A', 'E', 'S'],\n",
       "  215: ['ydnA', 'evE', 'yllaS'],\n",
       "  227: 2,\n",
       "  235: 'New Value',\n",
       "  240: 'New Value',\n",
       "  241: {...}},\n",
       " '_dh': [PosixPath('/Users/felipegomez/GitHub/PythonPractice')],\n",
       " 'In': ['',\n",
       "  'mylist = [1,2,3,4]',\n",
       "  \"mylist.insert #then click 'shift + tab'\",\n",
       "  'help(mylist.insert）',\n",
       "  'help(mylist.insert)',\n",
       "  \"get_ipython().run_line_magic('pinfo', 'mylist.insert')\",\n",
       "  'def say_hello():\\n    print(\"Hello\")',\n",
       "  'say_hello()',\n",
       "  'say_hello',\n",
       "  \"def say_hello(name):\\n    print(f'Hello {name}')\",\n",
       "  \"say_hello('Felipe')\",\n",
       "  'say_hello()',\n",
       "  \"def say_hello(name='Default'):\\n    print(f'Hello {name}')\",\n",
       "  'say_hello()',\n",
       "  \"say_hello('Felipe')\",\n",
       "  'def add_num(num1,num2):\\n    return num1 + num2',\n",
       "  'add_num(10,20)',\n",
       "  'result = add_num(10,20)',\n",
       "  'result',\n",
       "  'def print_result(a,b):\\n    print(a+b)',\n",
       "  'def return_result(a,b):\\n    return a+b',\n",
       "  'print_result(10,20)',\n",
       "  'return_result(10,20)',\n",
       "  'print_result(10,20)',\n",
       "  'return_result(10,20)',\n",
       "  \"#there is no output cell showing you that a variable's being returned.\\n\\nprint_result(10,20)\",\n",
       "  \"#there is no output cell showing you that a variable's being returned. Instead its just printing out the result.\\n\\nprint_result(10,20)\",\n",
       "  'print_result = print_result(10,20)',\n",
       "  'print_result',\n",
       "  'type(print_result)',\n",
       "  'return_result(10,20)',\n",
       "  'returnresult = return_result(10,20)',\n",
       "  'returnresult',\n",
       "  '#Both print and return a+b\\n\\ndef myfunc(a,b):\\n    print(a+b)\\n    return a+b',\n",
       "  'type(returnresult)',\n",
       "  'result1 = myfunc(10,20)',\n",
       "  'result1',\n",
       "  '2 % 2',\n",
       "  '2 % 2 == True',\n",
       "  '3 % 2',\n",
       "  '2 % 2 == 0',\n",
       "  '2 % 2 == False',\n",
       "  '2 % 2 == 0',\n",
       "  '3 % 2',\n",
       "  '2 % 2 == 0',\n",
       "  '3 % 2',\n",
       "  '3 % 2 == 0',\n",
       "  'def even_check(number):\\n    result = number % 2 == 0\\n    return result',\n",
       "  'even_check(20)',\n",
       "  'even_check(21)',\n",
       "  '#Another way to define even_check()',\n",
       "  '#Another way to define even_check()\\n\\ndef even_check(number):\\n    return number % 2 == 0',\n",
       "  \"# RETURN TRUE IF ANY NUMBER IS EVEN INSIDE A LIST, OTHERWISE IT WILL NOT RETURN ANYTHING\\n\\ndef check_even_list(num_list):\\n\\n    for number in num_list:\\n        if number % 2 == 0:\\n            return True\\n        else:\\n            pass #pass just means don't do anything\",\n",
       "  \"# RETURN TRUE IF ANY NUMBER IS EVEN INSIDE A LIST, OTHERWISE IT WILL NOT RETURN ANYTHING\\n\\ndef check_even_list(num_list):\\n\\n    for number in num_list:\\n        if number % 2 == 0:\\n            return True #return is actually in the middle of the function. It doesn't always have to go at the end. In fact, you can have multiple returns inside of a function.\\n        else:\\n            pass #pass just means don't do anything\",\n",
       "  'check_even_list([1,3,5])',\n",
       "  'check_even_list([2,4,5])',\n",
       "  'check_even_list([2,1,1,1])',\n",
       "  'check_even_list([1,1,1,2])',\n",
       "  \"# RETURN TRUE IF ANY NUMBER IS EVEN INSIDE A LIST, OTHERWISE IT WILL NOT RETURN ANYTHING\\n\\ndef check_even_list(num_list):\\n\\n    for number in num_list:\\n        if number % 2 == 0:\\n            return True #return is actually in the middle of the function. \\n            #You can think of this return statement as essentially going to break off the entire function. Once you call return, that's it.\\n            #It doesn't always have to go at the end. In fact, you can have multiple returns inside of a function.\\n        else:\\n            pass #pass just means don't do anything\",\n",
       "  '# IF WE TRY ADDING FALSE IF NO NUMBERS ARE EVEN IN LIST\\n\\n#BEGINNER/ROOKIE MISTAKE CODE:\\ndef check_even_list(num_list):\\n    for number in num_list:\\n        if number % 2 == 0:\\n            return True\\n        else:\\n            return False # WRONG!!!!!!!!! BECAUSE IF THE FIRST ELEMENT IN OUR LIST IS ODD BUT WE HAVE EVEN NUMBERS IN OUR LIST THEN\\n                         # OUR FUNCTION WILL RETURN FALSE EVEN THOUGH IT SHOULD RETURN TRUE!\\n            # BEGGINNERS MAKE THE MISTAKE THAT ALL THE RETURN STATEMENTS SHOULD HAVE THE SAME LEVEL OF INDENTATION, WHICH IS NOT TRUE!!!\\n            #',\n",
       "  'check_even_list([1,3,5])',\n",
       "  '#THIS IS AN EXAMPLE WHERE OUR FUNCTION FAILS\\ncheck_even_list([1,2,5])',\n",
       "  '#THIS IS AN EXAMPLE WHERE OUR FUNCTION FAILS. IT SHOULD RETURN TRUE!\\ncheck_even_list([1,2,5])',\n",
       "  '#CORRECT CODE\\n\\ndef check_even_list(num_list):\\n    for number in num_list:\\n        if number % 2 == 0:\\n            return True\\n        else:\\n            pass\\n    return False',\n",
       "  'check_even_list([1,3,5])',\n",
       "  'check_even_list([1,2,5])',\n",
       "  \"#CORRECT CODE\\n#WHAT THIS IS SAYING IS THAT IF WE COMPLETED AND WE NEVER BROKE OUT OF THE FUNCTION WITH OUR RETURN STATEMENT, THEN RETURN FALSE\\n#WE WANT TO LOOP THROUGH ALL THE NUMBERS FIRST AND WE CAN SUE THESE PASS STATEMENTS AS PLACEHOLDERS TO ESSENTIALLY SAY, DON'T DO ANYTHING\\n#AND THEN IF WE DO NOT BREAK OUT OF OUR FUNCTION, THEN WE CAN SAFELY SAY WE HAVE NO EVEN NUMBERS IN OUR LIST AND RETURN FALSE.\\n\\ndef check_even_list(num_list):\\n    for number in num_list:\\n        if number % 2 == 0:\\n            return True\\n        else:\\n            pass\\n    return False\",\n",
       "  'check_even_list([1,3,5])',\n",
       "  'check_even_list([1,2,5])',\n",
       "  '# RETURN ALL THE EVEN NUMBERS IN A LIST. RETURN AN EMPTY LIST IF NONE ARE EVEN\\n\\ndef return_even_list(num_list):\\n    #placeholder variables for list of even numbers\\n    even_numbers = []\\n\\n    for number in num_list:\\n        if number % 2 == 0:\\n            even_numbers.append(number)\\n        else:\\n            pass\\n    return even_numbers',\n",
       "  'return_even_list([1,2,3,4,5,6,7,8,9,10])',\n",
       "  'return_even_list([1,3,5])',\n",
       "  '#TUPLE UNPACKING WIHT PYTHON FUNCTIONS',\n",
       "  \"stock_prices = [('APPL', 200), ('GOOG', 400), ('MSFT', 100)]\",\n",
       "  'for item in stock_prices:\\n    print(item)',\n",
       "  'for ticker,price in stock_prices:\\n    print(ticker)',\n",
       "  'for ticker,price in stock_prices:\\n    print(price + (.1*price))',\n",
       "  \"work_hours = [('Abby', 100), ('Billy', 400), ('Cassie', 800)]\",\n",
       "  \"def employee_check(work_hours):\\n\\n    current_max = 0\\n    employee_of_month = ''\\n\\n    for employee,hours in work_hours:\\n        if hours > current_max:\\n            current_max = hours\\n            employee_of_month = employee\\n        else:\\n            pass\\n    return (employee_of_month, current_max)\",\n",
       "  'employee_check(work_hours)',\n",
       "  'result_ec = employee_check(work_hours)',\n",
       "  'result_ec',\n",
       "  'name,hours = employee_check(work_hours)',\n",
       "  'name',\n",
       "  'hours',\n",
       "  'name,hours,location = employee_check(work_hours)',\n",
       "  'item = employee_check(work_hours)',\n",
       "  'item',\n",
       "  '#Guessing Game: \"Three Cup Monte\"',\n",
       "  'from random import shuffle',\n",
       "  'example = [1,2,3,4,5,6,7]',\n",
       "  'shuffle(example)',\n",
       "  'example',\n",
       "  \"shuffle(example) #shuffle is an inplace function, it doesn't actually return anything, so if we want to set a variable equal to\\n#the shuffled list, we would have to create a function to do this.\",\n",
       "  'def shuffle_list(mylist):\\n    shuffle(mylist)\\n    return mylist',\n",
       "  'resultshuffle = shuffle_list(example)',\n",
       "  'resultshuffle',\n",
       "  \"mygamelist = [' ', 'O', ' ']\",\n",
       "  'shuffle_list(mygamelist)',\n",
       "  'shuffle_list(mygamelist)',\n",
       "  'def player_guess():',\n",
       "  'def player_guess():\\n    guess = \\'\\'\\n    while guess not in [\\'0\\', \\'1\\', \\'2\\']:\\n        guess = input(\"Pick a number: 0, 1, or 2\")\\n\\n    return int(guess) # we must convert to int because input function returns a string.',\n",
       "  'def player_guess():\\n    guess = \\'\\'\\n    while guess not in [\\'0\\', \\'1\\', \\'2\\']:\\n        guess = input(\"Pick a number: 0, 1, or 2\")\\n\\n    return int(guess) # we must convert to int because input function returns a string. We also need it as an integer to \\n#directly index off of our game list.',\n",
       "  'player_guess()',\n",
       "  'myindex = player_guess()',\n",
       "  'myindex',\n",
       "  '#Our last function will combine our shuffle_list(mylist) function with our player_guess() function and will\\n#check to see if our guess is the correct guess and correct index for \\'O\\' in our mygamelist.\\n\\ndef check_guess(mylist, guess):\\n    if mylist[guess] == \\'O\\':\\n        print(\\'Correct!\\')\\n    else:\\n        print(\"Wrong guess!\")\\n        print(mylist)',\n",
       "  '#Our last functions will combine our shuffle_list(mylist) function with our player_guess() function and will\\n#check to see if our guess is the correct guess and correct index for \\'O\\' in our mygamelist.\\n\\ndef check_guess(mylist, guess):\\n    if mylist[guess] == \\'O\\':\\n        print(\\'Correct!\\')\\n    else:\\n        print(\"Wrong guess!\")\\n        print(mylist)',\n",
       "  '#Our last function will combine our shuffle_list(mylist) function with our player_guess() function and will\\n#check to see if our guess is the correct guess and correct index for \\'O\\' in our mygamelist.\\n\\ndef check_guess(mylist, guess):\\n    if mylist[guess] == \\'O\\':\\n        print(\\'Correct!\\')\\n    else:\\n        print(\"Wrong guess!\")\\n        print(mylist)',\n",
       "  \"#OUR LAST SCRIPT WILL CALL ALL FUNCTIONS IN ORDER AND WILL RETURN WHETHER WE ARE CORRECT IN OUR GUESS.\\n\\n#INITIAL LIST\\nmygamelist = [' ', 'O', ' ']\\n\\n#SHUFFLE LIST\\nmixedup_list = shuffle_list(mygamelist)\\n\\n#USER GUESS\\nguess = player_guess()\\n\\n#CHECK\\ncheck_guess(mixedup_list, guess)\",\n",
       "  '#Our last function will combine our shuffle_list(mylist) function with our player_guess() function and will\\n#check to see if our guess is the correct guess and correct index for \\'O\\' in our mygamelist.\\n#We are not actually returning anything. We are just showing whether we are correct or wrong in our guess and our final shuffled list.\\n\\ndef check_guess(mylist, guess):\\n    if mylist[guess] == \\'O\\':\\n        print(\\'Correct!\\')\\n    else:\\n        print(\"Wrong guess!\")\\n        print(mylist)',\n",
       "  \"#OUR LAST SCRIPT WILL CALL ALL FUNCTIONS IN ORDER AND WILL RETURN WHETHER WE ARE CORRECT IN OUR GUESS.\\n\\n#INITIAL LIST\\nmygamelist = [' ', 'O', ' ']\\n\\n#SHUFFLE LIST\\nmixedup_list = shuffle_list(mygamelist)\\n\\n#USER GUESS\\nguess = player_guess()\\n\\n#CHECK\\ncheck_guess(mixedup_list, guess)\",\n",
       "  '# *args and **kwargs',\n",
       "  'def myfunc(a,b):\\n    return sum(a,b)*.05\\n\\nmyfunc(40,60)',\n",
       "  'def myfunc(a,b):\\n    return sum((a,b))*.05\\n\\nmyfunc(40,60)',\n",
       "  '#METHOD 1 OF ADDING MORE ARGUMENTS\\ndef myfunc(a,b,c=0,d=0,e=0):\\n    return sum((a,b,c,d,e))*.05\\n\\nmyfunc(10,20,30)',\n",
       "  '#METHOD 1 OF ADDING MORE ARGUMENTS\\ndef myfunc(a,b,c=0,d=0,e=0):\\n    return sum((a,b,c,d,e))*.05\\n\\nmyfunc(10,20,30,10,10,100,100,100)',\n",
       "  '#METHOD 2 USING *ARGS IN OUR FUNCTION DEFINITION\\n\\ndef myfunc(*args):\\n    return sum((args))*.05\\n\\nmyfunc(10,10,10,10,100,100,100,100)',\n",
       "  'def myfunc(*args):\\n    for item in args:\\n        print(item)\\n\\nmyfunc(40,60,100,1,34)',\n",
       "  '#METHOD 2 USING *ARGS IN OUR FUNCTION DEFINITION\\n#*args creates a tuple of values that we pass into our function and can perform iteration, sum, etc.\\n\\ndef myfunc(*args):\\n    return sum((args))*.05\\n\\nmyfunc(10,10,10,10,100,100,100,100)',\n",
       "  'def myfunc(*args):\\n    for item in args:\\n        print(item)\\n\\nmyfunc(40,60,100,1,34)',\n",
       "  '#**kwargs STANDS FOR KEYWORDED ARGUMENTS, SIMILAR TO *ARGS BUT THIS TIME WE USE **KWARGS\\n#TO BUILD A DICTIONARY OF KEY:VALUE PAIRS',\n",
       "  \"def myfunc(**kwargs):\\n    if 'fruit' in kwargs:\\n        print(f'My fruit of choice is {kwargs['fruit']}')\\n    else:\\n        print('I did not find any fruit here')\",\n",
       "  \"myfunc(fruit='apple',vegetable='carrots')\",\n",
       "  \"#python is no longer complaining about multiple keyworded arguments because we defined myfunc with **kwargs\\nmyfunc(fruit='apple',vegetable='carrots')\",\n",
       "  \"#python is no longer complaining about multiple keyworded arguments because we defined myfunc with **kwargs\\n#which allows us to input as many key:value pairs and passes it as a dictionary to our function.\\n\\nmyfunc(fruit='apple',vegetable='carrots')\",\n",
       "  \"def myfunc(**kwargs):\\n    print(kwargs)\\n    if 'fruit' in kwargs:\\n        print(f'My fruit of choice is {kwargs['fruit']}')\\n    else:\\n        print('I did not find any fruit here')\",\n",
       "  \"#python is no longer complaining about multiple keyworded arguments because we defined myfunc with **kwargs\\n#which allows us to input as many key:value pairs and passes it as a dictionary to our function.\\n\\nmyfunc(fruit='apple',vegetable='carrots')\",\n",
       "  \"#python is no longer complaining about multiple keyworded arguments because we defined myfunc with **kwargs\\n#which allows us to input as many key:value pairs and passes it as a dictionary to our function. Now we can\\n#call it however way we want.\\n\\nmyfunc(fruit='apple',vegetable='carrots')\",\n",
       "  \"#python is no longer complaining about multiple keyworded arguments because we defined myfunc with **kwargs\\n#which allows us to input as many key:value pairs and passes it as a dictionary to our function. Now we can\\n#call it however way we want and play around with it inside our functions\\n\\nmyfunc(fruit='apple',vegetable='carrots')\",\n",
       "  \"#We can combine *args and **kwargs in the same function; *args must come before **kwargs\\n\\ndef myfunc(*ars, **kwargs):\\n    print(args)\\n    print(kwargs)\\n    print(f'I would like {args[0]} {kwargs['food']}')\",\n",
       "  \"myfunc(10,20,30,fruit='orange',food='eggs',animal='dog')\",\n",
       "  \"#We can combine *args and **kwargs in the same function; *args must come before **kwargs\\n\\ndef myfunc(*args, **kwargs):\\n    print(args)\\n    print(kwargs)\\n    print(f'I would like {args[0]} {kwargs['food']}')\",\n",
       "  \"myfunc(10,20,30,fruit='orange',food='eggs',animal='dog')\",\n",
       "  \"myfunc(10,20,30,fruit='orange',food='eggs',animal='dog', 100)\",\n",
       "  \"#We can combine *args and **kwargs in the same function; *args must come before **kwargs\\n\\ndef myfunc(**kwargs, *args):\\n    print(args)\\n    print(kwargs)\\n    print(f'I would like {args[0]} {kwargs['food']}')\",\n",
       "  \"myteststring = 'abc'\",\n",
       "  \"myteststring.index('a')\",\n",
       "  \"'a'.upper\",\n",
       "  \"'a'.upper()\",\n",
       "  \"'A'.lower()\",\n",
       "  \"myteststring.join('a')\\nmyteststring\",\n",
       "  \"def myfunc(mystring):\\n    \\n    updated_string = ''\\n    \\n    for letter in mystring:\\n        if mystring.index(letter) % 2 == 0:\\n            updated_string.join(letter.upper())\\n        else:\\n            updated_string.join(letter.lower())\\n        \\n    return updated_string\",\n",
       "  \"#We can combine *args and **kwargs in the same function; *args must come before **kwargs\\n\\ndef myfunc(*args, **kwargs):\\n    print(args)\\n    print(kwargs)\\n    print(f'I would like {args[0]} {kwargs['food']}')\",\n",
       "  \"myfunc(10,20,30,fruit='orange',food='eggs',animal='dog')\",\n",
       "  \"myfunc(10,20,30,fruit='orange',food='eggs',animal='dog', 100)\",\n",
       "  \"#We can combine *args and **kwargs in the same function; *args must come before **kwargs\\n\\ndef myfunc(**kwargs, *args):\\n    print(args)\\n    print(kwargs)\\n    print(f'I would like {args[0]} {kwargs['food']}')\",\n",
       "  \"def myfunc1(mystring):\\n    \\n    updated_string = ''\\n    \\n    for letter in mystring:\\n        if mystring.index(letter) % 2 == 0:\\n            updated_string.join(letter.upper())\\n        else:\\n            updated_string.join(letter.lower())\\n        \\n    return updated_string\",\n",
       "  \"myfunc1('Anthropomorphism')\",\n",
       "  \"def myfunc1(mystring):\\n    \\n    updated_string = ''\\n    \\n    for letter in mystring:\\n        print(letter)\\n        if mystring.index(letter) % 2 == 0:\\n            updated_string.join(letter.upper())\\n        else:\\n            updated_string.join(letter.lower())\\n        \\n    return updated_string\",\n",
       "  \"myfunc1('Anthropomorphism')\",\n",
       "  \"def myfunc1(mystring):\\n    \\n    updated_string = ''\\n    \\n    for letter in mystring:\\n        print(letter)\\n        print(mystring.index(letter) % 2 == 0)\\n        if mystring.index(letter) % 2 == 0:\\n            updated_string.join(letter.upper())\\n        else:\\n            updated_string.join(letter.lower())\\n        \\n    return updated_string\",\n",
       "  \"myfunc1('Anthropomorphism')\",\n",
       "  \"def myfunc1(mystring):\\n    \\n    updated_string = ''\\n    \\n    for letter in mystring:\\n        print(letter)\\n        print(mystring.index(letter) % 2 == )\\n        if mystring.index(letter)+1 % 2 == 0:\\n            updated_string.join(letter.upper())\\n        else:\\n            updated_string.join(letter.lower())\\n        \\n    return updated_string\",\n",
       "  \"def myfunc1(mystring):\\n    \\n    updated_string = ''\\n    \\n    for letter in mystring:\\n        print(letter)\\n        print(mystring.index(letter) % 2 == 0)\\n        if mystring.index(letter)+1 % 2 == 0:\\n            updated_string.join(letter.upper())\\n        else:\\n            updated_string.join(letter.lower())\\n        \\n    return updated_string\",\n",
       "  \"myfunc1('Anthropomorphism')\",\n",
       "  \"def myfunc1(mystring):\\n    \\n    updated_string = ''\\n    \\n    for letter in mystring:\\n        print(letter)\\n        print(mystring.index(letter)+1 % 2 == 0)\\n        if mystring.index(letter)+1 % 2 == 0:\\n            updated_string.join(letter.upper())\\n        else:\\n            updated_string.join(letter.lower())\\n        \\n    return updated_string\",\n",
       "  \"myfunc1('Anthropomorphism')\",\n",
       "  \"def myfunc1(mystring):\\n    \\n    updated_string = ''\\n    \\n    for letter in mystring:\\n        print(letter)\\n        print(mystring.index(letter)+1 % 2 == 0)\\n        if mystring.index(letter)+1 % 2 == 0:\\n            updated_string.join(letter.upper())\\n        else:\\n            updated_string.join(letter.lower())\\n            continue\\n        \\n    return updated_string\",\n",
       "  \"myfunc1('Anthropomorphism')\",\n",
       "  \"def myfunc1(mystring):\\n    \\n    updated_string = ''\\n    \\n    for letter in mystring:\\n        print(letter)\\n        print(mystring.index(letter)+1 % 2 == 1)\\n        if mystring.index(letter)+1 % 2 == 1:\\n            updated_string.join(letter.upper())\\n        else:\\n            updated_string.join(letter.lower())\\n            continue\\n        \\n    return updated_string\",\n",
       "  \"myfunc1('Anthropomorphism')\",\n",
       "  \"def myfunc1(mystring):\\n    \\n    updated_string = ''\\n    \\n    for letter in mystring:\\n        print(letter)\\n        print(mystring.index(letter))\\n        if mystring.index(letter) + 1 % 2 == 0:\\n            updated_string.join(letter.upper())\\n        else:\\n            updated_string.join(letter.lower())\\n            continue\\n        \\n    return updated_string\",\n",
       "  \"myfunc1('Anthropomorphism')\",\n",
       "  \"def myfunc1(mystring):\\n    \\n    updated_string = ''\\n    \\n    for letter in mystring:\\n        print(letter)\\n        print(mystring.index(letter) + 1)\\n        if mystring.index(letter) + 1 % 2 == 0:\\n            updated_string.join(letter.upper())\\n        else:\\n            updated_string.join(letter.lower())\\n            continue\\n        \\n    return updated_string\",\n",
       "  \"myfunc1('Anthropomorphism')\",\n",
       "  \"def myfunc1(mystring):\\n    \\n    updated_string = ''\\n    \\n    for letter in mystring:\\n        print(letter)\\n        print(mystring.index(letter) + 1)\\n        if (mystring.index(letter) + 1) % 2 == 0:\\n            updated_string.join(letter.upper())\\n        else:\\n            updated_string.join(letter.lower())\\n            continue\\n        \\n    return updated_string\",\n",
       "  \"myfunc1('Anthropomorphism')\",\n",
       "  \"def myfunc1(mystring):\\n    \\n    updated_string = ''\\n    \\n    for letter in mystring:\\n        print(letter)\\n        print(mystring.index(letter) + 1)\\n        if (mystring.index(letter) + 1) % 2 == 0:\\n            updated_string + letter.upper()\\n        else:\\n            updated_string + letter.lower()\\n            continue\\n        \\n    return updated_string\",\n",
       "  \"myfunc1('Anthropomorphism')\",\n",
       "  \"def myfunc1(mystring):\\n    \\n    updated_string = ''\\n    \\n    for letter in mystring:\\n        print(letter)\\n        print(mystring.index(letter) + 1)\\n        if (mystring.index(letter) + 1) % 2 == 0:\\n            updated_string + letter.upper()\\n        else:\\n            updated_string + letter.lower()\\n        \\n    return updated_string\",\n",
       "  \"myfunc1('Anthropomorphism')\",\n",
       "  \"def myfunc1(mystring):\\n    \\n    updated_string = ''\\n    \\n    for letter in mystring:\\n        print(letter)\\n        print(mystring.index(letter) + 1)\\n        print(letter.upper(), letter.lower())\\n        if (mystring.index(letter) + 1) % 2 == 0:\\n            updated_string + letter.upper()\\n        else:\\n            updated_string + letter.lower()\\n        \\n    return updated_string\",\n",
       "  \"myfunc1('Anthropomorphism')\",\n",
       "  \"def myfunc1(mystring):\\n    \\n    updated_string = ''\\n    \\n    for letter in mystring:\\n        print(letter)\\n        print(mystring.index(letter) + 1)\\n        print(letter.upper(), letter.lower())\\n        updated_string + letter.upper() + letter.lower()\\n        if (mystring.index(letter) + 1) % 2 == 0:\\n            updated_string + letter.upper()\\n        else:\\n            updated_string + letter.lower()\\n        \\n    return updated_string\",\n",
       "  \"myfunc1('Anthropomorphism')\",\n",
       "  \"def myfunc1(mystring):\\n    \\n    updated_string = ''\\n    \\n    for letter in mystring:\\n        print(letter)\\n        print(mystring.index(letter) + 1)\\n        print(letter.upper(), letter.lower())\\n        if (mystring.index(letter) + 1) % 2 == 0:\\n            updated_string += letter.upper()\\n        else:\\n            updated_string += letter.lower()\\n        \\n    return updated_string\",\n",
       "  \"myfunc1('Anthropomorphism')\",\n",
       "  \"def myfunc1(mystring):\\n    \\n    updated_string = ''\\n    \\n    for letter in mystring:\\n        if (mystring.index(letter) + 1) % 2 == 0:\\n            updated_string += letter.upper()\\n        else:\\n            updated_string += letter.lower()\\n        \\n    return updated_string\",\n",
       "  \"myfunc1('Anthropomorphism')\",\n",
       "  \"def myfunc1(mystring):\\n    \\n    updated_string = ''\\n    \\n    for letter in mystring:\\n        if (mystring.index(letter) + 1) % 2 == 0:\\n            updated_string += letter.upper()\\n        elif (mystring.index(letter) + 1) % 2 != 0:\\n            updated_string += letter.lower()\\n        \\n    return updated_string\",\n",
       "  \"myfunc1('Anthropomorphism')\",\n",
       "  \"def myfunc1(mystring):\\n    \\n    updated_string = ''\\n    \\n    for letter in mystring:\\n        if (mystring.index(letter) + 1) % 2 == 0:\\n            updated_string += letter.upper()\\n        elif (mystring.index(letter) + 1) % 2 != 0:\\n            updated_string += letter.lower()\\n        else:\\n            pass\\n    return updated_string\",\n",
       "  \"myfunc1('Anthropomorphism')\",\n",
       "  \"def myfunc1(mystring):\\n    \\n    updated_string = ''\\n    \\n    for letter in mystring:\\n        if (mystring.index(letter) + 1) % 2 == 0:\\n            updated_string += letter.upper()\\n        elif (mystring.index(letter) + 1) % 2 != 0:\\n            updated_string += letter.lower()\\n        else:\\n            continue\\n    return updated_string\",\n",
       "  \"myfunc1('Anthropomorphism')\",\n",
       "  \"def myfunc1(mystring):\\n    \\n    updated_string = ''\\n    \\n    for letter in mystring:\\n        print(letter, mystring.index(letter))\\n        if (mystring.index(letter) + 1) % 2 == 0:\\n            updated_string += letter.upper()\\n        elif (mystring.index(letter) + 1) % 2 != 0:\\n            updated_string += letter.lower()\\n        else:\\n            continue\\n    return updated_string\",\n",
       "  \"myfunc1('Anthropomorphism')\",\n",
       "  \"def myfunc1(mystring):\\n    \\n    updated_string = ''\\n    \\n    for index,letter in mystring:\\n        if (index + 1) % 2 == 0:\\n            updated_string += letter.upper()\\n        else:\\n            updated_string += letter.lower()\\n            \\n    return updated_string\",\n",
       "  \"myfunc1('Anthropomorphism')\",\n",
       "  \"def myfunc1(mystring):\\n    \\n    updated_string = ''\\n    \\n    for index,letter in enumerate(mystring):\\n        if (index + 1) % 2 == 0:\\n            updated_string += letter.upper()\\n        else:\\n            updated_string += letter.lower()\\n            \\n    return updated_string\",\n",
       "  \"myfunc1('Anthropomorphism')\",\n",
       "  'def square(num):\\n    return num**2',\n",
       "  'my_nums = [1,2,3,4,5]',\n",
       "  'my_nums = [1,2,3,4,5]',\n",
       "  'map(square, my_nums)',\n",
       "  'for item in map(square, my_nums):\\n    print(item)',\n",
       "  'list(map(square, my_nums))',\n",
       "  \"def splicer(mystring):\\n    if len(mystring) % 2 ==0:\\n        return 'EVEN'\\n    else:\\n        return mystring[0]\",\n",
       "  \"names = ['Andy', 'Eve', 'Sally']\",\n",
       "  'list(map(splicer, names))',\n",
       "  'list(map(splicer(), names))',\n",
       "  'list(map(splicer(names), names))',\n",
       "  'list(map(splicer(), names))',\n",
       "  'def check_even(num):\\n    return num % 2 == 0',\n",
       "  'mynums = [1,2,3,4,5,6,7,8,9,10]',\n",
       "  'filter(check_even, mynums)',\n",
       "  'list(filter(check_even, mynums))',\n",
       "  \"teststring = 'abcdef'\",\n",
       "  'map(lambda num:num**2, mynums)',\n",
       "  'list(map(lambda num:num**2, mynums))',\n",
       "  'list(filter(lambda num:num % 2 == 0))',\n",
       "  'list(filter(lambda num:num % 2 == 0, mynums))',\n",
       "  'names',\n",
       "  'list(map(lambda name:name[0], names))',\n",
       "  'list(map(lambda name:name[::-1], names))',\n",
       "  'x = 25\\n\\ndef printer():\\n    x = 50\\n    return x',\n",
       "  'print(x)',\n",
       "  'x = 25\\n\\ndef printer():\\n    x = 50\\n    return x',\n",
       "  '#NESTED STATEMENTS AND SCOPE',\n",
       "  'print(printer())',\n",
       "  '#Local\\n\\n# x is local here:\\nf = lambda x:x**2',\n",
       "  \"#Global\\nname = 'This is a global name'\\n\\ndef greet():\\n    # Enclosing function\\n    name = 'Sammy'\\n    \\n    def hello():\\n        #Local\\n        name = 'Sam'\\n        print('Hello '+name)\\n    \\n    hello()\\n\\ngreet()\",\n",
       "  \"x = 50\\n\\ndef func(x):\\n    print('x is', x)\\n    x = 2\\n    print('Changed local x to', x)\\n\\nfunc(x)\\nprint('x is still', x)\",\n",
       "  \"x = 50\\n\\ndef func():\\n    global x\\n    print('This function is now using the global x!')\\n    print('Because of global x is: ', x)\\n    x = 2\\n    print('Ran func(), changed global x to', x)\\n\\nprint('Before calling func(), x is: ', x)\\nfunc()\\nprint('Value of x (outside of func()) is: ', x)\",\n",
       "  \"#Global x\\nx = 50\\n\\ndef func():\\n    global x\\n    print('This function is now using the global x!')\\n    print('Because of global x is: ', x)\\n    #Local reassignment on a global variable!\\n    x = 2\\n    print('Ran func(), changed global x to', x)\\n\\nprint('Before calling func(), x is: ', x)\\nfunc()\\nprint('Value of x (outside of func()) is: ', x)\",\n",
       "  \"#Global x\\nx = 50\\n\\ndef func():\\n    global x\\n    print('This function is now using the global x!')\\n    print('Because of global x is: ', x)\\n    #Local reassignment on a global variable!\\n    x = 2\\n    print('Ran func(), changed global x to', x)\\n\\nprint('Before calling func(), x is: ', x)\\nfunc()\\nprint('Value of x (outside of func()) is: ', x)\",\n",
       "  'x',\n",
       "  '#Method 2 for using global variables and reassigning them!',\n",
       "  \"#Method 2 for using global variables and reassigning them! Much cleaner and safer way \\n#to change and use global variables, especially for beginners in Python.\\n\\nx = 50\\n\\ndef func(x):\\n    print(f'X is {x}')\\n    #Local reassignment on a global variable!\\n    x = 'New Value'\\n    print(f'(I jsut locally changed global x to {x}')\\n    return x\",\n",
       "  'print(x)',\n",
       "  'x = func(x)',\n",
       "  \"#Method 2 for using global variables and reassigning them! Much cleaner and safer way \\n#to change and use global variables, especially for beginners in Python.\\n\\nx = 50\\n\\ndef func(x):\\n    print(f'X is {x}')\\n    #Local reassignment on a global variable!\\n    x = 'New Value'\\n    print(f'I just locally changed global x to {x}')\\n    return x\",\n",
       "  'print(x)',\n",
       "  'x = func(x)',\n",
       "  'x',\n",
       "  \"#Method 2 for using global variables and reassigning them! Much cleaner and safer way \\n#to change and use global variables, especially for beginners in Python. Easier to debug\\n\\nx = 50\\n\\ndef func(x):\\n    print(f'X is {x}')\\n    #Local reassignment on a global variable!\\n    x = 'New Value'\\n    print(f'I just locally changed global x to {x}')\\n    return x\",\n",
       "  'print(x)',\n",
       "  'print(x)',\n",
       "  'x = func(x)',\n",
       "  'x',\n",
       "  'locals()',\n",
       "  'globals()'],\n",
       " 'Out': {2: <function list.insert(index, object, /)>,\n",
       "  8: <function __main__.say_hello()>,\n",
       "  16: 30,\n",
       "  18: 30,\n",
       "  22: 30,\n",
       "  24: 30,\n",
       "  29: NoneType,\n",
       "  30: 30,\n",
       "  32: 30,\n",
       "  34: int,\n",
       "  36: 30,\n",
       "  37: 0,\n",
       "  38: False,\n",
       "  39: 1,\n",
       "  40: True,\n",
       "  41: True,\n",
       "  42: True,\n",
       "  43: 1,\n",
       "  44: True,\n",
       "  45: 1,\n",
       "  46: False,\n",
       "  48: True,\n",
       "  49: False,\n",
       "  55: True,\n",
       "  56: True,\n",
       "  57: True,\n",
       "  60: False,\n",
       "  61: False,\n",
       "  62: False,\n",
       "  64: False,\n",
       "  65: True,\n",
       "  67: False,\n",
       "  68: True,\n",
       "  70: [2, 4, 6, 8, 10],\n",
       "  71: [],\n",
       "  79: ('Cassie', 800),\n",
       "  81: ('Cassie', 800),\n",
       "  83: 'Cassie',\n",
       "  84: 800,\n",
       "  87: ('Cassie', 800),\n",
       "  92: [3, 7, 2, 6, 4, 5, 1],\n",
       "  96: [3, 7, 2, 6, 4, 5, 1],\n",
       "  98: ['O', ' ', ' '],\n",
       "  99: ['O', ' ', ' '],\n",
       "  103: 1,\n",
       "  105: 1,\n",
       "  114: 5.0,\n",
       "  115: 3.0,\n",
       "  117: 22.0,\n",
       "  119: 22.0,\n",
       "  137: 0,\n",
       "  138: <function str.upper()>,\n",
       "  139: 'A',\n",
       "  140: 'a',\n",
       "  141: 'abc',\n",
       "  148: '',\n",
       "  150: '',\n",
       "  152: '',\n",
       "  155: '',\n",
       "  157: '',\n",
       "  159: '',\n",
       "  161: '',\n",
       "  163: '',\n",
       "  165: '',\n",
       "  167: '',\n",
       "  169: '',\n",
       "  171: '',\n",
       "  173: '',\n",
       "  175: '',\n",
       "  177: 'aNtHrOpOmOrpHIsm',\n",
       "  179: 'aNtHrOpOmOrpHIsm',\n",
       "  181: 'aNtHrOpOmOrpHIsm',\n",
       "  183: 'aNtHrOpOmOrpHIsm',\n",
       "  185: 'aNtHrOpOmOrpHIsm',\n",
       "  187: 'aNtHrOpOmOrpHIsm',\n",
       "  191: 'aNtHrOpOmOrPhIsM',\n",
       "  195: <map at 0x10f89ba30>,\n",
       "  197: [1, 4, 9, 16, 25],\n",
       "  200: ['EVEN', 'E', 'S'],\n",
       "  206: <filter at 0x10f7853f0>,\n",
       "  207: [2, 4, 6, 8, 10],\n",
       "  209: <map at 0x10f7ac880>,\n",
       "  210: [1, 4, 9, 16, 25, 36, 49, 64, 81, 100],\n",
       "  212: [2, 4, 6, 8, 10],\n",
       "  213: ['Andy', 'Eve', 'Sally'],\n",
       "  214: ['A', 'E', 'S'],\n",
       "  215: ['ydnA', 'evE', 'yllaS'],\n",
       "  227: 2,\n",
       "  235: 'New Value',\n",
       "  240: 'New Value',\n",
       "  241: {...}},\n",
       " 'get_ipython': <bound method InteractiveShell.get_ipython of <ipykernel.zmqshell.ZMQInteractiveShell object at 0x10e5e7680>>,\n",
       " 'exit': <IPython.core.autocall.ZMQExitAutocall at 0x10e615ca0>,\n",
       " 'quit': <IPython.core.autocall.ZMQExitAutocall at 0x10e615ca0>,\n",
       " 'open': <function _io.open(file, mode='r', buffering=-1, encoding=None, errors=None, newline=None, closefd=True, opener=None)>,\n",
       " '_': {...},\n",
       " '__': 'New Value',\n",
       " '___': 'New Value',\n",
       " '__session__': '/Users/felipegomez/GitHub/PythonPractice/Untitled.ipynb',\n",
       " '_i': 'locals()',\n",
       " '_ii': 'x',\n",
       " '_iii': 'x = func(x)',\n",
       " '_i1': 'mylist = [1,2,3,4]',\n",
       " 'mylist': [1, 2, 3, 4],\n",
       " '_i2': \"mylist.insert #then click 'shift + tab'\",\n",
       " '_2': <function list.insert(index, object, /)>,\n",
       " '_i3': 'help(mylist.insert）',\n",
       " '_i4': 'help(mylist.insert)',\n",
       " '_i5': '?mylist.insert',\n",
       " '_i6': 'def say_hello():\\n    print(\"Hello\")',\n",
       " 'say_hello': <function __main__.say_hello(name='Default')>,\n",
       " '_i7': 'say_hello()',\n",
       " '_i8': 'say_hello',\n",
       " '_8': <function __main__.say_hello()>,\n",
       " '_i9': \"def say_hello(name):\\n    print(f'Hello {name}')\",\n",
       " '_i10': \"say_hello('Felipe')\",\n",
       " '_i11': 'say_hello()',\n",
       " '_i12': \"def say_hello(name='Default'):\\n    print(f'Hello {name}')\",\n",
       " '_i13': 'say_hello()',\n",
       " '_i14': \"say_hello('Felipe')\",\n",
       " '_i15': 'def add_num(num1,num2):\\n    return num1 + num2',\n",
       " 'add_num': <function __main__.add_num(num1, num2)>,\n",
       " '_i16': 'add_num(10,20)',\n",
       " '_16': 30,\n",
       " '_i17': 'result = add_num(10,20)',\n",
       " 'result': 30,\n",
       " '_i18': 'result',\n",
       " '_18': 30,\n",
       " '_i19': 'def print_result(a,b):\\n    print(a+b)',\n",
       " 'print_result': None,\n",
       " '_i20': 'def return_result(a,b):\\n    return a+b',\n",
       " 'return_result': <function __main__.return_result(a, b)>,\n",
       " '_i21': 'print_result(10,20)',\n",
       " '_i22': 'return_result(10,20)',\n",
       " '_22': 30,\n",
       " '_i23': 'print_result(10,20)',\n",
       " '_i24': 'return_result(10,20)',\n",
       " '_24': 30,\n",
       " '_i25': \"#there is no output cell showing you that a variable's being returned.\\n\\nprint_result(10,20)\",\n",
       " '_i26': \"#there is no output cell showing you that a variable's being returned. Instead its just printing out the result.\\n\\nprint_result(10,20)\",\n",
       " '_i27': 'print_result = print_result(10,20)',\n",
       " '_i28': 'print_result',\n",
       " '_i29': 'type(print_result)',\n",
       " '_29': NoneType,\n",
       " '_i30': 'return_result(10,20)',\n",
       " '_30': 30,\n",
       " '_i31': 'returnresult = return_result(10,20)',\n",
       " 'returnresult': 30,\n",
       " '_i32': 'returnresult',\n",
       " '_32': 30,\n",
       " '_i33': '#Both print and return a+b\\n\\ndef myfunc(a,b):\\n    print(a+b)\\n    return a+b',\n",
       " 'myfunc': <function __main__.myfunc(*args, **kwargs)>,\n",
       " '_i34': 'type(returnresult)',\n",
       " '_34': int,\n",
       " '_i35': 'result1 = myfunc(10,20)',\n",
       " 'result1': 30,\n",
       " '_i36': 'result1',\n",
       " '_36': 30,\n",
       " '_i37': '2 % 2',\n",
       " '_37': 0,\n",
       " '_i38': '2 % 2 == True',\n",
       " '_38': False,\n",
       " '_i39': '3 % 2',\n",
       " '_39': 1,\n",
       " '_i40': '2 % 2 == 0',\n",
       " '_40': True,\n",
       " '_i41': '2 % 2 == False',\n",
       " '_41': True,\n",
       " '_i42': '2 % 2 == 0',\n",
       " '_42': True,\n",
       " '_i43': '3 % 2',\n",
       " '_43': 1,\n",
       " '_i44': '2 % 2 == 0',\n",
       " '_44': True,\n",
       " '_i45': '3 % 2',\n",
       " '_45': 1,\n",
       " '_i46': '3 % 2 == 0',\n",
       " '_46': False,\n",
       " '_i47': 'def even_check(number):\\n    result = number % 2 == 0\\n    return result',\n",
       " 'even_check': <function __main__.even_check(number)>,\n",
       " '_i48': 'even_check(20)',\n",
       " '_48': True,\n",
       " '_i49': 'even_check(21)',\n",
       " '_49': False,\n",
       " '_i50': '#Another way to define even_check()',\n",
       " '_i51': '#Another way to define even_check()\\n\\ndef even_check(number):\\n    return number % 2 == 0',\n",
       " '_i52': \"# RETURN TRUE IF ANY NUMBER IS EVEN INSIDE A LIST, OTHERWISE IT WILL NOT RETURN ANYTHING\\n\\ndef check_even_list(num_list):\\n\\n    for number in num_list:\\n        if number % 2 == 0:\\n            return True\\n        else:\\n            pass #pass just means don't do anything\",\n",
       " 'check_even_list': <function __main__.check_even_list(num_list)>,\n",
       " '_i53': \"# RETURN TRUE IF ANY NUMBER IS EVEN INSIDE A LIST, OTHERWISE IT WILL NOT RETURN ANYTHING\\n\\ndef check_even_list(num_list):\\n\\n    for number in num_list:\\n        if number % 2 == 0:\\n            return True #return is actually in the middle of the function. It doesn't always have to go at the end. In fact, you can have multiple returns inside of a function.\\n        else:\\n            pass #pass just means don't do anything\",\n",
       " '_i54': 'check_even_list([1,3,5])',\n",
       " '_i55': 'check_even_list([2,4,5])',\n",
       " '_55': True,\n",
       " '_i56': 'check_even_list([2,1,1,1])',\n",
       " '_56': True,\n",
       " '_i57': 'check_even_list([1,1,1,2])',\n",
       " '_57': True,\n",
       " '_i58': \"# RETURN TRUE IF ANY NUMBER IS EVEN INSIDE A LIST, OTHERWISE IT WILL NOT RETURN ANYTHING\\n\\ndef check_even_list(num_list):\\n\\n    for number in num_list:\\n        if number % 2 == 0:\\n            return True #return is actually in the middle of the function. \\n            #You can think of this return statement as essentially going to break off the entire function. Once you call return, that's it.\\n            #It doesn't always have to go at the end. In fact, you can have multiple returns inside of a function.\\n        else:\\n            pass #pass just means don't do anything\",\n",
       " '_i59': '# IF WE TRY ADDING FALSE IF NO NUMBERS ARE EVEN IN LIST\\n\\n#BEGINNER/ROOKIE MISTAKE CODE:\\ndef check_even_list(num_list):\\n    for number in num_list:\\n        if number % 2 == 0:\\n            return True\\n        else:\\n            return False # WRONG!!!!!!!!! BECAUSE IF THE FIRST ELEMENT IN OUR LIST IS ODD BUT WE HAVE EVEN NUMBERS IN OUR LIST THEN\\n                         # OUR FUNCTION WILL RETURN FALSE EVEN THOUGH IT SHOULD RETURN TRUE!\\n            # BEGGINNERS MAKE THE MISTAKE THAT ALL THE RETURN STATEMENTS SHOULD HAVE THE SAME LEVEL OF INDENTATION, WHICH IS NOT TRUE!!!\\n            #',\n",
       " '_i60': 'check_even_list([1,3,5])',\n",
       " '_60': False,\n",
       " '_i61': '#THIS IS AN EXAMPLE WHERE OUR FUNCTION FAILS\\ncheck_even_list([1,2,5])',\n",
       " '_61': False,\n",
       " '_i62': '#THIS IS AN EXAMPLE WHERE OUR FUNCTION FAILS. IT SHOULD RETURN TRUE!\\ncheck_even_list([1,2,5])',\n",
       " '_62': False,\n",
       " '_i63': '#CORRECT CODE\\n\\ndef check_even_list(num_list):\\n    for number in num_list:\\n        if number % 2 == 0:\\n            return True\\n        else:\\n            pass\\n    return False',\n",
       " '_i64': 'check_even_list([1,3,5])',\n",
       " '_64': False,\n",
       " '_i65': 'check_even_list([1,2,5])',\n",
       " '_65': True,\n",
       " '_i66': \"#CORRECT CODE\\n#WHAT THIS IS SAYING IS THAT IF WE COMPLETED AND WE NEVER BROKE OUT OF THE FUNCTION WITH OUR RETURN STATEMENT, THEN RETURN FALSE\\n#WE WANT TO LOOP THROUGH ALL THE NUMBERS FIRST AND WE CAN SUE THESE PASS STATEMENTS AS PLACEHOLDERS TO ESSENTIALLY SAY, DON'T DO ANYTHING\\n#AND THEN IF WE DO NOT BREAK OUT OF OUR FUNCTION, THEN WE CAN SAFELY SAY WE HAVE NO EVEN NUMBERS IN OUR LIST AND RETURN FALSE.\\n\\ndef check_even_list(num_list):\\n    for number in num_list:\\n        if number % 2 == 0:\\n            return True\\n        else:\\n            pass\\n    return False\",\n",
       " '_i67': 'check_even_list([1,3,5])',\n",
       " '_67': False,\n",
       " '_i68': 'check_even_list([1,2,5])',\n",
       " '_68': True,\n",
       " '_i69': '# RETURN ALL THE EVEN NUMBERS IN A LIST. RETURN AN EMPTY LIST IF NONE ARE EVEN\\n\\ndef return_even_list(num_list):\\n    #placeholder variables for list of even numbers\\n    even_numbers = []\\n\\n    for number in num_list:\\n        if number % 2 == 0:\\n            even_numbers.append(number)\\n        else:\\n            pass\\n    return even_numbers',\n",
       " 'return_even_list': <function __main__.return_even_list(num_list)>,\n",
       " '_i70': 'return_even_list([1,2,3,4,5,6,7,8,9,10])',\n",
       " '_70': [2, 4, 6, 8, 10],\n",
       " '_i71': 'return_even_list([1,3,5])',\n",
       " '_71': [],\n",
       " '_i72': '#TUPLE UNPACKING WIHT PYTHON FUNCTIONS',\n",
       " '_i73': \"stock_prices = [('APPL', 200), ('GOOG', 400), ('MSFT', 100)]\",\n",
       " 'stock_prices': [('APPL', 200), ('GOOG', 400), ('MSFT', 100)],\n",
       " '_i74': 'for item in stock_prices:\\n    print(item)',\n",
       " 'item': 25,\n",
       " '_i75': 'for ticker,price in stock_prices:\\n    print(ticker)',\n",
       " 'ticker': 'MSFT',\n",
       " 'price': 100,\n",
       " '_i76': 'for ticker,price in stock_prices:\\n    print(price + (.1*price))',\n",
       " '_i77': \"work_hours = [('Abby', 100), ('Billy', 400), ('Cassie', 800)]\",\n",
       " 'work_hours': [('Abby', 100), ('Billy', 400), ('Cassie', 800)],\n",
       " '_i78': \"def employee_check(work_hours):\\n\\n    current_max = 0\\n    employee_of_month = ''\\n\\n    for employee,hours in work_hours:\\n        if hours > current_max:\\n            current_max = hours\\n            employee_of_month = employee\\n        else:\\n            pass\\n    return (employee_of_month, current_max)\",\n",
       " 'employee_check': <function __main__.employee_check(work_hours)>,\n",
       " '_i79': 'employee_check(work_hours)',\n",
       " '_79': ('Cassie', 800),\n",
       " '_i80': 'result_ec = employee_check(work_hours)',\n",
       " 'result_ec': ('Cassie', 800),\n",
       " '_i81': 'result_ec',\n",
       " '_81': ('Cassie', 800),\n",
       " '_i82': 'name,hours = employee_check(work_hours)',\n",
       " 'name': 'This is a global name',\n",
       " 'hours': 800,\n",
       " '_i83': 'name',\n",
       " '_83': 'Cassie',\n",
       " '_i84': 'hours',\n",
       " '_84': 800,\n",
       " '_i85': 'name,hours,location = employee_check(work_hours)',\n",
       " '_i86': 'item = employee_check(work_hours)',\n",
       " '_i87': 'item',\n",
       " '_87': ('Cassie', 800),\n",
       " '_i88': '#Guessing Game: \"Three Cup Monte\"',\n",
       " '_i89': 'from random import shuffle',\n",
       " 'shuffle': <bound method Random.shuffle of <random.Random object at 0x7f8fc884d420>>,\n",
       " '_i90': 'example = [1,2,3,4,5,6,7]',\n",
       " 'example': [3, 7, 2, 6, 4, 5, 1],\n",
       " '_i91': 'shuffle(example)',\n",
       " '_i92': 'example',\n",
       " '_92': [3, 7, 2, 6, 4, 5, 1],\n",
       " '_i93': \"shuffle(example) #shuffle is an inplace function, it doesn't actually return anything, so if we want to set a variable equal to\\n#the shuffled list, we would have to create a function to do this.\",\n",
       " '_i94': 'def shuffle_list(mylist):\\n    shuffle(mylist)\\n    return mylist',\n",
       " 'shuffle_list': <function __main__.shuffle_list(mylist)>,\n",
       " '_i95': 'resultshuffle = shuffle_list(example)',\n",
       " 'resultshuffle': [3, 7, 2, 6, 4, 5, 1],\n",
       " '_i96': 'resultshuffle',\n",
       " '_96': [3, 7, 2, 6, 4, 5, 1],\n",
       " '_i97': \"mygamelist = [' ', 'O', ' ']\",\n",
       " 'mygamelist': ['O', ' ', ' '],\n",
       " '_i98': 'shuffle_list(mygamelist)',\n",
       " '_98': ['O', ' ', ' '],\n",
       " '_i99': 'shuffle_list(mygamelist)',\n",
       " '_99': ['O', ' ', ' '],\n",
       " '_i100': 'def player_guess():',\n",
       " '_i101': 'def player_guess():\\n    guess = \\'\\'\\n    while guess not in [\\'0\\', \\'1\\', \\'2\\']:\\n        guess = input(\"Pick a number: 0, 1, or 2\")\\n\\n    return int(guess) # we must convert to int because input function returns a string.',\n",
       " 'player_guess': <function __main__.player_guess()>,\n",
       " '_i102': 'def player_guess():\\n    guess = \\'\\'\\n    while guess not in [\\'0\\', \\'1\\', \\'2\\']:\\n        guess = input(\"Pick a number: 0, 1, or 2\")\\n\\n    return int(guess) # we must convert to int because input function returns a string. We also need it as an integer to \\n#directly index off of our game list.',\n",
       " '_i103': 'player_guess()',\n",
       " '_103': 1,\n",
       " '_i104': 'myindex = player_guess()',\n",
       " 'myindex': 1,\n",
       " '_i105': 'myindex',\n",
       " '_105': 1,\n",
       " '_i106': '#Our last function will combine our shuffle_list(mylist) function with our player_guess() function and will\\n#check to see if our guess is the correct guess and correct index for \\'O\\' in our mygamelist.\\n\\ndef check_guess(mylist, guess):\\n    if mylist[guess] == \\'O\\':\\n        print(\\'Correct!\\')\\n    else:\\n        print(\"Wrong guess!\")\\n        print(mylist)',\n",
       " 'check_guess': <function __main__.check_guess(mylist, guess)>,\n",
       " '_i107': '#Our last functions will combine our shuffle_list(mylist) function with our player_guess() function and will\\n#check to see if our guess is the correct guess and correct index for \\'O\\' in our mygamelist.\\n\\ndef check_guess(mylist, guess):\\n    if mylist[guess] == \\'O\\':\\n        print(\\'Correct!\\')\\n    else:\\n        print(\"Wrong guess!\")\\n        print(mylist)',\n",
       " '_i108': '#Our last function will combine our shuffle_list(mylist) function with our player_guess() function and will\\n#check to see if our guess is the correct guess and correct index for \\'O\\' in our mygamelist.\\n\\ndef check_guess(mylist, guess):\\n    if mylist[guess] == \\'O\\':\\n        print(\\'Correct!\\')\\n    else:\\n        print(\"Wrong guess!\")\\n        print(mylist)',\n",
       " '_i109': \"#OUR LAST SCRIPT WILL CALL ALL FUNCTIONS IN ORDER AND WILL RETURN WHETHER WE ARE CORRECT IN OUR GUESS.\\n\\n#INITIAL LIST\\nmygamelist = [' ', 'O', ' ']\\n\\n#SHUFFLE LIST\\nmixedup_list = shuffle_list(mygamelist)\\n\\n#USER GUESS\\nguess = player_guess()\\n\\n#CHECK\\ncheck_guess(mixedup_list, guess)\",\n",
       " 'mixedup_list': ['O', ' ', ' '],\n",
       " 'guess': 1,\n",
       " '_i110': '#Our last function will combine our shuffle_list(mylist) function with our player_guess() function and will\\n#check to see if our guess is the correct guess and correct index for \\'O\\' in our mygamelist.\\n#We are not actually returning anything. We are just showing whether we are correct or wrong in our guess and our final shuffled list.\\n\\ndef check_guess(mylist, guess):\\n    if mylist[guess] == \\'O\\':\\n        print(\\'Correct!\\')\\n    else:\\n        print(\"Wrong guess!\")\\n        print(mylist)',\n",
       " '_i111': \"#OUR LAST SCRIPT WILL CALL ALL FUNCTIONS IN ORDER AND WILL RETURN WHETHER WE ARE CORRECT IN OUR GUESS.\\n\\n#INITIAL LIST\\nmygamelist = [' ', 'O', ' ']\\n\\n#SHUFFLE LIST\\nmixedup_list = shuffle_list(mygamelist)\\n\\n#USER GUESS\\nguess = player_guess()\\n\\n#CHECK\\ncheck_guess(mixedup_list, guess)\",\n",
       " '_i112': '# *args and **kwargs',\n",
       " '_i113': 'def myfunc(a,b):\\n    return sum(a,b)*.05\\n\\nmyfunc(40,60)',\n",
       " '_i114': 'def myfunc(a,b):\\n    return sum((a,b))*.05\\n\\nmyfunc(40,60)',\n",
       " '_114': 5.0,\n",
       " '_i115': '#METHOD 1 OF ADDING MORE ARGUMENTS\\ndef myfunc(a,b,c=0,d=0,e=0):\\n    return sum((a,b,c,d,e))*.05\\n\\nmyfunc(10,20,30)',\n",
       " '_115': 3.0,\n",
       " '_i116': '#METHOD 1 OF ADDING MORE ARGUMENTS\\ndef myfunc(a,b,c=0,d=0,e=0):\\n    return sum((a,b,c,d,e))*.05\\n\\nmyfunc(10,20,30,10,10,100,100,100)',\n",
       " '_i117': '#METHOD 2 USING *ARGS IN OUR FUNCTION DEFINITION\\n\\ndef myfunc(*args):\\n    return sum((args))*.05\\n\\nmyfunc(10,10,10,10,100,100,100,100)',\n",
       " '_117': 22.0,\n",
       " '_i118': 'def myfunc(*args):\\n    for item in args:\\n        print(item)\\n\\nmyfunc(40,60,100,1,34)',\n",
       " '_i119': '#METHOD 2 USING *ARGS IN OUR FUNCTION DEFINITION\\n#*args creates a tuple of values that we pass into our function and can perform iteration, sum, etc.\\n\\ndef myfunc(*args):\\n    return sum((args))*.05\\n\\nmyfunc(10,10,10,10,100,100,100,100)',\n",
       " '_119': 22.0,\n",
       " '_i120': 'def myfunc(*args):\\n    for item in args:\\n        print(item)\\n\\nmyfunc(40,60,100,1,34)',\n",
       " '_i121': '#**kwargs STANDS FOR KEYWORDED ARGUMENTS, SIMILAR TO *ARGS BUT THIS TIME WE USE **KWARGS\\n#TO BUILD A DICTIONARY OF KEY:VALUE PAIRS',\n",
       " '_i122': \"def myfunc(**kwargs):\\n    if 'fruit' in kwargs:\\n        print(f'My fruit of choice is {kwargs['fruit']}')\\n    else:\\n        print('I did not find any fruit here')\",\n",
       " '_i123': \"myfunc(fruit='apple',vegetable='carrots')\",\n",
       " '_i124': \"#python is no longer complaining about multiple keyworded arguments because we defined myfunc with **kwargs\\nmyfunc(fruit='apple',vegetable='carrots')\",\n",
       " '_i125': \"#python is no longer complaining about multiple keyworded arguments because we defined myfunc with **kwargs\\n#which allows us to input as many key:value pairs and passes it as a dictionary to our function.\\n\\nmyfunc(fruit='apple',vegetable='carrots')\",\n",
       " '_i126': \"def myfunc(**kwargs):\\n    print(kwargs)\\n    if 'fruit' in kwargs:\\n        print(f'My fruit of choice is {kwargs['fruit']}')\\n    else:\\n        print('I did not find any fruit here')\",\n",
       " '_i127': \"#python is no longer complaining about multiple keyworded arguments because we defined myfunc with **kwargs\\n#which allows us to input as many key:value pairs and passes it as a dictionary to our function.\\n\\nmyfunc(fruit='apple',vegetable='carrots')\",\n",
       " '_i128': \"#python is no longer complaining about multiple keyworded arguments because we defined myfunc with **kwargs\\n#which allows us to input as many key:value pairs and passes it as a dictionary to our function. Now we can\\n#call it however way we want.\\n\\nmyfunc(fruit='apple',vegetable='carrots')\",\n",
       " '_i129': \"#python is no longer complaining about multiple keyworded arguments because we defined myfunc with **kwargs\\n#which allows us to input as many key:value pairs and passes it as a dictionary to our function. Now we can\\n#call it however way we want and play around with it inside our functions\\n\\nmyfunc(fruit='apple',vegetable='carrots')\",\n",
       " '_i130': \"#We can combine *args and **kwargs in the same function; *args must come before **kwargs\\n\\ndef myfunc(*ars, **kwargs):\\n    print(args)\\n    print(kwargs)\\n    print(f'I would like {args[0]} {kwargs['food']}')\",\n",
       " '_i131': \"myfunc(10,20,30,fruit='orange',food='eggs',animal='dog')\",\n",
       " '_i132': \"#We can combine *args and **kwargs in the same function; *args must come before **kwargs\\n\\ndef myfunc(*args, **kwargs):\\n    print(args)\\n    print(kwargs)\\n    print(f'I would like {args[0]} {kwargs['food']}')\",\n",
       " '_i133': \"myfunc(10,20,30,fruit='orange',food='eggs',animal='dog')\",\n",
       " '_i134': \"myfunc(10,20,30,fruit='orange',food='eggs',animal='dog', 100)\",\n",
       " '_i135': \"#We can combine *args and **kwargs in the same function; *args must come before **kwargs\\n\\ndef myfunc(**kwargs, *args):\\n    print(args)\\n    print(kwargs)\\n    print(f'I would like {args[0]} {kwargs['food']}')\",\n",
       " '_i136': \"myteststring = 'abc'\",\n",
       " 'myteststring': 'abc',\n",
       " '_i137': \"myteststring.index('a')\",\n",
       " '_137': 0,\n",
       " '_i138': \"'a'.upper\",\n",
       " '_138': <function str.upper()>,\n",
       " '_i139': \"'a'.upper()\",\n",
       " '_139': 'A',\n",
       " '_i140': \"'A'.lower()\",\n",
       " '_140': 'a',\n",
       " '_i141': \"myteststring.join('a')\\nmyteststring\",\n",
       " '_141': 'abc',\n",
       " '_i142': \"def myfunc(mystring):\\n    \\n    updated_string = ''\\n    \\n    for letter in mystring:\\n        if mystring.index(letter) % 2 == 0:\\n            updated_string.join(letter.upper())\\n        else:\\n            updated_string.join(letter.lower())\\n        \\n    return updated_string\",\n",
       " '_i143': \"#We can combine *args and **kwargs in the same function; *args must come before **kwargs\\n\\ndef myfunc(*args, **kwargs):\\n    print(args)\\n    print(kwargs)\\n    print(f'I would like {args[0]} {kwargs['food']}')\",\n",
       " '_i144': \"myfunc(10,20,30,fruit='orange',food='eggs',animal='dog')\",\n",
       " '_i145': \"myfunc(10,20,30,fruit='orange',food='eggs',animal='dog', 100)\",\n",
       " '_i146': \"#We can combine *args and **kwargs in the same function; *args must come before **kwargs\\n\\ndef myfunc(**kwargs, *args):\\n    print(args)\\n    print(kwargs)\\n    print(f'I would like {args[0]} {kwargs['food']}')\",\n",
       " '_i147': \"def myfunc1(mystring):\\n    \\n    updated_string = ''\\n    \\n    for letter in mystring:\\n        if mystring.index(letter) % 2 == 0:\\n            updated_string.join(letter.upper())\\n        else:\\n            updated_string.join(letter.lower())\\n        \\n    return updated_string\",\n",
       " 'myfunc1': <function __main__.myfunc1(mystring)>,\n",
       " '_i148': \"myfunc1('Anthropomorphism')\",\n",
       " '_148': '',\n",
       " '_i149': \"def myfunc1(mystring):\\n    \\n    updated_string = ''\\n    \\n    for letter in mystring:\\n        print(letter)\\n        if mystring.index(letter) % 2 == 0:\\n            updated_string.join(letter.upper())\\n        else:\\n            updated_string.join(letter.lower())\\n        \\n    return updated_string\",\n",
       " '_i150': \"myfunc1('Anthropomorphism')\",\n",
       " '_150': '',\n",
       " '_i151': \"def myfunc1(mystring):\\n    \\n    updated_string = ''\\n    \\n    for letter in mystring:\\n        print(letter)\\n        print(mystring.index(letter) % 2 == 0)\\n        if mystring.index(letter) % 2 == 0:\\n            updated_string.join(letter.upper())\\n        else:\\n            updated_string.join(letter.lower())\\n        \\n    return updated_string\",\n",
       " '_i152': \"myfunc1('Anthropomorphism')\",\n",
       " '_152': '',\n",
       " '_i153': \"def myfunc1(mystring):\\n    \\n    updated_string = ''\\n    \\n    for letter in mystring:\\n        print(letter)\\n        print(mystring.index(letter) % 2 == )\\n        if mystring.index(letter)+1 % 2 == 0:\\n            updated_string.join(letter.upper())\\n        else:\\n            updated_string.join(letter.lower())\\n        \\n    return updated_string\",\n",
       " '_i154': \"def myfunc1(mystring):\\n    \\n    updated_string = ''\\n    \\n    for letter in mystring:\\n        print(letter)\\n        print(mystring.index(letter) % 2 == 0)\\n        if mystring.index(letter)+1 % 2 == 0:\\n            updated_string.join(letter.upper())\\n        else:\\n            updated_string.join(letter.lower())\\n        \\n    return updated_string\",\n",
       " '_i155': \"myfunc1('Anthropomorphism')\",\n",
       " '_155': '',\n",
       " '_i156': \"def myfunc1(mystring):\\n    \\n    updated_string = ''\\n    \\n    for letter in mystring:\\n        print(letter)\\n        print(mystring.index(letter)+1 % 2 == 0)\\n        if mystring.index(letter)+1 % 2 == 0:\\n            updated_string.join(letter.upper())\\n        else:\\n            updated_string.join(letter.lower())\\n        \\n    return updated_string\",\n",
       " '_i157': \"myfunc1('Anthropomorphism')\",\n",
       " '_157': '',\n",
       " '_i158': \"def myfunc1(mystring):\\n    \\n    updated_string = ''\\n    \\n    for letter in mystring:\\n        print(letter)\\n        print(mystring.index(letter)+1 % 2 == 0)\\n        if mystring.index(letter)+1 % 2 == 0:\\n            updated_string.join(letter.upper())\\n        else:\\n            updated_string.join(letter.lower())\\n            continue\\n        \\n    return updated_string\",\n",
       " '_i159': \"myfunc1('Anthropomorphism')\",\n",
       " '_159': '',\n",
       " '_i160': \"def myfunc1(mystring):\\n    \\n    updated_string = ''\\n    \\n    for letter in mystring:\\n        print(letter)\\n        print(mystring.index(letter)+1 % 2 == 1)\\n        if mystring.index(letter)+1 % 2 == 1:\\n            updated_string.join(letter.upper())\\n        else:\\n            updated_string.join(letter.lower())\\n            continue\\n        \\n    return updated_string\",\n",
       " '_i161': \"myfunc1('Anthropomorphism')\",\n",
       " '_161': '',\n",
       " '_i162': \"def myfunc1(mystring):\\n    \\n    updated_string = ''\\n    \\n    for letter in mystring:\\n        print(letter)\\n        print(mystring.index(letter))\\n        if mystring.index(letter) + 1 % 2 == 0:\\n            updated_string.join(letter.upper())\\n        else:\\n            updated_string.join(letter.lower())\\n            continue\\n        \\n    return updated_string\",\n",
       " '_i163': \"myfunc1('Anthropomorphism')\",\n",
       " '_163': '',\n",
       " '_i164': \"def myfunc1(mystring):\\n    \\n    updated_string = ''\\n    \\n    for letter in mystring:\\n        print(letter)\\n        print(mystring.index(letter) + 1)\\n        if mystring.index(letter) + 1 % 2 == 0:\\n            updated_string.join(letter.upper())\\n        else:\\n            updated_string.join(letter.lower())\\n            continue\\n        \\n    return updated_string\",\n",
       " '_i165': \"myfunc1('Anthropomorphism')\",\n",
       " '_165': '',\n",
       " '_i166': \"def myfunc1(mystring):\\n    \\n    updated_string = ''\\n    \\n    for letter in mystring:\\n        print(letter)\\n        print(mystring.index(letter) + 1)\\n        if (mystring.index(letter) + 1) % 2 == 0:\\n            updated_string.join(letter.upper())\\n        else:\\n            updated_string.join(letter.lower())\\n            continue\\n        \\n    return updated_string\",\n",
       " '_i167': \"myfunc1('Anthropomorphism')\",\n",
       " '_167': '',\n",
       " '_i168': \"def myfunc1(mystring):\\n    \\n    updated_string = ''\\n    \\n    for letter in mystring:\\n        print(letter)\\n        print(mystring.index(letter) + 1)\\n        if (mystring.index(letter) + 1) % 2 == 0:\\n            updated_string + letter.upper()\\n        else:\\n            updated_string + letter.lower()\\n            continue\\n        \\n    return updated_string\",\n",
       " '_i169': \"myfunc1('Anthropomorphism')\",\n",
       " '_169': '',\n",
       " '_i170': \"def myfunc1(mystring):\\n    \\n    updated_string = ''\\n    \\n    for letter in mystring:\\n        print(letter)\\n        print(mystring.index(letter) + 1)\\n        if (mystring.index(letter) + 1) % 2 == 0:\\n            updated_string + letter.upper()\\n        else:\\n            updated_string + letter.lower()\\n        \\n    return updated_string\",\n",
       " '_i171': \"myfunc1('Anthropomorphism')\",\n",
       " '_171': '',\n",
       " '_i172': \"def myfunc1(mystring):\\n    \\n    updated_string = ''\\n    \\n    for letter in mystring:\\n        print(letter)\\n        print(mystring.index(letter) + 1)\\n        print(letter.upper(), letter.lower())\\n        if (mystring.index(letter) + 1) % 2 == 0:\\n            updated_string + letter.upper()\\n        else:\\n            updated_string + letter.lower()\\n        \\n    return updated_string\",\n",
       " '_i173': \"myfunc1('Anthropomorphism')\",\n",
       " '_173': '',\n",
       " '_i174': \"def myfunc1(mystring):\\n    \\n    updated_string = ''\\n    \\n    for letter in mystring:\\n        print(letter)\\n        print(mystring.index(letter) + 1)\\n        print(letter.upper(), letter.lower())\\n        updated_string + letter.upper() + letter.lower()\\n        if (mystring.index(letter) + 1) % 2 == 0:\\n            updated_string + letter.upper()\\n        else:\\n            updated_string + letter.lower()\\n        \\n    return updated_string\",\n",
       " '_i175': \"myfunc1('Anthropomorphism')\",\n",
       " '_175': '',\n",
       " '_i176': \"def myfunc1(mystring):\\n    \\n    updated_string = ''\\n    \\n    for letter in mystring:\\n        print(letter)\\n        print(mystring.index(letter) + 1)\\n        print(letter.upper(), letter.lower())\\n        if (mystring.index(letter) + 1) % 2 == 0:\\n            updated_string += letter.upper()\\n        else:\\n            updated_string += letter.lower()\\n        \\n    return updated_string\",\n",
       " '_i177': \"myfunc1('Anthropomorphism')\",\n",
       " '_177': 'aNtHrOpOmOrpHIsm',\n",
       " '_i178': \"def myfunc1(mystring):\\n    \\n    updated_string = ''\\n    \\n    for letter in mystring:\\n        if (mystring.index(letter) + 1) % 2 == 0:\\n            updated_string += letter.upper()\\n        else:\\n            updated_string += letter.lower()\\n        \\n    return updated_string\",\n",
       " '_i179': \"myfunc1('Anthropomorphism')\",\n",
       " '_179': 'aNtHrOpOmOrpHIsm',\n",
       " '_i180': \"def myfunc1(mystring):\\n    \\n    updated_string = ''\\n    \\n    for letter in mystring:\\n        if (mystring.index(letter) + 1) % 2 == 0:\\n            updated_string += letter.upper()\\n        elif (mystring.index(letter) + 1) % 2 != 0:\\n            updated_string += letter.lower()\\n        \\n    return updated_string\",\n",
       " '_i181': \"myfunc1('Anthropomorphism')\",\n",
       " '_181': 'aNtHrOpOmOrpHIsm',\n",
       " '_i182': \"def myfunc1(mystring):\\n    \\n    updated_string = ''\\n    \\n    for letter in mystring:\\n        if (mystring.index(letter) + 1) % 2 == 0:\\n            updated_string += letter.upper()\\n        elif (mystring.index(letter) + 1) % 2 != 0:\\n            updated_string += letter.lower()\\n        else:\\n            pass\\n    return updated_string\",\n",
       " '_i183': \"myfunc1('Anthropomorphism')\",\n",
       " '_183': 'aNtHrOpOmOrpHIsm',\n",
       " '_i184': \"def myfunc1(mystring):\\n    \\n    updated_string = ''\\n    \\n    for letter in mystring:\\n        if (mystring.index(letter) + 1) % 2 == 0:\\n            updated_string += letter.upper()\\n        elif (mystring.index(letter) + 1) % 2 != 0:\\n            updated_string += letter.lower()\\n        else:\\n            continue\\n    return updated_string\",\n",
       " '_i185': \"myfunc1('Anthropomorphism')\",\n",
       " '_185': 'aNtHrOpOmOrpHIsm',\n",
       " '_i186': \"def myfunc1(mystring):\\n    \\n    updated_string = ''\\n    \\n    for letter in mystring:\\n        print(letter, mystring.index(letter))\\n        if (mystring.index(letter) + 1) % 2 == 0:\\n            updated_string += letter.upper()\\n        elif (mystring.index(letter) + 1) % 2 != 0:\\n            updated_string += letter.lower()\\n        else:\\n            continue\\n    return updated_string\",\n",
       " '_i187': \"myfunc1('Anthropomorphism')\",\n",
       " '_187': 'aNtHrOpOmOrpHIsm',\n",
       " '_i188': \"def myfunc1(mystring):\\n    \\n    updated_string = ''\\n    \\n    for index,letter in mystring:\\n        if (index + 1) % 2 == 0:\\n            updated_string += letter.upper()\\n        else:\\n            updated_string += letter.lower()\\n            \\n    return updated_string\",\n",
       " '_i189': \"myfunc1('Anthropomorphism')\",\n",
       " '_i190': \"def myfunc1(mystring):\\n    \\n    updated_string = ''\\n    \\n    for index,letter in enumerate(mystring):\\n        if (index + 1) % 2 == 0:\\n            updated_string += letter.upper()\\n        else:\\n            updated_string += letter.lower()\\n            \\n    return updated_string\",\n",
       " '_i191': \"myfunc1('Anthropomorphism')\",\n",
       " '_191': 'aNtHrOpOmOrPhIsM',\n",
       " '_i192': 'def square(num):\\n    return num**2',\n",
       " 'square': <function __main__.square(num)>,\n",
       " '_i193': 'my_nums = [1,2,3,4,5]',\n",
       " 'my_nums': [1, 2, 3, 4, 5],\n",
       " '_i194': 'my_nums = [1,2,3,4,5]',\n",
       " '_i195': 'map(square, my_nums)',\n",
       " '_195': <map at 0x10f89ba30>,\n",
       " '_i196': 'for item in map(square, my_nums):\\n    print(item)',\n",
       " '_i197': 'list(map(square, my_nums))',\n",
       " '_197': [1, 4, 9, 16, 25],\n",
       " '_i198': \"def splicer(mystring):\\n    if len(mystring) % 2 ==0:\\n        return 'EVEN'\\n    else:\\n        return mystring[0]\",\n",
       " 'splicer': <function __main__.splicer(mystring)>,\n",
       " '_i199': \"names = ['Andy', 'Eve', 'Sally']\",\n",
       " 'names': ['Andy', 'Eve', 'Sally'],\n",
       " '_i200': 'list(map(splicer, names))',\n",
       " '_200': ['EVEN', 'E', 'S'],\n",
       " '_i201': 'list(map(splicer(), names))',\n",
       " '_i202': 'list(map(splicer(names), names))',\n",
       " '_i203': 'list(map(splicer(), names))',\n",
       " '_i204': 'def check_even(num):\\n    return num % 2 == 0',\n",
       " 'check_even': <function __main__.check_even(num)>,\n",
       " '_i205': 'mynums = [1,2,3,4,5,6,7,8,9,10]',\n",
       " 'mynums': [1, 2, 3, 4, 5, 6, 7, 8, 9, 10],\n",
       " '_i206': 'filter(check_even, mynums)',\n",
       " '_206': <filter at 0x10f7853f0>,\n",
       " '_i207': 'list(filter(check_even, mynums))',\n",
       " '_207': [2, 4, 6, 8, 10],\n",
       " '_i208': \"teststring = 'abcdef'\",\n",
       " 'teststring': 'abcdef',\n",
       " '_i209': 'map(lambda num:num**2, mynums)',\n",
       " '_209': <map at 0x10f7ac880>,\n",
       " '_i210': 'list(map(lambda num:num**2, mynums))',\n",
       " '_210': [1, 4, 9, 16, 25, 36, 49, 64, 81, 100],\n",
       " '_i211': 'list(filter(lambda num:num % 2 == 0))',\n",
       " '_i212': 'list(filter(lambda num:num % 2 == 0, mynums))',\n",
       " '_212': [2, 4, 6, 8, 10],\n",
       " '_i213': 'names',\n",
       " '_213': ['Andy', 'Eve', 'Sally'],\n",
       " '_i214': 'list(map(lambda name:name[0], names))',\n",
       " '_214': ['A', 'E', 'S'],\n",
       " '_i215': 'list(map(lambda name:name[::-1], names))',\n",
       " '_215': ['ydnA', 'evE', 'yllaS'],\n",
       " '_i216': 'x = 25\\n\\ndef printer():\\n    x = 50\\n    return x',\n",
       " 'x': 'New Value',\n",
       " 'printer': <function __main__.printer()>,\n",
       " '_i217': 'print(x)',\n",
       " '_i218': 'x = 25\\n\\ndef printer():\\n    x = 50\\n    return x',\n",
       " '_i219': '#NESTED STATEMENTS AND SCOPE',\n",
       " '_i220': 'print(printer())',\n",
       " '_i221': '#Local\\n\\n# x is local here:\\nf = lambda x:x**2',\n",
       " 'f': <function __main__.<lambda>(x)>,\n",
       " '_i222': \"#Global\\nname = 'This is a global name'\\n\\ndef greet():\\n    # Enclosing function\\n    name = 'Sammy'\\n    \\n    def hello():\\n        #Local\\n        name = 'Sam'\\n        print('Hello '+name)\\n    \\n    hello()\\n\\ngreet()\",\n",
       " 'greet': <function __main__.greet()>,\n",
       " '_i223': \"x = 50\\n\\ndef func(x):\\n    print('x is', x)\\n    x = 2\\n    print('Changed local x to', x)\\n\\nfunc(x)\\nprint('x is still', x)\",\n",
       " 'func': <function __main__.func(x)>,\n",
       " '_i224': \"x = 50\\n\\ndef func():\\n    global x\\n    print('This function is now using the global x!')\\n    print('Because of global x is: ', x)\\n    x = 2\\n    print('Ran func(), changed global x to', x)\\n\\nprint('Before calling func(), x is: ', x)\\nfunc()\\nprint('Value of x (outside of func()) is: ', x)\",\n",
       " '_i225': \"#Global x\\nx = 50\\n\\ndef func():\\n    global x\\n    print('This function is now using the global x!')\\n    print('Because of global x is: ', x)\\n    #Local reassignment on a global variable!\\n    x = 2\\n    print('Ran func(), changed global x to', x)\\n\\nprint('Before calling func(), x is: ', x)\\nfunc()\\nprint('Value of x (outside of func()) is: ', x)\",\n",
       " '_i226': \"#Global x\\nx = 50\\n\\ndef func():\\n    global x\\n    print('This function is now using the global x!')\\n    print('Because of global x is: ', x)\\n    #Local reassignment on a global variable!\\n    x = 2\\n    print('Ran func(), changed global x to', x)\\n\\nprint('Before calling func(), x is: ', x)\\nfunc()\\nprint('Value of x (outside of func()) is: ', x)\",\n",
       " '_i227': 'x',\n",
       " '_227': 2,\n",
       " '_i228': '#Method 2 for using global variables and reassigning them!',\n",
       " '_i229': \"#Method 2 for using global variables and reassigning them! Much cleaner and safer way \\n#to change and use global variables, especially for beginners in Python.\\n\\nx = 50\\n\\ndef func(x):\\n    print(f'X is {x}')\\n    #Local reassignment on a global variable!\\n    x = 'New Value'\\n    print(f'(I jsut locally changed global x to {x}')\\n    return x\",\n",
       " '_i230': 'print(x)',\n",
       " '_i231': 'x = func(x)',\n",
       " '_i232': \"#Method 2 for using global variables and reassigning them! Much cleaner and safer way \\n#to change and use global variables, especially for beginners in Python.\\n\\nx = 50\\n\\ndef func(x):\\n    print(f'X is {x}')\\n    #Local reassignment on a global variable!\\n    x = 'New Value'\\n    print(f'I just locally changed global x to {x}')\\n    return x\",\n",
       " '_i233': 'print(x)',\n",
       " '_i234': 'x = func(x)',\n",
       " '_i235': 'x',\n",
       " '_235': 'New Value',\n",
       " '_i236': \"#Method 2 for using global variables and reassigning them! Much cleaner and safer way \\n#to change and use global variables, especially for beginners in Python. Easier to debug\\n\\nx = 50\\n\\ndef func(x):\\n    print(f'X is {x}')\\n    #Local reassignment on a global variable!\\n    x = 'New Value'\\n    print(f'I just locally changed global x to {x}')\\n    return x\",\n",
       " '_i237': 'print(x)',\n",
       " '_i238': 'print(x)',\n",
       " '_i239': 'x = func(x)',\n",
       " '_i240': 'x',\n",
       " '_240': 'New Value',\n",
       " '_i241': 'locals()',\n",
       " '_241': {...},\n",
       " '_i242': 'globals()'}"
      ]
     },
     "execution_count": 242,
     "metadata": {},
     "output_type": "execute_result"
    }
   ],
   "source": [
    "globals()"
   ]
  },
  {
   "cell_type": "code",
   "execution_count": null,
   "id": "a0ef5c63-56a1-45cf-a1ae-db13e89a0d99",
   "metadata": {},
   "outputs": [],
   "source": []
  }
 ],
 "metadata": {
  "kernelspec": {
   "display_name": "Python 3 (ipykernel)",
   "language": "python",
   "name": "python3"
  },
  "language_info": {
   "codemirror_mode": {
    "name": "ipython",
    "version": 3
   },
   "file_extension": ".py",
   "mimetype": "text/x-python",
   "name": "python",
   "nbconvert_exporter": "python",
   "pygments_lexer": "ipython3",
   "version": "3.12.2"
  }
 },
 "nbformat": 4,
 "nbformat_minor": 5
}
