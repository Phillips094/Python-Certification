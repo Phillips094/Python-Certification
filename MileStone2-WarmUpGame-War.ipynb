{
 "cells": [
  {
   "cell_type": "code",
   "execution_count": 28,
   "id": "0fa25232-fab2-454b-8484-62d52590ecd8",
   "metadata": {},
   "outputs": [],
   "source": [
    "#IMPORT LIBRARIES\n",
    "\n",
    "import random"
   ]
  },
  {
   "cell_type": "code",
   "execution_count": 29,
   "id": "09c81853-e797-4c3a-b300-65b4fe4ee53d",
   "metadata": {},
   "outputs": [],
   "source": [
    "#GLOBAL VARIABLES\n",
    "# SUIT, RANK, VALUE\n",
    "\n",
    "suits = ('Hearts', 'Diamonds', 'Spades', 'Clubs')\n",
    "ranks = ('Two', 'Three', 'Four', 'Five', 'Six', 'Seven', 'Eight', 'Nine', 'Ten', 'Jack', 'Queen', 'King', 'Ace')\n",
    "values = {'Two':2, 'Three':3, 'Four':4, 'Five':5, 'Six':6, 'Seven':7, 'Eight':8, \n",
    "            'Nine':9, 'Ten':10, 'Jack':11, 'Queen':12, 'King':13, 'Ace':14}"
   ]
  },
  {
   "cell_type": "code",
   "execution_count": 30,
   "id": "6b6bfadd-5779-48c6-8d02-0a3590ebaaa1",
   "metadata": {},
   "outputs": [],
   "source": [
    "# CARD CLASS\n",
    "\n",
    "class Card():\n",
    "\n",
    "    def __init__(self, suit, rank):\n",
    "        self.suit = suit\n",
    "        self.rank = rank\n",
    "        self.value = values[rank] #We don't need self.rank because inside the instantiation method we're actually already passing rank.\n",
    "                                  #values[rank] is a lookup which corresponds to our global variable 'values'.\n",
    "    def __str__(self):\n",
    "        return self.rank + \" of \" + self.suit"
   ]
  },
  {
   "cell_type": "code",
   "execution_count": 18,
   "id": "a1f4c1e6-b338-40dc-b434-7802349e2c7a",
   "metadata": {},
   "outputs": [],
   "source": [
    "two_hearts = Card(suit = \"Hearts\", rank = \"Two\")"
   ]
  },
  {
   "cell_type": "code",
   "execution_count": 19,
   "id": "0f226f3c-7be1-4690-a62e-03ebf786fdc2",
   "metadata": {},
   "outputs": [
    {
     "data": {
      "text/plain": [
       "<__main__.Card at 0x10bbb0b60>"
      ]
     },
     "execution_count": 19,
     "metadata": {},
     "output_type": "execute_result"
    }
   ],
   "source": [
    "two_hearts"
   ]
  },
  {
   "cell_type": "code",
   "execution_count": 20,
   "id": "57634a47-b26d-4e99-9655-e1dc24ef3a8c",
   "metadata": {},
   "outputs": [
    {
     "name": "stdout",
     "output_type": "stream",
     "text": [
      "Two of Hearts\n"
     ]
    }
   ],
   "source": [
    "print(two_hearts)"
   ]
  },
  {
   "cell_type": "code",
   "execution_count": 21,
   "id": "6d71a53e-a77c-4a1e-9b6d-99f408207a94",
   "metadata": {},
   "outputs": [
    {
     "data": {
      "text/plain": [
       "'Hearts'"
      ]
     },
     "execution_count": 21,
     "metadata": {},
     "output_type": "execute_result"
    }
   ],
   "source": [
    "two_hearts.suit"
   ]
  },
  {
   "cell_type": "code",
   "execution_count": 23,
   "id": "32fae8d4-0746-48bf-b5c7-422b7fd7b276",
   "metadata": {},
   "outputs": [
    {
     "data": {
      "text/plain": [
       "'Two'"
      ]
     },
     "execution_count": 23,
     "metadata": {},
     "output_type": "execute_result"
    }
   ],
   "source": [
    "two_hearts.rank"
   ]
  },
  {
   "cell_type": "code",
   "execution_count": 24,
   "id": "5b6104cd-8f84-4f6b-b548-118e9068df41",
   "metadata": {},
   "outputs": [
    {
     "data": {
      "text/plain": [
       "2"
      ]
     },
     "execution_count": 24,
     "metadata": {},
     "output_type": "execute_result"
    }
   ],
   "source": [
    "values[two_hearts.rank]"
   ]
  },
  {
   "cell_type": "code",
   "execution_count": 25,
   "id": "fe9395d2-cc9a-4a55-8ea6-f4b229f643fc",
   "metadata": {},
   "outputs": [
    {
     "data": {
      "text/plain": [
       "2"
      ]
     },
     "execution_count": 25,
     "metadata": {},
     "output_type": "execute_result"
    }
   ],
   "source": [
    "two_hearts.value"
   ]
  },
  {
   "cell_type": "code",
   "execution_count": 14,
   "id": "8b9b98fa-7c09-468a-9e57-a1e1aff34d50",
   "metadata": {},
   "outputs": [],
   "source": [
    "three_of_clubs = Card(\"Clubs\", \"Three\")"
   ]
  },
  {
   "cell_type": "code",
   "execution_count": 15,
   "id": "413b0355-b74c-4bf8-83cc-dd1d51c15022",
   "metadata": {},
   "outputs": [
    {
     "data": {
      "text/plain": [
       "'Clubs'"
      ]
     },
     "execution_count": 15,
     "metadata": {},
     "output_type": "execute_result"
    }
   ],
   "source": [
    "three_of_clubs.suit"
   ]
  },
  {
   "cell_type": "code",
   "execution_count": 16,
   "id": "edae05aa-be3a-4335-a9f5-5451cbda84ed",
   "metadata": {},
   "outputs": [
    {
     "data": {
      "text/plain": [
       "'Three'"
      ]
     },
     "execution_count": 16,
     "metadata": {},
     "output_type": "execute_result"
    }
   ],
   "source": [
    "three_of_clubs.rank"
   ]
  },
  {
   "cell_type": "code",
   "execution_count": 17,
   "id": "49af7789-988b-4350-8f83-8052db1199d7",
   "metadata": {},
   "outputs": [
    {
     "data": {
      "text/plain": [
       "3"
      ]
     },
     "execution_count": 17,
     "metadata": {},
     "output_type": "execute_result"
    }
   ],
   "source": [
    "three_of_clubs.value"
   ]
  },
  {
   "cell_type": "code",
   "execution_count": 26,
   "id": "1ca8f07b-ff6b-460d-a725-af149cb7e965",
   "metadata": {},
   "outputs": [
    {
     "data": {
      "text/plain": [
       "True"
      ]
     },
     "execution_count": 26,
     "metadata": {},
     "output_type": "execute_result"
    }
   ],
   "source": [
    "two_hearts.value < three_of_clubs.value"
   ]
  },
  {
   "cell_type": "code",
   "execution_count": 61,
   "id": "5bd2271e-ec98-4a10-9cb8-ce508c3f38bb",
   "metadata": {},
   "outputs": [],
   "source": [
    "class Deck():\n",
    "\n",
    "    def __init__(self): #Note we are not going to actually take any user input because the user input isn't really required. Every new deck should be the same.\n",
    "        self.all_cards = []\n",
    "\n",
    "        for suit in suits:\n",
    "            for rank in ranks:\n",
    "                # Create the Card Object\n",
    "                created_card = Card(suit, rank)\n",
    "                \n",
    "                self.all_cards.append(created_card)\n",
    "\n",
    "    def shuffle(self):\n",
    "        random.shuffle(self.all_cards)\n",
    "\n",
    "    def deal_one(self):\n",
    "        return self.all_cards.pop()"
   ]
  },
  {
   "cell_type": "code",
   "execution_count": 62,
   "id": "478e2991-5209-4ea1-b43f-df4fedbb988a",
   "metadata": {},
   "outputs": [],
   "source": [
    "new_deck = Deck()"
   ]
  },
  {
   "cell_type": "code",
   "execution_count": 63,
   "id": "69b5329a-9c6f-4e79-840a-20703480b700",
   "metadata": {},
   "outputs": [
    {
     "data": {
      "text/plain": [
       "<__main__.Deck at 0x10bb8b470>"
      ]
     },
     "execution_count": 63,
     "metadata": {},
     "output_type": "execute_result"
    }
   ],
   "source": [
    "new_deck"
   ]
  },
  {
   "cell_type": "code",
   "execution_count": 64,
   "id": "08b45cb7-ab83-492b-ab27-6ff0af16394f",
   "metadata": {},
   "outputs": [
    {
     "data": {
      "text/plain": [
       "[<__main__.Card at 0x10c0cfbf0>,\n",
       " <__main__.Card at 0x10c0cfb90>,\n",
       " <__main__.Card at 0x10c0cfa40>,\n",
       " <__main__.Card at 0x10c0ceb70>,\n",
       " <__main__.Card at 0x10c0cec90>,\n",
       " <__main__.Card at 0x10c0cec30>,\n",
       " <__main__.Card at 0x10c0cecf0>,\n",
       " <__main__.Card at 0x10c0cedb0>,\n",
       " <__main__.Card at 0x10c0cf1d0>,\n",
       " <__main__.Card at 0x10c0cf110>,\n",
       " <__main__.Card at 0x10c0cf2f0>,\n",
       " <__main__.Card at 0x10c0cf410>,\n",
       " <__main__.Card at 0x10c0cf350>,\n",
       " <__main__.Card at 0x10c0cf6b0>,\n",
       " <__main__.Card at 0x10c0cfa10>,\n",
       " <__main__.Card at 0x10c0cfc20>,\n",
       " <__main__.Card at 0x10c0cfc80>,\n",
       " <__main__.Card at 0x10c0cfc50>,\n",
       " <__main__.Card at 0x10c0cfd10>,\n",
       " <__main__.Card at 0x10c0cf830>,\n",
       " <__main__.Card at 0x10c000d10>,\n",
       " <__main__.Card at 0x10c0005f0>,\n",
       " <__main__.Card at 0x10c000fb0>,\n",
       " <__main__.Card at 0x10c000a70>,\n",
       " <__main__.Card at 0x10c003320>,\n",
       " <__main__.Card at 0x10c0037a0>,\n",
       " <__main__.Card at 0x10c000680>,\n",
       " <__main__.Card at 0x10c0006b0>,\n",
       " <__main__.Card at 0x10c000800>,\n",
       " <__main__.Card at 0x10c003170>,\n",
       " <__main__.Card at 0x10c002600>,\n",
       " <__main__.Card at 0x10c000110>,\n",
       " <__main__.Card at 0x10c000cb0>,\n",
       " <__main__.Card at 0x10c003980>,\n",
       " <__main__.Card at 0x10c0033e0>,\n",
       " <__main__.Card at 0x10c0034d0>,\n",
       " <__main__.Card at 0x10c003590>,\n",
       " <__main__.Card at 0x10c000c50>,\n",
       " <__main__.Card at 0x10c003560>,\n",
       " <__main__.Card at 0x10c000a10>,\n",
       " <__main__.Card at 0x10c003260>,\n",
       " <__main__.Card at 0x10c000d70>,\n",
       " <__main__.Card at 0x10c0033b0>,\n",
       " <__main__.Card at 0x10c0032c0>,\n",
       " <__main__.Card at 0x10c003680>,\n",
       " <__main__.Card at 0x10c000dd0>,\n",
       " <__main__.Card at 0x10c001d30>,\n",
       " <__main__.Card at 0x10c003650>,\n",
       " <__main__.Card at 0x10c002180>,\n",
       " <__main__.Card at 0x10c003b30>,\n",
       " <__main__.Card at 0x10c003830>,\n",
       " <__main__.Card at 0x10c003a70>]"
      ]
     },
     "execution_count": 64,
     "metadata": {},
     "output_type": "execute_result"
    }
   ],
   "source": [
    "new_deck.all_cards"
   ]
  },
  {
   "cell_type": "code",
   "execution_count": 65,
   "id": "0b54a83d-cf5e-4aec-b8d6-2e4bbac04ada",
   "metadata": {},
   "outputs": [],
   "source": [
    "first_card = new_deck.all_cards[0]"
   ]
  },
  {
   "cell_type": "code",
   "execution_count": 66,
   "id": "6d8f89fe-9062-4423-a91a-fbe547ace514",
   "metadata": {},
   "outputs": [
    {
     "data": {
      "text/plain": [
       "2"
      ]
     },
     "execution_count": 66,
     "metadata": {},
     "output_type": "execute_result"
    }
   ],
   "source": [
    "first_card.value"
   ]
  },
  {
   "cell_type": "code",
   "execution_count": 67,
   "id": "4cff62d1-05f7-4a88-90f6-1f42960aebb6",
   "metadata": {},
   "outputs": [
    {
     "name": "stdout",
     "output_type": "stream",
     "text": [
      "Two of Hearts\n"
     ]
    }
   ],
   "source": [
    "print(first_card)"
   ]
  },
  {
   "cell_type": "code",
   "execution_count": 68,
   "id": "6b5e78d2-eecc-4b0b-b038-c6271d368339",
   "metadata": {},
   "outputs": [],
   "source": [
    "last_card = new_deck.all_cards[-1]"
   ]
  },
  {
   "cell_type": "code",
   "execution_count": 69,
   "id": "cd6d9c7f-2753-489f-beeb-b100e6367a14",
   "metadata": {},
   "outputs": [
    {
     "name": "stdout",
     "output_type": "stream",
     "text": [
      "Ace of Clubs\n"
     ]
    }
   ],
   "source": [
    "print(last_card)"
   ]
  },
  {
   "cell_type": "code",
   "execution_count": 70,
   "id": "4ab6f311-a1de-48a5-9279-7e078e2a7bca",
   "metadata": {
    "scrolled": true
   },
   "outputs": [
    {
     "name": "stdout",
     "output_type": "stream",
     "text": [
      "Two of Hearts\n",
      "Three of Hearts\n",
      "Four of Hearts\n",
      "Five of Hearts\n",
      "Six of Hearts\n",
      "Seven of Hearts\n",
      "Eight of Hearts\n",
      "Nine of Hearts\n",
      "Ten of Hearts\n",
      "Jack of Hearts\n",
      "Queen of Hearts\n",
      "King of Hearts\n",
      "Ace of Hearts\n",
      "Two of Diamonds\n",
      "Three of Diamonds\n",
      "Four of Diamonds\n",
      "Five of Diamonds\n",
      "Six of Diamonds\n",
      "Seven of Diamonds\n",
      "Eight of Diamonds\n",
      "Nine of Diamonds\n",
      "Ten of Diamonds\n",
      "Jack of Diamonds\n",
      "Queen of Diamonds\n",
      "King of Diamonds\n",
      "Ace of Diamonds\n",
      "Two of Spades\n",
      "Three of Spades\n",
      "Four of Spades\n",
      "Five of Spades\n",
      "Six of Spades\n",
      "Seven of Spades\n",
      "Eight of Spades\n",
      "Nine of Spades\n",
      "Ten of Spades\n",
      "Jack of Spades\n",
      "Queen of Spades\n",
      "King of Spades\n",
      "Ace of Spades\n",
      "Two of Clubs\n",
      "Three of Clubs\n",
      "Four of Clubs\n",
      "Five of Clubs\n",
      "Six of Clubs\n",
      "Seven of Clubs\n",
      "Eight of Clubs\n",
      "Nine of Clubs\n",
      "Ten of Clubs\n",
      "Jack of Clubs\n",
      "Queen of Clubs\n",
      "King of Clubs\n",
      "Ace of Clubs\n"
     ]
    }
   ],
   "source": [
    "for card_object in new_deck.all_cards:\n",
    "    print(card_object)"
   ]
  },
  {
   "cell_type": "code",
   "execution_count": 71,
   "id": "3cb77b06-fd38-4553-b59b-d4e734bc271c",
   "metadata": {},
   "outputs": [],
   "source": [
    "new_deck1 = Deck()"
   ]
  },
  {
   "cell_type": "code",
   "execution_count": 72,
   "id": "6c94ef8d-3265-4e9c-bb78-461a342c2484",
   "metadata": {},
   "outputs": [],
   "source": [
    "bottom_card = new_deck1.all_cards[-1]"
   ]
  },
  {
   "cell_type": "code",
   "execution_count": 73,
   "id": "b6c63b65-f597-4b65-8122-80ccd367639a",
   "metadata": {},
   "outputs": [
    {
     "name": "stdout",
     "output_type": "stream",
     "text": [
      "Ace of Clubs\n"
     ]
    }
   ],
   "source": [
    "print(bottom_card)"
   ]
  },
  {
   "cell_type": "code",
   "execution_count": 74,
   "id": "97ecf840-8e45-4602-b390-2604cc9efd83",
   "metadata": {},
   "outputs": [],
   "source": [
    "new_deck1.shuffle()"
   ]
  },
  {
   "cell_type": "code",
   "execution_count": 75,
   "id": "fc8aaa09-54ce-40af-9d0d-8d8d2d804c40",
   "metadata": {},
   "outputs": [
    {
     "name": "stdout",
     "output_type": "stream",
     "text": [
      "Nine of Diamonds\n"
     ]
    }
   ],
   "source": [
    "print(new_deck1.all_cards[-1])"
   ]
  },
  {
   "cell_type": "code",
   "execution_count": 76,
   "id": "5b3fccd2-d0bd-488b-93ed-1c545342092f",
   "metadata": {},
   "outputs": [
    {
     "name": "stdout",
     "output_type": "stream",
     "text": [
      "Six of Diamonds\n"
     ]
    }
   ],
   "source": [
    "print(new_deck1.all_cards[0])"
   ]
  },
  {
   "cell_type": "code",
   "execution_count": 77,
   "id": "4a63699f-5da8-4c81-8ec1-13c3d3acb59d",
   "metadata": {},
   "outputs": [],
   "source": [
    "new_deck2 = Deck()"
   ]
  },
  {
   "cell_type": "code",
   "execution_count": 78,
   "id": "d93ab687-6734-42dd-a35c-eb6c1c441f81",
   "metadata": {},
   "outputs": [],
   "source": [
    "new_deck2.shuffle()"
   ]
  },
  {
   "cell_type": "code",
   "execution_count": 79,
   "id": "e73e40a4-9978-41d7-a6c0-83cad61ddc57",
   "metadata": {},
   "outputs": [],
   "source": [
    "mycard = new_deck2.deal_one()"
   ]
  },
  {
   "cell_type": "code",
   "execution_count": 80,
   "id": "cce3bde6-4d26-4d06-80a4-7f7d42e65d7d",
   "metadata": {},
   "outputs": [
    {
     "data": {
      "text/plain": [
       "<__main__.Card at 0x10bbd0e90>"
      ]
     },
     "execution_count": 80,
     "metadata": {},
     "output_type": "execute_result"
    }
   ],
   "source": [
    "mycard"
   ]
  },
  {
   "cell_type": "code",
   "execution_count": 81,
   "id": "78517ca9-e438-47e1-bcfb-3d1a662beff9",
   "metadata": {},
   "outputs": [
    {
     "name": "stdout",
     "output_type": "stream",
     "text": [
      "Ace of Diamonds\n"
     ]
    }
   ],
   "source": [
    "print(mycard)"
   ]
  },
  {
   "cell_type": "code",
   "execution_count": 83,
   "id": "f1cce247-bd94-48e6-858c-8a40dd6c63c7",
   "metadata": {},
   "outputs": [
    {
     "data": {
      "text/plain": [
       "51"
      ]
     },
     "execution_count": 83,
     "metadata": {},
     "output_type": "execute_result"
    }
   ],
   "source": [
    "len(new_deck2.all_cards)"
   ]
  },
  {
   "cell_type": "code",
   "execution_count": 95,
   "id": "40e31f4e-bc47-4ed0-8749-0e5fee8825b7",
   "metadata": {},
   "outputs": [],
   "source": [
    "class Player:\n",
    "\n",
    "    def __init__(self, name):\n",
    "        self.name = name\n",
    "        self.all_cards = []\n",
    "\n",
    "    def remove_one(self):\n",
    "        return self.all_cards.pop(0)\n",
    "\n",
    "    def add_cards(self, new_cards):\n",
    "        if type(new_cards) == type([]):\n",
    "            # List of multiple Card objects\n",
    "            self.all_cards.extend(new_cards)\n",
    "        else:\n",
    "            # For a single card object\n",
    "            self.all_cards.append(new_cards)\n",
    "\n",
    "    def __str__(self):\n",
    "        return f'Player {self.name} has {len(self.all_cards)} cards.'"
   ]
  },
  {
   "cell_type": "code",
   "execution_count": 96,
   "id": "4d4de5c5-84c7-4f9c-ac6f-3e17e54609f0",
   "metadata": {},
   "outputs": [],
   "source": [
    "new_player = Player(\"Felipe\")"
   ]
  },
  {
   "cell_type": "code",
   "execution_count": 97,
   "id": "e736da55-553a-4edf-8d1b-4d3821e93abb",
   "metadata": {},
   "outputs": [
    {
     "name": "stdout",
     "output_type": "stream",
     "text": [
      "Player Felipe has 0 cards.\n"
     ]
    }
   ],
   "source": [
    "print(new_player)"
   ]
  },
  {
   "cell_type": "code",
   "execution_count": 98,
   "id": "0146f282-94b1-40cc-a00c-88e631266c7e",
   "metadata": {},
   "outputs": [],
   "source": [
    "new_player.add_cards(mycard)"
   ]
  },
  {
   "cell_type": "code",
   "execution_count": 99,
   "id": "5239b78b-15a2-47cd-a84f-1f0015eac3c0",
   "metadata": {},
   "outputs": [
    {
     "name": "stdout",
     "output_type": "stream",
     "text": [
      "Ace of Diamonds\n"
     ]
    }
   ],
   "source": [
    "print(mycard)"
   ]
  },
  {
   "cell_type": "code",
   "execution_count": 100,
   "id": "3d39ef08-53c1-48ce-a6f7-0cc71d448433",
   "metadata": {},
   "outputs": [
    {
     "name": "stdout",
     "output_type": "stream",
     "text": [
      "Player Felipe has 1 cards.\n"
     ]
    }
   ],
   "source": [
    "print(new_player)"
   ]
  },
  {
   "cell_type": "code",
   "execution_count": 101,
   "id": "7a5ea23d-9d6c-414a-b4e2-aeba59d57fff",
   "metadata": {},
   "outputs": [
    {
     "name": "stdout",
     "output_type": "stream",
     "text": [
      "Ace of Diamonds\n"
     ]
    }
   ],
   "source": [
    "print(new_player.all_cards[0])"
   ]
  },
  {
   "cell_type": "code",
   "execution_count": 102,
   "id": "105b06fa-09ee-468e-8147-73ac8ef00bc8",
   "metadata": {},
   "outputs": [],
   "source": [
    "new_player.add_cards([mycard,mycard,mycard])"
   ]
  },
  {
   "cell_type": "code",
   "execution_count": 103,
   "id": "0be403a5-73b4-4643-b7a1-935e39c561a6",
   "metadata": {},
   "outputs": [
    {
     "name": "stdout",
     "output_type": "stream",
     "text": [
      "Player Felipe has 4 cards.\n"
     ]
    }
   ],
   "source": [
    "print(new_player)"
   ]
  },
  {
   "cell_type": "code",
   "execution_count": 110,
   "id": "c58db489-b0c7-4f4f-bf53-92687f31ac60",
   "metadata": {},
   "outputs": [
    {
     "name": "stdout",
     "output_type": "stream",
     "text": [
      "Ace of Diamonds\n"
     ]
    }
   ],
   "source": [
    "print(new_player.all_cards[-1])"
   ]
  },
  {
   "cell_type": "code",
   "execution_count": 111,
   "id": "0bea43f6-d35e-4945-a5d3-d6064b801c78",
   "metadata": {},
   "outputs": [
    {
     "data": {
      "text/plain": [
       "<__main__.Card at 0x10bbd0e90>"
      ]
     },
     "execution_count": 111,
     "metadata": {},
     "output_type": "execute_result"
    }
   ],
   "source": [
    "new_player.remove_one()"
   ]
  },
  {
   "cell_type": "code",
   "execution_count": 112,
   "id": "4170c328-3982-414a-a9a3-425501e82fce",
   "metadata": {},
   "outputs": [
    {
     "name": "stdout",
     "output_type": "stream",
     "text": [
      "Player Felipe has 3 cards.\n"
     ]
    }
   ],
   "source": [
    "print(new_player)"
   ]
  },
  {
   "cell_type": "code",
   "execution_count": 115,
   "id": "6cc81183-81d4-4a25-b99c-614d7795abe1",
   "metadata": {},
   "outputs": [],
   "source": [
    "#GAME SETUP\n",
    "\n",
    "player_one = Player(\"One\")\n",
    "player_two = Player(\"Two\")\n",
    "\n",
    "new_deck = Deck()\n",
    "new_deck.shuffle()\n",
    "\n",
    "for x in range(26):\n",
    "    player_one.add_cards(new_deck.deal_one())\n",
    "    player_two.add_cards(new_deck.deal_one())\n"
   ]
  },
  {
   "cell_type": "code",
   "execution_count": 116,
   "id": "b39758c0-6a16-4c02-b0d9-f1f6b3683d71",
   "metadata": {},
   "outputs": [
    {
     "data": {
      "text/plain": [
       "26"
      ]
     },
     "execution_count": 116,
     "metadata": {},
     "output_type": "execute_result"
    }
   ],
   "source": [
    "len(player_one.all_cards)"
   ]
  },
  {
   "cell_type": "code",
   "execution_count": 118,
   "id": "cbc187cd-421c-4665-8795-66ef8a778d14",
   "metadata": {},
   "outputs": [
    {
     "name": "stdout",
     "output_type": "stream",
     "text": [
      "Five of Clubs\n"
     ]
    }
   ],
   "source": [
    "print(player_one.all_cards[0])"
   ]
  },
  {
   "cell_type": "code",
   "execution_count": 120,
   "id": "98a1e534-9b0a-4414-9015-f2052c86451a",
   "metadata": {},
   "outputs": [
    {
     "data": {
      "text/plain": [
       "26"
      ]
     },
     "execution_count": 120,
     "metadata": {},
     "output_type": "execute_result"
    }
   ],
   "source": [
    "len(player_two.all_cards)"
   ]
  },
  {
   "cell_type": "code",
   "execution_count": 121,
   "id": "68d5f4cc-91ea-4924-9d58-1a5b34cd1397",
   "metadata": {},
   "outputs": [
    {
     "name": "stdout",
     "output_type": "stream",
     "text": [
      "Seven of Diamonds\n"
     ]
    }
   ],
   "source": [
    "print(player_two.all_cards[0])"
   ]
  },
  {
   "cell_type": "code",
   "execution_count": 119,
   "id": "2af76d27-2838-4746-a78e-7bbb46bb8b4e",
   "metadata": {},
   "outputs": [],
   "source": [
    "game_on = True"
   ]
  },
  {
   "cell_type": "code",
   "execution_count": 122,
   "id": "9eb35253-0d28-453a-ac7a-2268a6971573",
   "metadata": {},
   "outputs": [
    {
     "name": "stdout",
     "output_type": "stream",
     "text": [
      "Round 1\n",
      "Round 2\n",
      "Round 3\n",
      "Round 4\n",
      "Round 5\n",
      "Round 6\n",
      "Round 7\n",
      "Round 8\n",
      "WAR!\n",
      "Round 9\n",
      "Round 10\n",
      "Round 11\n",
      "Round 12\n",
      "Round 13\n",
      "WAR!\n",
      "WAR!\n",
      "Round 14\n",
      "Round 15\n",
      "Round 16\n",
      "Round 17\n",
      "Round 18\n",
      "Round 19\n",
      "Round 20\n",
      "Round 21\n",
      "Round 22\n",
      "Round 23\n",
      "Round 24\n",
      "Round 25\n",
      "Round 26\n",
      "Round 27\n",
      "Round 28\n",
      "Round 29\n",
      "Round 30\n",
      "Round 31\n",
      "Round 32\n",
      "Round 33\n",
      "Round 34\n",
      "Round 35\n",
      "WAR!\n",
      "Round 36\n",
      "Round 37\n",
      "Round 38\n",
      "Round 39\n",
      "Round 40\n",
      "Round 41\n",
      "Round 42\n",
      "Round 43\n",
      "Round 44\n",
      "Round 45\n",
      "Round 46\n",
      "WAR!\n",
      "WAR!\n",
      "Round 47\n",
      "Round 48\n",
      "Round 49\n",
      "Round 50\n",
      "Round 51\n",
      "Round 52\n",
      "Round 53\n",
      "Round 54\n",
      "Round 55\n",
      "Round 56\n",
      "Round 57\n",
      "Round 58\n",
      "Round 59\n",
      "Round 60\n",
      "Round 61\n",
      "Round 62\n",
      "Round 63\n",
      "Round 64\n",
      "WAR!\n",
      "WAR!\n",
      "Round 65\n",
      "WAR!\n",
      "Round 66\n",
      "Round 67\n",
      "Round 68\n",
      "Round 69\n",
      "Round 70\n",
      "Round 71\n",
      "Round 72\n",
      "Round 73\n",
      "Round 74\n",
      "Round 75\n",
      "Round 76\n",
      "Round 77\n",
      "Round 78\n",
      "Round 79\n",
      "Round 80\n",
      "Round 81\n",
      "Round 82\n",
      "Round 83\n",
      "Round 84\n",
      "Round 85\n",
      "Round 86\n",
      "Round 87\n",
      "Round 88\n",
      "Round 89\n",
      "Round 90\n",
      "WAR!\n",
      "Round 91\n",
      "Round 92\n",
      "WAR!\n",
      "Player One unable to declare war\n",
      "PLAYER TWO WINS!\n"
     ]
    }
   ],
   "source": [
    "round_num = 0\n",
    "\n",
    "while game_on:\n",
    "    round_num += 1\n",
    "    print(f'Round {round_num}')\n",
    "\n",
    "    if len(player_one.all_cards) == 0:\n",
    "        print('Player One, out of cards! Player Two Wins!')\n",
    "        game_on = False\n",
    "        break\n",
    "    elif len(player_two.all_cards) == 0:\n",
    "        print('Player Two, out of cards! Player One Wins!')\n",
    "        game_on = False\n",
    "        break\n",
    "\n",
    "    # START A NEW ROUND\n",
    "    player_one_cards = [] #Cards the player one will leave on the table; current cards in play.\n",
    "    player_one_cards.append(player_one.remove_one()) #When we start a new round, we need to remove \n",
    "                                                     #a card from their list of cards and append it to the \n",
    "                                                     #cards currently in play.\n",
    "    player_two_cards = []\n",
    "    player_two_cards.append(player_two.remove_one())\n",
    "    \n",
    "    at_war = True\n",
    "    \n",
    "    while at_war:\n",
    "        if player_one_cards[-1].value > player_two_cards[-1].value:\n",
    "            player_one.add_cards(player_one_cards)\n",
    "            player_one.add_cards(player_two_cards)\n",
    "            at_war = False\n",
    "        elif player_one_cards[-1].value < player_two_cards[-1].value:\n",
    "            player_two.add_cards(player_one_cards)\n",
    "            player_two.add_cards(player_two_cards)\n",
    "            at_war = False\n",
    "        else:\n",
    "            print(\"WAR!\")\n",
    "            if len(player_one.all_cards) < 5:\n",
    "                print(\"Player One unable to declare war\")\n",
    "                print(\"PLAYER TWO WINS!\")\n",
    "                game_on = False\n",
    "                break\n",
    "            elif len(player_two.all_cards) < 5:\n",
    "                print(\"Player Two unable to declare war\")\n",
    "                print(\"PLAYER ONE WINS!\")\n",
    "                game_on = False\n",
    "                break\n",
    "            else:\n",
    "                for num in range(0,5):\n",
    "                    player_one_cards.append(player_one.remove_one())\n",
    "                    player_two_cards.append(player_two.remove_one())\n",
    "                "
   ]
  },
  {
   "cell_type": "code",
   "execution_count": null,
   "id": "85375d30-a7f9-48ed-ad03-0437cfa5671b",
   "metadata": {},
   "outputs": [],
   "source": []
  }
 ],
 "metadata": {
  "kernelspec": {
   "display_name": "Python 3 (ipykernel)",
   "language": "python",
   "name": "python3"
  },
  "language_info": {
   "codemirror_mode": {
    "name": "ipython",
    "version": 3
   },
   "file_extension": ".py",
   "mimetype": "text/x-python",
   "name": "python",
   "nbconvert_exporter": "python",
   "pygments_lexer": "ipython3",
   "version": "3.12.2"
  }
 },
 "nbformat": 4,
 "nbformat_minor": 5
}
