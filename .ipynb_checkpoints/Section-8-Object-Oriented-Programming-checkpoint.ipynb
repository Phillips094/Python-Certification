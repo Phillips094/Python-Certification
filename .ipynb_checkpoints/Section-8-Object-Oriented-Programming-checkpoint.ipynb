{
 "cells": [
  {
   "cell_type": "code",
   "execution_count": 1,
   "id": "3d0ed90b-9fbe-4168-9082-f373be9672f7",
   "metadata": {},
   "outputs": [],
   "source": [
    "mylist = [1,2,3]"
   ]
  },
  {
   "cell_type": "code",
   "execution_count": 2,
   "id": "88c39b70-595a-4fb9-bc89-2d699ddd2c76",
   "metadata": {},
   "outputs": [],
   "source": [
    "myset = set()"
   ]
  },
  {
   "cell_type": "code",
   "execution_count": 3,
   "id": "f7495cca-0e74-4d1e-9847-f98be17e962c",
   "metadata": {},
   "outputs": [
    {
     "data": {
      "text/plain": [
       "set"
      ]
     },
     "execution_count": 3,
     "metadata": {},
     "output_type": "execute_result"
    }
   ],
   "source": [
    "type(myset)"
   ]
  },
  {
   "cell_type": "code",
   "execution_count": 5,
   "id": "5d73ccf0-a089-4a26-978b-b821523787a8",
   "metadata": {},
   "outputs": [
    {
     "data": {
      "text/plain": [
       "list"
      ]
     },
     "execution_count": 5,
     "metadata": {},
     "output_type": "execute_result"
    }
   ],
   "source": [
    "type(mylist)"
   ]
  },
  {
   "cell_type": "code",
   "execution_count": 8,
   "id": "eef0aa2e-b54f-483b-88f2-c42d474196d6",
   "metadata": {},
   "outputs": [],
   "source": [
    "class Sample():\n",
    "    def __init__"
   ]
  },
  {
   "cell_type": "code",
   "execution_count": 9,
   "id": "2131a22f-07a2-4443-9374-fa1b80714386",
   "metadata": {},
   "outputs": [],
   "source": [
    "my_sample = Sample()"
   ]
  },
  {
   "cell_type": "code",
   "execution_count": 11,
   "id": "8b6ea2b1-47b8-4a38-8032-9880e12a5e5e",
   "metadata": {},
   "outputs": [
    {
     "data": {
      "text/plain": [
       "__main__.Sample"
      ]
     },
     "execution_count": 11,
     "metadata": {},
     "output_type": "execute_result"
    }
   ],
   "source": [
    "type(my_sample)"
   ]
  },
  {
   "cell_type": "code",
   "execution_count": 20,
   "id": "2511c413-51a2-4514-8e90-86e3157dc92d",
   "metadata": {},
   "outputs": [],
   "source": [
    "class Dog():\n",
    "    \n",
    "    def __init__(self, breed, name, spots):\n",
    "        \n",
    "        self.breed = breed #Expect String\n",
    "        self.name = name #Expect String\n",
    "\n",
    "        #Expect Boolean True/False\n",
    "        self.spots = spots"
   ]
  },
  {
   "cell_type": "code",
   "execution_count": 21,
   "id": "3faaa6f7-8620-47e8-b8a4-7f5ec4f73c53",
   "metadata": {},
   "outputs": [
    {
     "ename": "TypeError",
     "evalue": "Dog.__init__() missing 3 required positional arguments: 'breed', 'name', and 'spots'",
     "output_type": "error",
     "traceback": [
      "\u001b[0;31m---------------------------------------------------------------------------\u001b[0m",
      "\u001b[0;31mTypeError\u001b[0m                                 Traceback (most recent call last)",
      "Cell \u001b[0;32mIn[21], line 1\u001b[0m\n\u001b[0;32m----> 1\u001b[0m Oliver \u001b[38;5;241m=\u001b[39m \u001b[43mDog\u001b[49m\u001b[43m(\u001b[49m\u001b[43m)\u001b[49m\n",
      "\u001b[0;31mTypeError\u001b[0m: Dog.__init__() missing 3 required positional arguments: 'breed', 'name', and 'spots'"
     ]
    }
   ],
   "source": [
    "Oliver = Dog()"
   ]
  },
  {
   "cell_type": "code",
   "execution_count": 22,
   "id": "97f48a62-7462-49e7-a413-9e229a896e69",
   "metadata": {},
   "outputs": [],
   "source": [
    "Oliver = Dog(breed = 'Lab', name = 'Oliver', spots = False)"
   ]
  },
  {
   "cell_type": "code",
   "execution_count": 23,
   "id": "a85d38e7-a9d8-4079-b0e6-eed3ca1e33de",
   "metadata": {},
   "outputs": [
    {
     "data": {
      "text/plain": [
       "__main__.Dog"
      ]
     },
     "execution_count": 23,
     "metadata": {},
     "output_type": "execute_result"
    }
   ],
   "source": [
    "type(Oliver)"
   ]
  },
  {
   "cell_type": "code",
   "execution_count": 24,
   "id": "9c90a2a2-78f0-4656-9674-d38a083394d4",
   "metadata": {},
   "outputs": [
    {
     "data": {
      "text/plain": [
       "'Lab'"
      ]
     },
     "execution_count": 24,
     "metadata": {},
     "output_type": "execute_result"
    }
   ],
   "source": [
    "Oliver.breed"
   ]
  },
  {
   "cell_type": "code",
   "execution_count": 25,
   "id": "6b19d9e5-6d0c-4709-8004-518a32a35dac",
   "metadata": {},
   "outputs": [
    {
     "name": "stdout",
     "output_type": "stream",
     "text": [
      "Help on class Dog in module __main__:\n",
      "\n",
      "class Dog(builtins.object)\n",
      " |  Dog(breed, name, spots)\n",
      " |\n",
      " |  Methods defined here:\n",
      " |\n",
      " |  __init__(self, breed, name, spots)\n",
      " |      Initialize self.  See help(type(self)) for accurate signature.\n",
      " |\n",
      " |  ----------------------------------------------------------------------\n",
      " |  Data descriptors defined here:\n",
      " |\n",
      " |  __dict__\n",
      " |      dictionary for instance variables\n",
      " |\n",
      " |  __weakref__\n",
      " |      list of weak references to the object\n",
      "\n"
     ]
    }
   ],
   "source": [
    "help(Dog)"
   ]
  },
  {
   "cell_type": "code",
   "execution_count": 26,
   "id": "370ea0eb-3b76-4add-9e24-9964ef42d872",
   "metadata": {},
   "outputs": [
    {
     "data": {
      "text/plain": [
       "False"
      ]
     },
     "execution_count": 26,
     "metadata": {},
     "output_type": "execute_result"
    }
   ],
   "source": [
    "Oliver.spots"
   ]
  },
  {
   "cell_type": "code",
   "execution_count": 27,
   "id": "37d93bab-5f08-4511-9537-a2ab6b841145",
   "metadata": {},
   "outputs": [
    {
     "data": {
      "text/plain": [
       "'Oliver'"
      ]
     },
     "execution_count": 27,
     "metadata": {},
     "output_type": "execute_result"
    }
   ],
   "source": [
    "Oliver.name"
   ]
  },
  {
   "cell_type": "code",
   "execution_count": 28,
   "id": "f3ff76e7-62e5-45d1-b2d9-b9106a7b429d",
   "metadata": {},
   "outputs": [
    {
     "data": {
      "text/plain": [
       "'Lab'"
      ]
     },
     "execution_count": 28,
     "metadata": {},
     "output_type": "execute_result"
    }
   ],
   "source": [
    "Oliver.breed"
   ]
  },
  {
   "cell_type": "code",
   "execution_count": 51,
   "id": "9f9d853a-90b3-4b39-9bc7-ac2faab20774",
   "metadata": {},
   "outputs": [],
   "source": [
    "class Dog():\n",
    "\n",
    "    #CLASS OBJECT ATTRIBUTE\n",
    "    #SAME FOR ANY INSTANCE OF A CLASS\n",
    "\n",
    "    species = 'mammal'   \n",
    "    \n",
    "    def __init__(self, breed, name, spots): #special init method for user defined attributes.\n",
    "\n",
    "        #Attributes\n",
    "        #We take in the argument\n",
    "        #Assign it using self.attribute_name\n",
    "        self.breed = breed #Expect String\n",
    "        self.name = name #Expect String\n",
    "\n",
    "        #Expect Boolean True/False\n",
    "        self.spots = spots\n",
    "\n",
    "    # OPERATIONS/ACTIONS ON OBJECT ITSELF USING \"SELF\" KEYWORD -----> METHODS\n",
    "    def bark(self, number):\n",
    "        print(f\"WOOF! My name is {self.name} and the number is {number}\")"
   ]
  },
  {
   "cell_type": "code",
   "execution_count": 52,
   "id": "3b9437ce-1d19-4947-90d0-cb7e0a9124f8",
   "metadata": {},
   "outputs": [],
   "source": [
    "my_dog = Dog(breed = 'Lab', name = 'Sam', spots = False)"
   ]
  },
  {
   "cell_type": "code",
   "execution_count": 53,
   "id": "0f943db1-1946-4ae3-a3e8-8d6a87f82f56",
   "metadata": {},
   "outputs": [
    {
     "data": {
      "text/plain": [
       "__main__.Dog"
      ]
     },
     "execution_count": 53,
     "metadata": {},
     "output_type": "execute_result"
    }
   ],
   "source": [
    "type(my_dog)"
   ]
  },
  {
   "cell_type": "code",
   "execution_count": 54,
   "id": "5a1aa5f7-a628-4ed8-9efc-00c33cf90d0c",
   "metadata": {},
   "outputs": [
    {
     "data": {
      "text/plain": [
       "'mammal'"
      ]
     },
     "execution_count": 54,
     "metadata": {},
     "output_type": "execute_result"
    }
   ],
   "source": [
    "my_dog.species"
   ]
  },
  {
   "cell_type": "code",
   "execution_count": 55,
   "id": "1a36a1ab-c5ab-4f78-871c-20107bb6bf3f",
   "metadata": {},
   "outputs": [
    {
     "data": {
      "text/plain": [
       "'Sam'"
      ]
     },
     "execution_count": 55,
     "metadata": {},
     "output_type": "execute_result"
    }
   ],
   "source": [
    "my_dog.name"
   ]
  },
  {
   "cell_type": "code",
   "execution_count": 58,
   "id": "ebcaf03c-fc4f-4e69-987b-ab90ee2a27a2",
   "metadata": {},
   "outputs": [
    {
     "name": "stdout",
     "output_type": "stream",
     "text": [
      "WOOF! My name is Sam and the number is 0\n"
     ]
    }
   ],
   "source": [
    "my_dog.bark(0)"
   ]
  },
  {
   "cell_type": "code",
   "execution_count": 59,
   "id": "580bff22-cc00-491f-9e75-ecd6779a7cf5",
   "metadata": {},
   "outputs": [
    {
     "data": {
      "text/plain": [
       "<bound method Dog.bark of <__main__.Dog object at 0x10e875ee0>>"
      ]
     },
     "execution_count": 59,
     "metadata": {},
     "output_type": "execute_result"
    }
   ],
   "source": [
    "my_dog.bark"
   ]
  },
  {
   "cell_type": "code",
   "execution_count": 73,
   "id": "d1e4f1d1-f561-46a8-919d-538eb25c5879",
   "metadata": {},
   "outputs": [],
   "source": [
    "class Circle():\n",
    "\n",
    "    #CLASS OBJECT ATTRIBUTE\n",
    "    pi = 3.14\n",
    "\n",
    "    def __init__(self, radius = 1):\n",
    "        self.radius = radius\n",
    "        self.area = radius * radius * Circle.pi\n",
    "\n",
    "    #METHOD\n",
    "    def get_circumference(self):\n",
    "        return self.radius * self.pi * 2"
   ]
  },
  {
   "cell_type": "code",
   "execution_count": 74,
   "id": "02c5f7be-f10b-45e1-8ec1-66995bf9ae14",
   "metadata": {},
   "outputs": [],
   "source": [
    "my_circle = Circle(30)"
   ]
  },
  {
   "cell_type": "code",
   "execution_count": 75,
   "id": "be2fd4c7-3b5a-469b-ba29-7a5c22f499af",
   "metadata": {},
   "outputs": [
    {
     "data": {
      "text/plain": [
       "3.14"
      ]
     },
     "execution_count": 75,
     "metadata": {},
     "output_type": "execute_result"
    }
   ],
   "source": [
    "my_circle.pi"
   ]
  },
  {
   "cell_type": "code",
   "execution_count": 76,
   "id": "81de2ef8-8fcf-45dc-aed4-e1655183a5be",
   "metadata": {},
   "outputs": [
    {
     "data": {
      "text/plain": [
       "30"
      ]
     },
     "execution_count": 76,
     "metadata": {},
     "output_type": "execute_result"
    }
   ],
   "source": [
    "my_circle.radius"
   ]
  },
  {
   "cell_type": "code",
   "execution_count": 77,
   "id": "3e800c91-5ea9-4d03-b6e7-b6bb1c6a2852",
   "metadata": {},
   "outputs": [
    {
     "data": {
      "text/plain": [
       "<bound method Circle.get_circumference of <__main__.Circle object at 0x10e8af350>>"
      ]
     },
     "execution_count": 77,
     "metadata": {},
     "output_type": "execute_result"
    }
   ],
   "source": [
    "my_circle.get_circumference"
   ]
  },
  {
   "cell_type": "code",
   "execution_count": 78,
   "id": "4714a0dc-f551-47fc-80fa-a2e93876dd44",
   "metadata": {},
   "outputs": [
    {
     "data": {
      "text/plain": [
       "188.4"
      ]
     },
     "execution_count": 78,
     "metadata": {},
     "output_type": "execute_result"
    }
   ],
   "source": [
    "my_circle.get_circumference()"
   ]
  },
  {
   "cell_type": "code",
   "execution_count": 79,
   "id": "30d0350b-d943-4f7c-a164-83f1db5eaf83",
   "metadata": {},
   "outputs": [
    {
     "data": {
      "text/plain": [
       "2826.0"
      ]
     },
     "execution_count": 79,
     "metadata": {},
     "output_type": "execute_result"
    }
   ],
   "source": [
    "my_circle.area"
   ]
  },
  {
   "cell_type": "code",
   "execution_count": 84,
   "id": "57940df4-73a8-4af5-ac4c-a90fa9a4b5e7",
   "metadata": {},
   "outputs": [],
   "source": [
    "#INHERITANCE\n",
    "\n",
    "class Animal(): #BASE CLASS\n",
    "    def __init__(self):\n",
    "        print(\"ANIMAL CREATED\")\n",
    "    def who_am_i(self):\n",
    "        print(\"I am an animal\")\n",
    "    def eat(self):\n",
    "        print(\"I am eating\")"
   ]
  },
  {
   "cell_type": "code",
   "execution_count": 111,
   "id": "6d886e58-490f-48a8-9188-d30be524345e",
   "metadata": {},
   "outputs": [],
   "source": [
    "class Dog(Animal):  #here we inherit Animal. DERIVED CLASS, \n",
    "                    #WE DERIVE FEATURES FROM ANIMAL CLASS BASS BY ADDING \n",
    "                    #\"Animal\" as aregument in our Dog class\n",
    "    def __init__(self):                #\"Animal\" as aregument in our Dog class\n",
    "        Animal.__init__(self)   #This line initiates an instance of Animal\n",
    "        print(\"Dog Created\")\n",
    "\n",
    "    def who_am_i(self): #OVERWRITE THE PREVIOUS METHODS OF YOUR BASE CLASS EXAMPLE!\n",
    "        print(\"I am a dog!\")\n",
    "    def bark(self): #DEFINE NEW METHODS IN DERIVED CLASS\n",
    "        print(\"WOOF!\")"
   ]
  },
  {
   "cell_type": "code",
   "execution_count": 112,
   "id": "e2e634f1-ef1d-429c-a01a-b52ca4bb0690",
   "metadata": {},
   "outputs": [
    {
     "name": "stdout",
     "output_type": "stream",
     "text": [
      "ANIMAL CREATED\n"
     ]
    }
   ],
   "source": [
    "myanimal = Animal()"
   ]
  },
  {
   "cell_type": "code",
   "execution_count": 113,
   "id": "f3571abf-f98d-47e1-baa4-3d966afcb6c4",
   "metadata": {},
   "outputs": [
    {
     "name": "stdout",
     "output_type": "stream",
     "text": [
      "I am eating\n"
     ]
    }
   ],
   "source": [
    "myanimal.eat()"
   ]
  },
  {
   "cell_type": "code",
   "execution_count": 114,
   "id": "a72b37a9-05b1-45d1-8045-227d7876d847",
   "metadata": {},
   "outputs": [
    {
     "name": "stdout",
     "output_type": "stream",
     "text": [
      "I am an animal\n"
     ]
    }
   ],
   "source": [
    "myanimal.who_am_i()"
   ]
  },
  {
   "cell_type": "code",
   "execution_count": 115,
   "id": "370a6016-9eb3-47e8-99c7-9d4497d46c1b",
   "metadata": {},
   "outputs": [
    {
     "name": "stdout",
     "output_type": "stream",
     "text": [
      "ANIMAL CREATED\n",
      "Dog Created\n"
     ]
    }
   ],
   "source": [
    "mydog = Dog()"
   ]
  },
  {
   "cell_type": "code",
   "execution_count": 116,
   "id": "156ebca7-42bb-490a-965a-b049ad88e213",
   "metadata": {},
   "outputs": [
    {
     "name": "stdout",
     "output_type": "stream",
     "text": [
      "I am a dog!\n"
     ]
    }
   ],
   "source": [
    "mydog.who_am_i()"
   ]
  },
  {
   "cell_type": "code",
   "execution_count": 119,
   "id": "a2274815-a188-49cd-a787-ea78135ce377",
   "metadata": {},
   "outputs": [
    {
     "name": "stdout",
     "output_type": "stream",
     "text": [
      "I am eating\n"
     ]
    }
   ],
   "source": [
    "mydog.eat() #THIS COMES FROM OUR BASE CLASS \"Animal\""
   ]
  },
  {
   "cell_type": "code",
   "execution_count": 120,
   "id": "2291c8dd-993f-40ec-b168-7a53c5a2e98b",
   "metadata": {},
   "outputs": [
    {
     "name": "stdout",
     "output_type": "stream",
     "text": [
      "WOOF!\n"
     ]
    }
   ],
   "source": [
    "mydog.bark()"
   ]
  },
  {
   "cell_type": "code",
   "execution_count": 121,
   "id": "e533b126-573b-4aa0-9165-b747eeaeccc2",
   "metadata": {},
   "outputs": [],
   "source": [
    "#Polymorphism\n",
    "\n",
    "class Dog1():\n",
    "    def __init__(self, name):\n",
    "        self.name = name\n",
    "\n",
    "    def speak(self):\n",
    "        return self.name + \" says woof!\"\n",
    "    "
   ]
  },
  {
   "cell_type": "code",
   "execution_count": 122,
   "id": "18917381-36f0-4aba-8e82-3b7ae378653d",
   "metadata": {},
   "outputs": [],
   "source": [
    "#Polymorphism\n",
    "\n",
    "class Cat1():\n",
    "    def __init__(self, name):\n",
    "        self.name = name\n",
    "\n",
    "    def speak(self):\n",
    "        return self.name + \" says meow!\"\n",
    "    "
   ]
  },
  {
   "cell_type": "code",
   "execution_count": 123,
   "id": "3c64458d-2a09-4eca-abc6-f245128d0981",
   "metadata": {},
   "outputs": [],
   "source": [
    "niko = Dog1(\"Niko\")\n",
    "felix = Cat1(\"Felix\")"
   ]
  },
  {
   "cell_type": "code",
   "execution_count": 124,
   "id": "d95f7625-3ef1-45f9-8272-4166e08cbb96",
   "metadata": {},
   "outputs": [
    {
     "name": "stdout",
     "output_type": "stream",
     "text": [
      "Niko says woof!\n"
     ]
    }
   ],
   "source": [
    "print(niko.speak())"
   ]
  },
  {
   "cell_type": "code",
   "execution_count": 125,
   "id": "038d6cb2-5cc2-468a-8245-16ab41cc1704",
   "metadata": {},
   "outputs": [
    {
     "name": "stdout",
     "output_type": "stream",
     "text": [
      "Felix says meow!\n"
     ]
    }
   ],
   "source": [
    "print(felix.speak())"
   ]
  },
  {
   "cell_type": "code",
   "execution_count": 127,
   "id": "39f2f327-ec1c-430f-a559-f61bf1a89295",
   "metadata": {},
   "outputs": [
    {
     "name": "stdout",
     "output_type": "stream",
     "text": [
      "<class '__main__.Dog1'>\n",
      "<class 'str'>\n",
      "Niko says woof!\n",
      "<class '__main__.Cat1'>\n",
      "<class 'str'>\n",
      "Felix says meow!\n"
     ]
    }
   ],
   "source": [
    "for pet in [niko, felix]:\n",
    "    print(type(pet))\n",
    "    print(type(pet.speak()))\n",
    "    print(pet.speak())"
   ]
  },
  {
   "cell_type": "code",
   "execution_count": 128,
   "id": "a2e90c32-291b-4010-938b-d63c3bde7541",
   "metadata": {},
   "outputs": [],
   "source": [
    "def pet_speak(pet):\n",
    "    print(pet.speak())"
   ]
  },
  {
   "cell_type": "code",
   "execution_count": 129,
   "id": "8a3a480d-acb2-4fe9-8055-26863896627e",
   "metadata": {},
   "outputs": [
    {
     "name": "stdout",
     "output_type": "stream",
     "text": [
      "Niko says woof!\n",
      "Felix says meow!\n"
     ]
    }
   ],
   "source": [
    "pet_speak(niko)\n",
    "pet_speak(felix)"
   ]
  },
  {
   "cell_type": "code",
   "execution_count": 130,
   "id": "315cd005-8c94-48ed-9323-98870e7eff23",
   "metadata": {},
   "outputs": [],
   "source": [
    "class Animal1():\n",
    "\n",
    "    def __init__(self, name):\n",
    "        self.name = name\n",
    "    def speak(self):\n",
    "        raise NotImplementedError(\"Subclass must implement this abstract method\")"
   ]
  },
  {
   "cell_type": "code",
   "execution_count": 131,
   "id": "3db37c96-023f-4bf7-be5b-d2347e5664c2",
   "metadata": {},
   "outputs": [],
   "source": [
    "myanimal1 = Animal1('Fred')"
   ]
  },
  {
   "cell_type": "code",
   "execution_count": 132,
   "id": "4e48cd3a-2526-4d9b-a6b5-1ea95e9545fa",
   "metadata": {},
   "outputs": [
    {
     "ename": "NotImplementedError",
     "evalue": "Subclass must implement this abstract method",
     "output_type": "error",
     "traceback": [
      "\u001b[0;31m---------------------------------------------------------------------------\u001b[0m",
      "\u001b[0;31mNotImplementedError\u001b[0m                       Traceback (most recent call last)",
      "Cell \u001b[0;32mIn[132], line 1\u001b[0m\n\u001b[0;32m----> 1\u001b[0m \u001b[43mmyanimal1\u001b[49m\u001b[38;5;241;43m.\u001b[39;49m\u001b[43mspeak\u001b[49m\u001b[43m(\u001b[49m\u001b[43m)\u001b[49m\n",
      "Cell \u001b[0;32mIn[130], line 6\u001b[0m, in \u001b[0;36mAnimal1.speak\u001b[0;34m(self)\u001b[0m\n\u001b[1;32m      5\u001b[0m \u001b[38;5;28;01mdef\u001b[39;00m \u001b[38;5;21mspeak\u001b[39m(\u001b[38;5;28mself\u001b[39m):\n\u001b[0;32m----> 6\u001b[0m     \u001b[38;5;28;01mraise\u001b[39;00m \u001b[38;5;167;01mNotImplementedError\u001b[39;00m(\u001b[38;5;124m\"\u001b[39m\u001b[38;5;124mSubclass must implement this abstract method\u001b[39m\u001b[38;5;124m\"\u001b[39m)\n",
      "\u001b[0;31mNotImplementedError\u001b[0m: Subclass must implement this abstract method"
     ]
    }
   ],
   "source": [
    "myanimal1.speak()"
   ]
  },
  {
   "cell_type": "code",
   "execution_count": 139,
   "id": "83e90260-8807-4ff5-8cee-82d1d78a82ad",
   "metadata": {},
   "outputs": [],
   "source": [
    "class Dog2(Animal1):\n",
    "\n",
    "    def speak(self):\n",
    "        return self.name + \" says woof!\""
   ]
  },
  {
   "cell_type": "code",
   "execution_count": 145,
   "id": "e95d02ef-65d2-41d9-b7bc-c36a74683252",
   "metadata": {},
   "outputs": [],
   "source": [
    "class Cat2(Animal1):\n",
    "\n",
    "    def speak(self):\n",
    "        return self.name + \" says meow!\""
   ]
  },
  {
   "cell_type": "code",
   "execution_count": 146,
   "id": "1cc8f176-a542-4def-9fc1-10b638188290",
   "metadata": {},
   "outputs": [],
   "source": [
    "fido = Dog2(\"Fido\")"
   ]
  },
  {
   "cell_type": "code",
   "execution_count": 147,
   "id": "0b9e9bc4-c691-4035-a7f8-b5d146c80e0d",
   "metadata": {},
   "outputs": [],
   "source": [
    "isis = Cat2(\"Isis\")"
   ]
  },
  {
   "cell_type": "code",
   "execution_count": 148,
   "id": "0c8aa4c6-30f4-49f0-822e-491c59f24015",
   "metadata": {},
   "outputs": [
    {
     "name": "stdout",
     "output_type": "stream",
     "text": [
      "Fido says woof!\n",
      "Isis says meow!\n"
     ]
    }
   ],
   "source": [
    "print(fido.speak())\n",
    "print(isis.speak())"
   ]
  },
  {
   "cell_type": "code",
   "execution_count": 149,
   "id": "6b3694d6-7b06-4ee7-b34c-24611d8b79aa",
   "metadata": {},
   "outputs": [],
   "source": [
    "#Special Methods\n",
    "\n",
    "alist = [1,2,3]"
   ]
  },
  {
   "cell_type": "code",
   "execution_count": 150,
   "id": "5e418337-38a7-424d-849f-e0f9c7fea2ab",
   "metadata": {},
   "outputs": [
    {
     "data": {
      "text/plain": [
       "3"
      ]
     },
     "execution_count": 150,
     "metadata": {},
     "output_type": "execute_result"
    }
   ],
   "source": [
    "len(alist)"
   ]
  },
  {
   "cell_type": "code",
   "execution_count": 151,
   "id": "f0fb5f4b-86a5-4fb3-8995-a149512a82c1",
   "metadata": {},
   "outputs": [],
   "source": [
    "class Sample():\n",
    "    pass"
   ]
  },
  {
   "cell_type": "code",
   "execution_count": 152,
   "id": "e2f5d447-c0e6-4e2e-9ebd-8a700751cccb",
   "metadata": {},
   "outputs": [],
   "source": [
    "mysample1 = Sample()"
   ]
  },
  {
   "cell_type": "code",
   "execution_count": 153,
   "id": "80308760-b3cb-41b5-a32e-ffd3f82418d0",
   "metadata": {},
   "outputs": [
    {
     "ename": "TypeError",
     "evalue": "object of type 'Sample' has no len()",
     "output_type": "error",
     "traceback": [
      "\u001b[0;31m---------------------------------------------------------------------------\u001b[0m",
      "\u001b[0;31mTypeError\u001b[0m                                 Traceback (most recent call last)",
      "Cell \u001b[0;32mIn[153], line 1\u001b[0m\n\u001b[0;32m----> 1\u001b[0m \u001b[38;5;28;43mlen\u001b[39;49m\u001b[43m(\u001b[49m\u001b[43mmysample1\u001b[49m\u001b[43m)\u001b[49m\n",
      "\u001b[0;31mTypeError\u001b[0m: object of type 'Sample' has no len()"
     ]
    }
   ],
   "source": [
    "len(mysample1)"
   ]
  },
  {
   "cell_type": "code",
   "execution_count": 154,
   "id": "a98f3595-3bcf-43d1-8170-905f32f6b660",
   "metadata": {},
   "outputs": [
    {
     "name": "stdout",
     "output_type": "stream",
     "text": [
      "<__main__.Sample object at 0x10ef1eb40>\n"
     ]
    }
   ],
   "source": [
    "print(mysample1)"
   ]
  },
  {
   "cell_type": "code",
   "execution_count": 172,
   "id": "b7030a1d-6714-4622-b779-2a72d57616a1",
   "metadata": {},
   "outputs": [],
   "source": [
    "class Book():\n",
    "    def __init__(self, title, author, pages):\n",
    "        self.title = title\n",
    "        self.author = author\n",
    "        self.pages = pages\n",
    "\n",
    "    def __str__(self):\n",
    "        return f\"{self.title} by {self.author}\"\n",
    "\n",
    "    def __len__(self):\n",
    "        return self.pages\n",
    "\n",
    "    def __del__(self):\n",
    "        print(\"A book object has been deleted\")"
   ]
  },
  {
   "cell_type": "code",
   "execution_count": 173,
   "id": "15b58dee-23b6-43a8-97ed-27b7798e6f2c",
   "metadata": {},
   "outputs": [],
   "source": [
    "b = Book('Python Rocks!', 'Jose', 200)"
   ]
  },
  {
   "cell_type": "code",
   "execution_count": 174,
   "id": "a75091b9-f836-4a40-a47f-c51b4731d596",
   "metadata": {},
   "outputs": [
    {
     "name": "stdout",
     "output_type": "stream",
     "text": [
      "Python Rocks! by Jose\n"
     ]
    }
   ],
   "source": [
    "print(b)"
   ]
  },
  {
   "cell_type": "code",
   "execution_count": 175,
   "id": "bd99f5b8-2d4a-48de-a088-c73e8a6eda57",
   "metadata": {},
   "outputs": [
    {
     "data": {
      "text/plain": [
       "'Python Rocks! by Jose'"
      ]
     },
     "execution_count": 175,
     "metadata": {},
     "output_type": "execute_result"
    }
   ],
   "source": [
    "str(b)"
   ]
  },
  {
   "cell_type": "code",
   "execution_count": 176,
   "id": "3f00eff2-93c1-4be4-80e5-a82244c8ed03",
   "metadata": {},
   "outputs": [
    {
     "data": {
      "text/plain": [
       "200"
      ]
     },
     "execution_count": 176,
     "metadata": {},
     "output_type": "execute_result"
    }
   ],
   "source": [
    "len(b)"
   ]
  },
  {
   "cell_type": "code",
   "execution_count": 177,
   "id": "290ae513-2e88-4a4a-b36c-743228030e14",
   "metadata": {},
   "outputs": [
    {
     "name": "stdout",
     "output_type": "stream",
     "text": [
      "A book object has been deleted\n"
     ]
    }
   ],
   "source": [
    "del b"
   ]
  },
  {
   "cell_type": "code",
   "execution_count": 178,
   "id": "a70b1b00-9fd8-4c36-a2f9-09fb344be115",
   "metadata": {},
   "outputs": [
    {
     "ename": "NameError",
     "evalue": "name 'b' is not defined",
     "output_type": "error",
     "traceback": [
      "\u001b[0;31m---------------------------------------------------------------------------\u001b[0m",
      "\u001b[0;31mNameError\u001b[0m                                 Traceback (most recent call last)",
      "Cell \u001b[0;32mIn[178], line 1\u001b[0m\n\u001b[0;32m----> 1\u001b[0m \u001b[43mb\u001b[49m\n",
      "\u001b[0;31mNameError\u001b[0m: name 'b' is not defined"
     ]
    }
   ],
   "source": [
    "b"
   ]
  },
  {
   "cell_type": "code",
   "execution_count": null,
   "id": "259488f5-b670-4756-aeca-df353809354b",
   "metadata": {},
   "outputs": [],
   "source": []
  }
 ],
 "metadata": {
  "kernelspec": {
   "display_name": "Python 3 (ipykernel)",
   "language": "python",
   "name": "python3"
  },
  "language_info": {
   "codemirror_mode": {
    "name": "ipython",
    "version": 3
   },
   "file_extension": ".py",
   "mimetype": "text/x-python",
   "name": "python",
   "nbconvert_exporter": "python",
   "pygments_lexer": "ipython3",
   "version": "3.12.2"
  }
 },
 "nbformat": 4,
 "nbformat_minor": 5
}
