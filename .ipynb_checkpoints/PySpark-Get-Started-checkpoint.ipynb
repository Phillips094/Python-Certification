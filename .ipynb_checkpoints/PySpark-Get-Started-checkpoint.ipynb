{
 "cells": [
  {
   "cell_type": "code",
   "execution_count": 1,
   "id": "a00bf69c-dc7e-423e-997d-2198efcdba0d",
   "metadata": {},
   "outputs": [
    {
     "name": "stdout",
     "output_type": "stream",
     "text": [
      "/Users/felipegomez/GitHub/PythonPractice\n"
     ]
    }
   ],
   "source": [
    "!pwd"
   ]
  },
  {
   "cell_type": "code",
   "execution_count": 2,
   "id": "cdf8dfe5-3b3d-4535-a9d9-2eead956dcbc",
   "metadata": {},
   "outputs": [],
   "source": [
    "# Set the PySpark environment variables\n",
    "import os\n",
    "# os.environ['SPARK_HOME'] = \"/Users/felipegomez/Spark\"\n",
    "# os.environ['PYSPARK_DRIVER_PYTHON'] = 'jupyter'\n",
    "# os.environ['PYSPARK_DRIVER_PYTHON_OPTS'] = 'notebook'\n",
    "# os.environ['PYSPARK_PYTHON'] = 'python'"
   ]
  },
  {
   "cell_type": "code",
   "execution_count": 3,
   "id": "46c1b0d5-a21d-4cf2-af0a-f3c542f7440a",
   "metadata": {},
   "outputs": [],
   "source": [
    "# Import Spark\n",
    "from pyspark.sql import SparkSession"
   ]
  },
  {
   "cell_type": "code",
   "execution_count": 4,
   "id": "a3500e38-84e7-48a9-bf08-f04d2823fea7",
   "metadata": {},
   "outputs": [
    {
     "name": "stderr",
     "output_type": "stream",
     "text": [
      "Setting default log level to \"WARN\".\n",
      "To adjust logging level use sc.setLogLevel(newLevel). For SparkR, use setLogLevel(newLevel).\n",
      "24/12/17 01:03:00 WARN NativeCodeLoader: Unable to load native-hadoop library for your platform... using builtin-java classes where applicable\n"
     ]
    }
   ],
   "source": [
    "# Create A SparkSession\n",
    "spark = SparkSession.builder \\\n",
    "    .appName(\"PySpark-Get-Started\") \\\n",
    "    .getOrCreate()"
   ]
  },
  {
   "cell_type": "code",
   "execution_count": 5,
   "id": "dbdff85a-f399-45c9-aa8e-88d15815a7c5",
   "metadata": {},
   "outputs": [
    {
     "name": "stderr",
     "output_type": "stream",
     "text": [
      "                                                                                \r"
     ]
    },
    {
     "name": "stdout",
     "output_type": "stream",
     "text": [
      "+-------+---+\n",
      "|   Name|Age|\n",
      "+-------+---+\n",
      "|  Alice| 25|\n",
      "|    Bob| 30|\n",
      "|Charlie| 35|\n",
      "+-------+---+\n",
      "\n"
     ]
    }
   ],
   "source": [
    "# Test The Setup\n",
    "data = [(\"Alice\", 25), (\"Bob\", 30), (\"Charlie\", 35)]\n",
    "df = spark.createDataFrame(data, [\"Name\", \"Age\"])\n",
    "df.show()"
   ]
  },
  {
   "cell_type": "code",
   "execution_count": 6,
   "id": "c5b27b36-d3e4-4ade-9c05-cee16d8a3132",
   "metadata": {},
   "outputs": [],
   "source": [
    "sc = spark.sparkContext"
   ]
  },
  {
   "cell_type": "code",
   "execution_count": 7,
   "id": "29507151-c1e7-4dfe-a8f5-eb124b58d883",
   "metadata": {},
   "outputs": [
    {
     "data": {
      "text/html": [
       "\n",
       "        <div>\n",
       "            <p><b>SparkContext</b></p>\n",
       "\n",
       "            <p><a href=\"http://pipe.lan:4040\">Spark UI</a></p>\n",
       "\n",
       "            <dl>\n",
       "              <dt>Version</dt>\n",
       "                <dd><code>v3.5.3</code></dd>\n",
       "              <dt>Master</dt>\n",
       "                <dd><code>local[*]</code></dd>\n",
       "              <dt>AppName</dt>\n",
       "                <dd><code>PySpark-Get-Started</code></dd>\n",
       "            </dl>\n",
       "        </div>\n",
       "        "
      ],
      "text/plain": [
       "<SparkContext master=local[*] appName=PySpark-Get-Started>"
      ]
     },
     "execution_count": 7,
     "metadata": {},
     "output_type": "execute_result"
    }
   ],
   "source": [
    "sc"
   ]
  },
  {
   "cell_type": "code",
   "execution_count": 8,
   "id": "065da800-b145-42aa-95d5-09dabfdcb926",
   "metadata": {},
   "outputs": [],
   "source": [
    "sc.stop() # or spark.stop()"
   ]
  },
  {
   "cell_type": "code",
   "execution_count": 9,
   "id": "6ce8cc77-416b-4adc-b289-49928e3509d4",
   "metadata": {},
   "outputs": [],
   "source": [
    "# OLD WAY OF STARTING A SPARKCONTEXT SPARK 1.X\n",
    "\n",
    "from pyspark import SparkContext"
   ]
  },
  {
   "cell_type": "code",
   "execution_count": 10,
   "id": "e255b8f5-62ff-4236-af48-ef70c3c4b666",
   "metadata": {},
   "outputs": [],
   "source": [
    "sc = SparkContext(appName = \"MySparkApplication\")"
   ]
  },
  {
   "cell_type": "code",
   "execution_count": 11,
   "id": "82a69647-d894-45fa-8927-da28b5a0f5d8",
   "metadata": {},
   "outputs": [
    {
     "data": {
      "text/html": [
       "\n",
       "        <div>\n",
       "            <p><b>SparkContext</b></p>\n",
       "\n",
       "            <p><a href=\"http://pipe.lan:4040\">Spark UI</a></p>\n",
       "\n",
       "            <dl>\n",
       "              <dt>Version</dt>\n",
       "                <dd><code>v3.5.3</code></dd>\n",
       "              <dt>Master</dt>\n",
       "                <dd><code>local[*]</code></dd>\n",
       "              <dt>AppName</dt>\n",
       "                <dd><code>MySparkApplication</code></dd>\n",
       "            </dl>\n",
       "        </div>\n",
       "        "
      ],
      "text/plain": [
       "<SparkContext master=local[*] appName=MySparkApplication>"
      ]
     },
     "execution_count": 11,
     "metadata": {},
     "output_type": "execute_result"
    }
   ],
   "source": [
    "sc # or just use 'spark'"
   ]
  },
  {
   "cell_type": "code",
   "execution_count": 12,
   "id": "c974ca28-f6aa-4fc7-8c5d-ca1791dadb4d",
   "metadata": {},
   "outputs": [],
   "source": [
    "sc.stop()"
   ]
  },
  {
   "cell_type": "code",
   "execution_count": 13,
   "id": "41e6d225-49e3-4c31-ae45-65c3e47bfbd4",
   "metadata": {},
   "outputs": [],
   "source": [
    "# SPARK RDD AND RDD OPERATIONS"
   ]
  },
  {
   "cell_type": "code",
   "execution_count": 40,
   "id": "95f7367f-ca5f-4f03-8c21-f5987dfb03d6",
   "metadata": {},
   "outputs": [],
   "source": [
    "spark = SparkSession.builder.appName(\"RDD-Demo\").getOrCreate()"
   ]
  },
  {
   "cell_type": "code",
   "execution_count": 15,
   "id": "a350441e-1063-4500-bb96-c941e33a50c1",
   "metadata": {},
   "outputs": [],
   "source": [
    "# HOW TO CREATE RDDs"
   ]
  },
  {
   "cell_type": "code",
   "execution_count": 16,
   "id": "28855b27-c01a-4cd9-87ad-b8f1d312f1eb",
   "metadata": {},
   "outputs": [],
   "source": [
    "numbers = [1,2,3,4,5]\n",
    "rdd = spark.sparkContext.parallelize(numbers)"
   ]
  },
  {
   "cell_type": "code",
   "execution_count": 17,
   "id": "79279841-8450-4f85-9070-d12dcf018e34",
   "metadata": {},
   "outputs": [
    {
     "data": {
      "text/plain": [
       "[1, 2, 3, 4, 5]"
      ]
     },
     "execution_count": 17,
     "metadata": {},
     "output_type": "execute_result"
    }
   ],
   "source": [
    "rdd.collect()"
   ]
  },
  {
   "cell_type": "code",
   "execution_count": 18,
   "id": "337c70b3-218e-4017-9c3a-8eb22476970a",
   "metadata": {},
   "outputs": [],
   "source": [
    "data = [('Alice', 25), ('Bob', 30), ('Charlie', 35), ('Alice', 40)]"
   ]
  },
  {
   "cell_type": "code",
   "execution_count": 19,
   "id": "f8a7a2a6-9aba-48a3-b47f-3243f06f53a0",
   "metadata": {},
   "outputs": [],
   "source": [
    "rdd = spark.sparkContext.parallelize(data)"
   ]
  },
  {
   "cell_type": "code",
   "execution_count": 20,
   "id": "c2600662-564d-4b70-93ad-cd60fb2a56cd",
   "metadata": {},
   "outputs": [
    {
     "name": "stdout",
     "output_type": "stream",
     "text": [
      "All elements of the rdd:  [('Alice', 25), ('Bob', 30), ('Charlie', 35), ('Alice', 40)]\n"
     ]
    }
   ],
   "source": [
    "print(\"All elements of the rdd: \", rdd.collect())"
   ]
  },
  {
   "cell_type": "code",
   "execution_count": 30,
   "id": "76f71f76-6fe6-4ba5-b7e2-28f20a9aafad",
   "metadata": {},
   "outputs": [],
   "source": [
    "# RDD OPERATIONS: ACTIONS"
   ]
  },
  {
   "cell_type": "code",
   "execution_count": 21,
   "id": "32e8bd88-4a46-4062-96af-12ef1d5a59d6",
   "metadata": {},
   "outputs": [
    {
     "name": "stderr",
     "output_type": "stream",
     "text": [
      "[Stage 2:>                                                        (0 + 12) / 12]\r"
     ]
    },
    {
     "name": "stdout",
     "output_type": "stream",
     "text": [
      "The total number of elements in rdd:  4\n"
     ]
    },
    {
     "name": "stderr",
     "output_type": "stream",
     "text": [
      "                                                                                \r"
     ]
    }
   ],
   "source": [
    "count = rdd.count()\n",
    "print(\"The total number of elements in rdd: \", count)"
   ]
  },
  {
   "cell_type": "code",
   "execution_count": 41,
   "id": "f60167e3-a17f-44bc-af37-ef41e8764fe2",
   "metadata": {},
   "outputs": [
    {
     "data": {
      "text/html": [
       "\n",
       "        <div>\n",
       "            <p><b>SparkContext</b></p>\n",
       "\n",
       "            <p><a href=\"http://pipe.lan:4040\">Spark UI</a></p>\n",
       "\n",
       "            <dl>\n",
       "              <dt>Version</dt>\n",
       "                <dd><code>v3.5.3</code></dd>\n",
       "              <dt>Master</dt>\n",
       "                <dd><code>local[*]</code></dd>\n",
       "              <dt>AppName</dt>\n",
       "                <dd><code>RDD-Demo</code></dd>\n",
       "            </dl>\n",
       "        </div>\n",
       "        "
      ],
      "text/plain": [
       "<SparkContext master=local[*] appName=RDD-Demo>"
      ]
     },
     "execution_count": 41,
     "metadata": {},
     "output_type": "execute_result"
    }
   ],
   "source": [
    "sc = spark.sparkContext\n",
    "sc"
   ]
  },
  {
   "cell_type": "code",
   "execution_count": 42,
   "id": "39da1064-0dbb-4a4e-ba01-ecd0e63205ec",
   "metadata": {},
   "outputs": [
    {
     "data": {
      "text/html": [
       "\n",
       "            <div>\n",
       "                <p><b>SparkSession - in-memory</b></p>\n",
       "                \n",
       "        <div>\n",
       "            <p><b>SparkContext</b></p>\n",
       "\n",
       "            <p><a href=\"http://pipe.lan:4040\">Spark UI</a></p>\n",
       "\n",
       "            <dl>\n",
       "              <dt>Version</dt>\n",
       "                <dd><code>v3.5.3</code></dd>\n",
       "              <dt>Master</dt>\n",
       "                <dd><code>local[*]</code></dd>\n",
       "              <dt>AppName</dt>\n",
       "                <dd><code>RDD-Demo</code></dd>\n",
       "            </dl>\n",
       "        </div>\n",
       "        \n",
       "            </div>\n",
       "        "
      ],
      "text/plain": [
       "<pyspark.sql.session.SparkSession at 0x11c7c2090>"
      ]
     },
     "execution_count": 42,
     "metadata": {},
     "output_type": "execute_result"
    }
   ],
   "source": [
    "spark"
   ]
  },
  {
   "cell_type": "code",
   "execution_count": 27,
   "id": "541d91c8-8f20-4ccd-a154-537684ec4ace",
   "metadata": {},
   "outputs": [
    {
     "name": "stdout",
     "output_type": "stream",
     "text": [
      "The first element of the rdd:  ('Alice', 25)\n"
     ]
    }
   ],
   "source": [
    "first_element = rdd.first()\n",
    "print(\"The first element of the rdd: \", first_element)"
   ]
  },
  {
   "cell_type": "code",
   "execution_count": 28,
   "id": "2bb58d6f-5928-4c74-ac04-b39495a1b4b9",
   "metadata": {},
   "outputs": [
    {
     "name": "stdout",
     "output_type": "stream",
     "text": [
      "The first two elements of the rdd:  [('Alice', 25), ('Bob', 30)]\n"
     ]
    }
   ],
   "source": [
    "taken_elements = rdd.take(2)\n",
    "print(\"The first two elements of the rdd: \", taken_elements)"
   ]
  },
  {
   "cell_type": "code",
   "execution_count": 29,
   "id": "a168ff67-9d38-4f21-992b-9921091fb9a9",
   "metadata": {},
   "outputs": [
    {
     "name": "stderr",
     "output_type": "stream",
     "text": [
      "('Alice', 25)\n",
      "('Bob', 30)\n",
      "('Charlie', 35)\n",
      "('Alice', 40)\n"
     ]
    }
   ],
   "source": [
    "rdd.foreach(lambda x: print(x))"
   ]
  },
  {
   "cell_type": "code",
   "execution_count": 31,
   "id": "e8a1a70e-4b72-44ab-879b-1f9d90b28725",
   "metadata": {},
   "outputs": [],
   "source": [
    "# RDD OPERATIONS: TRANSFORMATIONS"
   ]
  },
  {
   "cell_type": "code",
   "execution_count": 33,
   "id": "df3b73f2-b43a-492b-8e62-662b384caf56",
   "metadata": {},
   "outputs": [
    {
     "name": "stdout",
     "output_type": "stream",
     "text": [
      "rdd with uppercase name:  [('ALICE', 25), ('BOB', 30), ('CHARLIE', 35), ('ALICE', 40)]\n"
     ]
    }
   ],
   "source": [
    "mapped_rdd = rdd.map(lambda x: (x[0].upper(), x[1]))\n",
    "result = mapped_rdd.collect()\n",
    "print(\"rdd with uppercase name: \", result)"
   ]
  },
  {
   "cell_type": "code",
   "execution_count": 34,
   "id": "842cf369-04dd-4d68-a682-f3a46d6069a9",
   "metadata": {},
   "outputs": [
    {
     "data": {
      "text/plain": [
       "[('Charlie', 35), ('Alice', 40)]"
      ]
     },
     "execution_count": 34,
     "metadata": {},
     "output_type": "execute_result"
    }
   ],
   "source": [
    "filtered_rdd = rdd.filter(lambda x: x[1] > 30)\n",
    "filtered_rdd.collect()"
   ]
  },
  {
   "cell_type": "code",
   "execution_count": 35,
   "id": "e58d056a-60b7-4cff-a5da-41334053b4b8",
   "metadata": {},
   "outputs": [
    {
     "name": "stderr",
     "output_type": "stream",
     "text": [
      "                                                                                \r"
     ]
    },
    {
     "data": {
      "text/plain": [
       "[('Alice', 65), ('Bob', 30), ('Charlie', 35)]"
      ]
     },
     "execution_count": 35,
     "metadata": {},
     "output_type": "execute_result"
    }
   ],
   "source": [
    "reduced_rdd = rdd.reduceByKey(lambda x, y: x + y)\n",
    "reduced_rdd.collect()"
   ]
  },
  {
   "cell_type": "code",
   "execution_count": 36,
   "id": "8153bb1a-ac01-4293-a967-dc0e7b7ca2db",
   "metadata": {},
   "outputs": [
    {
     "data": {
      "text/plain": [
       "[('Alice', 40), ('Charlie', 35), ('Bob', 30), ('Alice', 25)]"
      ]
     },
     "execution_count": 36,
     "metadata": {},
     "output_type": "execute_result"
    }
   ],
   "source": [
    "sorted_rdd = rdd.sortBy(lambda x: x[1], ascending = False)\n",
    "sorted_rdd.collect()"
   ]
  },
  {
   "cell_type": "code",
   "execution_count": 37,
   "id": "fe9cc058-062c-497b-8481-0beb9c003a76",
   "metadata": {},
   "outputs": [],
   "source": [
    "# READ/WRITE RDDs FROM/TO TEXT FILE"
   ]
  },
  {
   "cell_type": "code",
   "execution_count": 38,
   "id": "c634f930-b459-42c0-8b23-961a71635180",
   "metadata": {},
   "outputs": [],
   "source": [
    "rdd.saveAsTextFile(\"output.txt\")"
   ]
  },
  {
   "cell_type": "code",
   "execution_count": 43,
   "id": "4ec9d008-dd10-43a1-a150-c8a4d527896a",
   "metadata": {},
   "outputs": [
    {
     "data": {
      "text/plain": [
       "[\"('Alice', 40)\", \"('Bob', 30)\", \"('Alice', 25)\", \"('Charlie', 35)\"]"
      ]
     },
     "execution_count": 43,
     "metadata": {},
     "output_type": "execute_result"
    }
   ],
   "source": [
    "rdd_text = spark.sparkContext.textFile('output.txt')\n",
    "rdd_text.collect()"
   ]
  },
  {
   "cell_type": "code",
   "execution_count": 44,
   "id": "2b1d22bb-dc8b-43e1-be52-fb80828dc865",
   "metadata": {},
   "outputs": [],
   "source": [
    "spark.stop()"
   ]
  },
  {
   "cell_type": "code",
   "execution_count": 45,
   "id": "27e0c6cf-1a78-4b75-9bad-f56b67a22443",
   "metadata": {},
   "outputs": [],
   "source": [
    "# SPARK DATAFRAMES"
   ]
  },
  {
   "cell_type": "code",
   "execution_count": 59,
   "id": "a592f379-916c-48de-b2ab-7ff94418064a",
   "metadata": {},
   "outputs": [],
   "source": [
    "from pyspark.sql import SparkSession\n",
    "from pyspark.sql.functions import desc"
   ]
  },
  {
   "cell_type": "code",
   "execution_count": 60,
   "id": "3c6d3c32-4595-4d81-99f9-b115271266fb",
   "metadata": {},
   "outputs": [],
   "source": [
    "spark = SparkSession.builder.appName(\"DataFrame-Demo\").getOrCreate()"
   ]
  },
  {
   "cell_type": "code",
   "execution_count": 61,
   "id": "a2f901a6-15f8-4db7-b891-96641a54d8a7",
   "metadata": {},
   "outputs": [],
   "source": [
    "# USING RDDs"
   ]
  },
  {
   "cell_type": "code",
   "execution_count": 62,
   "id": "23c49eb3-27f7-4d50-b7bb-c2307da05476",
   "metadata": {},
   "outputs": [],
   "source": [
    "rdd = spark.sparkContext.textFile(\"data.txt\")"
   ]
  },
  {
   "cell_type": "code",
   "execution_count": 63,
   "id": "8e8f5902-3d7e-4f8f-89ca-f01cbb53457a",
   "metadata": {},
   "outputs": [],
   "source": [
    "result_rdd = rdd.flatMap(lambda line: line.split(\" \")) \\\n",
    " .map(lambda word: (word, 1))\\\n",
    " .reduceByKey(lambda a, b: a + b)\\\n",
    " .sortBy(lambda x: x[1], ascending = False)"
   ]
  },
  {
   "cell_type": "code",
   "execution_count": 64,
   "id": "3b26a49e-3ffd-4ca7-9519-4f381d88f5d9",
   "metadata": {},
   "outputs": [
    {
     "data": {
      "text/plain": [
       "[('the', 12)]"
      ]
     },
     "execution_count": 64,
     "metadata": {},
     "output_type": "execute_result"
    }
   ],
   "source": [
    "result_rdd.take(1)"
   ]
  },
  {
   "cell_type": "code",
   "execution_count": 65,
   "id": "8766edfc-55ab-4744-b545-c08ffe9da202",
   "metadata": {},
   "outputs": [
    {
     "data": {
      "text/plain": [
       "data.txt MapPartitionsRDD[118] at textFile at NativeMethodAccessorImpl.java:0"
      ]
     },
     "execution_count": 65,
     "metadata": {},
     "output_type": "execute_result"
    }
   ],
   "source": [
    "rdd"
   ]
  },
  {
   "cell_type": "code",
   "execution_count": 66,
   "id": "1aa6c4fb-9b44-4335-8480-16dd9c33e343",
   "metadata": {},
   "outputs": [
    {
     "data": {
      "text/plain": [
       "[('the', 12),\n",
       " ('of', 7),\n",
       " ('a', 7),\n",
       " ('distributed', 5),\n",
       " ('in', 5),\n",
       " ('Spark', 4),\n",
       " ('as', 3),\n",
       " ('is', 3),\n",
       " ('API', 3),\n",
       " ('on', 3),\n",
       " ('Dataset', 3),\n",
       " ('RDD', 3),\n",
       " ('and', 2),\n",
       " ('results', 2),\n",
       " ('its', 2),\n",
       " ('data', 2),\n",
       " ('cluster', 2),\n",
       " ('that', 2),\n",
       " ('The', 2),\n",
       " ('was', 2),\n",
       " ('API.', 2),\n",
       " ('RDDs', 2),\n",
       " ('MapReduce', 2),\n",
       " ('programs', 2),\n",
       " ('function', 2),\n",
       " ('resilient', 1),\n",
       " ('dataset', 1),\n",
       " ('read-only', 1),\n",
       " ('multiset', 1),\n",
       " ('machines,', 1),\n",
       " ('Dataframe', 1),\n",
       " ('released', 1),\n",
       " ('an', 1),\n",
       " ('by', 1),\n",
       " ('1.x,', 1),\n",
       " ('primary', 1),\n",
       " ('interface', 1),\n",
       " ('(API),', 1),\n",
       " ('but', 1),\n",
       " ('use', 1),\n",
       " ('encouraged', 1),\n",
       " ('even', 1),\n",
       " ('though', 1),\n",
       " ('deprecated.', 1),\n",
       " ('technology', 1),\n",
       " ('still', 1),\n",
       " ('', 1),\n",
       " ('were', 1),\n",
       " ('response', 1),\n",
       " ('to', 1),\n",
       " ('limitations', 1),\n",
       " ('computing', 1),\n",
       " ('paradigm,', 1),\n",
       " ('forces', 1),\n",
       " ('structure', 1),\n",
       " ('programs:', 1),\n",
       " ('read', 1),\n",
       " ('input', 1),\n",
       " ('from', 1),\n",
       " ('disk,', 1),\n",
       " ('map', 1),\n",
       " ('data,', 1),\n",
       " ('map,', 1),\n",
       " ('disk.', 1),\n",
       " (\"Spark's\", 1),\n",
       " ('working', 1),\n",
       " ('set', 1),\n",
       " ('for', 1),\n",
       " ('form', 1),\n",
       " ('shared', 1),\n",
       " ('Apache', 1),\n",
       " ('has', 1),\n",
       " ('architectural', 1),\n",
       " ('foundation', 1),\n",
       " ('(RDD),', 1),\n",
       " ('items', 1),\n",
       " ('over', 1),\n",
       " ('maintained', 1),\n",
       " ('fault-tolerant', 1),\n",
       " ('way.', 1),\n",
       " ('abstraction', 1),\n",
       " ('top', 1),\n",
       " ('RDD,', 1),\n",
       " ('followed', 1),\n",
       " ('In', 1),\n",
       " ('application', 1),\n",
       " ('programming', 1),\n",
       " ('2.x', 1),\n",
       " ('not', 1),\n",
       " ('underlies', 1),\n",
       " ('developed', 1),\n",
       " ('2012', 1),\n",
       " ('which', 1),\n",
       " ('particular', 1),\n",
       " ('linear', 1),\n",
       " ('dataflow', 1),\n",
       " ('across', 1),\n",
       " ('reduce', 1),\n",
       " ('store', 1),\n",
       " ('reduction', 1),\n",
       " ('offers', 1),\n",
       " ('(deliberately)', 1),\n",
       " ('restricted', 1),\n",
       " ('memory.', 1)]"
      ]
     },
     "execution_count": 66,
     "metadata": {},
     "output_type": "execute_result"
    }
   ],
   "source": [
    "result_rdd.collect()"
   ]
  },
  {
   "cell_type": "code",
   "execution_count": 67,
   "id": "05e522c8-618d-408e-bb88-c2dcff4314d4",
   "metadata": {},
   "outputs": [],
   "source": [
    "# USING DATAFRAMES"
   ]
  },
  {
   "cell_type": "code",
   "execution_count": 68,
   "id": "0f8d5367-f5a0-44b9-a92c-4d23cbb5330b",
   "metadata": {},
   "outputs": [],
   "source": [
    "df = spark.read.text(\"data.txt\")"
   ]
  },
  {
   "cell_type": "code",
   "execution_count": 69,
   "id": "f0b4a21f-5e60-4257-86c2-fe3c389c3af6",
   "metadata": {},
   "outputs": [],
   "source": [
    "result_df = df.selectExpr(\"explode(split(value, '')) as word\").groupBy(\"word\").count().orderBy(desc(\"count\"))"
   ]
  },
  {
   "cell_type": "code",
   "execution_count": 70,
   "id": "914af646-09ef-44c0-b041-5e69ff04c64e",
   "metadata": {},
   "outputs": [
    {
     "data": {
      "text/plain": [
       "[Row(word=' ', count=160),\n",
       " Row(word='e', count=84),\n",
       " Row(word='t', count=83),\n",
       " Row(word='a', count=80),\n",
       " Row(word='r', count=61),\n",
       " Row(word='s', count=55),\n",
       " Row(word='i', count=54),\n",
       " Row(word='o', count=47),\n",
       " Row(word='n', count=40),\n",
       " Row(word='d', count=39)]"
      ]
     },
     "execution_count": 70,
     "metadata": {},
     "output_type": "execute_result"
    }
   ],
   "source": [
    "result_df.take(10)"
   ]
  },
  {
   "cell_type": "code",
   "execution_count": 71,
   "id": "0c232b90-d846-4493-bcbd-7f069cdd8ffe",
   "metadata": {},
   "outputs": [],
   "source": [
    "# DATAFRAME CODE IS MORE CONCISE AND CLOSER TO SQL-LIKE SYNTAX."
   ]
  },
  {
   "cell_type": "code",
   "execution_count": 72,
   "id": "7742e927-9404-49c1-8553-07bc8baba3c9",
   "metadata": {},
   "outputs": [],
   "source": [
    "# CONCLUSION: DATAFRAMES ARE USER-FRIENDLY SANDE OPTIMIZED APPROACH FRO STRUCTURED DATA IN APACHE SPARK."
   ]
  },
  {
   "cell_type": "code",
   "execution_count": 103,
   "id": "045b7480-24ac-49dd-90b7-2c9613e292d6",
   "metadata": {},
   "outputs": [],
   "source": [
    "# METHOD 1 TO USE BASH SHELL CLI!!!"
   ]
  },
  {
   "cell_type": "code",
   "execution_count": 106,
   "id": "9179471f-05a1-46d6-b477-f3938e439861",
   "metadata": {},
   "outputs": [
    {
     "name": "stdout",
     "output_type": "stream",
     "text": [
      "id,name,category,quantity,price\n",
      "1,iPhone 12,Electronics,10,899.99\n",
      "2,Nike Air Max 90,Clothing,25,119.99\n",
      "3,KitchenAid Stand Mixer,Home Appliances,5,299.99\n",
      "4,The Great Gatsby,Books,50,12.99\n",
      "5,L'Oreal Paris Mascara,Beauty,100,9.99\n",
      "6,Yoga Mat,Sports,30,29.99\n",
      "7,Samsung 4K Smart TV,Electronics,8,799.99\n",
      "8,Levi's Jeans,Clothing,15,49.99\n",
      "9,Dyson Vacuum Cleaner,Home Appliances,3,399.99\n"
     ]
    }
   ],
   "source": [
    "%%bash \n",
    "head -10 ./products.csv"
   ]
  },
  {
   "cell_type": "code",
   "execution_count": 107,
   "id": "ac638add-6b97-463f-9b35-3220e89584ca",
   "metadata": {},
   "outputs": [
    {
     "name": "stdout",
     "output_type": "stream",
     "text": [
      "id,name,category,quantity,price\n",
      "1,iPhone 12,Electronics,10,899.99\n",
      "2,Nike Air Max 90,Clothing,25,119.99\n",
      "3,KitchenAid Stand Mixer,Home Appliances,5,299.99\n",
      "4,The Great Gatsby,Books,50,12.99\n",
      "5,L'Oreal Paris Mascara,Beauty,100,9.99\n",
      "6,Yoga Mat,Sports,30,29.99\n",
      "7,Samsung 4K Smart TV,Electronics,8,799.99\n",
      "8,Levi's Jeans,Clothing,15,49.99\n",
      "9,Dyson Vacuum Cleaner,Home Appliances,3,399.99\n"
     ]
    }
   ],
   "source": [
    "# METHOD 2 TO USE BASH SHELL CLI!!!\n",
    "! head -10 ./products.csv"
   ]
  },
  {
   "cell_type": "code",
   "execution_count": 108,
   "id": "81fa2281-1500-4cfb-848d-c0450fdfea65",
   "metadata": {},
   "outputs": [],
   "source": [
    "# READ OUR CSV FILE INTO A DATAFRAME"
   ]
  },
  {
   "cell_type": "code",
   "execution_count": 109,
   "id": "c982b2de-96c7-4872-94b9-699f86acdcb7",
   "metadata": {},
   "outputs": [
    {
     "name": "stdout",
     "output_type": "stream",
     "text": [
      "+---+--------------------+---------------+--------+------+\n",
      "| id|                name|       category|quantity| price|\n",
      "+---+--------------------+---------------+--------+------+\n",
      "|  1|           iPhone 12|    Electronics|      10|899.99|\n",
      "|  2|     Nike Air Max 90|       Clothing|      25|119.99|\n",
      "|  3|KitchenAid Stand ...|Home Appliances|       5|299.99|\n",
      "|  4|    The Great Gatsby|          Books|      50| 12.99|\n",
      "|  5|L'Oreal Paris Mas...|         Beauty|     100|  9.99|\n",
      "|  6|            Yoga Mat|         Sports|      30| 29.99|\n",
      "|  7| Samsung 4K Smart TV|    Electronics|       8|799.99|\n",
      "|  8|        Levi's Jeans|       Clothing|      15| 49.99|\n",
      "|  9|Dyson Vacuum Cleaner|Home Appliances|       3|399.99|\n",
      "| 10| Harry Potter Series|          Books|      20| 15.99|\n",
      "| 11|        MAC Lipstick|         Beauty|      75| 16.99|\n",
      "| 12|Adidas Running Shoes|         Sports|      22| 59.99|\n",
      "| 13|       PlayStation 5|    Electronics|      12|499.99|\n",
      "| 14|   Hooded Sweatshirt|       Clothing|      10| 34.99|\n",
      "| 15|        Coffee Maker|Home Appliances|       7| 89.99|\n",
      "| 16|To Kill a Mocking...|          Books|      15|  9.99|\n",
      "| 17|        Skincare Set|         Beauty|      50| 49.99|\n",
      "| 18|           Yoga Ball|         Sports|      18| 19.99|\n",
      "| 19|Sony Noise-Cancel...|    Electronics|       6|299.99|\n",
      "| 20|        Puma T-shirt|       Clothing|      40| 19.99|\n",
      "+---+--------------------+---------------+--------+------+\n",
      "\n"
     ]
    }
   ],
   "source": [
    "# METHOD 1 WHERE SPARK AUTOMATICALLY DEFINES OUR SCHEMA\n",
    "\n",
    "df_csv = spark.read.csv('products.csv', header=True)\n",
    "df_csv.show()"
   ]
  },
  {
   "cell_type": "code",
   "execution_count": 110,
   "id": "03e4e860-ed76-49b0-a01c-7b272b4271d4",
   "metadata": {},
   "outputs": [
    {
     "name": "stdout",
     "output_type": "stream",
     "text": [
      "root\n",
      " |-- id: string (nullable = true)\n",
      " |-- name: string (nullable = true)\n",
      " |-- category: string (nullable = true)\n",
      " |-- quantity: string (nullable = true)\n",
      " |-- price: string (nullable = true)\n",
      "\n"
     ]
    }
   ],
   "source": [
    "df_csv.printSchema()"
   ]
  },
  {
   "cell_type": "code",
   "execution_count": 111,
   "id": "84568c82-26dc-4d6a-b925-f36d9a8e39a1",
   "metadata": {},
   "outputs": [],
   "source": [
    "# READ CSV WITH AN EXPLICIT SCHEMA DEFINITION"
   ]
  },
  {
   "cell_type": "code",
   "execution_count": 114,
   "id": "a91e4e41-8a5f-4f8b-9f78-28ddf0e39d90",
   "metadata": {},
   "outputs": [],
   "source": [
    "from pyspark.sql.types import StructType, StructField, StringType, IntegerType, DoubleType"
   ]
  },
  {
   "cell_type": "code",
   "execution_count": 121,
   "id": "d9f1132c-0a8a-4716-a385-c036f587f70a",
   "metadata": {},
   "outputs": [],
   "source": [
    "# METHOD 2 WHERE WE DEFINE OUR SCHEMA\n",
    "\n",
    "schema = StructType([StructField(name=\"id\", dataType = IntegerType(), nullable = True),\n",
    "                     StructField(name=\"name\", dataType = StringType(), nullable = True),\n",
    "                     StructField(name=\"category\", dataType = StringType(), nullable = True),\n",
    "                     StructField(name=\"quantity\", dataType = IntegerType(), nullable = True),\n",
    "                     StructField(name=\"price\", dataType = DoubleType(), nullable = True)\n",
    "                    ])"
   ]
  },
  {
   "cell_type": "code",
   "execution_count": 122,
   "id": "e0eba188-f4d5-4b69-aaed-1615a5669ab8",
   "metadata": {},
   "outputs": [],
   "source": [
    "df_csv2 = spark.read.csv(\"products.csv\", header=True, schema=schema)"
   ]
  },
  {
   "cell_type": "code",
   "execution_count": 124,
   "id": "ff845571-738d-4eea-bdaf-b48f7f4b9db4",
   "metadata": {},
   "outputs": [
    {
     "name": "stdout",
     "output_type": "stream",
     "text": [
      "+---+--------------------+---------------+--------+------+\n",
      "| id|                name|       category|quantity| price|\n",
      "+---+--------------------+---------------+--------+------+\n",
      "|  1|           iPhone 12|    Electronics|      10|899.99|\n",
      "|  2|     Nike Air Max 90|       Clothing|      25|119.99|\n",
      "|  3|KitchenAid Stand ...|Home Appliances|       5|299.99|\n",
      "|  4|    The Great Gatsby|          Books|      50| 12.99|\n",
      "|  5|L'Oreal Paris Mas...|         Beauty|     100|  9.99|\n",
      "+---+--------------------+---------------+--------+------+\n",
      "only showing top 5 rows\n",
      "\n"
     ]
    }
   ],
   "source": [
    "df_csv2.show(5)"
   ]
  },
  {
   "cell_type": "code",
   "execution_count": 125,
   "id": "3fc5e378-c702-45cb-990b-8305ce0d6622",
   "metadata": {},
   "outputs": [
    {
     "data": {
      "text/plain": [
       "[Row(id=1, name='iPhone 12', category='Electronics', quantity=10, price=899.99),\n",
       " Row(id=2, name='Nike Air Max 90', category='Clothing', quantity=25, price=119.99),\n",
       " Row(id=3, name='KitchenAid Stand Mixer', category='Home Appliances', quantity=5, price=299.99),\n",
       " Row(id=4, name='The Great Gatsby', category='Books', quantity=50, price=12.99),\n",
       " Row(id=5, name=\"L'Oreal Paris Mascara\", category='Beauty', quantity=100, price=9.99)]"
      ]
     },
     "execution_count": 125,
     "metadata": {},
     "output_type": "execute_result"
    }
   ],
   "source": [
    "df_csv2.head(5)"
   ]
  },
  {
   "cell_type": "code",
   "execution_count": 127,
   "id": "befdf606-f73c-41f4-8b01-1c30bfeed497",
   "metadata": {},
   "outputs": [
    {
     "name": "stdout",
     "output_type": "stream",
     "text": [
      "root\n",
      " |-- id: integer (nullable = true)\n",
      " |-- name: string (nullable = true)\n",
      " |-- category: string (nullable = true)\n",
      " |-- quantity: integer (nullable = true)\n",
      " |-- price: double (nullable = true)\n",
      "\n"
     ]
    }
   ],
   "source": [
    "df_csv2.printSchema()"
   ]
  },
  {
   "cell_type": "code",
   "execution_count": 128,
   "id": "5d93b1aa-3853-49cd-978a-4e2e8c66bf00",
   "metadata": {},
   "outputs": [
    {
     "name": "stdout",
     "output_type": "stream",
     "text": [
      "+---+--------------------+---------------+--------+------+\n",
      "| id|                name|       category|quantity| price|\n",
      "+---+--------------------+---------------+--------+------+\n",
      "|  1|           iPhone 12|    Electronics|      10|899.99|\n",
      "|  2|     Nike Air Max 90|       Clothing|      25|119.99|\n",
      "|  3|KitchenAid Stand ...|Home Appliances|       5|299.99|\n",
      "|  4|    The Great Gatsby|          Books|      50| 12.99|\n",
      "|  5|L'Oreal Paris Mas...|         Beauty|     100|  9.99|\n",
      "|  6|            Yoga Mat|         Sports|      30| 29.99|\n",
      "|  7| Samsung 4K Smart TV|    Electronics|       8|799.99|\n",
      "|  8|        Levi's Jeans|       Clothing|      15| 49.99|\n",
      "|  9|Dyson Vacuum Cleaner|Home Appliances|       3|399.99|\n",
      "| 10| Harry Potter Series|          Books|      20| 15.99|\n",
      "| 11|        MAC Lipstick|         Beauty|      75| 16.99|\n",
      "| 12|Adidas Running Shoes|         Sports|      22| 59.99|\n",
      "| 13|       PlayStation 5|    Electronics|      12|499.99|\n",
      "| 14|   Hooded Sweatshirt|       Clothing|      10| 34.99|\n",
      "| 15|        Coffee Maker|Home Appliances|       7| 89.99|\n",
      "| 16|To Kill a Mocking...|          Books|      15|  9.99|\n",
      "| 17|        Skincare Set|         Beauty|      50| 49.99|\n",
      "| 18|           Yoga Ball|         Sports|      18| 19.99|\n",
      "| 19|Sony Noise-Cancel...|    Electronics|       6|299.99|\n",
      "| 20|        Puma T-shirt|       Clothing|      40| 19.99|\n",
      "+---+--------------------+---------------+--------+------+\n",
      "\n"
     ]
    }
   ],
   "source": [
    "df_csv3 = spark.read.csv(\"products.csv\", header=True, inferSchema=True)\n",
    "df_csv3.show()"
   ]
  },
  {
   "cell_type": "code",
   "execution_count": 129,
   "id": "d99cae0f-4b26-424b-a8b1-9915243e18a6",
   "metadata": {},
   "outputs": [
    {
     "name": "stdout",
     "output_type": "stream",
     "text": [
      "root\n",
      " |-- id: integer (nullable = true)\n",
      " |-- name: string (nullable = true)\n",
      " |-- category: string (nullable = true)\n",
      " |-- quantity: integer (nullable = true)\n",
      " |-- price: double (nullable = true)\n",
      "\n"
     ]
    }
   ],
   "source": [
    "df_csv3.printSchema()"
   ]
  },
  {
   "cell_type": "code",
   "execution_count": 130,
   "id": "13c57add-f04b-48e2-9678-d68946924147",
   "metadata": {},
   "outputs": [],
   "source": [
    "# READING JSON FILES INTO DATAFRAME"
   ]
  },
  {
   "cell_type": "code",
   "execution_count": 134,
   "id": "494ec771-8c18-4744-8286-59f02ba6f67a",
   "metadata": {},
   "outputs": [],
   "source": [
    "# READING SINGLE FILE JSON FILES\n",
    "\n",
    "# EACH ROW IS A JSON RECORD, RECORDS ARE SEPARATED BY A NEW LINE"
   ]
  },
  {
   "cell_type": "code",
   "execution_count": 135,
   "id": "66e3f998-1fa3-4fba-ac87-560315ceda30",
   "metadata": {},
   "outputs": [
    {
     "name": "stdout",
     "output_type": "stream",
     "text": [
      "{\"id\":1,\"name\":\"iPhone 12\",\"category\":\"Electronics\",\"quantity\":10,\"price\":899.99}\n",
      "{\"id\":2,\"name\":\"Nike Air Max 90\",\"category\":\"Clothing\",\"quantity\":25,\"price\":119.99}\n",
      "{\"id\":3,\"name\":\"KitchenAid Stand Mixer\",\"category\":\"Home Appliances\",\"quantity\":5,\"price\":299.99}\n",
      "{\"id\":4,\"name\":\"The Great Gatsby\",\"category\":\"Books\",\"quantity\":50,\"price\":12.99}\n",
      "{\"id\":5,\"name\":\"L'Oreal Paris Mascara\",\"category\":\"Beauty\",\"quantity\":100,\"price\":9.99}\n",
      "{\"id\":6,\"name\":\"Yoga Mat\",\"category\":\"Sports\",\"quantity\":30,\"price\":29.99}\n",
      "{\"id\":7,\"name\":\"Samsung 4K Smart TV\",\"category\":\"Electronics\",\"quantity\":8,\"price\":799.99}\n",
      "{\"id\":8,\"name\":\"Levi's Jeans\",\"category\":\"Clothing\",\"quantity\":15,\"price\":49.99}\n",
      "{\"id\":9,\"name\":\"Dyson Vacuum Cleaner\",\"category\":\"Home Appliances\",\"quantity\":3,\"price\":399.99}\n",
      "{\"id\":10,\"name\":\"Harry Potter Series\",\"category\":\"Books\",\"quantity\":20,\"price\":15.99}\n"
     ]
    }
   ],
   "source": [
    "%%bash\n",
    "head -10 products_singleline.json"
   ]
  },
  {
   "cell_type": "code",
   "execution_count": 136,
   "id": "f1b1e6bf-82e8-45c7-be8a-8dc986071c1d",
   "metadata": {},
   "outputs": [
    {
     "name": "stdout",
     "output_type": "stream",
     "text": [
      "+---------------+---+--------------------+------+--------+\n",
      "|       category| id|                name| price|quantity|\n",
      "+---------------+---+--------------------+------+--------+\n",
      "|    Electronics|  1|           iPhone 12|899.99|      10|\n",
      "|       Clothing|  2|     Nike Air Max 90|119.99|      25|\n",
      "|Home Appliances|  3|KitchenAid Stand ...|299.99|       5|\n",
      "|          Books|  4|    The Great Gatsby| 12.99|      50|\n",
      "|         Beauty|  5|L'Oreal Paris Mas...|  9.99|     100|\n",
      "|         Sports|  6|            Yoga Mat| 29.99|      30|\n",
      "|    Electronics|  7| Samsung 4K Smart TV|799.99|       8|\n",
      "|       Clothing|  8|        Levi's Jeans| 49.99|      15|\n",
      "|Home Appliances|  9|Dyson Vacuum Cleaner|399.99|       3|\n",
      "|          Books| 10| Harry Potter Series| 15.99|      20|\n",
      "|         Beauty| 11|        MAC Lipstick| 16.99|      75|\n",
      "|         Sports| 12|Adidas Running Shoes| 59.99|      22|\n",
      "|    Electronics| 13|       PlayStation 5|499.99|      12|\n",
      "|       Clothing| 14|   Hooded Sweatshirt| 34.99|      10|\n",
      "|Home Appliances| 15|        Coffee Maker| 89.99|       7|\n",
      "|          Books| 16|To Kill a Mocking...|  9.99|      15|\n",
      "|         Beauty| 17|        Skincare Set| 49.99|      50|\n",
      "|         Sports| 18|           Yoga Ball| 19.99|      18|\n",
      "|    Electronics| 19|Sony Noise-Cancel...|299.99|       6|\n",
      "|       Clothing| 20|        Puma T-shirt| 19.99|      40|\n",
      "+---------------+---+--------------------+------+--------+\n",
      "\n"
     ]
    }
   ],
   "source": [
    "df_json = spark.read.json('products_singleline.json')\n",
    "df_json.show()"
   ]
  },
  {
   "cell_type": "code",
   "execution_count": 137,
   "id": "3326963c-045e-455e-914b-132e6020918e",
   "metadata": {},
   "outputs": [
    {
     "name": "stdout",
     "output_type": "stream",
     "text": [
      "root\n",
      " |-- category: string (nullable = true)\n",
      " |-- id: long (nullable = true)\n",
      " |-- name: string (nullable = true)\n",
      " |-- price: double (nullable = true)\n",
      " |-- quantity: long (nullable = true)\n",
      "\n"
     ]
    }
   ],
   "source": [
    "df_json.printSchema()"
   ]
  },
  {
   "cell_type": "code",
   "execution_count": 138,
   "id": "f5e615e5-67e4-4e79-a2a8-cea14445f1cd",
   "metadata": {},
   "outputs": [],
   "source": [
    "# READ MULTILINES FOR JSON FILES"
   ]
  },
  {
   "cell_type": "code",
   "execution_count": 153,
   "id": "ac38199b-03ad-4595-a305-76d8c1176d61",
   "metadata": {},
   "outputs": [
    {
     "name": "stdout",
     "output_type": "stream",
     "text": [
      "[\n",
      "  {\n",
      "    \"id\": 1,\n",
      "    \"name\": \"iPhone 12\",\n",
      "    \"category\": \"Electronics\",\n",
      "    \"quantity\": 10,\n",
      "    \"price\": 899.99\n",
      "  },\n",
      "  {\n",
      "    \"id\": 2,\n",
      "    \"name\": \"Nike Air Max 90\",\n",
      "    \"category\": \"Clothing\",\n",
      "    \"quantity\": 25,\n",
      "    \"price\": 119.99\n",
      "  },\n",
      "  {\n",
      "    \"id\": 3,\n",
      "    \"name\": \"KitchenAid Stand Mixer\",\n",
      "    \"category\": \"Home Appliances\",\n",
      "    \"quantity\": 5,\n",
      "    \"price\": 299.99\n",
      "  },\n",
      "  {\n",
      "    \"id\": 4,\n",
      "    \"name\": \"The Great Gatsby\",\n",
      "    \"category\": \"Books\",\n",
      "    \"quantity\": 50,\n",
      "    \"price\": 12.99\n",
      "  },\n",
      "  {\n"
     ]
    }
   ],
   "source": [
    "%%bash \n",
    "head -30 ./products_multiline.json"
   ]
  },
  {
   "cell_type": "code",
   "execution_count": 155,
   "id": "ffc90045-a70d-409f-8e24-6be924e16390",
   "metadata": {},
   "outputs": [
    {
     "name": "stdout",
     "output_type": "stream",
     "text": [
      "+---------------+---+--------------------+------+--------+\n",
      "|       category| id|                name| price|quantity|\n",
      "+---------------+---+--------------------+------+--------+\n",
      "|    Electronics|  1|           iPhone 12|899.99|      10|\n",
      "|       Clothing|  2|     Nike Air Max 90|119.99|      25|\n",
      "|Home Appliances|  3|KitchenAid Stand ...|299.99|       5|\n",
      "|          Books|  4|    The Great Gatsby| 12.99|      50|\n",
      "|         Beauty|  5|L'Oreal Paris Mas...|  9.99|     100|\n",
      "|         Sports|  6|            Yoga Mat| 29.99|      30|\n",
      "|    Electronics|  7| Samsung 4K Smart TV|799.99|       8|\n",
      "|       Clothing|  8|        Levi's Jeans| 49.99|      15|\n",
      "|Home Appliances|  9|Dyson Vacuum Cleaner|399.99|       3|\n",
      "|          Books| 10| Harry Potter Series| 15.99|      20|\n",
      "|         Beauty| 11|        MAC Lipstick| 16.99|      75|\n",
      "|         Sports| 12|Adidas Running Shoes| 59.99|      22|\n",
      "|    Electronics| 13|       PlayStation 5|499.99|      12|\n",
      "|       Clothing| 14|   Hooded Sweatshirt| 34.99|      10|\n",
      "|Home Appliances| 15|        Coffee Maker| 89.99|       7|\n",
      "|          Books| 16|To Kill a Mocking...|  9.99|      15|\n",
      "|         Beauty| 17|        Skincare Set| 49.99|      50|\n",
      "|         Sports| 18|           Yoga Ball| 19.99|      18|\n",
      "|    Electronics| 19|Sony Noise-Cancel...|299.99|       6|\n",
      "|       Clothing| 20|        Puma T-shirt| 19.99|      40|\n",
      "+---------------+---+--------------------+------+--------+\n",
      "\n"
     ]
    }
   ],
   "source": [
    "df_json2 = spark.read.json(\"products_multiline.json\", multiLine = True)\n",
    "df_json2.show()"
   ]
  },
  {
   "cell_type": "code",
   "execution_count": 156,
   "id": "ac3ae9f0-f1dd-4875-b7d6-233058286ad8",
   "metadata": {},
   "outputs": [
    {
     "name": "stdout",
     "output_type": "stream",
     "text": [
      "root\n",
      " |-- category: string (nullable = true)\n",
      " |-- id: long (nullable = true)\n",
      " |-- name: string (nullable = true)\n",
      " |-- price: double (nullable = true)\n",
      " |-- quantity: long (nullable = true)\n",
      "\n"
     ]
    }
   ],
   "source": [
    "df_json2.printSchema()"
   ]
  },
  {
   "cell_type": "code",
   "execution_count": null,
   "id": "53b43b9a-7f02-4b79-ab1d-4b1ee27974b8",
   "metadata": {},
   "outputs": [],
   "source": [
    "# READ AND WRITE PARQUET FILES INTO DATAFRAME"
   ]
  }
 ],
 "metadata": {
  "kernelspec": {
   "display_name": "Python 3 (ipykernel)",
   "language": "python",
   "name": "python3"
  },
  "language_info": {
   "codemirror_mode": {
    "name": "ipython",
    "version": 3
   },
   "file_extension": ".py",
   "mimetype": "text/x-python",
   "name": "python",
   "nbconvert_exporter": "python",
   "pygments_lexer": "ipython3",
   "version": "3.12.2"
  }
 },
 "nbformat": 4,
 "nbformat_minor": 5
}
