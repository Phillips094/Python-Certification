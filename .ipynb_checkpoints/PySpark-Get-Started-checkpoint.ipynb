{
 "cells": [
  {
   "cell_type": "code",
   "execution_count": 1,
   "id": "a00bf69c-dc7e-423e-997d-2198efcdba0d",
   "metadata": {},
   "outputs": [
    {
     "name": "stdout",
     "output_type": "stream",
     "text": [
      "/Users/felipegomez/GitHub/PythonPractice\n"
     ]
    }
   ],
   "source": [
    "!pwd"
   ]
  },
  {
   "cell_type": "code",
   "execution_count": 2,
   "id": "cdf8dfe5-3b3d-4535-a9d9-2eead956dcbc",
   "metadata": {},
   "outputs": [],
   "source": [
    "# Set the PySpark environment variables\n",
    "import os\n",
    "# os.environ['SPARK_HOME'] = \"/Users/felipegomez/Spark\"\n",
    "# os.environ['PYSPARK_DRIVER_PYTHON'] = 'jupyter'\n",
    "# os.environ['PYSPARK_DRIVER_PYTHON_OPTS'] = 'notebook'\n",
    "# os.environ['PYSPARK_PYTHON'] = 'python'"
   ]
  },
  {
   "cell_type": "code",
   "execution_count": 3,
   "id": "46c1b0d5-a21d-4cf2-af0a-f3c542f7440a",
   "metadata": {},
   "outputs": [],
   "source": [
    "# Import Spark\n",
    "from pyspark.sql import SparkSession"
   ]
  },
  {
   "cell_type": "code",
   "execution_count": 4,
   "id": "a3500e38-84e7-48a9-bf08-f04d2823fea7",
   "metadata": {},
   "outputs": [
    {
     "name": "stderr",
     "output_type": "stream",
     "text": [
      "Setting default log level to \"WARN\".\n",
      "To adjust logging level use sc.setLogLevel(newLevel). For SparkR, use setLogLevel(newLevel).\n",
      "24/12/17 01:03:00 WARN NativeCodeLoader: Unable to load native-hadoop library for your platform... using builtin-java classes where applicable\n"
     ]
    }
   ],
   "source": [
    "# Create A SparkSession\n",
    "spark = SparkSession.builder \\\n",
    "    .appName(\"PySpark-Get-Started\") \\\n",
    "    .getOrCreate()"
   ]
  },
  {
   "cell_type": "code",
   "execution_count": 5,
   "id": "dbdff85a-f399-45c9-aa8e-88d15815a7c5",
   "metadata": {},
   "outputs": [
    {
     "name": "stderr",
     "output_type": "stream",
     "text": [
      "                                                                                \r"
     ]
    },
    {
     "name": "stdout",
     "output_type": "stream",
     "text": [
      "+-------+---+\n",
      "|   Name|Age|\n",
      "+-------+---+\n",
      "|  Alice| 25|\n",
      "|    Bob| 30|\n",
      "|Charlie| 35|\n",
      "+-------+---+\n",
      "\n"
     ]
    }
   ],
   "source": [
    "# Test The Setup\n",
    "data = [(\"Alice\", 25), (\"Bob\", 30), (\"Charlie\", 35)]\n",
    "df = spark.createDataFrame(data, [\"Name\", \"Age\"])\n",
    "df.show()"
   ]
  },
  {
   "cell_type": "code",
   "execution_count": 6,
   "id": "c5b27b36-d3e4-4ade-9c05-cee16d8a3132",
   "metadata": {},
   "outputs": [],
   "source": [
    "sc = spark.sparkContext"
   ]
  },
  {
   "cell_type": "code",
   "execution_count": 7,
   "id": "29507151-c1e7-4dfe-a8f5-eb124b58d883",
   "metadata": {},
   "outputs": [
    {
     "data": {
      "text/html": [
       "\n",
       "        <div>\n",
       "            <p><b>SparkContext</b></p>\n",
       "\n",
       "            <p><a href=\"http://pipe.lan:4040\">Spark UI</a></p>\n",
       "\n",
       "            <dl>\n",
       "              <dt>Version</dt>\n",
       "                <dd><code>v3.5.3</code></dd>\n",
       "              <dt>Master</dt>\n",
       "                <dd><code>local[*]</code></dd>\n",
       "              <dt>AppName</dt>\n",
       "                <dd><code>PySpark-Get-Started</code></dd>\n",
       "            </dl>\n",
       "        </div>\n",
       "        "
      ],
      "text/plain": [
       "<SparkContext master=local[*] appName=PySpark-Get-Started>"
      ]
     },
     "execution_count": 7,
     "metadata": {},
     "output_type": "execute_result"
    }
   ],
   "source": [
    "sc"
   ]
  },
  {
   "cell_type": "code",
   "execution_count": 8,
   "id": "065da800-b145-42aa-95d5-09dabfdcb926",
   "metadata": {},
   "outputs": [],
   "source": [
    "sc.stop() # or spark.stop()"
   ]
  },
  {
   "cell_type": "code",
   "execution_count": 9,
   "id": "6ce8cc77-416b-4adc-b289-49928e3509d4",
   "metadata": {},
   "outputs": [],
   "source": [
    "# OLD WAY OF STARTING A SPARKCONTEXT SPARK 1.X\n",
    "\n",
    "from pyspark import SparkContext"
   ]
  },
  {
   "cell_type": "code",
   "execution_count": 10,
   "id": "e255b8f5-62ff-4236-af48-ef70c3c4b666",
   "metadata": {},
   "outputs": [],
   "source": [
    "sc = SparkContext(appName = \"MySparkApplication\")"
   ]
  },
  {
   "cell_type": "code",
   "execution_count": 11,
   "id": "82a69647-d894-45fa-8927-da28b5a0f5d8",
   "metadata": {},
   "outputs": [
    {
     "data": {
      "text/html": [
       "\n",
       "        <div>\n",
       "            <p><b>SparkContext</b></p>\n",
       "\n",
       "            <p><a href=\"http://pipe.lan:4040\">Spark UI</a></p>\n",
       "\n",
       "            <dl>\n",
       "              <dt>Version</dt>\n",
       "                <dd><code>v3.5.3</code></dd>\n",
       "              <dt>Master</dt>\n",
       "                <dd><code>local[*]</code></dd>\n",
       "              <dt>AppName</dt>\n",
       "                <dd><code>MySparkApplication</code></dd>\n",
       "            </dl>\n",
       "        </div>\n",
       "        "
      ],
      "text/plain": [
       "<SparkContext master=local[*] appName=MySparkApplication>"
      ]
     },
     "execution_count": 11,
     "metadata": {},
     "output_type": "execute_result"
    }
   ],
   "source": [
    "sc # or just use 'spark'"
   ]
  },
  {
   "cell_type": "code",
   "execution_count": 12,
   "id": "c974ca28-f6aa-4fc7-8c5d-ca1791dadb4d",
   "metadata": {},
   "outputs": [],
   "source": [
    "sc.stop()"
   ]
  },
  {
   "cell_type": "code",
   "execution_count": 13,
   "id": "41e6d225-49e3-4c31-ae45-65c3e47bfbd4",
   "metadata": {},
   "outputs": [],
   "source": [
    "# SPARK RDD AND RDD OPERATIONS"
   ]
  },
  {
   "cell_type": "code",
   "execution_count": 40,
   "id": "95f7367f-ca5f-4f03-8c21-f5987dfb03d6",
   "metadata": {},
   "outputs": [],
   "source": [
    "spark = SparkSession.builder.appName(\"RDD-Demo\").getOrCreate()"
   ]
  },
  {
   "cell_type": "code",
   "execution_count": 15,
   "id": "a350441e-1063-4500-bb96-c941e33a50c1",
   "metadata": {},
   "outputs": [],
   "source": [
    "# HOW TO CREATE RDDs"
   ]
  },
  {
   "cell_type": "code",
   "execution_count": 16,
   "id": "28855b27-c01a-4cd9-87ad-b8f1d312f1eb",
   "metadata": {},
   "outputs": [],
   "source": [
    "numbers = [1,2,3,4,5]\n",
    "rdd = spark.sparkContext.parallelize(numbers)"
   ]
  },
  {
   "cell_type": "code",
   "execution_count": 17,
   "id": "79279841-8450-4f85-9070-d12dcf018e34",
   "metadata": {},
   "outputs": [
    {
     "data": {
      "text/plain": [
       "[1, 2, 3, 4, 5]"
      ]
     },
     "execution_count": 17,
     "metadata": {},
     "output_type": "execute_result"
    }
   ],
   "source": [
    "rdd.collect()"
   ]
  },
  {
   "cell_type": "code",
   "execution_count": 18,
   "id": "337c70b3-218e-4017-9c3a-8eb22476970a",
   "metadata": {},
   "outputs": [],
   "source": [
    "data = [('Alice', 25), ('Bob', 30), ('Charlie', 35), ('Alice', 40)]"
   ]
  },
  {
   "cell_type": "code",
   "execution_count": 19,
   "id": "f8a7a2a6-9aba-48a3-b47f-3243f06f53a0",
   "metadata": {},
   "outputs": [],
   "source": [
    "rdd = spark.sparkContext.parallelize(data)"
   ]
  },
  {
   "cell_type": "code",
   "execution_count": 20,
   "id": "c2600662-564d-4b70-93ad-cd60fb2a56cd",
   "metadata": {},
   "outputs": [
    {
     "name": "stdout",
     "output_type": "stream",
     "text": [
      "All elements of the rdd:  [('Alice', 25), ('Bob', 30), ('Charlie', 35), ('Alice', 40)]\n"
     ]
    }
   ],
   "source": [
    "print(\"All elements of the rdd: \", rdd.collect())"
   ]
  },
  {
   "cell_type": "code",
   "execution_count": 30,
   "id": "76f71f76-6fe6-4ba5-b7e2-28f20a9aafad",
   "metadata": {},
   "outputs": [],
   "source": [
    "# RDD OPERATIONS: ACTIONS"
   ]
  },
  {
   "cell_type": "code",
   "execution_count": 21,
   "id": "32e8bd88-4a46-4062-96af-12ef1d5a59d6",
   "metadata": {},
   "outputs": [
    {
     "name": "stderr",
     "output_type": "stream",
     "text": [
      "[Stage 2:>                                                        (0 + 12) / 12]\r"
     ]
    },
    {
     "name": "stdout",
     "output_type": "stream",
     "text": [
      "The total number of elements in rdd:  4\n"
     ]
    },
    {
     "name": "stderr",
     "output_type": "stream",
     "text": [
      "                                                                                \r"
     ]
    }
   ],
   "source": [
    "count = rdd.count()\n",
    "print(\"The total number of elements in rdd: \", count)"
   ]
  },
  {
   "cell_type": "code",
   "execution_count": 41,
   "id": "f60167e3-a17f-44bc-af37-ef41e8764fe2",
   "metadata": {},
   "outputs": [
    {
     "data": {
      "text/html": [
       "\n",
       "        <div>\n",
       "            <p><b>SparkContext</b></p>\n",
       "\n",
       "            <p><a href=\"http://pipe.lan:4040\">Spark UI</a></p>\n",
       "\n",
       "            <dl>\n",
       "              <dt>Version</dt>\n",
       "                <dd><code>v3.5.3</code></dd>\n",
       "              <dt>Master</dt>\n",
       "                <dd><code>local[*]</code></dd>\n",
       "              <dt>AppName</dt>\n",
       "                <dd><code>RDD-Demo</code></dd>\n",
       "            </dl>\n",
       "        </div>\n",
       "        "
      ],
      "text/plain": [
       "<SparkContext master=local[*] appName=RDD-Demo>"
      ]
     },
     "execution_count": 41,
     "metadata": {},
     "output_type": "execute_result"
    }
   ],
   "source": [
    "sc = spark.sparkContext\n",
    "sc"
   ]
  },
  {
   "cell_type": "code",
   "execution_count": 42,
   "id": "39da1064-0dbb-4a4e-ba01-ecd0e63205ec",
   "metadata": {},
   "outputs": [
    {
     "data": {
      "text/html": [
       "\n",
       "            <div>\n",
       "                <p><b>SparkSession - in-memory</b></p>\n",
       "                \n",
       "        <div>\n",
       "            <p><b>SparkContext</b></p>\n",
       "\n",
       "            <p><a href=\"http://pipe.lan:4040\">Spark UI</a></p>\n",
       "\n",
       "            <dl>\n",
       "              <dt>Version</dt>\n",
       "                <dd><code>v3.5.3</code></dd>\n",
       "              <dt>Master</dt>\n",
       "                <dd><code>local[*]</code></dd>\n",
       "              <dt>AppName</dt>\n",
       "                <dd><code>RDD-Demo</code></dd>\n",
       "            </dl>\n",
       "        </div>\n",
       "        \n",
       "            </div>\n",
       "        "
      ],
      "text/plain": [
       "<pyspark.sql.session.SparkSession at 0x11c7c2090>"
      ]
     },
     "execution_count": 42,
     "metadata": {},
     "output_type": "execute_result"
    }
   ],
   "source": [
    "spark"
   ]
  },
  {
   "cell_type": "code",
   "execution_count": 27,
   "id": "541d91c8-8f20-4ccd-a154-537684ec4ace",
   "metadata": {},
   "outputs": [
    {
     "name": "stdout",
     "output_type": "stream",
     "text": [
      "The first element of the rdd:  ('Alice', 25)\n"
     ]
    }
   ],
   "source": [
    "first_element = rdd.first()\n",
    "print(\"The first element of the rdd: \", first_element)"
   ]
  },
  {
   "cell_type": "code",
   "execution_count": 28,
   "id": "2bb58d6f-5928-4c74-ac04-b39495a1b4b9",
   "metadata": {},
   "outputs": [
    {
     "name": "stdout",
     "output_type": "stream",
     "text": [
      "The first two elements of the rdd:  [('Alice', 25), ('Bob', 30)]\n"
     ]
    }
   ],
   "source": [
    "taken_elements = rdd.take(2)\n",
    "print(\"The first two elements of the rdd: \", taken_elements)"
   ]
  },
  {
   "cell_type": "code",
   "execution_count": 29,
   "id": "a168ff67-9d38-4f21-992b-9921091fb9a9",
   "metadata": {},
   "outputs": [
    {
     "name": "stderr",
     "output_type": "stream",
     "text": [
      "('Alice', 25)\n",
      "('Bob', 30)\n",
      "('Charlie', 35)\n",
      "('Alice', 40)\n"
     ]
    }
   ],
   "source": [
    "rdd.foreach(lambda x: print(x))"
   ]
  },
  {
   "cell_type": "code",
   "execution_count": 31,
   "id": "e8a1a70e-4b72-44ab-879b-1f9d90b28725",
   "metadata": {},
   "outputs": [],
   "source": [
    "# RDD OPERATIONS: TRANSFORMATIONS"
   ]
  },
  {
   "cell_type": "code",
   "execution_count": 33,
   "id": "df3b73f2-b43a-492b-8e62-662b384caf56",
   "metadata": {},
   "outputs": [
    {
     "name": "stdout",
     "output_type": "stream",
     "text": [
      "rdd with uppercase name:  [('ALICE', 25), ('BOB', 30), ('CHARLIE', 35), ('ALICE', 40)]\n"
     ]
    }
   ],
   "source": [
    "mapped_rdd = rdd.map(lambda x: (x[0].upper(), x[1]))\n",
    "result = mapped_rdd.collect()\n",
    "print(\"rdd with uppercase name: \", result)"
   ]
  },
  {
   "cell_type": "code",
   "execution_count": 34,
   "id": "842cf369-04dd-4d68-a682-f3a46d6069a9",
   "metadata": {},
   "outputs": [
    {
     "data": {
      "text/plain": [
       "[('Charlie', 35), ('Alice', 40)]"
      ]
     },
     "execution_count": 34,
     "metadata": {},
     "output_type": "execute_result"
    }
   ],
   "source": [
    "filtered_rdd = rdd.filter(lambda x: x[1] > 30)\n",
    "filtered_rdd.collect()"
   ]
  },
  {
   "cell_type": "code",
   "execution_count": 35,
   "id": "e58d056a-60b7-4cff-a5da-41334053b4b8",
   "metadata": {},
   "outputs": [
    {
     "name": "stderr",
     "output_type": "stream",
     "text": [
      "                                                                                \r"
     ]
    },
    {
     "data": {
      "text/plain": [
       "[('Alice', 65), ('Bob', 30), ('Charlie', 35)]"
      ]
     },
     "execution_count": 35,
     "metadata": {},
     "output_type": "execute_result"
    }
   ],
   "source": [
    "reduced_rdd = rdd.reduceByKey(lambda x, y: x + y)\n",
    "reduced_rdd.collect()"
   ]
  },
  {
   "cell_type": "code",
   "execution_count": 36,
   "id": "8153bb1a-ac01-4293-a967-dc0e7b7ca2db",
   "metadata": {},
   "outputs": [
    {
     "data": {
      "text/plain": [
       "[('Alice', 40), ('Charlie', 35), ('Bob', 30), ('Alice', 25)]"
      ]
     },
     "execution_count": 36,
     "metadata": {},
     "output_type": "execute_result"
    }
   ],
   "source": [
    "sorted_rdd = rdd.sortBy(lambda x: x[1], ascending = False)\n",
    "sorted_rdd.collect()"
   ]
  },
  {
   "cell_type": "code",
   "execution_count": 37,
   "id": "fe9cc058-062c-497b-8481-0beb9c003a76",
   "metadata": {},
   "outputs": [],
   "source": [
    "# READ/WRITE RDDs FROM/TO TEXT FILE"
   ]
  },
  {
   "cell_type": "code",
   "execution_count": 38,
   "id": "c634f930-b459-42c0-8b23-961a71635180",
   "metadata": {},
   "outputs": [],
   "source": [
    "rdd.saveAsTextFile(\"output.txt\")"
   ]
  },
  {
   "cell_type": "code",
   "execution_count": 43,
   "id": "4ec9d008-dd10-43a1-a150-c8a4d527896a",
   "metadata": {},
   "outputs": [
    {
     "data": {
      "text/plain": [
       "[\"('Alice', 40)\", \"('Bob', 30)\", \"('Alice', 25)\", \"('Charlie', 35)\"]"
      ]
     },
     "execution_count": 43,
     "metadata": {},
     "output_type": "execute_result"
    }
   ],
   "source": [
    "rdd_text = spark.sparkContext.textFile('output.txt')\n",
    "rdd_text.collect()"
   ]
  },
  {
   "cell_type": "code",
   "execution_count": 44,
   "id": "2b1d22bb-dc8b-43e1-be52-fb80828dc865",
   "metadata": {},
   "outputs": [],
   "source": [
    "spark.stop()"
   ]
  },
  {
   "cell_type": "code",
   "execution_count": 45,
   "id": "27e0c6cf-1a78-4b75-9bad-f56b67a22443",
   "metadata": {},
   "outputs": [],
   "source": [
    "# SPARK DATAFRAMES"
   ]
  },
  {
   "cell_type": "code",
   "execution_count": 59,
   "id": "a592f379-916c-48de-b2ab-7ff94418064a",
   "metadata": {},
   "outputs": [],
   "source": [
    "from pyspark.sql import SparkSession\n",
    "from pyspark.sql.functions import desc"
   ]
  },
  {
   "cell_type": "code",
   "execution_count": 60,
   "id": "3c6d3c32-4595-4d81-99f9-b115271266fb",
   "metadata": {},
   "outputs": [],
   "source": [
    "spark = SparkSession.builder.appName(\"DataFrame-Demo\").getOrCreate()"
   ]
  },
  {
   "cell_type": "code",
   "execution_count": 61,
   "id": "a2f901a6-15f8-4db7-b891-96641a54d8a7",
   "metadata": {},
   "outputs": [],
   "source": [
    "# USING RDDs"
   ]
  },
  {
   "cell_type": "code",
   "execution_count": 62,
   "id": "23c49eb3-27f7-4d50-b7bb-c2307da05476",
   "metadata": {},
   "outputs": [],
   "source": [
    "rdd = spark.sparkContext.textFile(\"data.txt\")"
   ]
  },
  {
   "cell_type": "code",
   "execution_count": 63,
   "id": "8e8f5902-3d7e-4f8f-89ca-f01cbb53457a",
   "metadata": {},
   "outputs": [],
   "source": [
    "result_rdd = rdd.flatMap(lambda line: line.split(\" \")) \\\n",
    " .map(lambda word: (word, 1))\\\n",
    " .reduceByKey(lambda a, b: a + b)\\\n",
    " .sortBy(lambda x: x[1], ascending = False)"
   ]
  },
  {
   "cell_type": "code",
   "execution_count": 64,
   "id": "3b26a49e-3ffd-4ca7-9519-4f381d88f5d9",
   "metadata": {},
   "outputs": [
    {
     "data": {
      "text/plain": [
       "[('the', 12)]"
      ]
     },
     "execution_count": 64,
     "metadata": {},
     "output_type": "execute_result"
    }
   ],
   "source": [
    "result_rdd.take(1)"
   ]
  },
  {
   "cell_type": "code",
   "execution_count": 65,
   "id": "8766edfc-55ab-4744-b545-c08ffe9da202",
   "metadata": {},
   "outputs": [
    {
     "data": {
      "text/plain": [
       "data.txt MapPartitionsRDD[118] at textFile at NativeMethodAccessorImpl.java:0"
      ]
     },
     "execution_count": 65,
     "metadata": {},
     "output_type": "execute_result"
    }
   ],
   "source": [
    "rdd"
   ]
  },
  {
   "cell_type": "code",
   "execution_count": 66,
   "id": "1aa6c4fb-9b44-4335-8480-16dd9c33e343",
   "metadata": {},
   "outputs": [
    {
     "data": {
      "text/plain": [
       "[('the', 12),\n",
       " ('of', 7),\n",
       " ('a', 7),\n",
       " ('distributed', 5),\n",
       " ('in', 5),\n",
       " ('Spark', 4),\n",
       " ('as', 3),\n",
       " ('is', 3),\n",
       " ('API', 3),\n",
       " ('on', 3),\n",
       " ('Dataset', 3),\n",
       " ('RDD', 3),\n",
       " ('and', 2),\n",
       " ('results', 2),\n",
       " ('its', 2),\n",
       " ('data', 2),\n",
       " ('cluster', 2),\n",
       " ('that', 2),\n",
       " ('The', 2),\n",
       " ('was', 2),\n",
       " ('API.', 2),\n",
       " ('RDDs', 2),\n",
       " ('MapReduce', 2),\n",
       " ('programs', 2),\n",
       " ('function', 2),\n",
       " ('resilient', 1),\n",
       " ('dataset', 1),\n",
       " ('read-only', 1),\n",
       " ('multiset', 1),\n",
       " ('machines,', 1),\n",
       " ('Dataframe', 1),\n",
       " ('released', 1),\n",
       " ('an', 1),\n",
       " ('by', 1),\n",
       " ('1.x,', 1),\n",
       " ('primary', 1),\n",
       " ('interface', 1),\n",
       " ('(API),', 1),\n",
       " ('but', 1),\n",
       " ('use', 1),\n",
       " ('encouraged', 1),\n",
       " ('even', 1),\n",
       " ('though', 1),\n",
       " ('deprecated.', 1),\n",
       " ('technology', 1),\n",
       " ('still', 1),\n",
       " ('', 1),\n",
       " ('were', 1),\n",
       " ('response', 1),\n",
       " ('to', 1),\n",
       " ('limitations', 1),\n",
       " ('computing', 1),\n",
       " ('paradigm,', 1),\n",
       " ('forces', 1),\n",
       " ('structure', 1),\n",
       " ('programs:', 1),\n",
       " ('read', 1),\n",
       " ('input', 1),\n",
       " ('from', 1),\n",
       " ('disk,', 1),\n",
       " ('map', 1),\n",
       " ('data,', 1),\n",
       " ('map,', 1),\n",
       " ('disk.', 1),\n",
       " (\"Spark's\", 1),\n",
       " ('working', 1),\n",
       " ('set', 1),\n",
       " ('for', 1),\n",
       " ('form', 1),\n",
       " ('shared', 1),\n",
       " ('Apache', 1),\n",
       " ('has', 1),\n",
       " ('architectural', 1),\n",
       " ('foundation', 1),\n",
       " ('(RDD),', 1),\n",
       " ('items', 1),\n",
       " ('over', 1),\n",
       " ('maintained', 1),\n",
       " ('fault-tolerant', 1),\n",
       " ('way.', 1),\n",
       " ('abstraction', 1),\n",
       " ('top', 1),\n",
       " ('RDD,', 1),\n",
       " ('followed', 1),\n",
       " ('In', 1),\n",
       " ('application', 1),\n",
       " ('programming', 1),\n",
       " ('2.x', 1),\n",
       " ('not', 1),\n",
       " ('underlies', 1),\n",
       " ('developed', 1),\n",
       " ('2012', 1),\n",
       " ('which', 1),\n",
       " ('particular', 1),\n",
       " ('linear', 1),\n",
       " ('dataflow', 1),\n",
       " ('across', 1),\n",
       " ('reduce', 1),\n",
       " ('store', 1),\n",
       " ('reduction', 1),\n",
       " ('offers', 1),\n",
       " ('(deliberately)', 1),\n",
       " ('restricted', 1),\n",
       " ('memory.', 1)]"
      ]
     },
     "execution_count": 66,
     "metadata": {},
     "output_type": "execute_result"
    }
   ],
   "source": [
    "result_rdd.collect()"
   ]
  },
  {
   "cell_type": "code",
   "execution_count": 67,
   "id": "05e522c8-618d-408e-bb88-c2dcff4314d4",
   "metadata": {},
   "outputs": [],
   "source": [
    "# USING DATAFRAMES"
   ]
  },
  {
   "cell_type": "code",
   "execution_count": 68,
   "id": "0f8d5367-f5a0-44b9-a92c-4d23cbb5330b",
   "metadata": {},
   "outputs": [],
   "source": [
    "df = spark.read.text(\"data.txt\")"
   ]
  },
  {
   "cell_type": "code",
   "execution_count": 69,
   "id": "f0b4a21f-5e60-4257-86c2-fe3c389c3af6",
   "metadata": {},
   "outputs": [],
   "source": [
    "result_df = df.selectExpr(\"explode(split(value, '')) as word\").groupBy(\"word\").count().orderBy(desc(\"count\"))"
   ]
  },
  {
   "cell_type": "code",
   "execution_count": 70,
   "id": "914af646-09ef-44c0-b041-5e69ff04c64e",
   "metadata": {},
   "outputs": [
    {
     "data": {
      "text/plain": [
       "[Row(word=' ', count=160),\n",
       " Row(word='e', count=84),\n",
       " Row(word='t', count=83),\n",
       " Row(word='a', count=80),\n",
       " Row(word='r', count=61),\n",
       " Row(word='s', count=55),\n",
       " Row(word='i', count=54),\n",
       " Row(word='o', count=47),\n",
       " Row(word='n', count=40),\n",
       " Row(word='d', count=39)]"
      ]
     },
     "execution_count": 70,
     "metadata": {},
     "output_type": "execute_result"
    }
   ],
   "source": [
    "result_df.take(10)"
   ]
  },
  {
   "cell_type": "code",
   "execution_count": 71,
   "id": "0c232b90-d846-4493-bcbd-7f069cdd8ffe",
   "metadata": {},
   "outputs": [],
   "source": [
    "# DATAFRAME CODE IS MORE CONCISE AND CLOSER TO SQL-LIKE SYNTAX."
   ]
  },
  {
   "cell_type": "code",
   "execution_count": 72,
   "id": "7742e927-9404-49c1-8553-07bc8baba3c9",
   "metadata": {},
   "outputs": [],
   "source": [
    "# CONCLUSION: DATAFRAMES ARE USER-FRIENDLY SANDE OPTIMIZED APPROACH FRO STRUCTURED DATA IN APACHE SPARK."
   ]
  },
  {
   "cell_type": "code",
   "execution_count": 103,
   "id": "045b7480-24ac-49dd-90b7-2c9613e292d6",
   "metadata": {},
   "outputs": [],
   "source": [
    "# METHOD 1 TO USE BASH SHELL CLI!!!"
   ]
  },
  {
   "cell_type": "code",
   "execution_count": 106,
   "id": "9179471f-05a1-46d6-b477-f3938e439861",
   "metadata": {},
   "outputs": [
    {
     "name": "stdout",
     "output_type": "stream",
     "text": [
      "id,name,category,quantity,price\n",
      "1,iPhone 12,Electronics,10,899.99\n",
      "2,Nike Air Max 90,Clothing,25,119.99\n",
      "3,KitchenAid Stand Mixer,Home Appliances,5,299.99\n",
      "4,The Great Gatsby,Books,50,12.99\n",
      "5,L'Oreal Paris Mascara,Beauty,100,9.99\n",
      "6,Yoga Mat,Sports,30,29.99\n",
      "7,Samsung 4K Smart TV,Electronics,8,799.99\n",
      "8,Levi's Jeans,Clothing,15,49.99\n",
      "9,Dyson Vacuum Cleaner,Home Appliances,3,399.99\n"
     ]
    }
   ],
   "source": [
    "%%bash \n",
    "head -10 ./products.csv"
   ]
  },
  {
   "cell_type": "code",
   "execution_count": 107,
   "id": "ac638add-6b97-463f-9b35-3220e89584ca",
   "metadata": {},
   "outputs": [
    {
     "name": "stdout",
     "output_type": "stream",
     "text": [
      "id,name,category,quantity,price\n",
      "1,iPhone 12,Electronics,10,899.99\n",
      "2,Nike Air Max 90,Clothing,25,119.99\n",
      "3,KitchenAid Stand Mixer,Home Appliances,5,299.99\n",
      "4,The Great Gatsby,Books,50,12.99\n",
      "5,L'Oreal Paris Mascara,Beauty,100,9.99\n",
      "6,Yoga Mat,Sports,30,29.99\n",
      "7,Samsung 4K Smart TV,Electronics,8,799.99\n",
      "8,Levi's Jeans,Clothing,15,49.99\n",
      "9,Dyson Vacuum Cleaner,Home Appliances,3,399.99\n"
     ]
    }
   ],
   "source": [
    "# METHOD 2 TO USE BASH SHELL CLI!!!\n",
    "! head -10 ./products.csv"
   ]
  },
  {
   "cell_type": "code",
   "execution_count": 108,
   "id": "81fa2281-1500-4cfb-848d-c0450fdfea65",
   "metadata": {},
   "outputs": [],
   "source": [
    "# READ OUR CSV FILE INTO A DATAFRAME"
   ]
  },
  {
   "cell_type": "code",
   "execution_count": 109,
   "id": "c982b2de-96c7-4872-94b9-699f86acdcb7",
   "metadata": {},
   "outputs": [
    {
     "name": "stdout",
     "output_type": "stream",
     "text": [
      "+---+--------------------+---------------+--------+------+\n",
      "| id|                name|       category|quantity| price|\n",
      "+---+--------------------+---------------+--------+------+\n",
      "|  1|           iPhone 12|    Electronics|      10|899.99|\n",
      "|  2|     Nike Air Max 90|       Clothing|      25|119.99|\n",
      "|  3|KitchenAid Stand ...|Home Appliances|       5|299.99|\n",
      "|  4|    The Great Gatsby|          Books|      50| 12.99|\n",
      "|  5|L'Oreal Paris Mas...|         Beauty|     100|  9.99|\n",
      "|  6|            Yoga Mat|         Sports|      30| 29.99|\n",
      "|  7| Samsung 4K Smart TV|    Electronics|       8|799.99|\n",
      "|  8|        Levi's Jeans|       Clothing|      15| 49.99|\n",
      "|  9|Dyson Vacuum Cleaner|Home Appliances|       3|399.99|\n",
      "| 10| Harry Potter Series|          Books|      20| 15.99|\n",
      "| 11|        MAC Lipstick|         Beauty|      75| 16.99|\n",
      "| 12|Adidas Running Shoes|         Sports|      22| 59.99|\n",
      "| 13|       PlayStation 5|    Electronics|      12|499.99|\n",
      "| 14|   Hooded Sweatshirt|       Clothing|      10| 34.99|\n",
      "| 15|        Coffee Maker|Home Appliances|       7| 89.99|\n",
      "| 16|To Kill a Mocking...|          Books|      15|  9.99|\n",
      "| 17|        Skincare Set|         Beauty|      50| 49.99|\n",
      "| 18|           Yoga Ball|         Sports|      18| 19.99|\n",
      "| 19|Sony Noise-Cancel...|    Electronics|       6|299.99|\n",
      "| 20|        Puma T-shirt|       Clothing|      40| 19.99|\n",
      "+---+--------------------+---------------+--------+------+\n",
      "\n"
     ]
    }
   ],
   "source": [
    "# METHOD 1 WHERE SPARK AUTOMATICALLY DEFINES OUR SCHEMA\n",
    "\n",
    "df_csv = spark.read.csv('products.csv', header=True)\n",
    "df_csv.show()"
   ]
  },
  {
   "cell_type": "code",
   "execution_count": 110,
   "id": "03e4e860-ed76-49b0-a01c-7b272b4271d4",
   "metadata": {},
   "outputs": [
    {
     "name": "stdout",
     "output_type": "stream",
     "text": [
      "root\n",
      " |-- id: string (nullable = true)\n",
      " |-- name: string (nullable = true)\n",
      " |-- category: string (nullable = true)\n",
      " |-- quantity: string (nullable = true)\n",
      " |-- price: string (nullable = true)\n",
      "\n"
     ]
    }
   ],
   "source": [
    "df_csv.printSchema()"
   ]
  },
  {
   "cell_type": "code",
   "execution_count": 111,
   "id": "84568c82-26dc-4d6a-b925-f36d9a8e39a1",
   "metadata": {},
   "outputs": [],
   "source": [
    "# READ CSV WITH AN EXPLICIT SCHEMA DEFINITION"
   ]
  },
  {
   "cell_type": "code",
   "execution_count": 114,
   "id": "a91e4e41-8a5f-4f8b-9f78-28ddf0e39d90",
   "metadata": {},
   "outputs": [],
   "source": [
    "from pyspark.sql.types import StructType, StructField, StringType, IntegerType, DoubleType"
   ]
  },
  {
   "cell_type": "code",
   "execution_count": 121,
   "id": "d9f1132c-0a8a-4716-a385-c036f587f70a",
   "metadata": {},
   "outputs": [],
   "source": [
    "# METHOD 2 WHERE WE DEFINE OUR SCHEMA\n",
    "\n",
    "schema = StructType([StructField(name=\"id\", dataType = IntegerType(), nullable = True),\n",
    "                     StructField(name=\"name\", dataType = StringType(), nullable = True),\n",
    "                     StructField(name=\"category\", dataType = StringType(), nullable = True),\n",
    "                     StructField(name=\"quantity\", dataType = IntegerType(), nullable = True),\n",
    "                     StructField(name=\"price\", dataType = DoubleType(), nullable = True)\n",
    "                    ])"
   ]
  },
  {
   "cell_type": "code",
   "execution_count": 122,
   "id": "e0eba188-f4d5-4b69-aaed-1615a5669ab8",
   "metadata": {},
   "outputs": [],
   "source": [
    "df_csv2 = spark.read.csv(\"products.csv\", header=True, schema=schema)"
   ]
  },
  {
   "cell_type": "code",
   "execution_count": 124,
   "id": "ff845571-738d-4eea-bdaf-b48f7f4b9db4",
   "metadata": {},
   "outputs": [
    {
     "name": "stdout",
     "output_type": "stream",
     "text": [
      "+---+--------------------+---------------+--------+------+\n",
      "| id|                name|       category|quantity| price|\n",
      "+---+--------------------+---------------+--------+------+\n",
      "|  1|           iPhone 12|    Electronics|      10|899.99|\n",
      "|  2|     Nike Air Max 90|       Clothing|      25|119.99|\n",
      "|  3|KitchenAid Stand ...|Home Appliances|       5|299.99|\n",
      "|  4|    The Great Gatsby|          Books|      50| 12.99|\n",
      "|  5|L'Oreal Paris Mas...|         Beauty|     100|  9.99|\n",
      "+---+--------------------+---------------+--------+------+\n",
      "only showing top 5 rows\n",
      "\n"
     ]
    }
   ],
   "source": [
    "df_csv2.show(5)"
   ]
  },
  {
   "cell_type": "code",
   "execution_count": 125,
   "id": "3fc5e378-c702-45cb-990b-8305ce0d6622",
   "metadata": {},
   "outputs": [
    {
     "data": {
      "text/plain": [
       "[Row(id=1, name='iPhone 12', category='Electronics', quantity=10, price=899.99),\n",
       " Row(id=2, name='Nike Air Max 90', category='Clothing', quantity=25, price=119.99),\n",
       " Row(id=3, name='KitchenAid Stand Mixer', category='Home Appliances', quantity=5, price=299.99),\n",
       " Row(id=4, name='The Great Gatsby', category='Books', quantity=50, price=12.99),\n",
       " Row(id=5, name=\"L'Oreal Paris Mascara\", category='Beauty', quantity=100, price=9.99)]"
      ]
     },
     "execution_count": 125,
     "metadata": {},
     "output_type": "execute_result"
    }
   ],
   "source": [
    "df_csv2.head(5)"
   ]
  },
  {
   "cell_type": "code",
   "execution_count": 127,
   "id": "befdf606-f73c-41f4-8b01-1c30bfeed497",
   "metadata": {},
   "outputs": [
    {
     "name": "stdout",
     "output_type": "stream",
     "text": [
      "root\n",
      " |-- id: integer (nullable = true)\n",
      " |-- name: string (nullable = true)\n",
      " |-- category: string (nullable = true)\n",
      " |-- quantity: integer (nullable = true)\n",
      " |-- price: double (nullable = true)\n",
      "\n"
     ]
    }
   ],
   "source": [
    "df_csv2.printSchema()"
   ]
  },
  {
   "cell_type": "code",
   "execution_count": 128,
   "id": "5d93b1aa-3853-49cd-978a-4e2e8c66bf00",
   "metadata": {},
   "outputs": [
    {
     "name": "stdout",
     "output_type": "stream",
     "text": [
      "+---+--------------------+---------------+--------+------+\n",
      "| id|                name|       category|quantity| price|\n",
      "+---+--------------------+---------------+--------+------+\n",
      "|  1|           iPhone 12|    Electronics|      10|899.99|\n",
      "|  2|     Nike Air Max 90|       Clothing|      25|119.99|\n",
      "|  3|KitchenAid Stand ...|Home Appliances|       5|299.99|\n",
      "|  4|    The Great Gatsby|          Books|      50| 12.99|\n",
      "|  5|L'Oreal Paris Mas...|         Beauty|     100|  9.99|\n",
      "|  6|            Yoga Mat|         Sports|      30| 29.99|\n",
      "|  7| Samsung 4K Smart TV|    Electronics|       8|799.99|\n",
      "|  8|        Levi's Jeans|       Clothing|      15| 49.99|\n",
      "|  9|Dyson Vacuum Cleaner|Home Appliances|       3|399.99|\n",
      "| 10| Harry Potter Series|          Books|      20| 15.99|\n",
      "| 11|        MAC Lipstick|         Beauty|      75| 16.99|\n",
      "| 12|Adidas Running Shoes|         Sports|      22| 59.99|\n",
      "| 13|       PlayStation 5|    Electronics|      12|499.99|\n",
      "| 14|   Hooded Sweatshirt|       Clothing|      10| 34.99|\n",
      "| 15|        Coffee Maker|Home Appliances|       7| 89.99|\n",
      "| 16|To Kill a Mocking...|          Books|      15|  9.99|\n",
      "| 17|        Skincare Set|         Beauty|      50| 49.99|\n",
      "| 18|           Yoga Ball|         Sports|      18| 19.99|\n",
      "| 19|Sony Noise-Cancel...|    Electronics|       6|299.99|\n",
      "| 20|        Puma T-shirt|       Clothing|      40| 19.99|\n",
      "+---+--------------------+---------------+--------+------+\n",
      "\n"
     ]
    }
   ],
   "source": [
    "df_csv3 = spark.read.csv(\"products.csv\", header=True, inferSchema=True)\n",
    "df_csv3.show()"
   ]
  },
  {
   "cell_type": "code",
   "execution_count": 129,
   "id": "d99cae0f-4b26-424b-a8b1-9915243e18a6",
   "metadata": {},
   "outputs": [
    {
     "name": "stdout",
     "output_type": "stream",
     "text": [
      "root\n",
      " |-- id: integer (nullable = true)\n",
      " |-- name: string (nullable = true)\n",
      " |-- category: string (nullable = true)\n",
      " |-- quantity: integer (nullable = true)\n",
      " |-- price: double (nullable = true)\n",
      "\n"
     ]
    }
   ],
   "source": [
    "df_csv3.printSchema()"
   ]
  },
  {
   "cell_type": "code",
   "execution_count": 130,
   "id": "13c57add-f04b-48e2-9678-d68946924147",
   "metadata": {},
   "outputs": [],
   "source": [
    "# READING JSON FILES INTO DATAFRAME"
   ]
  },
  {
   "cell_type": "code",
   "execution_count": 134,
   "id": "494ec771-8c18-4744-8286-59f02ba6f67a",
   "metadata": {},
   "outputs": [],
   "source": [
    "# READING SINGLE FILE JSON FILES\n",
    "\n",
    "# EACH ROW IS A JSON RECORD, RECORDS ARE SEPARATED BY A NEW LINE"
   ]
  },
  {
   "cell_type": "code",
   "execution_count": 135,
   "id": "66e3f998-1fa3-4fba-ac87-560315ceda30",
   "metadata": {},
   "outputs": [
    {
     "name": "stdout",
     "output_type": "stream",
     "text": [
      "{\"id\":1,\"name\":\"iPhone 12\",\"category\":\"Electronics\",\"quantity\":10,\"price\":899.99}\n",
      "{\"id\":2,\"name\":\"Nike Air Max 90\",\"category\":\"Clothing\",\"quantity\":25,\"price\":119.99}\n",
      "{\"id\":3,\"name\":\"KitchenAid Stand Mixer\",\"category\":\"Home Appliances\",\"quantity\":5,\"price\":299.99}\n",
      "{\"id\":4,\"name\":\"The Great Gatsby\",\"category\":\"Books\",\"quantity\":50,\"price\":12.99}\n",
      "{\"id\":5,\"name\":\"L'Oreal Paris Mascara\",\"category\":\"Beauty\",\"quantity\":100,\"price\":9.99}\n",
      "{\"id\":6,\"name\":\"Yoga Mat\",\"category\":\"Sports\",\"quantity\":30,\"price\":29.99}\n",
      "{\"id\":7,\"name\":\"Samsung 4K Smart TV\",\"category\":\"Electronics\",\"quantity\":8,\"price\":799.99}\n",
      "{\"id\":8,\"name\":\"Levi's Jeans\",\"category\":\"Clothing\",\"quantity\":15,\"price\":49.99}\n",
      "{\"id\":9,\"name\":\"Dyson Vacuum Cleaner\",\"category\":\"Home Appliances\",\"quantity\":3,\"price\":399.99}\n",
      "{\"id\":10,\"name\":\"Harry Potter Series\",\"category\":\"Books\",\"quantity\":20,\"price\":15.99}\n"
     ]
    }
   ],
   "source": [
    "%%bash\n",
    "head -10 products_singleline.json"
   ]
  },
  {
   "cell_type": "code",
   "execution_count": 136,
   "id": "f1b1e6bf-82e8-45c7-be8a-8dc986071c1d",
   "metadata": {},
   "outputs": [
    {
     "name": "stdout",
     "output_type": "stream",
     "text": [
      "+---------------+---+--------------------+------+--------+\n",
      "|       category| id|                name| price|quantity|\n",
      "+---------------+---+--------------------+------+--------+\n",
      "|    Electronics|  1|           iPhone 12|899.99|      10|\n",
      "|       Clothing|  2|     Nike Air Max 90|119.99|      25|\n",
      "|Home Appliances|  3|KitchenAid Stand ...|299.99|       5|\n",
      "|          Books|  4|    The Great Gatsby| 12.99|      50|\n",
      "|         Beauty|  5|L'Oreal Paris Mas...|  9.99|     100|\n",
      "|         Sports|  6|            Yoga Mat| 29.99|      30|\n",
      "|    Electronics|  7| Samsung 4K Smart TV|799.99|       8|\n",
      "|       Clothing|  8|        Levi's Jeans| 49.99|      15|\n",
      "|Home Appliances|  9|Dyson Vacuum Cleaner|399.99|       3|\n",
      "|          Books| 10| Harry Potter Series| 15.99|      20|\n",
      "|         Beauty| 11|        MAC Lipstick| 16.99|      75|\n",
      "|         Sports| 12|Adidas Running Shoes| 59.99|      22|\n",
      "|    Electronics| 13|       PlayStation 5|499.99|      12|\n",
      "|       Clothing| 14|   Hooded Sweatshirt| 34.99|      10|\n",
      "|Home Appliances| 15|        Coffee Maker| 89.99|       7|\n",
      "|          Books| 16|To Kill a Mocking...|  9.99|      15|\n",
      "|         Beauty| 17|        Skincare Set| 49.99|      50|\n",
      "|         Sports| 18|           Yoga Ball| 19.99|      18|\n",
      "|    Electronics| 19|Sony Noise-Cancel...|299.99|       6|\n",
      "|       Clothing| 20|        Puma T-shirt| 19.99|      40|\n",
      "+---------------+---+--------------------+------+--------+\n",
      "\n"
     ]
    }
   ],
   "source": [
    "df_json = spark.read.json('products_singleline.json')\n",
    "df_json.show()"
   ]
  },
  {
   "cell_type": "code",
   "execution_count": 137,
   "id": "3326963c-045e-455e-914b-132e6020918e",
   "metadata": {},
   "outputs": [
    {
     "name": "stdout",
     "output_type": "stream",
     "text": [
      "root\n",
      " |-- category: string (nullable = true)\n",
      " |-- id: long (nullable = true)\n",
      " |-- name: string (nullable = true)\n",
      " |-- price: double (nullable = true)\n",
      " |-- quantity: long (nullable = true)\n",
      "\n"
     ]
    }
   ],
   "source": [
    "df_json.printSchema()"
   ]
  },
  {
   "cell_type": "code",
   "execution_count": 138,
   "id": "f5e615e5-67e4-4e79-a2a8-cea14445f1cd",
   "metadata": {},
   "outputs": [],
   "source": [
    "# READ MULTILINES FOR JSON FILES"
   ]
  },
  {
   "cell_type": "code",
   "execution_count": 153,
   "id": "ac38199b-03ad-4595-a305-76d8c1176d61",
   "metadata": {},
   "outputs": [
    {
     "name": "stdout",
     "output_type": "stream",
     "text": [
      "[\n",
      "  {\n",
      "    \"id\": 1,\n",
      "    \"name\": \"iPhone 12\",\n",
      "    \"category\": \"Electronics\",\n",
      "    \"quantity\": 10,\n",
      "    \"price\": 899.99\n",
      "  },\n",
      "  {\n",
      "    \"id\": 2,\n",
      "    \"name\": \"Nike Air Max 90\",\n",
      "    \"category\": \"Clothing\",\n",
      "    \"quantity\": 25,\n",
      "    \"price\": 119.99\n",
      "  },\n",
      "  {\n",
      "    \"id\": 3,\n",
      "    \"name\": \"KitchenAid Stand Mixer\",\n",
      "    \"category\": \"Home Appliances\",\n",
      "    \"quantity\": 5,\n",
      "    \"price\": 299.99\n",
      "  },\n",
      "  {\n",
      "    \"id\": 4,\n",
      "    \"name\": \"The Great Gatsby\",\n",
      "    \"category\": \"Books\",\n",
      "    \"quantity\": 50,\n",
      "    \"price\": 12.99\n",
      "  },\n",
      "  {\n"
     ]
    }
   ],
   "source": [
    "%%bash \n",
    "head -30 ./products_multiline.json"
   ]
  },
  {
   "cell_type": "code",
   "execution_count": 155,
   "id": "ffc90045-a70d-409f-8e24-6be924e16390",
   "metadata": {},
   "outputs": [
    {
     "name": "stdout",
     "output_type": "stream",
     "text": [
      "+---------------+---+--------------------+------+--------+\n",
      "|       category| id|                name| price|quantity|\n",
      "+---------------+---+--------------------+------+--------+\n",
      "|    Electronics|  1|           iPhone 12|899.99|      10|\n",
      "|       Clothing|  2|     Nike Air Max 90|119.99|      25|\n",
      "|Home Appliances|  3|KitchenAid Stand ...|299.99|       5|\n",
      "|          Books|  4|    The Great Gatsby| 12.99|      50|\n",
      "|         Beauty|  5|L'Oreal Paris Mas...|  9.99|     100|\n",
      "|         Sports|  6|            Yoga Mat| 29.99|      30|\n",
      "|    Electronics|  7| Samsung 4K Smart TV|799.99|       8|\n",
      "|       Clothing|  8|        Levi's Jeans| 49.99|      15|\n",
      "|Home Appliances|  9|Dyson Vacuum Cleaner|399.99|       3|\n",
      "|          Books| 10| Harry Potter Series| 15.99|      20|\n",
      "|         Beauty| 11|        MAC Lipstick| 16.99|      75|\n",
      "|         Sports| 12|Adidas Running Shoes| 59.99|      22|\n",
      "|    Electronics| 13|       PlayStation 5|499.99|      12|\n",
      "|       Clothing| 14|   Hooded Sweatshirt| 34.99|      10|\n",
      "|Home Appliances| 15|        Coffee Maker| 89.99|       7|\n",
      "|          Books| 16|To Kill a Mocking...|  9.99|      15|\n",
      "|         Beauty| 17|        Skincare Set| 49.99|      50|\n",
      "|         Sports| 18|           Yoga Ball| 19.99|      18|\n",
      "|    Electronics| 19|Sony Noise-Cancel...|299.99|       6|\n",
      "|       Clothing| 20|        Puma T-shirt| 19.99|      40|\n",
      "+---------------+---+--------------------+------+--------+\n",
      "\n"
     ]
    }
   ],
   "source": [
    "df_json2 = spark.read.json(\"products_multiline.json\", multiLine = True)\n",
    "df_json2.show()"
   ]
  },
  {
   "cell_type": "code",
   "execution_count": 156,
   "id": "ac3ae9f0-f1dd-4875-b7d6-233058286ad8",
   "metadata": {},
   "outputs": [
    {
     "name": "stdout",
     "output_type": "stream",
     "text": [
      "root\n",
      " |-- category: string (nullable = true)\n",
      " |-- id: long (nullable = true)\n",
      " |-- name: string (nullable = true)\n",
      " |-- price: double (nullable = true)\n",
      " |-- quantity: long (nullable = true)\n",
      "\n"
     ]
    }
   ],
   "source": [
    "df_json2.printSchema()"
   ]
  },
  {
   "cell_type": "code",
   "execution_count": 157,
   "id": "53b43b9a-7f02-4b79-ab1d-4b1ee27974b8",
   "metadata": {},
   "outputs": [],
   "source": [
    "# READ AND WRITE PARQUET FILES INTO DATAFRAME"
   ]
  },
  {
   "cell_type": "code",
   "execution_count": 158,
   "id": "579dda1d-b6bb-4716-b82a-5e0e3ea42dfa",
   "metadata": {},
   "outputs": [
    {
     "name": "stderr",
     "output_type": "stream",
     "text": [
      "                                                                                \r"
     ]
    }
   ],
   "source": [
    "parquet_file_path = \"./products.parquet\"\n",
    "df_csv3.write.parquet(parquet_file_path)"
   ]
  },
  {
   "cell_type": "code",
   "execution_count": 159,
   "id": "4203ef99-cb0d-4fa9-90cb-72e96a686592",
   "metadata": {},
   "outputs": [],
   "source": [
    "# READ PARQUET FILE INTO DATAFRAME"
   ]
  },
  {
   "cell_type": "code",
   "execution_count": 160,
   "id": "a3d8d395-25d4-4ebe-aa0d-1591f5538528",
   "metadata": {},
   "outputs": [
    {
     "name": "stdout",
     "output_type": "stream",
     "text": [
      "+---+--------------------+---------------+--------+------+\n",
      "| id|                name|       category|quantity| price|\n",
      "+---+--------------------+---------------+--------+------+\n",
      "|  1|           iPhone 12|    Electronics|      10|899.99|\n",
      "|  2|     Nike Air Max 90|       Clothing|      25|119.99|\n",
      "|  3|KitchenAid Stand ...|Home Appliances|       5|299.99|\n",
      "|  4|    The Great Gatsby|          Books|      50| 12.99|\n",
      "|  5|L'Oreal Paris Mas...|         Beauty|     100|  9.99|\n",
      "|  6|            Yoga Mat|         Sports|      30| 29.99|\n",
      "|  7| Samsung 4K Smart TV|    Electronics|       8|799.99|\n",
      "|  8|        Levi's Jeans|       Clothing|      15| 49.99|\n",
      "|  9|Dyson Vacuum Cleaner|Home Appliances|       3|399.99|\n",
      "| 10| Harry Potter Series|          Books|      20| 15.99|\n",
      "| 11|        MAC Lipstick|         Beauty|      75| 16.99|\n",
      "| 12|Adidas Running Shoes|         Sports|      22| 59.99|\n",
      "| 13|       PlayStation 5|    Electronics|      12|499.99|\n",
      "| 14|   Hooded Sweatshirt|       Clothing|      10| 34.99|\n",
      "| 15|        Coffee Maker|Home Appliances|       7| 89.99|\n",
      "| 16|To Kill a Mocking...|          Books|      15|  9.99|\n",
      "| 17|        Skincare Set|         Beauty|      50| 49.99|\n",
      "| 18|           Yoga Ball|         Sports|      18| 19.99|\n",
      "| 19|Sony Noise-Cancel...|    Electronics|       6|299.99|\n",
      "| 20|        Puma T-shirt|       Clothing|      40| 19.99|\n",
      "+---+--------------------+---------------+--------+------+\n",
      "\n"
     ]
    }
   ],
   "source": [
    "df_parquet = spark.read.parquet(parquet_file_path)\n",
    "df_parquet.show()"
   ]
  },
  {
   "cell_type": "code",
   "execution_count": 161,
   "id": "c66c9173-c900-4b1a-baed-0bf46bf48734",
   "metadata": {},
   "outputs": [
    {
     "name": "stdout",
     "output_type": "stream",
     "text": [
      "root\n",
      " |-- id: integer (nullable = true)\n",
      " |-- name: string (nullable = true)\n",
      " |-- category: string (nullable = true)\n",
      " |-- quantity: integer (nullable = true)\n",
      " |-- price: double (nullable = true)\n",
      "\n"
     ]
    }
   ],
   "source": [
    "df_parquet.printSchema()"
   ]
  },
  {
   "cell_type": "code",
   "execution_count": 162,
   "id": "9d4bd518-76e7-495e-8f52-7a6d35912a01",
   "metadata": {},
   "outputs": [],
   "source": [
    "# DATAFRAME OPERATIONS => SELECTM, FILTER, GROUP, AGGREGATE, JOIN, SORT, DROP AND MORE"
   ]
  },
  {
   "cell_type": "code",
   "execution_count": 164,
   "id": "f9b60ae8-c483-42c2-9ad0-b349ab16e4d4",
   "metadata": {},
   "outputs": [
    {
     "name": "stdout",
     "output_type": "stream",
     "text": [
      "id,name,category,quantity,price\n",
      "1,iPhone,Electronics,10,899.99\n",
      "2,Macbook,Electronics,5,1299.99\n",
      "3,iPad,Electronics,15,499.99\n",
      "4,Samsung TV,Electronics,8,799.99\n",
      "5,LG TV,Electronics,10,699.99\n",
      "6,Nike Shoes,Clothing,30,99.99\n",
      "7,Adidas Shoes,Clothing,25,89.99\n",
      "8,Sony Headphones,Electronics,12,149.99\n",
      "9,Beats Headphones,Electronics,20,199.99\n"
     ]
    }
   ],
   "source": [
    "%%bash\n",
    "head -10 stocks.txt"
   ]
  },
  {
   "cell_type": "code",
   "execution_count": 165,
   "id": "3c95b968-78b4-4c75-9e8d-4d3c37a08ede",
   "metadata": {},
   "outputs": [
    {
     "name": "stdout",
     "output_type": "stream",
     "text": [
      "+---+----------------+-----------+--------+-------+\n",
      "| id|            name|   category|quantity|  price|\n",
      "+---+----------------+-----------+--------+-------+\n",
      "|  1|          iPhone|Electronics|      10| 899.99|\n",
      "|  2|         Macbook|Electronics|       5|1299.99|\n",
      "|  3|            iPad|Electronics|      15| 499.99|\n",
      "|  4|      Samsung TV|Electronics|       8| 799.99|\n",
      "|  5|           LG TV|Electronics|      10| 699.99|\n",
      "|  6|      Nike Shoes|   Clothing|      30|  99.99|\n",
      "|  7|    Adidas Shoes|   Clothing|      25|  89.99|\n",
      "|  8| Sony Headphones|Electronics|      12| 149.99|\n",
      "|  9|Beats Headphones|Electronics|      20| 199.99|\n",
      "| 10|    Dining Table|  Furniture|      10| 249.99|\n",
      "+---+----------------+-----------+--------+-------+\n",
      "only showing top 10 rows\n",
      "\n"
     ]
    }
   ],
   "source": [
    "df_text = spark.read.csv(\"stocks.txt\", header=True, inferSchema = True)\n",
    "df_text.show(10)"
   ]
  },
  {
   "cell_type": "code",
   "execution_count": 166,
   "id": "59007dac-e3cf-472f-af18-cca0370cdd19",
   "metadata": {},
   "outputs": [
    {
     "name": "stdout",
     "output_type": "stream",
     "text": [
      "root\n",
      " |-- id: integer (nullable = true)\n",
      " |-- name: string (nullable = true)\n",
      " |-- category: string (nullable = true)\n",
      " |-- quantity: integer (nullable = true)\n",
      " |-- price: double (nullable = true)\n",
      "\n"
     ]
    }
   ],
   "source": [
    "df_text.printSchema()"
   ]
  },
  {
   "cell_type": "code",
   "execution_count": 238,
   "id": "37d4d6a4-4ebd-433a-9f9c-3f9bc8b57ba5",
   "metadata": {},
   "outputs": [
    {
     "data": {
      "text/plain": [
       "pyspark.sql.dataframe.DataFrame"
      ]
     },
     "execution_count": 238,
     "metadata": {},
     "output_type": "execute_result"
    }
   ],
   "source": [
    "type(df_text)"
   ]
  },
  {
   "cell_type": "code",
   "execution_count": 167,
   "id": "d3a37e86-a0d5-407e-b0d3-8fa07ed720bf",
   "metadata": {},
   "outputs": [],
   "source": [
    "# SELECT SPECIFIC COLUMNS"
   ]
  },
  {
   "cell_type": "code",
   "execution_count": 168,
   "id": "4565fb28-f727-4259-b92d-bd1639300bfe",
   "metadata": {},
   "outputs": [
    {
     "name": "stdout",
     "output_type": "stream",
     "text": [
      "DataFrame[id: int, name: string, price: double]\n"
     ]
    }
   ],
   "source": [
    "selected_columns = df_text.select(\"id\", \"name\", \"price\") # OR df_text.select([\"id\", \"name\", \"price\"])\n",
    "print(selected_columns)"
   ]
  },
  {
   "cell_type": "code",
   "execution_count": 169,
   "id": "55a56e23-9ce4-4bf3-b760-cb0b4435ca81",
   "metadata": {},
   "outputs": [
    {
     "name": "stdout",
     "output_type": "stream",
     "text": [
      "+---+----------------+-------+\n",
      "| id|            name|  price|\n",
      "+---+----------------+-------+\n",
      "|  1|          iPhone| 899.99|\n",
      "|  2|         Macbook|1299.99|\n",
      "|  3|            iPad| 499.99|\n",
      "|  4|      Samsung TV| 799.99|\n",
      "|  5|           LG TV| 699.99|\n",
      "|  6|      Nike Shoes|  99.99|\n",
      "|  7|    Adidas Shoes|  89.99|\n",
      "|  8| Sony Headphones| 149.99|\n",
      "|  9|Beats Headphones| 199.99|\n",
      "| 10|    Dining Table| 249.99|\n",
      "+---+----------------+-------+\n",
      "only showing top 10 rows\n",
      "\n"
     ]
    }
   ],
   "source": [
    "selected_columns.show(10)"
   ]
  },
  {
   "cell_type": "code",
   "execution_count": 170,
   "id": "d139279f-6743-4e0b-bd94-975c57094b28",
   "metadata": {},
   "outputs": [],
   "source": [
    "# FILTER: APPLY COINDITIONS TO FILTER ROWS"
   ]
  },
  {
   "cell_type": "code",
   "execution_count": 172,
   "id": "1e7bd43a-443b-4988-ba20-471e232e76fe",
   "metadata": {},
   "outputs": [
    {
     "name": "stdout",
     "output_type": "stream",
     "text": [
      "+---+--------------+-----------+--------+-----+\n",
      "| id|          name|   category|quantity|price|\n",
      "+---+--------------+-----------+--------+-----+\n",
      "|  6|    Nike Shoes|   Clothing|      30|99.99|\n",
      "|  7|  Adidas Shoes|   Clothing|      25|89.99|\n",
      "| 12|        Apples|       Food|     100|  0.5|\n",
      "| 13|       Bananas|       Food|     150| 0.25|\n",
      "| 14|       Oranges|       Food|     120| 0.75|\n",
      "| 15|Chicken Breast|       Food|      50| 3.99|\n",
      "| 16| Salmon Fillet|       Food|      30| 5.99|\n",
      "| 24|    Laptop Bag|Accessories|      25|29.99|\n",
      "| 25|      Backpack|Accessories|      30|24.99|\n",
      "| 28|         Jeans|   Clothing|      30|59.99|\n",
      "| 29|       T-shirt|   Clothing|      50|14.99|\n",
      "| 30|      Sneakers|   Clothing|      40|79.99|\n",
      "+---+--------------+-----------+--------+-----+\n",
      "\n"
     ]
    }
   ],
   "source": [
    "filtered_data = df_text.filter(df_text.quantity > 20)\n",
    "filtered_data.show()"
   ]
  },
  {
   "cell_type": "code",
   "execution_count": 173,
   "id": "d47459e4-28b3-4ab0-a491-bf941b59665f",
   "metadata": {},
   "outputs": [
    {
     "data": {
      "text/plain": [
       "12"
      ]
     },
     "execution_count": 173,
     "metadata": {},
     "output_type": "execute_result"
    }
   ],
   "source": [
    "filtered_data.count()"
   ]
  },
  {
   "cell_type": "code",
   "execution_count": 179,
   "id": "904ab7ed-344c-4d59-8404-89e3bdf0fe5e",
   "metadata": {},
   "outputs": [
    {
     "name": "stdout",
     "output_type": "stream",
     "text": [
      "+-------+-----------------+------------+-----------+------------------+------------------+\n",
      "|summary|               id|        name|   category|          quantity|             price|\n",
      "+-------+-----------------+------------+-----------+------------------+------------------+\n",
      "|  count|               12|          12|         12|                12|                12|\n",
      "|   mean|            18.25|        NULL|       NULL|56.666666666666664| 34.28416666666667|\n",
      "| stddev|8.550651224534676|        NULL|       NULL|42.444259346997114|37.887185278578464|\n",
      "|    min|                6|Adidas Shoes|Accessories|                25|              0.25|\n",
      "|    max|               30|     T-shirt|       Food|               150|             99.99|\n",
      "+-------+-----------------+------------+-----------+------------------+------------------+\n",
      "\n"
     ]
    }
   ],
   "source": [
    "filtered_data.describe().show()"
   ]
  },
  {
   "cell_type": "code",
   "execution_count": 181,
   "id": "ac768956-9a97-4213-bdc4-c444b3d8efa8",
   "metadata": {},
   "outputs": [],
   "source": [
    "# GROUP BY AND AGGREGATIONS: PERFORM FUNCTIONS LIKE SUM, AVERAGE, ETC. ON GROUPED DATA"
   ]
  },
  {
   "cell_type": "code",
   "execution_count": 182,
   "id": "0f9f328a-9688-4217-8b0c-8951f39a4eda",
   "metadata": {},
   "outputs": [
    {
     "name": "stdout",
     "output_type": "stream",
     "text": [
      "DataFrame[category: string, sum(quantity): bigint, avg(price): double]\n"
     ]
    }
   ],
   "source": [
    "grouped_data = df_text.groupBy(\"category\").agg({\"quantity\":\"sum\", \"price\": \"avg\"})\n",
    "print(grouped_data)"
   ]
  },
  {
   "cell_type": "code",
   "execution_count": 183,
   "id": "d41f46c5-b755-4cb0-8c03-bf652856f44d",
   "metadata": {},
   "outputs": [
    {
     "name": "stdout",
     "output_type": "stream",
     "text": [
      "+-----------+-------------+------------------+\n",
      "|   category|sum(quantity)|        avg(price)|\n",
      "+-----------+-------------+------------------+\n",
      "|       Food|          450|2.2960000000000003|\n",
      "|     Sports|           35|             34.99|\n",
      "|Electronics|           98| 586.6566666666665|\n",
      "|   Clothing|          200|  99.2757142857143|\n",
      "|  Furniture|           41|            141.99|\n",
      "|Accessories|           55|             27.49|\n",
      "+-----------+-------------+------------------+\n",
      "\n"
     ]
    }
   ],
   "source": [
    "grouped_data.show()"
   ]
  },
  {
   "cell_type": "code",
   "execution_count": 187,
   "id": "9d92397e-10bb-46fa-a9a9-99320550b169",
   "metadata": {},
   "outputs": [],
   "source": [
    "grouped_data1 = df_text.groupBy(\"category\").mean()"
   ]
  },
  {
   "cell_type": "code",
   "execution_count": 188,
   "id": "c0852793-3a40-4a77-98ee-8828c4f88f04",
   "metadata": {},
   "outputs": [
    {
     "name": "stdout",
     "output_type": "stream",
     "text": [
      "+-----------+------------------+------------------+------------------+\n",
      "|   category|           avg(id)|     avg(quantity)|        avg(price)|\n",
      "+-----------+------------------+------------------+------------------+\n",
      "|       Food|              14.0|              90.0|2.2960000000000003|\n",
      "|     Sports|              19.5|              17.5|             34.99|\n",
      "|Electronics| 9.444444444444445| 10.88888888888889| 586.6566666666665|\n",
      "|   Clothing|19.285714285714285|28.571428571428573|  99.2757142857143|\n",
      "|  Furniture|              17.4|               8.2|            141.99|\n",
      "|Accessories|              24.5|              27.5|             27.49|\n",
      "+-----------+------------------+------------------+------------------+\n",
      "\n"
     ]
    }
   ],
   "source": [
    "grouped_data1.show()"
   ]
  },
  {
   "cell_type": "code",
   "execution_count": 189,
   "id": "b4e671f9-d69f-482e-a6a6-2cd4c44fb500",
   "metadata": {},
   "outputs": [],
   "source": [
    "# JOIN: COMBINE MULTIPLE DATAFRAMES BASED ON SPECIFIED COLUMNS"
   ]
  },
  {
   "cell_type": "code",
   "execution_count": 190,
   "id": "d0748f98-f3f3-4004-b09a-8c1ef7fde4d8",
   "metadata": {},
   "outputs": [],
   "source": [
    "df2 = df_text.select(\"id\", \"category\").limit(10)"
   ]
  },
  {
   "cell_type": "code",
   "execution_count": 191,
   "id": "12f74645-b0a3-4400-9731-43162513dfb9",
   "metadata": {},
   "outputs": [],
   "source": [
    "joined_data = df_text.join(df2, \"id\", \"inner\")"
   ]
  },
  {
   "cell_type": "code",
   "execution_count": 192,
   "id": "e8bf13cf-3e59-4c20-87af-da59e3b342dd",
   "metadata": {},
   "outputs": [
    {
     "data": {
      "text/plain": [
       "DataFrame[id: int, name: string, category: string, quantity: int, price: double, category: string]"
      ]
     },
     "execution_count": 192,
     "metadata": {},
     "output_type": "execute_result"
    }
   ],
   "source": [
    "joined_data"
   ]
  },
  {
   "cell_type": "code",
   "execution_count": 195,
   "id": "f6714b0e-e847-4da3-8b15-3c805e354045",
   "metadata": {},
   "outputs": [
    {
     "name": "stdout",
     "output_type": "stream",
     "text": [
      "+---+---------------+-----------+--------+------+\n",
      "| id|           name|   category|quantity| price|\n",
      "+---+---------------+-----------+--------+------+\n",
      "| 13|        Bananas|       Food|     150|  0.25|\n",
      "| 12|         Apples|       Food|     100|   0.5|\n",
      "| 14|        Oranges|       Food|     120|  0.75|\n",
      "| 15| Chicken Breast|       Food|      50|  3.99|\n",
      "| 16|  Salmon Fillet|       Food|      30|  5.99|\n",
      "| 29|        T-shirt|   Clothing|      50| 14.99|\n",
      "| 19|       Yoga Mat|     Sports|      20| 19.99|\n",
      "| 25|       Backpack|Accessories|      30| 24.99|\n",
      "| 24|     Laptop Bag|Accessories|      25| 29.99|\n",
      "| 20|   Dumbbell Set|     Sports|      15| 49.99|\n",
      "| 28|          Jeans|   Clothing|      30| 59.99|\n",
      "| 22|   Office Chair|  Furniture|       8| 79.99|\n",
      "| 30|       Sneakers|   Clothing|      40| 79.99|\n",
      "|  7|   Adidas Shoes|   Clothing|      25| 89.99|\n",
      "|  6|     Nike Shoes|   Clothing|      30| 99.99|\n",
      "| 23|      Bookshelf|  Furniture|      10| 99.99|\n",
      "| 21|   Coffee Table|  Furniture|       5|129.99|\n",
      "| 27|        Printer|Electronics|       8|129.99|\n",
      "|  8|Sony Headphones|Electronics|      12|149.99|\n",
      "| 11|     Study Desk|  Furniture|       8|149.99|\n",
      "+---+---------------+-----------+--------+------+\n",
      "only showing top 20 rows\n",
      "\n"
     ]
    }
   ],
   "source": [
    "sorted_data = df_text.orderBy(\"Price\")\n",
    "sorted_data.show()"
   ]
  },
  {
   "cell_type": "code",
   "execution_count": 198,
   "id": "75654b87-7db6-4995-ad68-9f03e8cc34dc",
   "metadata": {},
   "outputs": [],
   "source": [
    "# import pyspark.sql.functions as F for descending and for ordering by multiple columns\n",
    "\n",
    "import pyspark.sql.functions as F"
   ]
  },
  {
   "cell_type": "code",
   "execution_count": 201,
   "id": "1079f4e9-e43a-4657-a025-0cbfbe0e8868",
   "metadata": {},
   "outputs": [],
   "source": [
    "sorted_data_desc = df_text.orderBy(F.col(\"price\").desc(), F.col(\"id\").desc())"
   ]
  },
  {
   "cell_type": "code",
   "execution_count": 202,
   "id": "f9ac8ad7-723e-4fce-824e-28b899d04b8c",
   "metadata": {},
   "outputs": [
    {
     "name": "stdout",
     "output_type": "stream",
     "text": [
      "+---+----------------+-----------+--------+-------+\n",
      "| id|            name|   category|quantity|  price|\n",
      "+---+----------------+-----------+--------+-------+\n",
      "|  2|         Macbook|Electronics|       5|1299.99|\n",
      "|  1|          iPhone|Electronics|      10| 899.99|\n",
      "|  4|      Samsung TV|Electronics|       8| 799.99|\n",
      "|  5|           LG TV|Electronics|      10| 699.99|\n",
      "| 26|          Camera|Electronics|      10| 599.99|\n",
      "|  3|            iPad|Electronics|      15| 499.99|\n",
      "| 10|    Dining Table|  Furniture|      10| 249.99|\n",
      "| 17|  Leather Jacket|   Clothing|      15| 199.99|\n",
      "|  9|Beats Headphones|Electronics|      20| 199.99|\n",
      "| 18|     Winter Coat|   Clothing|      10| 149.99|\n",
      "| 11|      Study Desk|  Furniture|       8| 149.99|\n",
      "|  8| Sony Headphones|Electronics|      12| 149.99|\n",
      "| 27|         Printer|Electronics|       8| 129.99|\n",
      "| 21|    Coffee Table|  Furniture|       5| 129.99|\n",
      "| 23|       Bookshelf|  Furniture|      10|  99.99|\n",
      "|  6|      Nike Shoes|   Clothing|      30|  99.99|\n",
      "|  7|    Adidas Shoes|   Clothing|      25|  89.99|\n",
      "| 30|        Sneakers|   Clothing|      40|  79.99|\n",
      "| 22|    Office Chair|  Furniture|       8|  79.99|\n",
      "| 28|           Jeans|   Clothing|      30|  59.99|\n",
      "+---+----------------+-----------+--------+-------+\n",
      "only showing top 20 rows\n",
      "\n"
     ]
    }
   ],
   "source": [
    "sorted_data_desc.show()"
   ]
  },
  {
   "cell_type": "code",
   "execution_count": 203,
   "id": "c0540887-9038-4b9d-aca8-95047871c3d6",
   "metadata": {},
   "outputs": [],
   "source": [
    "# GET DISTINCT PRODUCT CATEGORY USING .distinct()"
   ]
  },
  {
   "cell_type": "code",
   "execution_count": 205,
   "id": "03319af9-e92f-404d-976b-aa4b04fa3f80",
   "metadata": {},
   "outputs": [
    {
     "name": "stdout",
     "output_type": "stream",
     "text": [
      "+-----------+\n",
      "|   category|\n",
      "+-----------+\n",
      "|       Food|\n",
      "|     Sports|\n",
      "|Electronics|\n",
      "|   Clothing|\n",
      "|  Furniture|\n",
      "|Accessories|\n",
      "+-----------+\n",
      "\n"
     ]
    }
   ],
   "source": [
    "distinct_rows = df_text.select(\"category\").distinct()\n",
    "distinct_rows.show()"
   ]
  },
  {
   "cell_type": "code",
   "execution_count": 206,
   "id": "54f79fe5-2e6e-40a9-b078-e1c269a249ee",
   "metadata": {},
   "outputs": [],
   "source": [
    "# DROP/REMOVE SPECIFIED COLUMNS"
   ]
  },
  {
   "cell_type": "code",
   "execution_count": 207,
   "id": "c7c73800-5529-4c10-ad25-d29f7b6df3bb",
   "metadata": {},
   "outputs": [
    {
     "name": "stdout",
     "output_type": "stream",
     "text": [
      "+---+----------------+-------+\n",
      "| id|            name|  price|\n",
      "+---+----------------+-------+\n",
      "|  1|          iPhone| 899.99|\n",
      "|  2|         Macbook|1299.99|\n",
      "|  3|            iPad| 499.99|\n",
      "|  4|      Samsung TV| 799.99|\n",
      "|  5|           LG TV| 699.99|\n",
      "|  6|      Nike Shoes|  99.99|\n",
      "|  7|    Adidas Shoes|  89.99|\n",
      "|  8| Sony Headphones| 149.99|\n",
      "|  9|Beats Headphones| 199.99|\n",
      "| 10|    Dining Table| 249.99|\n",
      "| 11|      Study Desk| 149.99|\n",
      "| 12|          Apples|    0.5|\n",
      "| 13|         Bananas|   0.25|\n",
      "| 14|         Oranges|   0.75|\n",
      "| 15|  Chicken Breast|   3.99|\n",
      "| 16|   Salmon Fillet|   5.99|\n",
      "| 17|  Leather Jacket| 199.99|\n",
      "| 18|     Winter Coat| 149.99|\n",
      "| 19|        Yoga Mat|  19.99|\n",
      "| 20|    Dumbbell Set|  49.99|\n",
      "+---+----------------+-------+\n",
      "only showing top 20 rows\n",
      "\n"
     ]
    }
   ],
   "source": [
    "dropped_columns = df_text.drop(\"quantity\", \"category\")\n",
    "dropped_columns.show()"
   ]
  },
  {
   "cell_type": "code",
   "execution_count": 208,
   "id": "f8998f0a-fe54-48d8-8309-49e764168539",
   "metadata": {},
   "outputs": [],
   "source": [
    "# ADD NEW CALCULATED COLUMNS"
   ]
  },
  {
   "cell_type": "code",
   "execution_count": 211,
   "id": "0cb376ba-9870-4fdc-88f3-0f5fcbc0cb63",
   "metadata": {},
   "outputs": [
    {
     "name": "stdout",
     "output_type": "stream",
     "text": [
      "+---+----------------+-----------+--------+-------+------------------+\n",
      "| id|            name|   category|quantity|  price|           revenue|\n",
      "+---+----------------+-----------+--------+-------+------------------+\n",
      "|  1|          iPhone|Electronics|      10| 899.99|            8999.9|\n",
      "|  2|         Macbook|Electronics|       5|1299.99|           6499.95|\n",
      "|  3|            iPad|Electronics|      15| 499.99|           7499.85|\n",
      "|  4|      Samsung TV|Electronics|       8| 799.99|           6399.92|\n",
      "|  5|           LG TV|Electronics|      10| 699.99|            6999.9|\n",
      "|  6|      Nike Shoes|   Clothing|      30|  99.99|            2999.7|\n",
      "|  7|    Adidas Shoes|   Clothing|      25|  89.99|           2249.75|\n",
      "|  8| Sony Headphones|Electronics|      12| 149.99|           1799.88|\n",
      "|  9|Beats Headphones|Electronics|      20| 199.99|            3999.8|\n",
      "| 10|    Dining Table|  Furniture|      10| 249.99|            2499.9|\n",
      "| 11|      Study Desk|  Furniture|       8| 149.99|           1199.92|\n",
      "| 12|          Apples|       Food|     100|    0.5|              50.0|\n",
      "| 13|         Bananas|       Food|     150|   0.25|              37.5|\n",
      "| 14|         Oranges|       Food|     120|   0.75|              90.0|\n",
      "| 15|  Chicken Breast|       Food|      50|   3.99|             199.5|\n",
      "| 16|   Salmon Fillet|       Food|      30|   5.99|179.70000000000002|\n",
      "| 17|  Leather Jacket|   Clothing|      15| 199.99|2999.8500000000004|\n",
      "| 18|     Winter Coat|   Clothing|      10| 149.99|            1499.9|\n",
      "| 19|        Yoga Mat|     Sports|      20|  19.99|399.79999999999995|\n",
      "| 20|    Dumbbell Set|     Sports|      15|  49.99|            749.85|\n",
      "+---+----------------+-----------+--------+-------+------------------+\n",
      "only showing top 20 rows\n",
      "\n"
     ]
    }
   ],
   "source": [
    "df_with_new_column = df_text.withColumn(\"revenue\", df_text.quantity*df_text.price)\n",
    "df_with_new_column.show()"
   ]
  },
  {
   "cell_type": "code",
   "execution_count": 212,
   "id": "3e97752d-163f-4525-aaa0-0293929a9e21",
   "metadata": {},
   "outputs": [],
   "source": [
    "# RENAME COLUMNS FOR BETTER READABILITY"
   ]
  },
  {
   "cell_type": "code",
   "execution_count": 213,
   "id": "505b9b93-5015-4507-b44d-6c7f44a83f2c",
   "metadata": {},
   "outputs": [
    {
     "name": "stdout",
     "output_type": "stream",
     "text": [
      "+---+----------------+-----------+--------+-------------+\n",
      "| id|            name|   category|quantity|prdouct_price|\n",
      "+---+----------------+-----------+--------+-------------+\n",
      "|  1|          iPhone|Electronics|      10|       899.99|\n",
      "|  2|         Macbook|Electronics|       5|      1299.99|\n",
      "|  3|            iPad|Electronics|      15|       499.99|\n",
      "|  4|      Samsung TV|Electronics|       8|       799.99|\n",
      "|  5|           LG TV|Electronics|      10|       699.99|\n",
      "|  6|      Nike Shoes|   Clothing|      30|        99.99|\n",
      "|  7|    Adidas Shoes|   Clothing|      25|        89.99|\n",
      "|  8| Sony Headphones|Electronics|      12|       149.99|\n",
      "|  9|Beats Headphones|Electronics|      20|       199.99|\n",
      "| 10|    Dining Table|  Furniture|      10|       249.99|\n",
      "| 11|      Study Desk|  Furniture|       8|       149.99|\n",
      "| 12|          Apples|       Food|     100|          0.5|\n",
      "| 13|         Bananas|       Food|     150|         0.25|\n",
      "| 14|         Oranges|       Food|     120|         0.75|\n",
      "| 15|  Chicken Breast|       Food|      50|         3.99|\n",
      "| 16|   Salmon Fillet|       Food|      30|         5.99|\n",
      "| 17|  Leather Jacket|   Clothing|      15|       199.99|\n",
      "| 18|     Winter Coat|   Clothing|      10|       149.99|\n",
      "| 19|        Yoga Mat|     Sports|      20|        19.99|\n",
      "| 20|    Dumbbell Set|     Sports|      15|        49.99|\n",
      "+---+----------------+-----------+--------+-------------+\n",
      "only showing top 20 rows\n",
      "\n"
     ]
    }
   ],
   "source": [
    "df_with_alias = df_text.withColumnRenamed(\"price\", \"prdouct_price\")\n",
    "df_with_alias.show()"
   ]
  },
  {
   "cell_type": "code",
   "execution_count": 215,
   "id": "21cffe17-9825-4603-89d3-7f5632b7c5d3",
   "metadata": {},
   "outputs": [],
   "source": [
    "# PERFORM SQL-LIKE QUERIES ON PYSPARK DATAFRAMES\n",
    "\n",
    "# YOU MUST REGISTER YOUR DATAFRAME AS A TEMPORARY VIEW TO RUN SQL QUERIES"
   ]
  },
  {
   "cell_type": "code",
   "execution_count": 216,
   "id": "af9a69f2-5415-435e-b764-267a5ecbc508",
   "metadata": {},
   "outputs": [
    {
     "name": "stdout",
     "output_type": "stream",
     "text": [
      "+------------------+---+------+------+\n",
      "|              name|age|gender|salary|\n",
      "+------------------+---+------+------+\n",
      "|          John Doe| 30|  Male| 50000|\n",
      "|        Jane Smith| 25|Female| 45000|\n",
      "|     David Johnson| 35|  Male| 60000|\n",
      "|       Emily Davis| 28|Female| 52000|\n",
      "|    Michael Wilson| 40|  Male| 75000|\n",
      "|       Sarah Brown| 32|Female| 58000|\n",
      "|        Robert Lee| 29|  Male| 51000|\n",
      "|       Lisa Garcia| 27|Female| 49000|\n",
      "|    James Martinez| 38|  Male| 70000|\n",
      "|Jennifer Rodriguez| 26|Female| 47000|\n",
      "|  William Anderson| 33|  Male| 62000|\n",
      "|   Karen Hernandez| 31|Female| 55000|\n",
      "|Christopher Taylor| 37|  Male| 69000|\n",
      "|     Mary Gonzalez| 24|Female| 44000|\n",
      "|     Matthew Davis| 36|  Male| 67000|\n",
      "|    Patricia White| 29|Female| 50000|\n",
      "|     Daniel Miller| 34|  Male| 64000|\n",
      "| Elizabeth Jackson| 30|Female| 52000|\n",
      "|     Joseph Harris| 28|  Male| 53000|\n",
      "|      Linda Martin| 39|Female| 71000|\n",
      "+------------------+---+------+------+\n",
      "\n"
     ]
    }
   ],
   "source": [
    "df_p = spark.read.csv(\"persons.csv\", header = True, inferSchema = True)\n",
    "df_p.show()"
   ]
  },
  {
   "cell_type": "code",
   "execution_count": 217,
   "id": "d936657c-fb76-4567-b68f-1d54ffc478e2",
   "metadata": {},
   "outputs": [],
   "source": [
    "# CONVERT OUR DATAFRAME TO A TEMP VIEW TO RUN SQL QUERIES ON IT\n",
    "\n",
    "df_p.createOrReplaceTempView(\"my_view\")"
   ]
  },
  {
   "cell_type": "code",
   "execution_count": 218,
   "id": "e25f793d-7e5f-4bf2-b815-c3ade96520be",
   "metadata": {},
   "outputs": [
    {
     "name": "stdout",
     "output_type": "stream",
     "text": [
      "+------------------+---+------+------+\n",
      "|              name|age|gender|salary|\n",
      "+------------------+---+------+------+\n",
      "|          John Doe| 30|  Male| 50000|\n",
      "|     David Johnson| 35|  Male| 60000|\n",
      "|       Emily Davis| 28|Female| 52000|\n",
      "|    Michael Wilson| 40|  Male| 75000|\n",
      "|       Sarah Brown| 32|Female| 58000|\n",
      "|        Robert Lee| 29|  Male| 51000|\n",
      "|       Lisa Garcia| 27|Female| 49000|\n",
      "|    James Martinez| 38|  Male| 70000|\n",
      "|Jennifer Rodriguez| 26|Female| 47000|\n",
      "|  William Anderson| 33|  Male| 62000|\n",
      "|   Karen Hernandez| 31|Female| 55000|\n",
      "|Christopher Taylor| 37|  Male| 69000|\n",
      "|     Matthew Davis| 36|  Male| 67000|\n",
      "|    Patricia White| 29|Female| 50000|\n",
      "|     Daniel Miller| 34|  Male| 64000|\n",
      "| Elizabeth Jackson| 30|Female| 52000|\n",
      "|     Joseph Harris| 28|  Male| 53000|\n",
      "|      Linda Martin| 39|Female| 71000|\n",
      "+------------------+---+------+------+\n",
      "\n"
     ]
    }
   ],
   "source": [
    "result = spark.sql(\"SELECT * FROM my_view WHERE age > 25\")\n",
    "result.show()"
   ]
  },
  {
   "cell_type": "code",
   "execution_count": 219,
   "id": "24dd8f31-2fb8-4323-b009-d2c9a0a988ed",
   "metadata": {},
   "outputs": [
    {
     "name": "stdout",
     "output_type": "stream",
     "text": [
      "+------+----------+\n",
      "|gender|avg_salary|\n",
      "+------+----------+\n",
      "|Female|   52300.0|\n",
      "|  Male|   62100.0|\n",
      "+------+----------+\n",
      "\n"
     ]
    }
   ],
   "source": [
    "avg_salary_by_gender = spark.sql(\"SELECT gender, AVG(SALARY) AS avg_salary FROM my_view GROUP BY gender\")\n",
    "avg_salary_by_gender.show()"
   ]
  },
  {
   "cell_type": "code",
   "execution_count": 220,
   "id": "7e2f5f84-7ec9-4a9e-bb60-08a123a86ba1",
   "metadata": {},
   "outputs": [
    {
     "data": {
      "text/plain": [
       "True"
      ]
     },
     "execution_count": 220,
     "metadata": {},
     "output_type": "execute_result"
    }
   ],
   "source": [
    "view_exists = spark.catalog.tableExists(\"my_view\")\n",
    "view_exists"
   ]
  },
  {
   "cell_type": "code",
   "execution_count": 221,
   "id": "571bb5b3-eb9f-45b0-979c-8567376c30b5",
   "metadata": {},
   "outputs": [
    {
     "data": {
      "text/plain": [
       "<pyspark.sql.catalog.Catalog at 0x1194ea210>"
      ]
     },
     "execution_count": 221,
     "metadata": {},
     "output_type": "execute_result"
    }
   ],
   "source": [
    "spark.catalog"
   ]
  },
  {
   "cell_type": "code",
   "execution_count": 223,
   "id": "15341cbc-f32a-4645-9cca-10c1b06b8095",
   "metadata": {},
   "outputs": [
    {
     "data": {
      "text/plain": [
       "[Table(name='my_view', catalog=None, namespace=[], description=None, tableType='TEMPORARY', isTemporary=True)]"
      ]
     },
     "execution_count": 223,
     "metadata": {},
     "output_type": "execute_result"
    }
   ],
   "source": [
    "spark.catalog.listTables()"
   ]
  },
  {
   "cell_type": "code",
   "execution_count": 224,
   "id": "111e8a58-972d-440a-9229-3a23bf149659",
   "metadata": {},
   "outputs": [],
   "source": [
    "# DROP A TEMPORARY VIEW WHEN YOU ARE DONE WITH IT\n",
    "\n",
    "# spark.catalog.dropTempView(\"my_view\") \n",
    "\n",
    "# frees up resources and removes the view or table from the catalog."
   ]
  },
  {
   "cell_type": "code",
   "execution_count": 225,
   "id": "fd0e3933-36a3-49d3-9b44-8799b487c96b",
   "metadata": {},
   "outputs": [
    {
     "name": "stdout",
     "output_type": "stream",
     "text": [
      "+---+-------+\n",
      "| id|   name|\n",
      "+---+-------+\n",
      "|  1|   John|\n",
      "|  2|  Alice|\n",
      "|  3|    Bob|\n",
      "|  4|  Emily|\n",
      "|  5|  David|\n",
      "|  6|  Sarah|\n",
      "|  7|Michael|\n",
      "|  8|   Lisa|\n",
      "|  9|William|\n",
      "+---+-------+\n",
      "\n",
      "+----------+---+------+\n",
      "|department| id|salary|\n",
      "+----------+---+------+\n",
      "|        HR|  1| 60000|\n",
      "|        HR|  2| 55000|\n",
      "|        HR|  3| 58000|\n",
      "|        IT|  4| 70000|\n",
      "|        IT|  5| 72000|\n",
      "|        IT|  6| 68000|\n",
      "|     Sales|  7| 75000|\n",
      "|     Sales|  8| 78000|\n",
      "|     Sales|  9| 77000|\n",
      "+----------+---+------+\n",
      "\n"
     ]
    }
   ],
   "source": [
    "# Create DataFrames\n",
    "employee_data = [\n",
    "    (1, \"John\"), (2, \"Alice\"), (3, \"Bob\"), (4, \"Emily\"),\n",
    "    (5, \"David\"), (6, \"Sarah\"), (7, \"Michael\"), (8, \"Lisa\"),\n",
    "    (9, \"William\")\n",
    "]\n",
    "employees = spark.createDataFrame(employee_data, [\"id\", \"name\"])\n",
    "\n",
    "salary_data = [\n",
    "    (\"HR\", 1, 60000), (\"HR\", 2, 55000), (\"HR\", 3, 58000),\n",
    "    (\"IT\", 4, 70000), (\"IT\", 5, 72000), (\"IT\", 6, 68000),\n",
    "    (\"Sales\", 7, 75000), (\"Sales\", 8, 78000), (\"Sales\", 9, 77000)\n",
    "]\n",
    "salaries = spark.createDataFrame(salary_data, [\"department\", \"id\", \"salary\"])\n",
    "\n",
    "employees.show()\n",
    "\n",
    "salaries.show()"
   ]
  },
  {
   "cell_type": "code",
   "execution_count": 227,
   "id": "7d081ad7-b16d-4417-9e8c-28b50f7c743b",
   "metadata": {},
   "outputs": [
    {
     "name": "stdout",
     "output_type": "stream",
     "text": [
      "+-------+\n",
      "|   name|\n",
      "+-------+\n",
      "|  Emily|\n",
      "|  David|\n",
      "|Michael|\n",
      "|   Lisa|\n",
      "|William|\n",
      "+-------+\n",
      "\n"
     ]
    }
   ],
   "source": [
    "#SUBQUERIES\n",
    "\n",
    "employees.createOrReplaceTempView(\"employees\")\n",
    "salaries.createOrReplaceTempView(\"salaries\")\n",
    "result = spark.sql(\"\"\" SELECT name FROM employees WHERE id IN (SELECT id FROM salaries WHERE salary > (SELECT AVG(salary) FROM salaries)) \"\"\")\n",
    "result.show()"
   ]
  },
  {
   "cell_type": "code",
   "execution_count": 228,
   "id": "68d00242-d8e2-4fd7-a7d1-5db3ce73bbe1",
   "metadata": {},
   "outputs": [],
   "source": [
    "# WINDOW FUNCTIONS\n",
    "\n",
    "from pyspark.sql.window import Window\n",
    "from pyspark.sql import functions as F"
   ]
  },
  {
   "cell_type": "code",
   "execution_count": 233,
   "id": "20b0a94f-8c0b-4709-a9c8-93f0eb3d09af",
   "metadata": {},
   "outputs": [
    {
     "name": "stdout",
     "output_type": "stream",
     "text": [
      "+----------+---+------+-------+\n",
      "|department| id|salary|   name|\n",
      "+----------+---+------+-------+\n",
      "|        HR|  1| 60000|   John|\n",
      "|        HR|  2| 55000|  Alice|\n",
      "|        HR|  3| 58000|    Bob|\n",
      "|        IT|  4| 70000|  Emily|\n",
      "|        IT|  5| 72000|  David|\n",
      "|        IT|  6| 68000|  Sarah|\n",
      "|     Sales|  7| 75000|Michael|\n",
      "|     Sales|  8| 78000|   Lisa|\n",
      "|     Sales|  9| 77000|William|\n",
      "+----------+---+------+-------+\n",
      "\n"
     ]
    },
    {
     "name": "stderr",
     "output_type": "stream",
     "text": [
      "                                                                                \r"
     ]
    }
   ],
   "source": [
    "employee_salary = spark.sql(\"\"\"SELECT salaries.*, employees.name FROM salaries LEFT JOIN employees ON salaries.id = employees.id\"\"\")\n",
    "employee_salary.show()"
   ]
  },
  {
   "cell_type": "code",
   "execution_count": 236,
   "id": "410dff1a-18a0-4d49-aab6-38a320bdad3c",
   "metadata": {},
   "outputs": [],
   "source": [
    "# DEFINE OUR WINDOW FOR OUR WINDOW FUNCTION\n",
    "\n",
    "window_spec = Window.partitionBy(\"department\").orderBy(F.desc(\"Salary\"))"
   ]
  },
  {
   "cell_type": "code",
   "execution_count": 237,
   "id": "df8b9448-a9ef-4637-802a-03b840ea1416",
   "metadata": {},
   "outputs": [
    {
     "name": "stdout",
     "output_type": "stream",
     "text": [
      "+----------+---+------+-------+----+\n",
      "|department| id|salary|   name|rank|\n",
      "+----------+---+------+-------+----+\n",
      "|        HR|  1| 60000|   John|   1|\n",
      "|        HR|  3| 58000|    Bob|   2|\n",
      "|        HR|  2| 55000|  Alice|   3|\n",
      "|        IT|  5| 72000|  David|   1|\n",
      "|        IT|  4| 70000|  Emily|   2|\n",
      "|        IT|  6| 68000|  Sarah|   3|\n",
      "|     Sales|  8| 78000|   Lisa|   1|\n",
      "|     Sales|  9| 77000|William|   2|\n",
      "|     Sales|  7| 75000|Michael|   3|\n",
      "+----------+---+------+-------+----+\n",
      "\n"
     ]
    }
   ],
   "source": [
    "# ADD A WINDOW FUNCTION COLUMN USING OUR WINDOW_SPEC\n",
    "\n",
    "employee_salary.withColumn(\"rank\", F.rank().over(window_spec)).show()"
   ]
  },
  {
   "cell_type": "code",
   "execution_count": null,
   "id": "cdbca857-d5dd-42c0-b56a-5d7e74f61d4e",
   "metadata": {},
   "outputs": [],
   "source": []
  }
 ],
 "metadata": {
  "kernelspec": {
   "display_name": "Python 3 (ipykernel)",
   "language": "python",
   "name": "python3"
  },
  "language_info": {
   "codemirror_mode": {
    "name": "ipython",
    "version": 3
   },
   "file_extension": ".py",
   "mimetype": "text/x-python",
   "name": "python",
   "nbconvert_exporter": "python",
   "pygments_lexer": "ipython3",
   "version": "3.12.2"
  }
 },
 "nbformat": 4,
 "nbformat_minor": 5
}
