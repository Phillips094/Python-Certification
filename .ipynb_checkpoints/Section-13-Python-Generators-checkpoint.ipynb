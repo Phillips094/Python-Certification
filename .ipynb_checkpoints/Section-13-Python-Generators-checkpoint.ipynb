{
 "cells": [
  {
   "cell_type": "code",
   "execution_count": 1,
   "id": "96f20a34-577c-44ba-a2f6-02d05a689f59",
   "metadata": {},
   "outputs": [],
   "source": [
    "# CREATE A LIST IN MEMORY\n",
    "# WE WILL TRANSFORM THIS FUNCTION TO A GENERATOR FUNCTION\n",
    "\n",
    "def create_cubes(n):\n",
    "    result = []\n",
    "    for number in range(n):\n",
    "        result.append(number**3)\n",
    "    return result"
   ]
  },
  {
   "cell_type": "code",
   "execution_count": 2,
   "id": "65318e2e-72bf-4166-8521-47b13810a0f6",
   "metadata": {},
   "outputs": [
    {
     "data": {
      "text/plain": [
       "[0, 1, 8, 27, 64, 125, 216, 343, 512, 729]"
      ]
     },
     "execution_count": 2,
     "metadata": {},
     "output_type": "execute_result"
    }
   ],
   "source": [
    "create_cubes(10)"
   ]
  },
  {
   "cell_type": "code",
   "execution_count": 4,
   "id": "b4effabf-b3f8-44b2-a95a-a5c13ea8f024",
   "metadata": {},
   "outputs": [
    {
     "name": "stdout",
     "output_type": "stream",
     "text": [
      "0\n",
      "1\n",
      "8\n",
      "27\n",
      "64\n",
      "125\n",
      "216\n",
      "343\n",
      "512\n",
      "729\n"
     ]
    }
   ],
   "source": [
    "# WHAT HAPPENS IF WE REALLY ONLY NEEDED ONE VALUE AT A TIME TO PRINT THEM INSTEAD OF STORING A LIST IN MEMORY AS SHOWN BELOW\n",
    "\n",
    "for x in create_cubes(10):\n",
    "    print(x)"
   ]
  },
  {
   "cell_type": "code",
   "execution_count": 5,
   "id": "65bb2100-4ba9-4637-89cd-f3ac2cd47419",
   "metadata": {},
   "outputs": [],
   "source": [
    "# NOW WE WILL CREATE A GENERATING FUNCTION SO WE DON'T STORE A LIST IN MEMORY\n",
    "# THIS WILL LEAD TO MORE MEMORY EFFICIENCY\n",
    "\n",
    "def create_cubes(n):\n",
    "    for x in range(n):\n",
    "        yield x**3"
   ]
  },
  {
   "cell_type": "code",
   "execution_count": 6,
   "id": "68957e2a-d892-43ea-bfbc-232f56b2cf6f",
   "metadata": {},
   "outputs": [
    {
     "name": "stdout",
     "output_type": "stream",
     "text": [
      "0\n",
      "1\n",
      "8\n",
      "27\n",
      "64\n",
      "125\n",
      "216\n",
      "343\n",
      "512\n",
      "729\n"
     ]
    }
   ],
   "source": [
    "for x in create_cubes(10):\n",
    "    print(x)"
   ]
  },
  {
   "cell_type": "code",
   "execution_count": 7,
   "id": "ab39dd2e-2b40-4cf2-b889-ce2fec6cee61",
   "metadata": {},
   "outputs": [
    {
     "data": {
      "text/plain": [
       "<generator object create_cubes at 0x105bab850>"
      ]
     },
     "execution_count": 7,
     "metadata": {},
     "output_type": "execute_result"
    }
   ],
   "source": [
    "#THIS OUTPUT TELLS US THAT CREATE_CUBES(10) IS A GENERATOR OBJECT AT THIS MEMORY LOCATION AND WE HAVE TO ITERATE THROUGH\n",
    "#IT IF YOU ACTUALLY WANT THE LIST OF NUMBERS.\n",
    "create_cubes(10)"
   ]
  },
  {
   "cell_type": "code",
   "execution_count": 8,
   "id": "103f6ce7-1601-47e6-9d7b-5faf9faf195b",
   "metadata": {},
   "outputs": [
    {
     "data": {
      "text/plain": [
       "[0, 1, 8, 27, 64, 125, 216, 343, 512, 729]"
      ]
     },
     "execution_count": 8,
     "metadata": {},
     "output_type": "execute_result"
    }
   ],
   "source": [
    "# IF YOU DO END UP WANTING THE ACTUAL LIST ITSELF, YOU CAN CAST IT TO A LSIT AND HTEN GET BACK A LIST\n",
    "\n",
    "list(create_cubes(10))"
   ]
  },
  {
   "cell_type": "code",
   "execution_count": 9,
   "id": "eff54d98-2570-4a88-8f4b-0edf456aeab9",
   "metadata": {},
   "outputs": [],
   "source": [
    "# GENERATING FUNCTION FOR FIBONACCI SEQUENCE\n",
    "\n",
    "def gen_fibon(n):\n",
    "    a = 1\n",
    "    b = 1\n",
    "    for i in range(n):\n",
    "        yield a\n",
    "        a, b = b, a+b"
   ]
  },
  {
   "cell_type": "code",
   "execution_count": 10,
   "id": "c5fc94bc-9a53-4b8d-8e4b-8466be2f3414",
   "metadata": {},
   "outputs": [
    {
     "name": "stdout",
     "output_type": "stream",
     "text": [
      "1\n",
      "1\n",
      "2\n",
      "3\n",
      "5\n",
      "8\n",
      "13\n",
      "21\n",
      "34\n",
      "55\n"
     ]
    }
   ],
   "source": [
    "for number in gen_fibon(10):\n",
    "    print(number)"
   ]
  },
  {
   "cell_type": "code",
   "execution_count": 13,
   "id": "256842a2-f0a7-454e-b7cc-65e04ffc2732",
   "metadata": {},
   "outputs": [],
   "source": [
    "# CONVERTING OUR GENERATING FUNCTION INTO A FUNCTION THAT CREATES A LIST INTO MEMORY; LESS EFFICIENT\n",
    "\n",
    "def gen_fibon(n):\n",
    "    a = 1\n",
    "    b = 1\n",
    "    output = []\n",
    "    for i in range(n):\n",
    "        output.append(a)\n",
    "        a, b = b, a+b\n",
    "    return output"
   ]
  },
  {
   "cell_type": "code",
   "execution_count": 14,
   "id": "93b6c2c7-e53e-4379-9641-7b5c6ebc6799",
   "metadata": {},
   "outputs": [
    {
     "name": "stdout",
     "output_type": "stream",
     "text": [
      "1\n",
      "1\n",
      "2\n",
      "3\n",
      "5\n",
      "8\n",
      "13\n",
      "21\n",
      "34\n",
      "55\n"
     ]
    }
   ],
   "source": [
    "for number in gen_fibon(10):\n",
    "    print(number)"
   ]
  },
  {
   "cell_type": "code",
   "execution_count": 15,
   "id": "274ba40f-0123-4c95-ab55-ee44af3a0a4a",
   "metadata": {},
   "outputs": [],
   "source": [
    "def simple_gen():\n",
    "    for x in range(3):\n",
    "        yield x"
   ]
  },
  {
   "cell_type": "code",
   "execution_count": 16,
   "id": "166c87a7-f8d2-4261-8e95-96f049105a24",
   "metadata": {},
   "outputs": [
    {
     "name": "stdout",
     "output_type": "stream",
     "text": [
      "0\n",
      "1\n",
      "2\n"
     ]
    }
   ],
   "source": [
    "for x in simple_gen():\n",
    "    print(x)"
   ]
  },
  {
   "cell_type": "code",
   "execution_count": 32,
   "id": "1f3447f8-3ce3-4b20-bfd4-513af9d2c504",
   "metadata": {},
   "outputs": [],
   "source": [
    "g = simple_gen()"
   ]
  },
  {
   "cell_type": "code",
   "execution_count": 33,
   "id": "d6d1946d-b934-4983-9c67-50669cd49f3e",
   "metadata": {},
   "outputs": [
    {
     "data": {
      "text/plain": [
       "<generator object simple_gen at 0x1059d6140>"
      ]
     },
     "execution_count": 33,
     "metadata": {},
     "output_type": "execute_result"
    }
   ],
   "source": [
    "g"
   ]
  },
  {
   "cell_type": "code",
   "execution_count": 34,
   "id": "f0c71232-5a48-4555-a035-0c1ed22bace2",
   "metadata": {},
   "outputs": [],
   "source": [
    "h = simple_gen"
   ]
  },
  {
   "cell_type": "code",
   "execution_count": 35,
   "id": "81d3fa11-8a5d-49ea-970e-43d5cbb91670",
   "metadata": {},
   "outputs": [
    {
     "data": {
      "text/plain": [
       "<function __main__.simple_gen()>"
      ]
     },
     "execution_count": 35,
     "metadata": {},
     "output_type": "execute_result"
    }
   ],
   "source": [
    "h"
   ]
  },
  {
   "cell_type": "code",
   "execution_count": 36,
   "id": "6ceaaedf-a3cc-4cf9-9138-307d747d86ed",
   "metadata": {},
   "outputs": [
    {
     "data": {
      "text/plain": [
       "<generator object simple_gen at 0x1059d6200>"
      ]
     },
     "execution_count": 36,
     "metadata": {},
     "output_type": "execute_result"
    }
   ],
   "source": [
    "h()"
   ]
  },
  {
   "cell_type": "code",
   "execution_count": 37,
   "id": "d4a7638d-9109-4aa4-a96b-f50f999f2892",
   "metadata": {},
   "outputs": [
    {
     "data": {
      "text/plain": [
       "0"
      ]
     },
     "execution_count": 37,
     "metadata": {},
     "output_type": "execute_result"
    }
   ],
   "source": [
    "next(g)"
   ]
  },
  {
   "cell_type": "code",
   "execution_count": 38,
   "id": "d725fab1-fa6d-47e1-b5b6-8ca34f95970c",
   "metadata": {},
   "outputs": [
    {
     "name": "stdout",
     "output_type": "stream",
     "text": [
      "1\n"
     ]
    }
   ],
   "source": [
    "print(next(g))"
   ]
  },
  {
   "cell_type": "code",
   "execution_count": 39,
   "id": "6a30e249-f944-44cf-9d55-fd5c515e9043",
   "metadata": {},
   "outputs": [
    {
     "name": "stdout",
     "output_type": "stream",
     "text": [
      "2\n"
     ]
    }
   ],
   "source": [
    "print(next(g))"
   ]
  },
  {
   "cell_type": "code",
   "execution_count": 40,
   "id": "5ce399cd-b75d-4535-ab8c-ed34182be8e1",
   "metadata": {},
   "outputs": [
    {
     "ename": "StopIteration",
     "evalue": "",
     "output_type": "error",
     "traceback": [
      "\u001b[0;31m---------------------------------------------------------------------------\u001b[0m",
      "\u001b[0;31mStopIteration\u001b[0m                             Traceback (most recent call last)",
      "Cell \u001b[0;32mIn[40], line 1\u001b[0m\n\u001b[0;32m----> 1\u001b[0m \u001b[38;5;28mprint\u001b[39m(\u001b[38;5;28;43mnext\u001b[39;49m\u001b[43m(\u001b[49m\u001b[43mg\u001b[49m\u001b[43m)\u001b[49m)\n",
      "\u001b[0;31mStopIteration\u001b[0m: "
     ]
    }
   ],
   "source": [
    "print(next(g))"
   ]
  },
  {
   "cell_type": "code",
   "execution_count": 41,
   "id": "dec89b35-6b54-4ab6-89e5-b0c6cbc8ec4a",
   "metadata": {},
   "outputs": [
    {
     "ename": "StopIteration",
     "evalue": "",
     "output_type": "error",
     "traceback": [
      "\u001b[0;31m---------------------------------------------------------------------------\u001b[0m",
      "\u001b[0;31mStopIteration\u001b[0m                             Traceback (most recent call last)",
      "Cell \u001b[0;32mIn[41], line 1\u001b[0m\n\u001b[0;32m----> 1\u001b[0m \u001b[38;5;28mprint\u001b[39m(\u001b[38;5;28;43mnext\u001b[39;49m\u001b[43m(\u001b[49m\u001b[43mg\u001b[49m\u001b[43m)\u001b[49m)\n",
      "\u001b[0;31mStopIteration\u001b[0m: "
     ]
    }
   ],
   "source": [
    "print(next(g))"
   ]
  },
  {
   "cell_type": "code",
   "execution_count": 26,
   "id": "bfe800d9-e905-4bc0-917a-9bec4e482bce",
   "metadata": {},
   "outputs": [],
   "source": [
    "s = 'hello'"
   ]
  },
  {
   "cell_type": "code",
   "execution_count": 27,
   "id": "d86a9261-3f40-4a16-806e-08cb8e0aabc3",
   "metadata": {},
   "outputs": [],
   "source": [
    "s_iter = iter(s)"
   ]
  },
  {
   "cell_type": "code",
   "execution_count": 28,
   "id": "69b1a102-1b3d-45c1-8ccb-a1d347907170",
   "metadata": {},
   "outputs": [
    {
     "name": "stdout",
     "output_type": "stream",
     "text": [
      "<str_ascii_iterator object at 0x1061d40a0>\n"
     ]
    }
   ],
   "source": [
    "print(s_iter)"
   ]
  },
  {
   "cell_type": "code",
   "execution_count": 29,
   "id": "6d30d2db-ed3e-434f-89b3-236ea142ac5a",
   "metadata": {},
   "outputs": [
    {
     "name": "stdout",
     "output_type": "stream",
     "text": [
      "h\n"
     ]
    }
   ],
   "source": [
    "print(next(s_iter))"
   ]
  },
  {
   "cell_type": "code",
   "execution_count": 30,
   "id": "7df8ddb9-a2c0-434a-b726-af3653263a12",
   "metadata": {},
   "outputs": [
    {
     "data": {
      "text/plain": [
       "'e'"
      ]
     },
     "execution_count": 30,
     "metadata": {},
     "output_type": "execute_result"
    }
   ],
   "source": [
    "next(s_iter)"
   ]
  },
  {
   "cell_type": "code",
   "execution_count": 31,
   "id": "89466b26-6540-431e-9da3-442a9797150c",
   "metadata": {},
   "outputs": [
    {
     "ename": "TypeError",
     "evalue": "'str' object is not an iterator",
     "output_type": "error",
     "traceback": [
      "\u001b[0;31m---------------------------------------------------------------------------\u001b[0m",
      "\u001b[0;31mTypeError\u001b[0m                                 Traceback (most recent call last)",
      "Cell \u001b[0;32mIn[31], line 1\u001b[0m\n\u001b[0;32m----> 1\u001b[0m \u001b[38;5;28;43mnext\u001b[39;49m\u001b[43m(\u001b[49m\u001b[43ms\u001b[49m\u001b[43m)\u001b[49m\n",
      "\u001b[0;31mTypeError\u001b[0m: 'str' object is not an iterator"
     ]
    }
   ],
   "source": [
    "next(s)"
   ]
  },
  {
   "cell_type": "code",
   "execution_count": 42,
   "id": "2be00949-5c1a-4927-8bba-9303da523113",
   "metadata": {},
   "outputs": [
    {
     "name": "stdout",
     "output_type": "stream",
     "text": [
      "4\n",
      "5\n"
     ]
    }
   ],
   "source": [
    "my_list = [1,2,3,4,5]\n",
    "\n",
    "gencomp = (item for item in my_list if item > 3)\n",
    "\n",
    "for item in gencomp:\n",
    "    print(item)"
   ]
  },
  {
   "cell_type": "code",
   "execution_count": 43,
   "id": "5f6c3aad-0a3f-405b-99d7-f406f9ee21e6",
   "metadata": {},
   "outputs": [],
   "source": [
    "# GENERATOR COMPREHENSION IS LIKE LIST COMPREHENSION BUT INSTEAD OF ACTUALLY CREATING THE LIST IN MEMORY\n",
    "# IT'S GOING TO GENERATE IT.\n",
    "# ALL YOU HAVE TO DO IS SWITCH OUT THE SQUARE BRACKETS FOR PARENTHESES AND NOW YOU'VE TURNED YOUR LIST COMPREHENSION INTO\n",
    "# A GENERATOR SO THEN YOU CAN ITERATE THROUGH THE GENERATOR AND NOT HOLD ALL OF THIS IN MEMORY."
   ]
  },
  {
   "cell_type": "code",
   "execution_count": null,
   "id": "d1888ffc-6795-4995-a76e-743d03ffc348",
   "metadata": {},
   "outputs": [],
   "source": []
  }
 ],
 "metadata": {
  "kernelspec": {
   "display_name": "Python 3 (ipykernel)",
   "language": "python",
   "name": "python3"
  },
  "language_info": {
   "codemirror_mode": {
    "name": "ipython",
    "version": 3
   },
   "file_extension": ".py",
   "mimetype": "text/x-python",
   "name": "python",
   "nbconvert_exporter": "python",
   "pygments_lexer": "ipython3",
   "version": "3.12.2"
  }
 },
 "nbformat": 4,
 "nbformat_minor": 5
}
