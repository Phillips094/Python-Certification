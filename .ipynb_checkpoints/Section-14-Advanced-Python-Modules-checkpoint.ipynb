{
 "cells": [
  {
   "cell_type": "code",
   "execution_count": 2,
   "id": "1527f3cf-52d5-4d6d-b3c6-0fdbff722fec",
   "metadata": {},
   "outputs": [],
   "source": [
    "# COLLECTIONS"
   ]
  },
  {
   "cell_type": "code",
   "execution_count": 3,
   "id": "e91ac68d-3de6-4ec7-9c55-6bca5d9b697b",
   "metadata": {},
   "outputs": [],
   "source": [
    "from collections import Counter"
   ]
  },
  {
   "cell_type": "code",
   "execution_count": 4,
   "id": "bbb3ba8c-b6e7-4ad2-99bd-81bee468a3bf",
   "metadata": {},
   "outputs": [],
   "source": [
    "lst = [1,2,2,2,2,3,3,3,1,2,1,12,3,2,32,1,21,1,223,1]"
   ]
  },
  {
   "cell_type": "code",
   "execution_count": 5,
   "id": "75ef0dcc-9a3d-4442-ad40-cf9ecfba1029",
   "metadata": {},
   "outputs": [
    {
     "data": {
      "text/plain": [
       "Counter({1: 6, 2: 6, 3: 4, 12: 1, 32: 1, 21: 1, 223: 1})"
      ]
     },
     "execution_count": 5,
     "metadata": {},
     "output_type": "execute_result"
    }
   ],
   "source": [
    "Counter(lst)"
   ]
  },
  {
   "cell_type": "code",
   "execution_count": 6,
   "id": "ab10ab4a-5d26-4c70-907d-1573c81f8307",
   "metadata": {},
   "outputs": [
    {
     "data": {
      "text/plain": [
       "Counter({'b': 7, 's': 6, 'h': 3, 'a': 2})"
      ]
     },
     "execution_count": 6,
     "metadata": {},
     "output_type": "execute_result"
    }
   ],
   "source": [
    "Counter('aabsbsbsbhshhbbsbs')"
   ]
  },
  {
   "cell_type": "code",
   "execution_count": 7,
   "id": "d981815a-2d4c-4dde-a00c-2a90bda2ab44",
   "metadata": {},
   "outputs": [],
   "source": [
    "s = 'How many times does each word show up in this sentence word times each each word'"
   ]
  },
  {
   "cell_type": "code",
   "execution_count": 8,
   "id": "18496656-6dab-4a4d-aaf8-712c592f03c9",
   "metadata": {},
   "outputs": [],
   "source": [
    "words = s.split()"
   ]
  },
  {
   "cell_type": "code",
   "execution_count": 9,
   "id": "cac6b22c-0c52-4339-a42c-7d548cbcde5e",
   "metadata": {},
   "outputs": [
    {
     "data": {
      "text/plain": [
       "['How',\n",
       " 'many',\n",
       " 'times',\n",
       " 'does',\n",
       " 'each',\n",
       " 'word',\n",
       " 'show',\n",
       " 'up',\n",
       " 'in',\n",
       " 'this',\n",
       " 'sentence',\n",
       " 'word',\n",
       " 'times',\n",
       " 'each',\n",
       " 'each',\n",
       " 'word']"
      ]
     },
     "execution_count": 9,
     "metadata": {},
     "output_type": "execute_result"
    }
   ],
   "source": [
    "words"
   ]
  },
  {
   "cell_type": "code",
   "execution_count": 10,
   "id": "8a14a491-e113-4801-a8ff-f52ae6d62857",
   "metadata": {},
   "outputs": [
    {
     "data": {
      "text/plain": [
       "Counter({'each': 3,\n",
       "         'word': 3,\n",
       "         'times': 2,\n",
       "         'How': 1,\n",
       "         'many': 1,\n",
       "         'does': 1,\n",
       "         'show': 1,\n",
       "         'up': 1,\n",
       "         'in': 1,\n",
       "         'this': 1,\n",
       "         'sentence': 1})"
      ]
     },
     "execution_count": 10,
     "metadata": {},
     "output_type": "execute_result"
    }
   ],
   "source": [
    "Counter(words)"
   ]
  },
  {
   "cell_type": "code",
   "execution_count": 11,
   "id": "7861a363-f6ba-42fe-b4ea-2c7911ffa9e4",
   "metadata": {},
   "outputs": [
    {
     "data": {
      "text/plain": [
       "Counter({'each': 3,\n",
       "         'word': 3,\n",
       "         'times': 2,\n",
       "         'how': 1,\n",
       "         'many': 1,\n",
       "         'does': 1,\n",
       "         'show': 1,\n",
       "         'up': 1,\n",
       "         'in': 1,\n",
       "         'this': 1,\n",
       "         'sentence': 1})"
      ]
     },
     "execution_count": 11,
     "metadata": {},
     "output_type": "execute_result"
    }
   ],
   "source": [
    "Counter(s.lower().split())"
   ]
  },
  {
   "cell_type": "code",
   "execution_count": 12,
   "id": "e9a98b60-bf7d-40a3-868a-40d3b29557be",
   "metadata": {},
   "outputs": [
    {
     "data": {
      "text/plain": [
       "[('each', 3), ('word', 3)]"
      ]
     },
     "execution_count": 12,
     "metadata": {},
     "output_type": "execute_result"
    }
   ],
   "source": [
    "# Methods with Counter()\n",
    "c = Counter(words)\n",
    "\n",
    "c.most_common(2)"
   ]
  },
  {
   "cell_type": "code",
   "execution_count": 13,
   "id": "f0559394-5e29-4b18-ba9c-2e528aeefdac",
   "metadata": {},
   "outputs": [],
   "source": [
    "# COMMON COUNTER PATTERNS\n",
    "\n",
    "letters = 'aaabbbbccccccccddddddddddd'"
   ]
  },
  {
   "cell_type": "code",
   "execution_count": 14,
   "id": "e110347e-ee9a-490d-b8c3-aa1483a0f521",
   "metadata": {},
   "outputs": [],
   "source": [
    "c = Counter(letters)"
   ]
  },
  {
   "cell_type": "code",
   "execution_count": 15,
   "id": "dfe6c0d7-1017-42a5-9246-d5c95846d971",
   "metadata": {},
   "outputs": [
    {
     "data": {
      "text/plain": [
       "Counter({'d': 11, 'c': 8, 'b': 4, 'a': 3})"
      ]
     },
     "execution_count": 15,
     "metadata": {},
     "output_type": "execute_result"
    }
   ],
   "source": [
    "c"
   ]
  },
  {
   "cell_type": "code",
   "execution_count": 16,
   "id": "e5db38bd-1a08-4750-a336-95d609faef48",
   "metadata": {},
   "outputs": [
    {
     "data": {
      "text/plain": [
       "[('d', 11), ('c', 8), ('b', 4), ('a', 3)]"
      ]
     },
     "execution_count": 16,
     "metadata": {},
     "output_type": "execute_result"
    }
   ],
   "source": [
    "c.most_common()"
   ]
  },
  {
   "cell_type": "code",
   "execution_count": 17,
   "id": "bf6700f5-ece2-4413-bf6c-644e31329cb0",
   "metadata": {},
   "outputs": [
    {
     "data": {
      "text/plain": [
       "['a', 'b', 'c', 'd']"
      ]
     },
     "execution_count": 17,
     "metadata": {},
     "output_type": "execute_result"
    }
   ],
   "source": [
    "list(c)"
   ]
  },
  {
   "cell_type": "code",
   "execution_count": 26,
   "id": "543987f6-7035-403a-92a8-c48e5d05e86a",
   "metadata": {},
   "outputs": [],
   "source": [
    "# sum(c.values())                 # total of all counts\n",
    "# c.clear()                       # reset all counts\n",
    "# list(c)                         # list unique elements\n",
    "# set(c)                          # convert to a set\n",
    "# dict(c)                         # convert to a regular dictionary\n",
    "# c.items()                       # convert to a list of (elem, cnt) pairs\n",
    "# c.keys()                        # convert to a list of all keys in Counter 'c'\n",
    "# Counter(dict(list_of_pairs))    # convert from a list of (elem, cnt) pairs\n",
    "# c.most_common()[:-n-1:-1]       # n least common elements\n",
    "# c += Counter()                  # remove zero and negative counts"
   ]
  },
  {
   "cell_type": "code",
   "execution_count": 20,
   "id": "c3f95bf7-342a-4273-993d-5eda9dd6870d",
   "metadata": {},
   "outputs": [
    {
     "data": {
      "text/plain": [
       "{'a', 'b', 'c', 'd'}"
      ]
     },
     "execution_count": 20,
     "metadata": {},
     "output_type": "execute_result"
    }
   ],
   "source": [
    "set(c)"
   ]
  },
  {
   "cell_type": "code",
   "execution_count": 21,
   "id": "ca28ed1e-dff6-49db-9163-182ac9f1b444",
   "metadata": {},
   "outputs": [
    {
     "data": {
      "text/plain": [
       "{'a': 3, 'b': 4, 'c': 8, 'd': 11}"
      ]
     },
     "execution_count": 21,
     "metadata": {},
     "output_type": "execute_result"
    }
   ],
   "source": [
    "dict(c)"
   ]
  },
  {
   "cell_type": "code",
   "execution_count": 22,
   "id": "d2249ac1-2e35-4834-9d06-a763b6562231",
   "metadata": {},
   "outputs": [
    {
     "data": {
      "text/plain": [
       "dict_items([('a', 3), ('b', 4), ('c', 8), ('d', 11)])"
      ]
     },
     "execution_count": 22,
     "metadata": {},
     "output_type": "execute_result"
    }
   ],
   "source": [
    "c.items()"
   ]
  },
  {
   "cell_type": "code",
   "execution_count": 25,
   "id": "b6e0577e-5bc2-4a1a-b81f-ac78494583a0",
   "metadata": {},
   "outputs": [
    {
     "data": {
      "text/plain": [
       "dict_keys(['a', 'b', 'c', 'd'])"
      ]
     },
     "execution_count": 25,
     "metadata": {},
     "output_type": "execute_result"
    }
   ],
   "source": [
    "c.keys()"
   ]
  },
  {
   "cell_type": "code",
   "execution_count": 24,
   "id": "84e24b9b-8376-4030-95f2-dc1add925837",
   "metadata": {},
   "outputs": [
    {
     "data": {
      "text/plain": [
       "dict_values([3, 4, 8, 11])"
      ]
     },
     "execution_count": 24,
     "metadata": {},
     "output_type": "execute_result"
    }
   ],
   "source": [
    "c.values()"
   ]
  },
  {
   "cell_type": "code",
   "execution_count": 23,
   "id": "6cf733b0-e1cc-4eaa-8a45-873105c531ef",
   "metadata": {},
   "outputs": [
    {
     "data": {
      "text/plain": [
       "26"
      ]
     },
     "execution_count": 23,
     "metadata": {},
     "output_type": "execute_result"
    }
   ],
   "source": [
    "sum(c.values())"
   ]
  },
  {
   "cell_type": "code",
   "execution_count": 18,
   "id": "05868c8f-9c95-4f0a-a85d-108bf6202235",
   "metadata": {},
   "outputs": [],
   "source": [
    "# DEFAULT DICTIONARY\n",
    "from collections import defaultdict"
   ]
  },
  {
   "cell_type": "code",
   "execution_count": 42,
   "id": "70d59677-705e-470f-9f2d-489d871f048d",
   "metadata": {},
   "outputs": [],
   "source": [
    "d1 = {'a': 10}"
   ]
  },
  {
   "cell_type": "code",
   "execution_count": 43,
   "id": "113e55ca-0143-40ae-baeb-eb1f919d9dbb",
   "metadata": {},
   "outputs": [
    {
     "data": {
      "text/plain": [
       "{'a': 10}"
      ]
     },
     "execution_count": 43,
     "metadata": {},
     "output_type": "execute_result"
    }
   ],
   "source": [
    "d1"
   ]
  },
  {
   "cell_type": "code",
   "execution_count": 44,
   "id": "a950aabe-2893-4611-a070-4994df7f88ce",
   "metadata": {},
   "outputs": [
    {
     "data": {
      "text/plain": [
       "10"
      ]
     },
     "execution_count": 44,
     "metadata": {},
     "output_type": "execute_result"
    }
   ],
   "source": [
    "d1['a']"
   ]
  },
  {
   "cell_type": "code",
   "execution_count": 45,
   "id": "7f5c7e95-2413-4bd5-8d7a-939c7833b24c",
   "metadata": {},
   "outputs": [
    {
     "ename": "KeyError",
     "evalue": "'WRONG'",
     "output_type": "error",
     "traceback": [
      "\u001b[0;31m---------------------------------------------------------------------------\u001b[0m",
      "\u001b[0;31mKeyError\u001b[0m                                  Traceback (most recent call last)",
      "Cell \u001b[0;32mIn[45], line 1\u001b[0m\n\u001b[0;32m----> 1\u001b[0m \u001b[43md1\u001b[49m\u001b[43m[\u001b[49m\u001b[38;5;124;43m'\u001b[39;49m\u001b[38;5;124;43mWRONG\u001b[39;49m\u001b[38;5;124;43m'\u001b[39;49m\u001b[43m]\u001b[49m\n",
      "\u001b[0;31mKeyError\u001b[0m: 'WRONG'"
     ]
    }
   ],
   "source": [
    "d1['WRONG']"
   ]
  },
  {
   "cell_type": "code",
   "execution_count": 40,
   "id": "7a2405b6-a33b-4987-8dfb-95220f70ab98",
   "metadata": {},
   "outputs": [],
   "source": [
    "# IN CERTAIN SITUATIONS, ESPECIALLY WHEN YOU'RE DOING SOMETHING LIKE A FOR LOOP THAT YOU WANT TO QUICKLY ADD IN KEYS THAT ARE NOT\n",
    "# ALREADY PRESENT IN YOUR DICTIONARY FOR WHATEVER PARTICULAR REASON, YOU CAN USE A DEFAULT DICTIONARY.\n",
    "\n",
    "# A DEFAULT DICTIONARY WILL ASSIGN A DEFAULT VALUE IF THERE'S AN INSTANCE WHERE A KEY ERROR WOULD HAVE OCCURRED.\n",
    "# WE DO THIS SUING A LAMBDA FUNCTION AS AN ARGUMENT IN OUR PARAMETER OF DEFAULTDICT() WHEN YOU ASSIGN A VARIABLE TO A DEFAULTEDICT."
   ]
  },
  {
   "cell_type": "code",
   "execution_count": 34,
   "id": "1e94bc49-6a9e-4039-9307-b8e0d4d99512",
   "metadata": {},
   "outputs": [],
   "source": [
    "d = defaultdict(lambda: 0)"
   ]
  },
  {
   "cell_type": "code",
   "execution_count": 35,
   "id": "a0780b12-8a90-4722-982d-263b50aa395c",
   "metadata": {},
   "outputs": [],
   "source": [
    "d['correct'] = 100"
   ]
  },
  {
   "cell_type": "code",
   "execution_count": 36,
   "id": "f6131944-17ea-4e75-aa09-dfbebb18b5be",
   "metadata": {},
   "outputs": [
    {
     "data": {
      "text/plain": [
       "100"
      ]
     },
     "execution_count": 36,
     "metadata": {},
     "output_type": "execute_result"
    }
   ],
   "source": [
    "d['correct']"
   ]
  },
  {
   "cell_type": "code",
   "execution_count": 38,
   "id": "1f6ea202-c536-4f78-898e-3d88e6251e0b",
   "metadata": {},
   "outputs": [
    {
     "data": {
      "text/plain": [
       "0"
      ]
     },
     "execution_count": 38,
     "metadata": {},
     "output_type": "execute_result"
    }
   ],
   "source": [
    "d['WRONG KEY!'] # WE NO LONGER GET A KEYERROR ANY MORE, WE GET THE DEFAULT LAMBDA: 0 VALUE!"
   ]
  },
  {
   "cell_type": "code",
   "execution_count": 39,
   "id": "698cc787-efd0-472e-9694-7ef46bda1891",
   "metadata": {},
   "outputs": [
    {
     "data": {
      "text/plain": [
       "defaultdict(<function __main__.<lambda>()>, {'correct': 100, 'WRONG KEY!': 0})"
      ]
     },
     "execution_count": 39,
     "metadata": {},
     "output_type": "execute_result"
    }
   ],
   "source": [
    "d"
   ]
  },
  {
   "cell_type": "code",
   "execution_count": 1,
   "id": "e5937abc-b833-4a4c-98c0-11147e4901ab",
   "metadata": {},
   "outputs": [],
   "source": [
    "# DEFAULT DICTIONARY ARE USEFUL WHEN YOU ARE TRYING TO ASSIGN VALUES TO A DICTIONARY BUT YOU DON'T KNOW IF EVERYONE'S PRESENT\n",
    "# OR NOT. SO MAYBE YOU JUST HAVE A DEFAULT VALUE OF ZERO FOR THEM IF YOU ENCOUNTER THEM AND DON'T HAVE THEM IN THE DICTIONARY YET.\n",
    "# USE A LAMBDA FUNCTION AS THE DEFUALT FACTOR PARAMETER!"
   ]
  },
  {
   "cell_type": "code",
   "execution_count": 51,
   "id": "97b06475-8240-488c-9582-b0441fa2bb6c",
   "metadata": {},
   "outputs": [],
   "source": [
    "mytuple = (10,20,30)"
   ]
  },
  {
   "cell_type": "code",
   "execution_count": 53,
   "id": "483cfed3-10e2-4f45-a0b4-9d2c4ae55f64",
   "metadata": {},
   "outputs": [
    {
     "data": {
      "text/plain": [
       "10"
      ]
     },
     "execution_count": 53,
     "metadata": {},
     "output_type": "execute_result"
    }
   ],
   "source": [
    "mytuple[0]"
   ]
  },
  {
   "cell_type": "code",
   "execution_count": 54,
   "id": "281ee38f-54c3-438b-a21a-ebabb0997707",
   "metadata": {},
   "outputs": [],
   "source": [
    "from collections import namedtuple"
   ]
  },
  {
   "cell_type": "code",
   "execution_count": 55,
   "id": "cb95d0a6-b08d-4f99-b892-bc2687bd605e",
   "metadata": {},
   "outputs": [],
   "source": [
    "Dog = namedtuple('Dog', ['age', 'breed', 'name'])"
   ]
  },
  {
   "cell_type": "code",
   "execution_count": 56,
   "id": "b5f5c945-817c-4717-a09e-c2a2646164c7",
   "metadata": {},
   "outputs": [
    {
     "data": {
      "text/plain": [
       "__main__.Dog"
      ]
     },
     "execution_count": 56,
     "metadata": {},
     "output_type": "execute_result"
    }
   ],
   "source": [
    "Dog"
   ]
  },
  {
   "cell_type": "code",
   "execution_count": 57,
   "id": "773e6db4-9482-4f1c-bf23-131c9538a5a6",
   "metadata": {},
   "outputs": [],
   "source": [
    "Sammy = Dog(age = 5, breed = 'Husky', name = 'Sam')"
   ]
  },
  {
   "cell_type": "code",
   "execution_count": 58,
   "id": "a7170886-abdc-4c54-b969-7e157ef0e7fe",
   "metadata": {},
   "outputs": [
    {
     "data": {
      "text/plain": [
       "Dog(age=5, breed='Husky', name='Sam')"
      ]
     },
     "execution_count": 58,
     "metadata": {},
     "output_type": "execute_result"
    }
   ],
   "source": [
    "Sammy"
   ]
  },
  {
   "cell_type": "code",
   "execution_count": 59,
   "id": "b3d9db65-1ebe-463b-90f9-413b24a73887",
   "metadata": {},
   "outputs": [
    {
     "data": {
      "text/plain": [
       "__main__.Dog"
      ]
     },
     "execution_count": 59,
     "metadata": {},
     "output_type": "execute_result"
    }
   ],
   "source": [
    "type(Sammy)"
   ]
  },
  {
   "cell_type": "code",
   "execution_count": 60,
   "id": "67c00019-d982-499c-b6dd-5f747e5ebee4",
   "metadata": {},
   "outputs": [
    {
     "data": {
      "text/plain": [
       "5"
      ]
     },
     "execution_count": 60,
     "metadata": {},
     "output_type": "execute_result"
    }
   ],
   "source": [
    "Sammy.age"
   ]
  },
  {
   "cell_type": "code",
   "execution_count": 62,
   "id": "02fa3f5d-4160-472f-8099-4a875d6ae268",
   "metadata": {},
   "outputs": [
    {
     "data": {
      "text/plain": [
       "5"
      ]
     },
     "execution_count": 62,
     "metadata": {},
     "output_type": "execute_result"
    }
   ],
   "source": [
    "Sammy[0]"
   ]
  },
  {
   "cell_type": "markdown",
   "id": "a8e50f7d-5ce1-4a08-9a96-7405fb238079",
   "metadata": {},
   "source": [
    "# Opening and Reading Files\n",
    "\n",
    "So far we've discussed how to open files manually, one by one. Let's explore how we can open files programatically. "
   ]
  },
  {
   "cell_type": "markdown",
   "id": "76b119a3-e570-4d2d-be30-012480591065",
   "metadata": {},
   "source": [
    "_____"
   ]
  },
  {
   "cell_type": "code",
   "execution_count": 2,
   "id": "18178c6a-e265-4014-a937-7ae8d7b456aa",
   "metadata": {},
   "outputs": [
    {
     "data": {
      "text/plain": [
       "'/Users/felipegomez/GitHub/PythonPractice'"
      ]
     },
     "execution_count": 2,
     "metadata": {},
     "output_type": "execute_result"
    }
   ],
   "source": [
    "pwd"
   ]
  },
  {
   "cell_type": "code",
   "execution_count": 3,
   "id": "177faf5d-1aa5-4a62-849b-fb2be967eea5",
   "metadata": {},
   "outputs": [],
   "source": [
    "f = open('practice.txt', 'w+')\n",
    "f.write('This is a test string')\n",
    "f.close()"
   ]
  },
  {
   "cell_type": "code",
   "execution_count": 4,
   "id": "c60a0611-948c-4c60-b2f1-b10417e09d85",
   "metadata": {},
   "outputs": [],
   "source": [
    "import os"
   ]
  },
  {
   "cell_type": "code",
   "execution_count": 5,
   "id": "edf55d4d-327c-4617-9233-103ee3ec0d6f",
   "metadata": {},
   "outputs": [
    {
     "data": {
      "text/plain": [
       "'/Users/felipegomez/GitHub/PythonPractice'"
      ]
     },
     "execution_count": 5,
     "metadata": {},
     "output_type": "execute_result"
    }
   ],
   "source": [
    "os.getcwd()"
   ]
  },
  {
   "cell_type": "code",
   "execution_count": 7,
   "id": "7db5c571-a6b4-4baa-8f5b-c86db73677d7",
   "metadata": {},
   "outputs": [
    {
     "data": {
      "text/plain": [
       "['Useful_Info_Notebook.ipynb',\n",
       " '00-Warm-Up-Project-Exercises.ipynb',\n",
       " 'one.py',\n",
       " 'Decorators.ipynb',\n",
       " '02-Milestone Project 1 - Walkthrough Steps Workbook.ipynb',\n",
       " 'test_cap.py',\n",
       " '12-Advanced Python Modules',\n",
       " '07-Errors and Exception Handling',\n",
       " '04-OOP Challenge.ipynb',\n",
       " '.DS_Store',\n",
       " '08-Statements Assessment Test - Solutions.ipynb',\n",
       " 'Section-13-Python-Generators.ipynb',\n",
       " 'Section5-02-Python-Statements.ipynb',\n",
       " 'Section6-Methods-and-Functions.ipynb',\n",
       " 'Section-9-Modules-and-Packages.ipynb',\n",
       " '11-Python Generators',\n",
       " 'testwritefile.txt',\n",
       " '07-Statements Assessment Test.ipynb',\n",
       " '10-Guessing Game Challenge - Solution.ipynb',\n",
       " 'cap.py',\n",
       " '09-Guessing Game Challenge.ipynb',\n",
       " '05-OOP Challenge - Solution.ipynb',\n",
       " 'practice.txt',\n",
       " 'my_new_file.txt',\n",
       " 'two.py',\n",
       " '__pycache__',\n",
       " '08-Milestone Project - 2',\n",
       " 'Section-14-Advanced-Python-Modules.ipynb',\n",
       " 'simple1.py',\n",
       " 'README.md',\n",
       " 'myprogram.py',\n",
       " '10-Objects and Data Structures Assessment Test-Solution.ipynb',\n",
       " '01-Milestone Project 1 - Assignment.ipynb',\n",
       " '09-Functions and Methods Homework - Solutions.ipynb',\n",
       " 'MyMainPackage',\n",
       " '03-Object Oriented Programming Homework - Solution.ipynb',\n",
       " 'Section4-01-Python-Comparison-Operators.ipynb',\n",
       " '03-Function Practice Exercises.ipynb',\n",
       " 'Section-10-Erros-and-Exceptions-Handling.ipynb',\n",
       " 'MileStone2-WarmUpGame-War.ipynb',\n",
       " 'mymodule.py',\n",
       " 'Section-8-Object-Oriented-Programming.ipynb',\n",
       " 'myfile.txt',\n",
       " '.ipynb_checkpoints',\n",
       " '09-Objects and Data Structures Assessment Test.ipynb',\n",
       " '02-Object Oriented Programming Homework.ipynb',\n",
       " '01-Name_and_Main',\n",
       " '04-Function Practice Exercises - Solutions.ipynb',\n",
       " '03-Milestone Project 1 - Complete Walkthrough Solution.ipynb',\n",
       " '.git',\n",
       " '00-Modules_and_Packages',\n",
       " 'Python Objects and Data Structure Objects.ipynb',\n",
       " '01-Object Oriented Programming.ipynb',\n",
       " 'Test.ipynb',\n",
       " '10-Python Decorators',\n",
       " 'testfile',\n",
       " '08-Functions and Methods Homework.ipynb']"
      ]
     },
     "execution_count": 7,
     "metadata": {},
     "output_type": "execute_result"
    }
   ],
   "source": [
    "os.listdir()"
   ]
  },
  {
   "cell_type": "code",
   "execution_count": 8,
   "id": "a0d2e3ed-4888-4ac0-87e5-14854e1fe3b8",
   "metadata": {},
   "outputs": [
    {
     "data": {
      "text/plain": [
       "['.localized', 'Shared', 'felipegomez']"
      ]
     },
     "execution_count": 8,
     "metadata": {},
     "output_type": "execute_result"
    }
   ],
   "source": [
    "os.listdir('/Users/')"
   ]
  },
  {
   "cell_type": "code",
   "execution_count": 2,
   "id": "58ddbace-ed7f-4e60-b8af-a979ce7df9a6",
   "metadata": {},
   "outputs": [],
   "source": [
    "import shutil"
   ]
  },
  {
   "cell_type": "code",
   "execution_count": 12,
   "id": "d096b70a-d643-42a8-9ff7-e9b76cad7849",
   "metadata": {},
   "outputs": [],
   "source": [
    "#shutil.move('practice.txt', '/Users/felipegomez') # moves 'practice.txt' to '/Users/felipegomez' directory; similar to Unix Bash command 'mv'"
   ]
  },
  {
   "cell_type": "code",
   "execution_count": 1,
   "id": "ead81eb2-610a-4b75-86c8-8b124b60b24e",
   "metadata": {},
   "outputs": [],
   "source": [
    "#check that file exists with os.listdir('/Users/felipegomez')"
   ]
  },
  {
   "cell_type": "code",
   "execution_count": 5,
   "id": "db037c06-7842-4c16-b5ed-1c82d6cc27c9",
   "metadata": {},
   "outputs": [],
   "source": [
    "#three ways to delete files\n",
    "\n",
    "# 1) os.unlink(path) which delt3es a file at the path you provide\n",
    "\n",
    "# 2) os.rmdir(path) which deletes a folder (folder must be empoty) at the apth you provide\n",
    "\n",
    "# 3) shutil.rmtree(path) this is the most dangerous, as it will remove all files and folders contained in the path. \n",
    "\n",
    "#All of these methods can not be reversed! Which means if you make a mistake you won't be able to recover the file.\n",
    "#Instead we will use hte send2trash module. A safer alternative that sends deleted files to the trash bin instead of permanent removal.\n"
   ]
  },
  {
   "cell_type": "code",
   "execution_count": 6,
   "id": "cbefe62a-8b39-4ded-bb10-0da9aec54b19",
   "metadata": {},
   "outputs": [],
   "source": [
    "import send2trash"
   ]
  },
  {
   "cell_type": "code",
   "execution_count": 7,
   "id": "cfbf4195-9376-413a-980c-96ec2d0800fd",
   "metadata": {},
   "outputs": [
    {
     "data": {
      "text/plain": [
       "['Useful_Info_Notebook.ipynb',\n",
       " '00-Warm-Up-Project-Exercises.ipynb',\n",
       " 'one.py',\n",
       " 'Decorators.ipynb',\n",
       " '02-Milestone Project 1 - Walkthrough Steps Workbook.ipynb',\n",
       " 'test_cap.py',\n",
       " '12-Advanced Python Modules',\n",
       " '07-Errors and Exception Handling',\n",
       " '04-OOP Challenge.ipynb',\n",
       " '.DS_Store',\n",
       " '08-Statements Assessment Test - Solutions.ipynb',\n",
       " 'Section-13-Python-Generators.ipynb',\n",
       " 'Section5-02-Python-Statements.ipynb',\n",
       " 'Section6-Methods-and-Functions.ipynb',\n",
       " 'Section-9-Modules-and-Packages.ipynb',\n",
       " '11-Python Generators',\n",
       " 'testwritefile.txt',\n",
       " '07-Statements Assessment Test.ipynb',\n",
       " '10-Guessing Game Challenge - Solution.ipynb',\n",
       " 'cap.py',\n",
       " '09-Guessing Game Challenge.ipynb',\n",
       " '05-OOP Challenge - Solution.ipynb',\n",
       " 'practice.txt',\n",
       " 'my_new_file.txt',\n",
       " 'two.py',\n",
       " '__pycache__',\n",
       " '08-Milestone Project - 2',\n",
       " 'Section-14-Advanced-Python-Modules.ipynb',\n",
       " 'simple1.py',\n",
       " 'README.md',\n",
       " 'myprogram.py',\n",
       " '10-Objects and Data Structures Assessment Test-Solution.ipynb',\n",
       " '01-Milestone Project 1 - Assignment.ipynb',\n",
       " '09-Functions and Methods Homework - Solutions.ipynb',\n",
       " 'MyMainPackage',\n",
       " '03-Object Oriented Programming Homework - Solution.ipynb',\n",
       " 'Section4-01-Python-Comparison-Operators.ipynb',\n",
       " '03-Function Practice Exercises.ipynb',\n",
       " 'Section-10-Erros-and-Exceptions-Handling.ipynb',\n",
       " 'MileStone2-WarmUpGame-War.ipynb',\n",
       " 'mymodule.py',\n",
       " 'Section-8-Object-Oriented-Programming.ipynb',\n",
       " 'myfile.txt',\n",
       " '.ipynb_checkpoints',\n",
       " '09-Objects and Data Structures Assessment Test.ipynb',\n",
       " '02-Object Oriented Programming Homework.ipynb',\n",
       " '01-Name_and_Main',\n",
       " '04-Function Practice Exercises - Solutions.ipynb',\n",
       " '03-Milestone Project 1 - Complete Walkthrough Solution.ipynb',\n",
       " '.git',\n",
       " '00-Modules_and_Packages',\n",
       " 'Python Objects and Data Structure Objects.ipynb',\n",
       " '01-Object Oriented Programming.ipynb',\n",
       " 'Test.ipynb',\n",
       " '10-Python Decorators',\n",
       " 'testfile',\n",
       " '08-Functions and Methods Homework.ipynb']"
      ]
     },
     "execution_count": 7,
     "metadata": {},
     "output_type": "execute_result"
    }
   ],
   "source": [
    "os.listdir()"
   ]
  },
  {
   "cell_type": "code",
   "execution_count": 8,
   "id": "1a50e160-d1b9-4024-a305-61b0ae9f6191",
   "metadata": {},
   "outputs": [
    {
     "data": {
      "text/plain": [
       "'/Users/felipegomez/GitHub/PythonPractice'"
      ]
     },
     "execution_count": 8,
     "metadata": {},
     "output_type": "execute_result"
    }
   ],
   "source": [
    "pwd"
   ]
  },
  {
   "cell_type": "code",
   "execution_count": 9,
   "id": "a7df0150-2fba-48dc-8b1c-0e99566268cb",
   "metadata": {},
   "outputs": [],
   "source": [
    "# shutil.move(\"Path/Of/File/practice.txt\", os.getcwd()) to move from the path in 1st argument to your current working directory."
   ]
  },
  {
   "cell_type": "code",
   "execution_count": 10,
   "id": "4d28e8cc-e6e7-411d-84c6-b9ca7403eb60",
   "metadata": {},
   "outputs": [
    {
     "data": {
      "text/plain": [
       "'/Users/felipegomez/GitHub/PythonPractice'"
      ]
     },
     "execution_count": 10,
     "metadata": {},
     "output_type": "execute_result"
    }
   ],
   "source": [
    "os.getcwd()"
   ]
  },
  {
   "cell_type": "code",
   "execution_count": 11,
   "id": "c6cdbabe-f57e-4275-9d62-6ffd352cbf50",
   "metadata": {},
   "outputs": [
    {
     "data": {
      "text/plain": [
       "['Useful_Info_Notebook.ipynb',\n",
       " '00-Warm-Up-Project-Exercises.ipynb',\n",
       " 'one.py',\n",
       " 'Decorators.ipynb',\n",
       " '02-Milestone Project 1 - Walkthrough Steps Workbook.ipynb',\n",
       " 'test_cap.py',\n",
       " '12-Advanced Python Modules',\n",
       " '07-Errors and Exception Handling',\n",
       " '04-OOP Challenge.ipynb',\n",
       " '.DS_Store',\n",
       " '08-Statements Assessment Test - Solutions.ipynb',\n",
       " 'Section-13-Python-Generators.ipynb',\n",
       " 'Section5-02-Python-Statements.ipynb',\n",
       " 'Section6-Methods-and-Functions.ipynb',\n",
       " 'Section-9-Modules-and-Packages.ipynb',\n",
       " '11-Python Generators',\n",
       " 'testwritefile.txt',\n",
       " '07-Statements Assessment Test.ipynb',\n",
       " '10-Guessing Game Challenge - Solution.ipynb',\n",
       " 'cap.py',\n",
       " '09-Guessing Game Challenge.ipynb',\n",
       " '05-OOP Challenge - Solution.ipynb',\n",
       " 'practice.txt',\n",
       " 'my_new_file.txt',\n",
       " 'two.py',\n",
       " '__pycache__',\n",
       " '08-Milestone Project - 2',\n",
       " 'Section-14-Advanced-Python-Modules.ipynb',\n",
       " 'simple1.py',\n",
       " 'README.md',\n",
       " 'myprogram.py',\n",
       " '10-Objects and Data Structures Assessment Test-Solution.ipynb',\n",
       " '01-Milestone Project 1 - Assignment.ipynb',\n",
       " '09-Functions and Methods Homework - Solutions.ipynb',\n",
       " 'MyMainPackage',\n",
       " '03-Object Oriented Programming Homework - Solution.ipynb',\n",
       " 'Section4-01-Python-Comparison-Operators.ipynb',\n",
       " '03-Function Practice Exercises.ipynb',\n",
       " 'Section-10-Erros-and-Exceptions-Handling.ipynb',\n",
       " 'MileStone2-WarmUpGame-War.ipynb',\n",
       " 'mymodule.py',\n",
       " 'Section-8-Object-Oriented-Programming.ipynb',\n",
       " 'myfile.txt',\n",
       " '.ipynb_checkpoints',\n",
       " '09-Objects and Data Structures Assessment Test.ipynb',\n",
       " '02-Object Oriented Programming Homework.ipynb',\n",
       " '01-Name_and_Main',\n",
       " '04-Function Practice Exercises - Solutions.ipynb',\n",
       " '03-Milestone Project 1 - Complete Walkthrough Solution.ipynb',\n",
       " '.git',\n",
       " '00-Modules_and_Packages',\n",
       " 'Python Objects and Data Structure Objects.ipynb',\n",
       " '01-Object Oriented Programming.ipynb',\n",
       " 'Test.ipynb',\n",
       " '10-Python Decorators',\n",
       " 'testfile',\n",
       " '08-Functions and Methods Homework.ipynb']"
      ]
     },
     "execution_count": 11,
     "metadata": {},
     "output_type": "execute_result"
    }
   ],
   "source": [
    "os.listdir()"
   ]
  },
  {
   "cell_type": "code",
   "execution_count": 12,
   "id": "e767eddd-c987-43c1-984b-8c658ed4d3b0",
   "metadata": {},
   "outputs": [],
   "source": [
    "#send2trash.send2trash('practice.txt') #to send practice.txt file to trash bin."
   ]
  },
  {
   "cell_type": "code",
   "execution_count": 13,
   "id": "f0caa073-c75f-4f67-96c0-edc01fd96d27",
   "metadata": {},
   "outputs": [
    {
     "data": {
      "text/plain": [
       "'/Users/felipegomez/GitHub/PythonPractice'"
      ]
     },
     "execution_count": 13,
     "metadata": {},
     "output_type": "execute_result"
    }
   ],
   "source": [
    "os.getcwd()"
   ]
  },
  {
   "cell_type": "code",
   "execution_count": 18,
   "id": "b57eb356-6479-4d89-8532-076ed8dcb3f7",
   "metadata": {},
   "outputs": [],
   "source": [
    "#os.walk #Directory Tree Generator, iterates through a directory to list all files and sub directories\n",
    "file_path = '/Users/felipegomez/GitHub/PythonPractice/12-Advanced Python Modules/Example_Top_Level'"
   ]
  },
  {
   "cell_type": "code",
   "execution_count": 19,
   "id": "1034cd1a-6b3d-4fc6-9cf5-97f596aa79a1",
   "metadata": {},
   "outputs": [
    {
     "name": "stdout",
     "output_type": "stream",
     "text": [
      "Currently looking at /Users/felipegomez/GitHub/PythonPractice/12-Advanced Python Modules/Example_Top_Level\n",
      "\n",
      "\n",
      "The subfolders are: \n",
      "\t Subfolder: Mid-Example-One\n",
      "\n",
      "\n",
      "the files are: \n",
      "\t File: Mid-Example.txt\n",
      "\n",
      "\n",
      "Currently looking at /Users/felipegomez/GitHub/PythonPractice/12-Advanced Python Modules/Example_Top_Level/Mid-Example-One\n",
      "\n",
      "\n",
      "The subfolders are: \n",
      "\t Subfolder: Bottom-Level-Two\n",
      "\t Subfolder: Bottom-Level-One\n",
      "\n",
      "\n",
      "the files are: \n",
      "\t File: Mid-Level-Doc.txt\n",
      "\n",
      "\n",
      "Currently looking at /Users/felipegomez/GitHub/PythonPractice/12-Advanced Python Modules/Example_Top_Level/Mid-Example-One/Bottom-Level-Two\n",
      "\n",
      "\n",
      "The subfolders are: \n",
      "\n",
      "\n",
      "the files are: \n",
      "\t File: Bottom-Text-Two.txt\n",
      "\n",
      "\n",
      "Currently looking at /Users/felipegomez/GitHub/PythonPractice/12-Advanced Python Modules/Example_Top_Level/Mid-Example-One/Bottom-Level-One\n",
      "\n",
      "\n",
      "The subfolders are: \n",
      "\n",
      "\n",
      "the files are: \n",
      "\t File: One_Text.txt\n",
      "\n",
      "\n"
     ]
    }
   ],
   "source": [
    "for folder, sub_folders, files in os.walk(file_path): # or os.walk(getcwd()) if you wanted to use your current work directory\n",
    "\n",
    "    print(f\"Currently looking at {folder}\")\n",
    "    print(\"\\n\")\n",
    "    print(\"The subfolders are: \")\n",
    "    for sub_fold in sub_folders:\n",
    "        print(f\"\\t Subfolder: {sub_fold}\")\n",
    "\n",
    "    print(\"\\n\")\n",
    "    print(\"the files are: \")\n",
    "    for f in files:\n",
    "        print(f\"\\t File: {f}\")\n",
    "    print(\"\\n\")"
   ]
  },
  {
   "cell_type": "markdown",
   "id": "9602c085-3852-4650-9ea5-c436c2a18089",
   "metadata": {},
   "source": [
    "# datetime module\n",
    "\n",
    "Python has the datetime module to help deal with timestamps in your code. Time values are represented with the time class. Times have attributes for hour, minute, second, and microsecond. They can also include time zone information. The arguments to initialize a time instance are optional, but the default of 0 is unlikely to be what you want.\n",
    "\n",
    "## time\n",
    "Let's take a look at how we can extract time information from the datetime module. We can create a timestamp by specifying datetime.time(hour,minute,second,microsecond)"
   ]
  },
  {
   "cell_type": "code",
   "execution_count": 1,
   "id": "47c281f5-a4bd-46e9-8283-a774ba0065a8",
   "metadata": {},
   "outputs": [],
   "source": [
    "import datetime"
   ]
  },
  {
   "cell_type": "code",
   "execution_count": 2,
   "id": "b0e406ad-8020-4400-bb3a-26023716c5e2",
   "metadata": {},
   "outputs": [],
   "source": [
    "mytime = datetime.time(2, 20)"
   ]
  },
  {
   "cell_type": "code",
   "execution_count": 3,
   "id": "cb57ad0f-231b-4543-9753-62299c4fa66f",
   "metadata": {},
   "outputs": [
    {
     "data": {
      "text/plain": [
       "datetime.time(2, 20)"
      ]
     },
     "execution_count": 3,
     "metadata": {},
     "output_type": "execute_result"
    }
   ],
   "source": [
    "mytime"
   ]
  },
  {
   "cell_type": "code",
   "execution_count": 4,
   "id": "a4ed0375-13f5-4ec7-8a5d-307982c3c5a2",
   "metadata": {},
   "outputs": [
    {
     "name": "stdout",
     "output_type": "stream",
     "text": [
      "02:20:00\n"
     ]
    }
   ],
   "source": [
    "print(mytime)"
   ]
  },
  {
   "cell_type": "code",
   "execution_count": 5,
   "id": "e00c77f4-3c4a-45c3-a3b8-33276a188298",
   "metadata": {},
   "outputs": [
    {
     "data": {
      "text/plain": [
       "2"
      ]
     },
     "execution_count": 5,
     "metadata": {},
     "output_type": "execute_result"
    }
   ],
   "source": [
    "mytime.hour"
   ]
  },
  {
   "cell_type": "code",
   "execution_count": 6,
   "id": "6b16bc0e-b4e4-4e48-92b1-52380d2cf10a",
   "metadata": {},
   "outputs": [
    {
     "data": {
      "text/plain": [
       "20"
      ]
     },
     "execution_count": 6,
     "metadata": {},
     "output_type": "execute_result"
    }
   ],
   "source": [
    "mytime.minute"
   ]
  },
  {
   "cell_type": "code",
   "execution_count": 7,
   "id": "606b6f05-7b37-44df-ae3a-1ddb578b2a37",
   "metadata": {},
   "outputs": [],
   "source": [
    "mytime1 = datetime.time(13, 20, 1, 20)"
   ]
  },
  {
   "cell_type": "code",
   "execution_count": 9,
   "id": "549a5568-bcc5-4396-89c4-949cb38526f7",
   "metadata": {},
   "outputs": [
    {
     "name": "stdout",
     "output_type": "stream",
     "text": [
      "13:20:01.000020\n"
     ]
    }
   ],
   "source": [
    "print(mytime1)"
   ]
  },
  {
   "cell_type": "code",
   "execution_count": 10,
   "id": "689fd97f-f080-4424-8d8a-687a519001da",
   "metadata": {},
   "outputs": [
    {
     "data": {
      "text/plain": [
       "20"
      ]
     },
     "execution_count": 10,
     "metadata": {},
     "output_type": "execute_result"
    }
   ],
   "source": [
    "mytime1.microsecond"
   ]
  },
  {
   "cell_type": "code",
   "execution_count": 11,
   "id": "a0f87cb1-eb87-4d24-8bc3-b7133090d398",
   "metadata": {},
   "outputs": [
    {
     "data": {
      "text/plain": [
       "datetime.time"
      ]
     },
     "execution_count": 11,
     "metadata": {},
     "output_type": "execute_result"
    }
   ],
   "source": [
    "type(mytime)"
   ]
  },
  {
   "cell_type": "code",
   "execution_count": 12,
   "id": "ad891f33-9e61-427a-89c4-b009babf211b",
   "metadata": {},
   "outputs": [],
   "source": [
    "today = datetime.date.today() #or can use any other date datetime.date(year, month, day)"
   ]
  },
  {
   "cell_type": "code",
   "execution_count": 13,
   "id": "3a31c8c1-e91a-459f-93c5-ec0dc417d972",
   "metadata": {},
   "outputs": [
    {
     "name": "stdout",
     "output_type": "stream",
     "text": [
      "2024-12-07\n"
     ]
    }
   ],
   "source": [
    "print(today)"
   ]
  },
  {
   "cell_type": "code",
   "execution_count": 14,
   "id": "d1dbead5-fdff-415d-90db-179b8548d21a",
   "metadata": {},
   "outputs": [
    {
     "data": {
      "text/plain": [
       "datetime.date(2024, 12, 7)"
      ]
     },
     "execution_count": 14,
     "metadata": {},
     "output_type": "execute_result"
    }
   ],
   "source": [
    "today"
   ]
  },
  {
   "cell_type": "code",
   "execution_count": 15,
   "id": "e3cb8d1f-6f38-463f-9f36-3642a492449c",
   "metadata": {},
   "outputs": [
    {
     "data": {
      "text/plain": [
       "2024"
      ]
     },
     "execution_count": 15,
     "metadata": {},
     "output_type": "execute_result"
    }
   ],
   "source": [
    "today.year"
   ]
  },
  {
   "cell_type": "code",
   "execution_count": 16,
   "id": "63167976-84f4-43e3-8dfe-a2d5fc399c58",
   "metadata": {},
   "outputs": [
    {
     "data": {
      "text/plain": [
       "12"
      ]
     },
     "execution_count": 16,
     "metadata": {},
     "output_type": "execute_result"
    }
   ],
   "source": [
    "today.month"
   ]
  },
  {
   "cell_type": "code",
   "execution_count": 17,
   "id": "716a91f0-1004-4c5a-a7a9-bb2427c392d2",
   "metadata": {},
   "outputs": [
    {
     "data": {
      "text/plain": [
       "7"
      ]
     },
     "execution_count": 17,
     "metadata": {},
     "output_type": "execute_result"
    }
   ],
   "source": [
    "today.day"
   ]
  },
  {
   "cell_type": "code",
   "execution_count": 18,
   "id": "b4ae3a76-43fb-4e6a-94af-d4b89677d18a",
   "metadata": {},
   "outputs": [
    {
     "data": {
      "text/plain": [
       "'Sat Dec  7 00:00:00 2024'"
      ]
     },
     "execution_count": 18,
     "metadata": {},
     "output_type": "execute_result"
    }
   ],
   "source": [
    "today.ctime()"
   ]
  },
  {
   "cell_type": "code",
   "execution_count": 23,
   "id": "9cb40edf-84ce-4b72-bf51-e30299cf0c53",
   "metadata": {},
   "outputs": [
    {
     "data": {
      "text/plain": [
       "datetime.date"
      ]
     },
     "execution_count": 23,
     "metadata": {},
     "output_type": "execute_result"
    }
   ],
   "source": [
    "type(today)"
   ]
  },
  {
   "cell_type": "code",
   "execution_count": 19,
   "id": "ac18c55c-127f-4133-ab55-4c78bbee6486",
   "metadata": {},
   "outputs": [],
   "source": [
    "#working with both date and time\n",
    "from datetime import datetime"
   ]
  },
  {
   "cell_type": "code",
   "execution_count": 20,
   "id": "8d136218-7b42-42d9-b2b2-5fde339a667f",
   "metadata": {},
   "outputs": [],
   "source": [
    "mydatetime = datetime(2021, 10, 3, 14, 20, 1)"
   ]
  },
  {
   "cell_type": "code",
   "execution_count": 21,
   "id": "11fbc68c-43a1-4191-b7b6-bf875d0b0f92",
   "metadata": {},
   "outputs": [
    {
     "name": "stdout",
     "output_type": "stream",
     "text": [
      "2021-10-03 14:20:01\n"
     ]
    }
   ],
   "source": [
    "print(mydatetime)"
   ]
  },
  {
   "cell_type": "code",
   "execution_count": 22,
   "id": "17b1b4cd-6106-4a8f-95cf-03bf2cb0482a",
   "metadata": {},
   "outputs": [
    {
     "data": {
      "text/plain": [
       "datetime.datetime"
      ]
     },
     "execution_count": 22,
     "metadata": {},
     "output_type": "execute_result"
    }
   ],
   "source": [
    "type(mydatetime)"
   ]
  },
  {
   "cell_type": "code",
   "execution_count": 24,
   "id": "87ffdaed-de31-419a-8691-ea7252bbedb0",
   "metadata": {},
   "outputs": [
    {
     "data": {
      "text/plain": [
       "datetime.datetime(2020, 10, 3, 14, 20, 1)"
      ]
     },
     "execution_count": 24,
     "metadata": {},
     "output_type": "execute_result"
    }
   ],
   "source": [
    "mydatetime.replace(year = 2020)"
   ]
  },
  {
   "cell_type": "code",
   "execution_count": 25,
   "id": "7b72ed06-693c-4c21-94cd-ce86784c934b",
   "metadata": {},
   "outputs": [],
   "source": [
    "from datetime import date"
   ]
  },
  {
   "cell_type": "code",
   "execution_count": 26,
   "id": "21b1eda4-f9dd-465a-9c20-3d8c81d4841f",
   "metadata": {},
   "outputs": [],
   "source": [
    "date1 = date(2021, 11, 3)\n",
    "date2 = date(2020, 11, 3)"
   ]
  },
  {
   "cell_type": "code",
   "execution_count": 27,
   "id": "df3bbb86-372e-41bd-a02a-14d792564012",
   "metadata": {},
   "outputs": [],
   "source": [
    "result = date1 - date2"
   ]
  },
  {
   "cell_type": "code",
   "execution_count": 28,
   "id": "b640b339-cdb6-4c44-8f31-fb897d7c1957",
   "metadata": {},
   "outputs": [
    {
     "data": {
      "text/plain": [
       "datetime.timedelta(days=365)"
      ]
     },
     "execution_count": 28,
     "metadata": {},
     "output_type": "execute_result"
    }
   ],
   "source": [
    "result"
   ]
  },
  {
   "cell_type": "code",
   "execution_count": 29,
   "id": "146591da-fa6c-4531-a184-4b08b1af4b4b",
   "metadata": {},
   "outputs": [
    {
     "data": {
      "text/plain": [
       "365"
      ]
     },
     "execution_count": 29,
     "metadata": {},
     "output_type": "execute_result"
    }
   ],
   "source": [
    "result.days"
   ]
  },
  {
   "cell_type": "code",
   "execution_count": 30,
   "id": "acc0eb62-f219-402c-b261-41392ef09445",
   "metadata": {},
   "outputs": [],
   "source": [
    "datetime1 = datetime(2021, 11, 3, 22, 0)\n",
    "datetime2 = datetime(2020, 11, 3, 12, 0)"
   ]
  },
  {
   "cell_type": "code",
   "execution_count": 31,
   "id": "fcaef119-0587-4e7e-95a1-e50dcfc2cbd4",
   "metadata": {},
   "outputs": [
    {
     "data": {
      "text/plain": [
       "datetime.timedelta(days=365, seconds=36000)"
      ]
     },
     "execution_count": 31,
     "metadata": {},
     "output_type": "execute_result"
    }
   ],
   "source": [
    "datetime1 - datetime2"
   ]
  },
  {
   "cell_type": "code",
   "execution_count": 32,
   "id": "a922ba70-eddc-4d82-8967-741974ee3854",
   "metadata": {},
   "outputs": [],
   "source": [
    "mydiff = datetime1 - datetime2"
   ]
  },
  {
   "cell_type": "code",
   "execution_count": 33,
   "id": "c1d596b7-2778-4f28-bf58-4f59e60b861a",
   "metadata": {},
   "outputs": [
    {
     "data": {
      "text/plain": [
       "36000"
      ]
     },
     "execution_count": 33,
     "metadata": {},
     "output_type": "execute_result"
    }
   ],
   "source": [
    "mydiff.seconds"
   ]
  },
  {
   "cell_type": "code",
   "execution_count": 34,
   "id": "650ae790-ddff-4b1a-a588-77a09f8b4da2",
   "metadata": {},
   "outputs": [
    {
     "data": {
      "text/plain": [
       "datetime.timedelta"
      ]
     },
     "execution_count": 34,
     "metadata": {},
     "output_type": "execute_result"
    }
   ],
   "source": [
    "type(mydiff)"
   ]
  },
  {
   "cell_type": "code",
   "execution_count": 37,
   "id": "22435686-d812-4288-9b67-e30ab40bc09e",
   "metadata": {},
   "outputs": [
    {
     "data": {
      "text/plain": [
       "31572000.0"
      ]
     },
     "execution_count": 37,
     "metadata": {},
     "output_type": "execute_result"
    }
   ],
   "source": [
    "mydiff.total_seconds()"
   ]
  },
  {
   "cell_type": "code",
   "execution_count": 38,
   "id": "dfcb41db-c7fd-4a3e-9491-557b1a4bfb06",
   "metadata": {},
   "outputs": [],
   "source": [
    "#PYTHON MATH AND RANDOM MODULES"
   ]
  },
  {
   "cell_type": "code",
   "execution_count": 39,
   "id": "c29dc114-1136-40dd-a8a2-aa7f7c8c4b4b",
   "metadata": {},
   "outputs": [],
   "source": [
    "import math"
   ]
  },
  {
   "cell_type": "code",
   "execution_count": 40,
   "id": "f04f0e38-6e60-46f8-aa34-4be2c793d81b",
   "metadata": {},
   "outputs": [],
   "source": [
    "value = 4.35"
   ]
  },
  {
   "cell_type": "code",
   "execution_count": 41,
   "id": "00b114c8-db58-4f6f-8d81-1e9427b4a36c",
   "metadata": {},
   "outputs": [
    {
     "data": {
      "text/plain": [
       "4"
      ]
     },
     "execution_count": 41,
     "metadata": {},
     "output_type": "execute_result"
    }
   ],
   "source": [
    "math.floor(value)"
   ]
  },
  {
   "cell_type": "code",
   "execution_count": 42,
   "id": "365005d4-f18d-48cc-a1cd-cd1f6d98341a",
   "metadata": {},
   "outputs": [
    {
     "data": {
      "text/plain": [
       "5"
      ]
     },
     "execution_count": 42,
     "metadata": {},
     "output_type": "execute_result"
    }
   ],
   "source": [
    "math.ceil(value)"
   ]
  },
  {
   "cell_type": "code",
   "execution_count": 44,
   "id": "d3cc5eeb-6e83-4eb3-b359-45b236b64ad7",
   "metadata": {},
   "outputs": [
    {
     "data": {
      "text/plain": [
       "4"
      ]
     },
     "execution_count": 44,
     "metadata": {},
     "output_type": "execute_result"
    }
   ],
   "source": [
    "round(value)"
   ]
  },
  {
   "cell_type": "code",
   "execution_count": 45,
   "id": "5eb29773-7a66-4b28-9209-72aaad644b4f",
   "metadata": {},
   "outputs": [
    {
     "data": {
      "text/plain": [
       "6"
      ]
     },
     "execution_count": 45,
     "metadata": {},
     "output_type": "execute_result"
    }
   ],
   "source": [
    "round(5.5)"
   ]
  },
  {
   "cell_type": "code",
   "execution_count": 46,
   "id": "9d06b56c-27ca-4d85-ad61-bffd4b0cac0c",
   "metadata": {},
   "outputs": [
    {
     "data": {
      "text/plain": [
       "4"
      ]
     },
     "execution_count": 46,
     "metadata": {},
     "output_type": "execute_result"
    }
   ],
   "source": [
    "round(4.5)"
   ]
  },
  {
   "cell_type": "code",
   "execution_count": 47,
   "id": "d091ae86-5b22-44f7-8770-21e209332db6",
   "metadata": {},
   "outputs": [
    {
     "data": {
      "text/plain": [
       "3.141592653589793"
      ]
     },
     "execution_count": 47,
     "metadata": {},
     "output_type": "execute_result"
    }
   ],
   "source": [
    "math.pi"
   ]
  },
  {
   "cell_type": "code",
   "execution_count": 48,
   "id": "619852c5-d6e3-4f3d-852a-0e45aa40d38a",
   "metadata": {},
   "outputs": [
    {
     "data": {
      "text/plain": [
       "2.718281828459045"
      ]
     },
     "execution_count": 48,
     "metadata": {},
     "output_type": "execute_result"
    }
   ],
   "source": [
    "math.e"
   ]
  },
  {
   "cell_type": "code",
   "execution_count": 49,
   "id": "b52102ec-03d2-4d17-a8cc-ca72e243072c",
   "metadata": {},
   "outputs": [
    {
     "data": {
      "text/plain": [
       "inf"
      ]
     },
     "execution_count": 49,
     "metadata": {},
     "output_type": "execute_result"
    }
   ],
   "source": [
    "math.inf"
   ]
  },
  {
   "cell_type": "code",
   "execution_count": 50,
   "id": "6a73fb1e-fef1-475d-bf4a-0a3dcff63d91",
   "metadata": {},
   "outputs": [
    {
     "data": {
      "text/plain": [
       "nan"
      ]
     },
     "execution_count": 50,
     "metadata": {},
     "output_type": "execute_result"
    }
   ],
   "source": [
    "math.nan"
   ]
  },
  {
   "cell_type": "code",
   "execution_count": 52,
   "id": "c73e7718-f497-479d-b31b-285934eb653e",
   "metadata": {},
   "outputs": [
    {
     "data": {
      "text/plain": [
       "2.0"
      ]
     },
     "execution_count": 52,
     "metadata": {},
     "output_type": "execute_result"
    }
   ],
   "source": [
    "math.log(100,10)"
   ]
  },
  {
   "cell_type": "code",
   "execution_count": 53,
   "id": "caad9a5d-44d3-47db-ba09-d7b7da50bf87",
   "metadata": {},
   "outputs": [
    {
     "data": {
      "text/plain": [
       "1.0"
      ]
     },
     "execution_count": 53,
     "metadata": {},
     "output_type": "execute_result"
    }
   ],
   "source": [
    "math.log(math.e)"
   ]
  },
  {
   "cell_type": "code",
   "execution_count": 54,
   "id": "f191c501-c293-4290-b536-95afc58202de",
   "metadata": {},
   "outputs": [
    {
     "data": {
      "text/plain": [
       "-0.5440211108893699"
      ]
     },
     "execution_count": 54,
     "metadata": {},
     "output_type": "execute_result"
    }
   ],
   "source": [
    "math.sin(10)"
   ]
  },
  {
   "cell_type": "code",
   "execution_count": 57,
   "id": "244cead7-c67b-4862-a133-c69751a3b2ac",
   "metadata": {},
   "outputs": [
    {
     "data": {
      "text/plain": [
       "90.0"
      ]
     },
     "execution_count": 57,
     "metadata": {},
     "output_type": "execute_result"
    }
   ],
   "source": [
    "math.degrees(math.pi/2)"
   ]
  },
  {
   "cell_type": "code",
   "execution_count": 58,
   "id": "78eab663-570b-4e89-ac3c-1de5ebeb06c0",
   "metadata": {},
   "outputs": [
    {
     "data": {
      "text/plain": [
       "3.141592653589793"
      ]
     },
     "execution_count": 58,
     "metadata": {},
     "output_type": "execute_result"
    }
   ],
   "source": [
    "math.radians(180)"
   ]
  },
  {
   "cell_type": "code",
   "execution_count": 59,
   "id": "fdcbfd1f-c982-4032-b797-2bfe3b741ef1",
   "metadata": {},
   "outputs": [],
   "source": [
    "import random"
   ]
  },
  {
   "cell_type": "code",
   "execution_count": 60,
   "id": "bbacd13f-2376-4a2d-9b14-b6f3f8f30183",
   "metadata": {},
   "outputs": [
    {
     "data": {
      "text/plain": [
       "60"
      ]
     },
     "execution_count": 60,
     "metadata": {},
     "output_type": "execute_result"
    }
   ],
   "source": [
    "random.randint(0,100)"
   ]
  },
  {
   "cell_type": "code",
   "execution_count": 62,
   "id": "d93b7e8a-24d1-4b64-a9ed-c90362fa78e4",
   "metadata": {},
   "outputs": [
    {
     "data": {
      "text/plain": [
       "81"
      ]
     },
     "execution_count": 62,
     "metadata": {},
     "output_type": "execute_result"
    }
   ],
   "source": [
    "random.seed(42) #101 is arbitrary, 42 is common amongst CS community based on inside joke\n",
    "random.randint(0,100)"
   ]
  },
  {
   "cell_type": "code",
   "execution_count": 65,
   "id": "6c105cd6-e0e2-4df3-8d03-421c7c301f5b",
   "metadata": {},
   "outputs": [
    {
     "name": "stdout",
     "output_type": "stream",
     "text": [
      "81\n",
      "14\n",
      "3\n",
      "94\n",
      "35\n",
      "31\n",
      "28\n"
     ]
    }
   ],
   "source": [
    "random.seed(42) #101 is arbitrary, 42 is common amongst CS community based on inside joke\n",
    "#think of it as setting a seed of basically, infinite random numbers.\n",
    "print(random.randint(0,100))\n",
    "print(random.randint(0,100))\n",
    "print(random.randint(0,100))\n",
    "print(random.randint(0,100))\n",
    "print(random.randint(0,100))\n",
    "print(random.randint(0,100))\n",
    "print(random.randint(0,100))"
   ]
  },
  {
   "cell_type": "code",
   "execution_count": 66,
   "id": "d0e7a1a8-db1f-47da-a4aa-d8860a8b52bb",
   "metadata": {},
   "outputs": [
    {
     "data": {
      "text/plain": [
       "[0, 1, 2, 3, 4, 5, 6, 7, 8, 9, 10, 11, 12, 13, 14, 15, 16, 17, 18, 19]"
      ]
     },
     "execution_count": 66,
     "metadata": {},
     "output_type": "execute_result"
    }
   ],
   "source": [
    "mylist10 = list(range(0,20))\n",
    "mylist10"
   ]
  },
  {
   "cell_type": "code",
   "execution_count": 67,
   "id": "d95f6e4b-53e5-4991-a71e-5f0628ba7815",
   "metadata": {},
   "outputs": [
    {
     "data": {
      "text/plain": [
       "4"
      ]
     },
     "execution_count": 67,
     "metadata": {},
     "output_type": "execute_result"
    }
   ],
   "source": [
    "random.choice(mylist10)"
   ]
  },
  {
   "cell_type": "code",
   "execution_count": 68,
   "id": "5310a625-a005-4bec-b27b-4338eaa9782e",
   "metadata": {},
   "outputs": [
    {
     "data": {
      "text/plain": [
       "[14, 13, 17, 1, 8, 0, 4, 10, 0, 3]"
      ]
     },
     "execution_count": 68,
     "metadata": {},
     "output_type": "execute_result"
    }
   ],
   "source": [
    "random.choices(population = mylist10, k = 10)"
   ]
  },
  {
   "cell_type": "code",
   "execution_count": 69,
   "id": "b8f5fa8e-8d74-48fb-8340-b54ab5aea25d",
   "metadata": {},
   "outputs": [
    {
     "data": {
      "text/plain": [
       "[17, 13, 7, 14, 8, 12, 18, 0, 2, 6]"
      ]
     },
     "execution_count": 69,
     "metadata": {},
     "output_type": "execute_result"
    }
   ],
   "source": [
    "random.sample(population = mylist10, k = 10)"
   ]
  },
  {
   "cell_type": "code",
   "execution_count": 70,
   "id": "a9a0854d-1f25-4c2e-b8f6-caf6bebdd5d3",
   "metadata": {},
   "outputs": [],
   "source": [
    "random.shuffle(mylist10)"
   ]
  },
  {
   "cell_type": "code",
   "execution_count": 71,
   "id": "9da17c00-972e-455f-a2df-21daed7d3297",
   "metadata": {},
   "outputs": [
    {
     "data": {
      "text/plain": [
       "[2, 12, 11, 7, 18, 3, 9, 0, 17, 15, 5, 13, 16, 14, 1, 19, 6, 4, 8, 10]"
      ]
     },
     "execution_count": 71,
     "metadata": {},
     "output_type": "execute_result"
    }
   ],
   "source": [
    "mylist10"
   ]
  },
  {
   "cell_type": "code",
   "execution_count": null,
   "id": "ac575f75-9cc8-4885-bee3-5bf0b6bc93f9",
   "metadata": {},
   "outputs": [],
   "source": []
  }
 ],
 "metadata": {
  "kernelspec": {
   "display_name": "Python 3 (ipykernel)",
   "language": "python",
   "name": "python3"
  },
  "language_info": {
   "codemirror_mode": {
    "name": "ipython",
    "version": 3
   },
   "file_extension": ".py",
   "mimetype": "text/x-python",
   "name": "python",
   "nbconvert_exporter": "python",
   "pygments_lexer": "ipython3",
   "version": "3.12.2"
  }
 },
 "nbformat": 4,
 "nbformat_minor": 5
}
